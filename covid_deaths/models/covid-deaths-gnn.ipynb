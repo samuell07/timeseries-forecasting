{
 "cells": [
  {
   "cell_type": "code",
   "execution_count": 1,
   "metadata": {},
   "outputs": [
    {
     "name": "stderr",
     "output_type": "stream",
     "text": [
      "2023-11-30 13:56:43.944120: I tensorflow/core/util/port.cc:113] oneDNN custom operations are on. You may see slightly different numerical results due to floating-point round-off errors from different computation orders. To turn them off, set the environment variable `TF_ENABLE_ONEDNN_OPTS=0`.\n",
      "2023-11-30 13:56:44.102694: E external/local_xla/xla/stream_executor/cuda/cuda_dnn.cc:9261] Unable to register cuDNN factory: Attempting to register factory for plugin cuDNN when one has already been registered\n",
      "2023-11-30 13:56:44.102772: E external/local_xla/xla/stream_executor/cuda/cuda_fft.cc:607] Unable to register cuFFT factory: Attempting to register factory for plugin cuFFT when one has already been registered\n",
      "2023-11-30 13:56:44.122147: E external/local_xla/xla/stream_executor/cuda/cuda_blas.cc:1515] Unable to register cuBLAS factory: Attempting to register factory for plugin cuBLAS when one has already been registered\n",
      "2023-11-30 13:56:44.165892: I tensorflow/core/platform/cpu_feature_guard.cc:182] This TensorFlow binary is optimized to use available CPU instructions in performance-critical operations.\n",
      "To enable the following instructions: AVX2 AVX512F AVX512_VNNI FMA, in other operations, rebuild TensorFlow with the appropriate compiler flags.\n",
      "2023-11-30 13:56:45.479209: W tensorflow/compiler/tf2tensorrt/utils/py_utils.cc:38] TF-TRT Warning: Could not find TensorRT\n"
     ]
    }
   ],
   "source": [
    "import os\n",
    "import random\n",
    "import numpy as np\n",
    "import pandas as pd\n",
    "from tqdm import tqdm\n",
    "import matplotlib.pyplot as plt\n",
    "from datetime import date, timedelta\n",
    "from scipy.stats import skew, kurtosis\n",
    "\n",
    "from sklearn.preprocessing import StandardScaler\n",
    "from sklearn.metrics import mean_squared_error\n",
    "\n",
    "import tensorflow as tf\n",
    "from keras.layers import *\n",
    "from keras.models import *\n",
    "from keras.optimizers import *\n",
    "from keras.callbacks import *\n",
    "from keras import backend as K"
   ]
  },
  {
   "cell_type": "code",
   "execution_count": 2,
   "metadata": {},
   "outputs": [],
   "source": [
    "### IMPORT SPEKTRAL CLASSES ###\n",
    "\n",
    "from spektral_utilities import *\n",
    "from spektral_gcn import GraphConv"
   ]
  },
  {
   "cell_type": "code",
   "execution_count": 22,
   "metadata": {},
   "outputs": [
    {
     "data": {
      "text/html": [
       "<div>\n",
       "<style scoped>\n",
       "    .dataframe tbody tr th:only-of-type {\n",
       "        vertical-align: middle;\n",
       "    }\n",
       "\n",
       "    .dataframe tbody tr th {\n",
       "        vertical-align: top;\n",
       "    }\n",
       "\n",
       "    .dataframe thead th {\n",
       "        text-align: right;\n",
       "    }\n",
       "</style>\n",
       "<table border=\"1\" class=\"dataframe\">\n",
       "  <thead>\n",
       "    <tr style=\"text-align: right;\">\n",
       "      <th></th>\n",
       "      <th>Date_reported</th>\n",
       "      <th>WHO_region</th>\n",
       "      <th>New_deaths</th>\n",
       "    </tr>\n",
       "  </thead>\n",
       "  <tbody>\n",
       "    <tr>\n",
       "      <th>0</th>\n",
       "      <td>2020-01-03</td>\n",
       "      <td>AFRO</td>\n",
       "      <td>0</td>\n",
       "    </tr>\n",
       "    <tr>\n",
       "      <th>1</th>\n",
       "      <td>2020-01-03</td>\n",
       "      <td>AMRO</td>\n",
       "      <td>0</td>\n",
       "    </tr>\n",
       "    <tr>\n",
       "      <th>2</th>\n",
       "      <td>2020-01-03</td>\n",
       "      <td>EMRO</td>\n",
       "      <td>0</td>\n",
       "    </tr>\n",
       "    <tr>\n",
       "      <th>3</th>\n",
       "      <td>2020-01-03</td>\n",
       "      <td>EURO</td>\n",
       "      <td>0</td>\n",
       "    </tr>\n",
       "    <tr>\n",
       "      <th>4</th>\n",
       "      <td>2020-01-03</td>\n",
       "      <td>Other</td>\n",
       "      <td>0</td>\n",
       "    </tr>\n",
       "  </tbody>\n",
       "</table>\n",
       "</div>"
      ],
      "text/plain": [
       "  Date_reported WHO_region  New_deaths\n",
       "0    2020-01-03       AFRO           0\n",
       "1    2020-01-03       AMRO           0\n",
       "2    2020-01-03       EMRO           0\n",
       "3    2020-01-03       EURO           0\n",
       "4    2020-01-03      Other           0"
      ]
     },
     "execution_count": 22,
     "metadata": {},
     "output_type": "execute_result"
    }
   ],
   "source": [
    "file_path = \"../data/WHO-COVID-19-global-data.csv\"\n",
    "date_column = \"Date_reported\"\n",
    "target_column = \"New_deaths\"\n",
    "id_column = \"WHO_region\"\n",
    "df = pd.read_csv(file_path)[[date_column, target_column, id_column]]\n",
    "df[date_column] = pd.to_datetime(df[date_column])\n",
    "df = df.groupby([date_column, id_column])[target_column].sum().reset_index()\n",
    "# df[id_column] = 'A'\n",
    "unique_dates = df[date_column].unique()\n",
    "um_countries_regions = len(df[id_column].unique())\n",
    "df.head()"
   ]
  },
  {
   "cell_type": "code",
   "execution_count": 23,
   "metadata": {},
   "outputs": [
    {
     "data": {
      "text/html": [
       "<div>\n",
       "<style scoped>\n",
       "    .dataframe tbody tr th:only-of-type {\n",
       "        vertical-align: middle;\n",
       "    }\n",
       "\n",
       "    .dataframe tbody tr th {\n",
       "        vertical-align: top;\n",
       "    }\n",
       "\n",
       "    .dataframe thead th {\n",
       "        text-align: right;\n",
       "    }\n",
       "</style>\n",
       "<table border=\"1\" class=\"dataframe\">\n",
       "  <thead>\n",
       "    <tr style=\"text-align: right;\">\n",
       "      <th></th>\n",
       "      <th>Date_reported</th>\n",
       "      <th>WHO_region</th>\n",
       "      <th>New_deaths</th>\n",
       "    </tr>\n",
       "  </thead>\n",
       "  <tbody>\n",
       "    <tr>\n",
       "      <th>0</th>\n",
       "      <td>2020-01-03</td>\n",
       "      <td>AFRO</td>\n",
       "      <td>0</td>\n",
       "    </tr>\n",
       "    <tr>\n",
       "      <th>1</th>\n",
       "      <td>2020-01-03</td>\n",
       "      <td>AMRO</td>\n",
       "      <td>0</td>\n",
       "    </tr>\n",
       "    <tr>\n",
       "      <th>2</th>\n",
       "      <td>2020-01-03</td>\n",
       "      <td>EMRO</td>\n",
       "      <td>0</td>\n",
       "    </tr>\n",
       "    <tr>\n",
       "      <th>3</th>\n",
       "      <td>2020-01-03</td>\n",
       "      <td>EURO</td>\n",
       "      <td>0</td>\n",
       "    </tr>\n",
       "    <tr>\n",
       "      <th>4</th>\n",
       "      <td>2020-01-03</td>\n",
       "      <td>Other</td>\n",
       "      <td>0</td>\n",
       "    </tr>\n",
       "  </tbody>\n",
       "</table>\n",
       "</div>"
      ],
      "text/plain": [
       "  Date_reported WHO_region  New_deaths\n",
       "0    2020-01-03       AFRO           0\n",
       "1    2020-01-03       AMRO           0\n",
       "2    2020-01-03       EMRO           0\n",
       "3    2020-01-03       EURO           0\n",
       "4    2020-01-03      Other           0"
      ]
     },
     "execution_count": 23,
     "metadata": {},
     "output_type": "execute_result"
    }
   ],
   "source": [
    "pivot_df = df.pivot_table(index=date_column, columns=id_column, values=target_column)\n",
    "\n",
    "# Rename 'index' back to date_columneported\n",
    "df.rename(columns={\"index\": date_column}, inplace=True)\n",
    "# df[date_column] = pd.to_datetime(df[date_column])\n",
    "# unique_dates = df[date_column].unique()\n",
    "# df.set_index(date_column, inplace=True)\n",
    "df.head()\n"
   ]
  },
  {
   "cell_type": "code",
   "execution_count": 24,
   "metadata": {},
   "outputs": [
    {
     "name": "stdout",
     "output_type": "stream",
     "text": [
      "(7, 1420)\n"
     ]
    },
    {
     "data": {
      "text/html": [
       "<div>\n",
       "<style scoped>\n",
       "    .dataframe tbody tr th:only-of-type {\n",
       "        vertical-align: middle;\n",
       "    }\n",
       "\n",
       "    .dataframe tbody tr th {\n",
       "        vertical-align: top;\n",
       "    }\n",
       "\n",
       "    .dataframe thead th {\n",
       "        text-align: right;\n",
       "    }\n",
       "</style>\n",
       "<table border=\"1\" class=\"dataframe\">\n",
       "  <thead>\n",
       "    <tr style=\"text-align: right;\">\n",
       "      <th>Date_reported</th>\n",
       "      <th>2020-01-03</th>\n",
       "      <th>2020-01-04</th>\n",
       "      <th>2020-01-05</th>\n",
       "      <th>2020-01-06</th>\n",
       "      <th>2020-01-07</th>\n",
       "      <th>2020-01-08</th>\n",
       "      <th>2020-01-09</th>\n",
       "      <th>2020-01-10</th>\n",
       "      <th>2020-01-11</th>\n",
       "      <th>2020-01-12</th>\n",
       "      <th>2020-01-13</th>\n",
       "      <th>2020-01-14</th>\n",
       "      <th>2020-01-15</th>\n",
       "      <th>2020-01-16</th>\n",
       "      <th>2020-01-17</th>\n",
       "    </tr>\n",
       "    <tr>\n",
       "      <th>id</th>\n",
       "      <th></th>\n",
       "      <th></th>\n",
       "      <th></th>\n",
       "      <th></th>\n",
       "      <th></th>\n",
       "      <th></th>\n",
       "      <th></th>\n",
       "      <th></th>\n",
       "      <th></th>\n",
       "      <th></th>\n",
       "      <th></th>\n",
       "      <th></th>\n",
       "      <th></th>\n",
       "      <th></th>\n",
       "      <th></th>\n",
       "    </tr>\n",
       "  </thead>\n",
       "  <tbody>\n",
       "    <tr>\n",
       "      <th>AFRO</th>\n",
       "      <td>0.0</td>\n",
       "      <td>0.0</td>\n",
       "      <td>0.0</td>\n",
       "      <td>0.0</td>\n",
       "      <td>0.0</td>\n",
       "      <td>0.0</td>\n",
       "      <td>0.0</td>\n",
       "      <td>0.0</td>\n",
       "      <td>0.0</td>\n",
       "      <td>0.0</td>\n",
       "      <td>0.0</td>\n",
       "      <td>0.0</td>\n",
       "      <td>0.0</td>\n",
       "      <td>0.0</td>\n",
       "      <td>0.0</td>\n",
       "    </tr>\n",
       "    <tr>\n",
       "      <th>AMRO</th>\n",
       "      <td>0.0</td>\n",
       "      <td>0.0</td>\n",
       "      <td>0.0</td>\n",
       "      <td>0.0</td>\n",
       "      <td>0.0</td>\n",
       "      <td>0.0</td>\n",
       "      <td>0.0</td>\n",
       "      <td>0.0</td>\n",
       "      <td>0.0</td>\n",
       "      <td>0.0</td>\n",
       "      <td>0.0</td>\n",
       "      <td>0.0</td>\n",
       "      <td>0.0</td>\n",
       "      <td>0.0</td>\n",
       "      <td>0.0</td>\n",
       "    </tr>\n",
       "    <tr>\n",
       "      <th>EMRO</th>\n",
       "      <td>0.0</td>\n",
       "      <td>0.0</td>\n",
       "      <td>0.0</td>\n",
       "      <td>0.0</td>\n",
       "      <td>0.0</td>\n",
       "      <td>0.0</td>\n",
       "      <td>0.0</td>\n",
       "      <td>0.0</td>\n",
       "      <td>0.0</td>\n",
       "      <td>0.0</td>\n",
       "      <td>0.0</td>\n",
       "      <td>0.0</td>\n",
       "      <td>0.0</td>\n",
       "      <td>0.0</td>\n",
       "      <td>0.0</td>\n",
       "    </tr>\n",
       "    <tr>\n",
       "      <th>EURO</th>\n",
       "      <td>0.0</td>\n",
       "      <td>0.0</td>\n",
       "      <td>3.0</td>\n",
       "      <td>0.0</td>\n",
       "      <td>0.0</td>\n",
       "      <td>0.0</td>\n",
       "      <td>0.0</td>\n",
       "      <td>0.0</td>\n",
       "      <td>0.0</td>\n",
       "      <td>0.0</td>\n",
       "      <td>0.0</td>\n",
       "      <td>0.0</td>\n",
       "      <td>0.0</td>\n",
       "      <td>0.0</td>\n",
       "      <td>0.0</td>\n",
       "    </tr>\n",
       "    <tr>\n",
       "      <th>Other</th>\n",
       "      <td>0.0</td>\n",
       "      <td>0.0</td>\n",
       "      <td>0.0</td>\n",
       "      <td>0.0</td>\n",
       "      <td>0.0</td>\n",
       "      <td>0.0</td>\n",
       "      <td>0.0</td>\n",
       "      <td>0.0</td>\n",
       "      <td>0.0</td>\n",
       "      <td>0.0</td>\n",
       "      <td>0.0</td>\n",
       "      <td>0.0</td>\n",
       "      <td>0.0</td>\n",
       "      <td>0.0</td>\n",
       "      <td>0.0</td>\n",
       "    </tr>\n",
       "  </tbody>\n",
       "</table>\n",
       "</div>"
      ],
      "text/plain": [
       "Date_reported  2020-01-03  2020-01-04  2020-01-05  2020-01-06  2020-01-07  \\\n",
       "id                                                                          \n",
       "AFRO                  0.0         0.0         0.0         0.0         0.0   \n",
       "AMRO                  0.0         0.0         0.0         0.0         0.0   \n",
       "EMRO                  0.0         0.0         0.0         0.0         0.0   \n",
       "EURO                  0.0         0.0         3.0         0.0         0.0   \n",
       "Other                 0.0         0.0         0.0         0.0         0.0   \n",
       "\n",
       "Date_reported  2020-01-08  2020-01-09  2020-01-10  2020-01-11  2020-01-12  \\\n",
       "id                                                                          \n",
       "AFRO                  0.0         0.0         0.0         0.0         0.0   \n",
       "AMRO                  0.0         0.0         0.0         0.0         0.0   \n",
       "EMRO                  0.0         0.0         0.0         0.0         0.0   \n",
       "EURO                  0.0         0.0         0.0         0.0         0.0   \n",
       "Other                 0.0         0.0         0.0         0.0         0.0   \n",
       "\n",
       "Date_reported  2020-01-13  2020-01-14  2020-01-15  2020-01-16  2020-01-17  \n",
       "id                                                                         \n",
       "AFRO                  0.0         0.0         0.0         0.0         0.0  \n",
       "AMRO                  0.0         0.0         0.0         0.0         0.0  \n",
       "EMRO                  0.0         0.0         0.0         0.0         0.0  \n",
       "EURO                  0.0         0.0         0.0         0.0         0.0  \n",
       "Other                 0.0         0.0         0.0         0.0         0.0  "
      ]
     },
     "execution_count": 24,
     "metadata": {},
     "output_type": "execute_result"
    }
   ],
   "source": [
    "unstaked_df = df.copy()\n",
    "unstaked_df[\"id\"] = unstaked_df[\"WHO_region\"]\n",
    "unstaked_df.set_index([\"id\", \"Date_reported\"], inplace=True)\n",
    "\n",
    "# Dropping columns not needed for the analysis\n",
    "unstaked_df.drop([\"WHO_region\"], axis=1, inplace=True)\n",
    "\n",
    "# Converting data to float and unstacking\n",
    "unstaked_df = unstaked_df.astype(float).unstack()\n",
    "unstaked_df.columns = unstaked_df.columns.get_level_values(1)\n",
    "\n",
    "# Displaying the shape and head of the updated DataFrame\n",
    "print(unstaked_df.shape)\n",
    "unstaked_df.iloc[:, :15].head()"
   ]
  },
  {
   "cell_type": "code",
   "execution_count": 27,
   "metadata": {},
   "outputs": [],
   "source": [
    "### UTILITY FUNCTIONS FOR FEATURE ENGINEERING ###\n",
    "\n",
    "sequence_length = 14\n",
    "\n",
    "\n",
    "\n",
    "def get_timespan(df, today, days):    \n",
    "    df = df[pd.date_range(today - timedelta(days=days), \n",
    "            periods=days, freq='D')] # day - n_days <= dates < day    \n",
    "    return df\n",
    "\n",
    "def create_features(df, today, seq_len):\n",
    "    \n",
    "    all_sequence = get_timespan(df, today, seq_len).values\n",
    "    \n",
    "    group_store = all_sequence.reshape((-1, um_countries_regions, seq_len))\n",
    "    \n",
    "    store_corr = np.stack([np.corrcoef(i) for i in group_store], axis=0)\n",
    "    \n",
    "    store_features = np.stack([\n",
    "              group_store.mean(axis=2),\n",
    "              group_store[:,:,int(sequence_length/2):].mean(axis=2),\n",
    "              group_store.std(axis=2),\n",
    "              group_store[:,:,int(sequence_length/2):].std(axis=2),\n",
    "              skew(group_store, axis=2),\n",
    "              kurtosis(group_store, axis=2),\n",
    "              np.apply_along_axis(lambda x: np.polyfit(np.arange(0, sequence_length), x, 1)[0], 2, group_store)\n",
    "            ], axis=1)\n",
    "    \n",
    "    group_store = np.transpose(group_store, (0,2,1))\n",
    "    store_features = np.transpose(store_features, (0,2,1))\n",
    "    \n",
    "    return group_store, store_corr, store_features\n",
    "\n",
    "def create_label(df, today):\n",
    "    \n",
    "    y = df[today].values\n",
    "    \n",
    "    return y.reshape((-1, um_countries_regions))"
   ]
  },
  {
   "cell_type": "code",
   "execution_count": 73,
   "metadata": {},
   "outputs": [],
   "source": [
    "### DEFINE TRAIN, VALID, TEST DATES ###\n",
    "\n",
    "train_date = unique_dates[0]\n",
    "valid_date = unique_dates[-(len(unique_dates) // 2) + 1]\n",
    "test_date = unique_dates[-len(unique_dates) // 4]"
   ]
  },
  {
   "cell_type": "code",
   "execution_count": 74,
   "metadata": {},
   "outputs": [
    {
     "name": "stderr",
     "output_type": "stream",
     "text": [
      "  0%|          | 0/698 [00:00<?, ?it/s]"
     ]
    },
    {
     "name": "stderr",
     "output_type": "stream",
     "text": [
      "/home/samuell/.local/lib/python3.10/site-packages/numpy/lib/function_base.py:2853: RuntimeWarning: invalid value encountered in divide\n",
      "  c /= stddev[:, None]\n",
      "/home/samuell/.local/lib/python3.10/site-packages/numpy/lib/function_base.py:2854: RuntimeWarning: invalid value encountered in divide\n",
      "  c /= stddev[None, :]\n",
      "100%|██████████| 698/698 [00:02<00:00, 295.95it/s]"
     ]
    },
    {
     "name": "stdout",
     "output_type": "stream",
     "text": [
      "(698, 14, 7) (698, 7, 7) (698, 7, 7) (698, 7)\n"
     ]
    },
    {
     "name": "stderr",
     "output_type": "stream",
     "text": [
      "\n"
     ]
    }
   ],
   "source": [
    "X_seq, X_cor, X_feat, y = [], [], [], []\n",
    "\n",
    "for d in tqdm(pd.date_range(train_date + timedelta(days=sequence_length), valid_date)):\n",
    "    seq_, corr_, feat_ = create_features(unstaked_df, d, sequence_length)\n",
    "    y_ = create_label(unstaked_df, d)\n",
    "    X_seq.append(seq_), X_cor.append(corr_), X_feat.append(feat_), y.append(y_)\n",
    "\n",
    "X_train_seq = np.concatenate(X_seq, axis=0).astype(\"float16\")\n",
    "X_train_cor = np.concatenate(X_cor, axis=0).astype(\"float16\")\n",
    "X_train_feat = np.concatenate(X_feat, axis=0).astype(\"float16\")\n",
    "y_train = np.concatenate(y, axis=0).astype(\"float16\")\n",
    "\n",
    "print(X_train_seq.shape, X_train_cor.shape, X_train_feat.shape, y_train.shape)"
   ]
  },
  {
   "cell_type": "code",
   "execution_count": 75,
   "metadata": {},
   "outputs": [
    {
     "name": "stderr",
     "output_type": "stream",
     "text": [
      "100%|██████████| 341/341 [00:01<00:00, 280.49it/s]"
     ]
    },
    {
     "name": "stdout",
     "output_type": "stream",
     "text": [
      "(341, 14, 7) (341, 7, 7) (341, 7, 7) (341, 7)\n"
     ]
    },
    {
     "name": "stderr",
     "output_type": "stream",
     "text": [
      "\n"
     ]
    }
   ],
   "source": [
    "### CREATE VALID FEATURES ###\n",
    "\n",
    "X_seq, X_cor, X_feat, y = [], [], [], []\n",
    "\n",
    "for d in tqdm(pd.date_range(valid_date + timedelta(days=sequence_length), test_date)):\n",
    "    seq_, corr_, feat_ = create_features(unstaked_df, d, sequence_length)\n",
    "    y_ = create_label(unstaked_df, d)\n",
    "    X_seq.append(seq_), X_cor.append(corr_), X_feat.append(feat_), y.append(y_)\n",
    "\n",
    "X_valid_seq = np.concatenate(X_seq, axis=0).astype(\"float16\")\n",
    "X_valid_cor = np.concatenate(X_cor, axis=0).astype(\"float16\")\n",
    "X_valid_feat = np.concatenate(X_feat, axis=0).astype(\"float16\")\n",
    "y_valid = np.concatenate(y, axis=0).astype(\"float16\")\n",
    "\n",
    "print(X_valid_seq.shape, X_valid_cor.shape, X_valid_feat.shape, y_valid.shape)"
   ]
  },
  {
   "cell_type": "code",
   "execution_count": 76,
   "metadata": {},
   "outputs": [
    {
     "name": "stderr",
     "output_type": "stream",
     "text": [
      "100%|██████████| 341/341 [00:01<00:00, 296.43it/s]"
     ]
    },
    {
     "name": "stdout",
     "output_type": "stream",
     "text": [
      "(341, 14, 7) (341, 7, 7) (341, 7, 7) (341, 7)\n"
     ]
    },
    {
     "name": "stderr",
     "output_type": "stream",
     "text": [
      "\n"
     ]
    }
   ],
   "source": [
    "### CREATE TEST FEATURES ###\n",
    "\n",
    "X_seq, X_cor, X_feat, y = [], [], [], []\n",
    "\n",
    "for d in tqdm(\n",
    "    pd.date_range(test_date + timedelta(days=sequence_length), unique_dates[-1])\n",
    "):\n",
    "    seq_, corr_, feat_ = create_features(unstaked_df, d, sequence_length)\n",
    "    y_ = create_label(unstaked_df, d)\n",
    "    X_seq.append(seq_), X_cor.append(corr_), X_feat.append(feat_), y.append(y_)\n",
    "\n",
    "X_test_seq = np.concatenate(X_seq, axis=0).astype(\"float16\")\n",
    "X_test_cor = np.concatenate(X_cor, axis=0).astype(\"float16\")\n",
    "X_test_feat = np.concatenate(X_feat, axis=0).astype(\"float16\")\n",
    "y_test = np.concatenate(y, axis=0).astype(\"float16\")\n",
    "\n",
    "print(X_test_seq.shape, X_test_cor.shape, X_test_feat.shape, y_test.shape)"
   ]
  },
  {
   "cell_type": "code",
   "execution_count": 77,
   "metadata": {},
   "outputs": [],
   "source": [
    "### SCALE SEQUENCES ###\n",
    "\n",
    "scaler_seq = StandardScaler()\n",
    "scaler_feat = StandardScaler()\n",
    "\n",
    "X_train_seq = scaler_seq.fit_transform(\n",
    "    X_train_seq.reshape(-1, um_countries_regions)\n",
    ").reshape(X_train_seq.shape)\n",
    "X_valid_seq = scaler_seq.transform(\n",
    "    X_valid_seq.reshape(-1, um_countries_regions)\n",
    ").reshape(X_valid_seq.shape)\n",
    "X_test_seq = scaler_seq.transform(X_test_seq.reshape(-1, um_countries_regions)).reshape(\n",
    "    X_test_seq.shape\n",
    ")\n",
    "\n",
    "y_train = scaler_seq.transform(y_train)\n",
    "y_valid = scaler_seq.transform(y_valid)\n",
    "y_test = scaler_seq.transform(y_test)\n",
    "\n",
    "X_train_feat = scaler_feat.fit_transform(\n",
    "    X_train_feat.reshape(-1, um_countries_regions)\n",
    ").reshape(X_train_feat.shape)\n",
    "X_valid_feat = scaler_feat.transform(\n",
    "    X_valid_feat.reshape(-1, um_countries_regions)\n",
    ").reshape(X_valid_feat.shape)\n",
    "X_test_feat = scaler_feat.transform(\n",
    "    X_test_feat.reshape(-1, um_countries_regions)\n",
    ").reshape(X_test_feat.shape)"
   ]
  },
  {
   "cell_type": "code",
   "execution_count": 78,
   "metadata": {},
   "outputs": [],
   "source": [
    "X_train_lap = localpooling_filter(1 - np.abs(X_train_cor))\n",
    "X_valid_lap = localpooling_filter(1 - np.abs(X_valid_cor))\n",
    "X_test_lap = localpooling_filter(1 - np.abs(X_test_cor))"
   ]
  },
  {
   "cell_type": "code",
   "execution_count": 113,
   "metadata": {},
   "outputs": [],
   "source": [
    "def set_seed(seed):\n",
    "    tf.random.set_seed(seed)\n",
    "    os.environ[\"PYTHONHASHSEED\"] = str(seed)\n",
    "    np.random.seed(seed)\n",
    "    random.seed(seed)\n",
    "\n",
    "\n",
    "def get_model():\n",
    "    set_seed(33)\n",
    "\n",
    "    opt = Adam(lr=0.001)\n",
    "\n",
    "    inp_seq = Input((sequence_length, um_countries_regions))\n",
    "    inp_lap = Input((um_countries_regions, um_countries_regions))\n",
    "    inp_feat = Input((um_countries_regions, X_train_feat.shape[-1]))\n",
    "\n",
    "    x = GraphConv(256, activation=\"relu\")([inp_feat, inp_lap])\n",
    "    x = GraphConv(128, activation=\"relu\")([x, inp_lap])\n",
    "    x = Flatten()(x)\n",
    "\n",
    "    xx = LSTM(256, activation=\"relu\", return_sequences=True)(inp_seq)\n",
    "    xx = LSTM(128, activation=\"relu\")(xx)\n",
    "\n",
    "    x = Concatenate()([x, xx])\n",
    "    # x = BatchNormalization()(x)\n",
    "    x = Dropout(0.2)(x)\n",
    "    x = Dense(256, activation=\"relu\")(x)\n",
    "    x = Dense(128, activation=\"relu\")(x)\n",
    "    x = Dropout(0.1)(x)\n",
    "    out = Dense(1)(x)\n",
    "\n",
    "    model = Model([inp_seq, inp_lap, inp_feat], out)\n",
    "    model.compile(\n",
    "        optimizer=opt, loss=\"mse\", metrics=[tf.keras.metrics.RootMeanSquaredError()]\n",
    "    )\n",
    "\n",
    "    return model"
   ]
  },
  {
   "cell_type": "code",
   "execution_count": 114,
   "metadata": {},
   "outputs": [
    {
     "name": "stderr",
     "output_type": "stream",
     "text": [
      "WARNING:absl:`lr` is deprecated in Keras optimizer, please use `learning_rate` or use the legacy optimizer, e.g.,tf.keras.optimizers.legacy.Adam.\n"
     ]
    },
    {
     "name": "stdout",
     "output_type": "stream",
     "text": [
      "Model: \"model_32\"\n",
      "__________________________________________________________________________________________________\n",
      " Layer (type)                Output Shape                 Param #   Connected to                  \n",
      "==================================================================================================\n",
      " input_99 (InputLayer)       [(None, 7, 7)]               0         []                            \n",
      "                                                                                                  \n",
      " input_98 (InputLayer)       [(None, 7, 7)]               0         []                            \n",
      "                                                                                                  \n",
      " graph_conv_64 (GraphConv)   (None, 7, 256)               2048      ['input_99[0][0]',            \n",
      "                                                                     'input_98[0][0]']            \n",
      "                                                                                                  \n",
      " input_97 (InputLayer)       [(None, 14, 7)]              0         []                            \n",
      "                                                                                                  \n",
      " graph_conv_65 (GraphConv)   (None, 7, 128)               32896     ['graph_conv_64[0][0]',       \n",
      "                                                                     'input_98[0][0]']            \n",
      "                                                                                                  \n",
      " lstm_64 (LSTM)              (None, 14, 256)              270336    ['input_97[0][0]']            \n",
      "                                                                                                  \n",
      " flatten_32 (Flatten)        (None, 896)                  0         ['graph_conv_65[0][0]']       \n",
      "                                                                                                  \n",
      " lstm_65 (LSTM)              (None, 128)                  197120    ['lstm_64[0][0]']             \n",
      "                                                                                                  \n",
      " concatenate_32 (Concatenat  (None, 1024)                 0         ['flatten_32[0][0]',          \n",
      " e)                                                                  'lstm_65[0][0]']             \n",
      "                                                                                                  \n",
      " dropout_64 (Dropout)        (None, 1024)                 0         ['concatenate_32[0][0]']      \n",
      "                                                                                                  \n",
      " dense_96 (Dense)            (None, 256)                  262400    ['dropout_64[0][0]']          \n",
      "                                                                                                  \n",
      " dense_97 (Dense)            (None, 128)                  32896     ['dense_96[0][0]']            \n",
      "                                                                                                  \n",
      " dropout_65 (Dropout)        (None, 128)                  0         ['dense_97[0][0]']            \n",
      "                                                                                                  \n",
      " dense_98 (Dense)            (None, 1)                    129       ['dropout_65[0][0]']          \n",
      "                                                                                                  \n",
      "==================================================================================================\n",
      "Total params: 797825 (3.04 MB)\n",
      "Trainable params: 797825 (3.04 MB)\n",
      "Non-trainable params: 0 (0.00 Byte)\n",
      "__________________________________________________________________________________________________\n"
     ]
    }
   ],
   "source": [
    "model = get_model()\n",
    "model.summary()"
   ]
  },
  {
   "cell_type": "code",
   "execution_count": 115,
   "metadata": {},
   "outputs": [
    {
     "name": "stderr",
     "output_type": "stream",
     "text": [
      "WARNING:absl:`lr` is deprecated in Keras optimizer, please use `learning_rate` or use the legacy optimizer, e.g.,tf.keras.optimizers.legacy.Adam.\n"
     ]
    },
    {
     "name": "stdout",
     "output_type": "stream",
     "text": [
      "------- store 0 -------\n",
      "Epoch 1/1000\n",
      "24/24 - 4s - loss: 0.9943 - root_mean_squared_error: 0.9972 - val_loss: 1.0154 - val_root_mean_squared_error: 1.0077 - 4s/epoch - 154ms/step\n",
      "Epoch 2/1000\n",
      "24/24 - 1s - loss: 0.9945 - root_mean_squared_error: 0.9972 - val_loss: 1.0068 - val_root_mean_squared_error: 1.0034 - 708ms/epoch - 29ms/step\n",
      "Epoch 3/1000\n",
      "24/24 - 1s - loss: 0.9949 - root_mean_squared_error: 0.9974 - val_loss: 1.0242 - val_root_mean_squared_error: 1.0120 - 670ms/epoch - 28ms/step\n",
      "Epoch 4/1000\n",
      "24/24 - 1s - loss: 0.9943 - root_mean_squared_error: 0.9972 - val_loss: 1.0165 - val_root_mean_squared_error: 1.0082 - 670ms/epoch - 28ms/step\n",
      "Epoch 5/1000\n",
      "24/24 - 1s - loss: 0.9945 - root_mean_squared_error: 0.9972 - val_loss: 1.0083 - val_root_mean_squared_error: 1.0041 - 664ms/epoch - 28ms/step\n",
      "Epoch 6/1000\n",
      "24/24 - 1s - loss: 0.9945 - root_mean_squared_error: 0.9972 - val_loss: 1.0219 - val_root_mean_squared_error: 1.0109 - 679ms/epoch - 28ms/step\n",
      "Epoch 7/1000\n",
      "Restoring model weights from the end of the best epoch: 2.\n",
      "24/24 - 1s - loss: 0.9943 - root_mean_squared_error: 0.9971 - val_loss: 1.0230 - val_root_mean_squared_error: 1.0114 - 682ms/epoch - 28ms/step\n",
      "Epoch 7: early stopping\n",
      "11/11 [==============================] - 0s 11ms/step\n",
      "11/11 [==============================] - 0s 11ms/step\n"
     ]
    },
    {
     "name": "stderr",
     "output_type": "stream",
     "text": [
      "WARNING:absl:`lr` is deprecated in Keras optimizer, please use `learning_rate` or use the legacy optimizer, e.g.,tf.keras.optimizers.legacy.Adam.\n"
     ]
    },
    {
     "name": "stdout",
     "output_type": "stream",
     "text": [
      "------- store 1 -------\n",
      "Epoch 1/1000\n",
      "24/24 - 4s - loss: 0.9752 - root_mean_squared_error: 0.9875 - val_loss: 3.0833 - val_root_mean_squared_error: 1.7559 - 4s/epoch - 156ms/step\n",
      "Epoch 2/1000\n",
      "24/24 - 1s - loss: 0.9751 - root_mean_squared_error: 0.9875 - val_loss: 3.0506 - val_root_mean_squared_error: 1.7466 - 671ms/epoch - 28ms/step\n",
      "Epoch 3/1000\n",
      "24/24 - 1s - loss: 0.9748 - root_mean_squared_error: 0.9873 - val_loss: 3.0667 - val_root_mean_squared_error: 1.7512 - 680ms/epoch - 28ms/step\n",
      "Epoch 4/1000\n",
      "24/24 - 1s - loss: 0.9749 - root_mean_squared_error: 0.9874 - val_loss: 3.0536 - val_root_mean_squared_error: 1.7475 - 688ms/epoch - 29ms/step\n",
      "Epoch 5/1000\n",
      "24/24 - 1s - loss: 0.9749 - root_mean_squared_error: 0.9874 - val_loss: 3.0424 - val_root_mean_squared_error: 1.7442 - 671ms/epoch - 28ms/step\n",
      "Epoch 6/1000\n",
      "24/24 - 1s - loss: 0.9748 - root_mean_squared_error: 0.9873 - val_loss: 3.0459 - val_root_mean_squared_error: 1.7452 - 676ms/epoch - 28ms/step\n",
      "Epoch 7/1000\n",
      "24/24 - 1s - loss: 0.9751 - root_mean_squared_error: 0.9875 - val_loss: 3.0558 - val_root_mean_squared_error: 1.7481 - 690ms/epoch - 29ms/step\n",
      "Epoch 8/1000\n",
      "24/24 - 1s - loss: 0.9749 - root_mean_squared_error: 0.9873 - val_loss: 3.0483 - val_root_mean_squared_error: 1.7460 - 662ms/epoch - 28ms/step\n",
      "Epoch 9/1000\n",
      "24/24 - 1s - loss: 0.9750 - root_mean_squared_error: 0.9874 - val_loss: 3.0376 - val_root_mean_squared_error: 1.7429 - 662ms/epoch - 28ms/step\n",
      "Epoch 10/1000\n",
      "24/24 - 1s - loss: 0.9748 - root_mean_squared_error: 0.9873 - val_loss: 3.0445 - val_root_mean_squared_error: 1.7448 - 660ms/epoch - 28ms/step\n",
      "Epoch 11/1000\n",
      "24/24 - 1s - loss: 0.9749 - root_mean_squared_error: 0.9874 - val_loss: 3.0401 - val_root_mean_squared_error: 1.7436 - 653ms/epoch - 27ms/step\n",
      "Epoch 12/1000\n",
      "24/24 - 1s - loss: 0.9749 - root_mean_squared_error: 0.9874 - val_loss: 3.0413 - val_root_mean_squared_error: 1.7439 - 661ms/epoch - 28ms/step\n",
      "Epoch 13/1000\n",
      "24/24 - 1s - loss: 0.9749 - root_mean_squared_error: 0.9874 - val_loss: 3.0535 - val_root_mean_squared_error: 1.7474 - 666ms/epoch - 28ms/step\n",
      "Epoch 14/1000\n",
      "Restoring model weights from the end of the best epoch: 9.\n",
      "24/24 - 1s - loss: 0.9747 - root_mean_squared_error: 0.9873 - val_loss: 3.0535 - val_root_mean_squared_error: 1.7474 - 708ms/epoch - 30ms/step\n",
      "Epoch 14: early stopping\n",
      "11/11 [==============================] - 0s 11ms/step\n",
      "11/11 [==============================] - 0s 10ms/step\n",
      "------- store 2 -------\n"
     ]
    },
    {
     "name": "stderr",
     "output_type": "stream",
     "text": [
      "WARNING:absl:`lr` is deprecated in Keras optimizer, please use `learning_rate` or use the legacy optimizer, e.g.,tf.keras.optimizers.legacy.Adam.\n"
     ]
    },
    {
     "name": "stdout",
     "output_type": "stream",
     "text": [
      "Epoch 1/1000\n",
      "24/24 - 4s - loss: 0.9779 - root_mean_squared_error: 0.9889 - val_loss: 2.7056 - val_root_mean_squared_error: 1.6449 - 4s/epoch - 157ms/step\n",
      "Epoch 2/1000\n",
      "24/24 - 1s - loss: 0.9777 - root_mean_squared_error: 0.9888 - val_loss: 2.7149 - val_root_mean_squared_error: 1.6477 - 671ms/epoch - 28ms/step\n",
      "Epoch 3/1000\n",
      "24/24 - 1s - loss: 0.9776 - root_mean_squared_error: 0.9887 - val_loss: 2.7225 - val_root_mean_squared_error: 1.6500 - 665ms/epoch - 28ms/step\n",
      "Epoch 4/1000\n",
      "24/24 - 1s - loss: 0.9775 - root_mean_squared_error: 0.9887 - val_loss: 2.7206 - val_root_mean_squared_error: 1.6494 - 675ms/epoch - 28ms/step\n",
      "Epoch 5/1000\n",
      "24/24 - 1s - loss: 0.9777 - root_mean_squared_error: 0.9888 - val_loss: 2.7095 - val_root_mean_squared_error: 1.6461 - 663ms/epoch - 28ms/step\n",
      "Epoch 6/1000\n",
      "Restoring model weights from the end of the best epoch: 1.\n",
      "24/24 - 1s - loss: 0.9777 - root_mean_squared_error: 0.9888 - val_loss: 2.7284 - val_root_mean_squared_error: 1.6518 - 674ms/epoch - 28ms/step\n",
      "Epoch 6: early stopping\n",
      "11/11 [==============================] - 0s 11ms/step\n",
      "11/11 [==============================] - 0s 10ms/step\n"
     ]
    },
    {
     "name": "stderr",
     "output_type": "stream",
     "text": [
      "WARNING:absl:`lr` is deprecated in Keras optimizer, please use `learning_rate` or use the legacy optimizer, e.g.,tf.keras.optimizers.legacy.Adam.\n"
     ]
    },
    {
     "name": "stdout",
     "output_type": "stream",
     "text": [
      "------- store 3 -------\n",
      "Epoch 1/1000\n",
      "24/24 - 4s - loss: 1.0103 - root_mean_squared_error: 1.0051 - val_loss: 0.4619 - val_root_mean_squared_error: 0.6796 - 4s/epoch - 159ms/step\n",
      "Epoch 2/1000\n",
      "24/24 - 1s - loss: 1.0095 - root_mean_squared_error: 1.0047 - val_loss: 0.4812 - val_root_mean_squared_error: 0.6937 - 683ms/epoch - 28ms/step\n",
      "Epoch 3/1000\n",
      "24/24 - 1s - loss: 1.0092 - root_mean_squared_error: 1.0046 - val_loss: 0.4781 - val_root_mean_squared_error: 0.6914 - 669ms/epoch - 28ms/step\n",
      "Epoch 4/1000\n",
      "24/24 - 1s - loss: 1.0091 - root_mean_squared_error: 1.0045 - val_loss: 0.4843 - val_root_mean_squared_error: 0.6959 - 655ms/epoch - 27ms/step\n",
      "Epoch 5/1000\n",
      "24/24 - 1s - loss: 1.0091 - root_mean_squared_error: 1.0045 - val_loss: 0.4840 - val_root_mean_squared_error: 0.6957 - 652ms/epoch - 27ms/step\n",
      "Epoch 6/1000\n",
      "Restoring model weights from the end of the best epoch: 1.\n",
      "24/24 - 1s - loss: 1.0091 - root_mean_squared_error: 1.0045 - val_loss: 0.4872 - val_root_mean_squared_error: 0.6980 - 671ms/epoch - 28ms/step\n",
      "Epoch 6: early stopping\n",
      "11/11 [==============================] - 0s 11ms/step\n",
      "11/11 [==============================] - 0s 11ms/step\n"
     ]
    },
    {
     "name": "stderr",
     "output_type": "stream",
     "text": [
      "WARNING:absl:`lr` is deprecated in Keras optimizer, please use `learning_rate` or use the legacy optimizer, e.g.,tf.keras.optimizers.legacy.Adam.\n"
     ]
    },
    {
     "name": "stdout",
     "output_type": "stream",
     "text": [
      "------- store 4 -------\n",
      "Epoch 1/1000\n",
      "24/24 - 4s - loss: 1.0007 - root_mean_squared_error: 1.0004 - val_loss: 0.0134 - val_root_mean_squared_error: 0.1156 - 4s/epoch - 157ms/step\n",
      "Epoch 2/1000\n",
      "24/24 - 1s - loss: 1.0007 - root_mean_squared_error: 1.0003 - val_loss: 0.0131 - val_root_mean_squared_error: 0.1144 - 670ms/epoch - 28ms/step\n",
      "Epoch 3/1000\n",
      "24/24 - 1s - loss: 1.0008 - root_mean_squared_error: 1.0004 - val_loss: 0.0149 - val_root_mean_squared_error: 0.1221 - 678ms/epoch - 28ms/step\n",
      "Epoch 4/1000\n",
      "24/24 - 1s - loss: 1.0007 - root_mean_squared_error: 1.0003 - val_loss: 0.0144 - val_root_mean_squared_error: 0.1199 - 679ms/epoch - 28ms/step\n",
      "Epoch 5/1000\n",
      "24/24 - 1s - loss: 1.0006 - root_mean_squared_error: 1.0003 - val_loss: 0.0147 - val_root_mean_squared_error: 0.1213 - 679ms/epoch - 28ms/step\n",
      "Epoch 6/1000\n",
      "Restoring model weights from the end of the best epoch: 1.\n",
      "24/24 - 1s - loss: 1.0006 - root_mean_squared_error: 1.0003 - val_loss: 0.0140 - val_root_mean_squared_error: 0.1184 - 679ms/epoch - 28ms/step\n",
      "Epoch 6: early stopping\n",
      "11/11 [==============================] - 0s 11ms/step\n",
      "11/11 [==============================] - 0s 11ms/step\n"
     ]
    },
    {
     "name": "stderr",
     "output_type": "stream",
     "text": [
      "WARNING:absl:`lr` is deprecated in Keras optimizer, please use `learning_rate` or use the legacy optimizer, e.g.,tf.keras.optimizers.legacy.Adam.\n"
     ]
    },
    {
     "name": "stdout",
     "output_type": "stream",
     "text": [
      "------- store 5 -------\n",
      "Epoch 1/1000\n",
      "24/24 - 5s - loss: 0.9966 - root_mean_squared_error: 0.9983 - val_loss: 0.7808 - val_root_mean_squared_error: 0.8836 - 5s/epoch - 195ms/step\n",
      "Epoch 2/1000\n",
      "24/24 - 1s - loss: 0.9965 - root_mean_squared_error: 0.9983 - val_loss: 0.7789 - val_root_mean_squared_error: 0.8826 - 675ms/epoch - 28ms/step\n",
      "Epoch 3/1000\n",
      "24/24 - 1s - loss: 0.9965 - root_mean_squared_error: 0.9983 - val_loss: 0.7802 - val_root_mean_squared_error: 0.8833 - 669ms/epoch - 28ms/step\n",
      "Epoch 4/1000\n",
      "24/24 - 1s - loss: 0.9966 - root_mean_squared_error: 0.9983 - val_loss: 0.7790 - val_root_mean_squared_error: 0.8826 - 663ms/epoch - 28ms/step\n",
      "Epoch 5/1000\n",
      "24/24 - 1s - loss: 0.9965 - root_mean_squared_error: 0.9982 - val_loss: 0.7826 - val_root_mean_squared_error: 0.8847 - 674ms/epoch - 28ms/step\n",
      "Epoch 6/1000\n",
      "24/24 - 1s - loss: 0.9968 - root_mean_squared_error: 0.9984 - val_loss: 0.7934 - val_root_mean_squared_error: 0.8907 - 667ms/epoch - 28ms/step\n",
      "Epoch 7/1000\n",
      "Restoring model weights from the end of the best epoch: 2.\n",
      "24/24 - 1s - loss: 0.9966 - root_mean_squared_error: 0.9983 - val_loss: 0.7828 - val_root_mean_squared_error: 0.8848 - 676ms/epoch - 28ms/step\n",
      "Epoch 7: early stopping\n",
      "11/11 [==============================] - 0s 11ms/step\n",
      "11/11 [==============================] - 0s 11ms/step\n"
     ]
    },
    {
     "name": "stderr",
     "output_type": "stream",
     "text": [
      "WARNING:absl:`lr` is deprecated in Keras optimizer, please use `learning_rate` or use the legacy optimizer, e.g.,tf.keras.optimizers.legacy.Adam.\n"
     ]
    },
    {
     "name": "stdout",
     "output_type": "stream",
     "text": [
      "------- store 6 -------\n",
      "Epoch 1/1000\n",
      "24/24 - 4s - loss: 1.0043 - root_mean_squared_error: 1.0022 - val_loss: 156.2550 - val_root_mean_squared_error: 12.5002 - 4s/epoch - 155ms/step\n",
      "Epoch 2/1000\n",
      "24/24 - 1s - loss: 1.0042 - root_mean_squared_error: 1.0021 - val_loss: 156.2502 - val_root_mean_squared_error: 12.5000 - 683ms/epoch - 28ms/step\n",
      "Epoch 3/1000\n",
      "24/24 - 1s - loss: 1.0042 - root_mean_squared_error: 1.0021 - val_loss: 156.2461 - val_root_mean_squared_error: 12.4998 - 676ms/epoch - 28ms/step\n",
      "Epoch 4/1000\n",
      "24/24 - 1s - loss: 1.0040 - root_mean_squared_error: 1.0020 - val_loss: 156.2462 - val_root_mean_squared_error: 12.4998 - 687ms/epoch - 29ms/step\n",
      "Epoch 5/1000\n",
      "24/24 - 1s - loss: 1.0043 - root_mean_squared_error: 1.0021 - val_loss: 156.2467 - val_root_mean_squared_error: 12.4999 - 676ms/epoch - 28ms/step\n",
      "Epoch 6/1000\n",
      "24/24 - 1s - loss: 1.0044 - root_mean_squared_error: 1.0022 - val_loss: 156.2368 - val_root_mean_squared_error: 12.4995 - 663ms/epoch - 28ms/step\n",
      "Epoch 7/1000\n",
      "24/24 - 1s - loss: 1.0039 - root_mean_squared_error: 1.0020 - val_loss: 156.2368 - val_root_mean_squared_error: 12.4995 - 659ms/epoch - 27ms/step\n",
      "Epoch 8/1000\n",
      "24/24 - 1s - loss: 1.0040 - root_mean_squared_error: 1.0020 - val_loss: 156.2350 - val_root_mean_squared_error: 12.4994 - 670ms/epoch - 28ms/step\n",
      "Epoch 9/1000\n",
      "24/24 - 1s - loss: 1.0040 - root_mean_squared_error: 1.0020 - val_loss: 156.2328 - val_root_mean_squared_error: 12.4993 - 666ms/epoch - 28ms/step\n",
      "Epoch 10/1000\n",
      "24/24 - 1s - loss: 1.0038 - root_mean_squared_error: 1.0019 - val_loss: 156.2355 - val_root_mean_squared_error: 12.4994 - 671ms/epoch - 28ms/step\n",
      "Epoch 11/1000\n",
      "24/24 - 1s - loss: 1.0039 - root_mean_squared_error: 1.0020 - val_loss: 156.2377 - val_root_mean_squared_error: 12.4995 - 679ms/epoch - 28ms/step\n",
      "Epoch 12/1000\n",
      "24/24 - 1s - loss: 1.0039 - root_mean_squared_error: 1.0020 - val_loss: 156.2383 - val_root_mean_squared_error: 12.4995 - 663ms/epoch - 28ms/step\n",
      "Epoch 13/1000\n",
      "24/24 - 1s - loss: 1.0039 - root_mean_squared_error: 1.0019 - val_loss: 156.2383 - val_root_mean_squared_error: 12.4995 - 666ms/epoch - 28ms/step\n",
      "Epoch 14/1000\n",
      "Restoring model weights from the end of the best epoch: 9.\n",
      "24/24 - 1s - loss: 1.0039 - root_mean_squared_error: 1.0020 - val_loss: 156.2383 - val_root_mean_squared_error: 12.4995 - 684ms/epoch - 29ms/step\n",
      "Epoch 14: early stopping\n",
      "11/11 [==============================] - 0s 11ms/step\n",
      "11/11 [==============================] - 0s 11ms/step\n"
     ]
    }
   ],
   "source": [
    "### TRAIN A MODEL FOR EACH STORES USING ALL THE DATA AVAILALBE FROM OTHER STORES ###\n",
    "\n",
    "pred_valid_all = np.zeros(y_valid.shape)\n",
    "pred_test_all = np.zeros(y_test.shape)\n",
    "\n",
    "for store in range(um_countries_regions):\n",
    "    print(\"-------\", \"store\", store, \"-------\")\n",
    "\n",
    "    es = EarlyStopping(\n",
    "        patience=5,\n",
    "        verbose=1,\n",
    "        min_delta=0.001,\n",
    "        monitor=\"val_loss\",\n",
    "        mode=\"auto\",\n",
    "        restore_best_weights=True,\n",
    "    )\n",
    "\n",
    "    model = get_model()\n",
    "    model.fit(\n",
    "        [X_train_seq, X_train_lap, X_train_feat],\n",
    "        y_train[:, store],\n",
    "        epochs=1000,\n",
    "        batch_size=30,\n",
    "        validation_data=([X_valid_seq, X_valid_lap, X_valid_feat], y_test[:, store]),\n",
    "        callbacks=[es],\n",
    "        verbose=2,\n",
    "    )\n",
    "\n",
    "    pred_valid_all[:, store] = model.predict(\n",
    "        [X_valid_seq, X_valid_lap, X_valid_feat]\n",
    "    ).ravel()\n",
    "    pred_test_all[:, store] = model.predict(\n",
    "        [X_test_seq, X_test_lap, X_test_feat]\n",
    "    ).ravel()\n",
    "\n",
    "\n",
    "pred_valid_all = scaler_seq.inverse_transform(pred_valid_all)\n",
    "reverse_valid = scaler_seq.inverse_transform(y_valid)\n",
    "pred_test_all = scaler_seq.inverse_transform(pred_test_all)\n",
    "reverse_test = scaler_seq.inverse_transform(y_test)"
   ]
  },
  {
   "cell_type": "code",
   "execution_count": 116,
   "metadata": {},
   "outputs": [
    {
     "data": {
      "text/plain": [
       "array([[2.e+02, 3.e+03, 4.e+02, ..., 2.e-02, 1.e+03, 2.e+02],\n",
       "       [2.e+02, 3.e+03, 4.e+02, ..., 2.e-02, 1.e+03, 2.e+02],\n",
       "       [2.e+02, 3.e+03, 4.e+02, ..., 2.e-02, 1.e+03, 2.e+02],\n",
       "       ...,\n",
       "       [2.e+02, 3.e+03, 4.e+02, ..., 2.e-02, 1.e+03, 2.e+02],\n",
       "       [2.e+02, 3.e+03, 4.e+02, ..., 2.e-02, 1.e+03, 2.e+02],\n",
       "       [2.e+02, 3.e+03, 4.e+02, ..., 2.e-02, 1.e+03, 2.e+02]])"
      ]
     },
     "execution_count": 116,
     "metadata": {},
     "output_type": "execute_result"
    }
   ],
   "source": [
    "### RMSE ON TEST DATA ###\n",
    "\n",
    "\n",
    "\n",
    "error = np.sqrt(mean_squared_error(reverse_test, pred_test_all))\n",
    "pred_test_all"
   ]
  },
  {
   "cell_type": "code",
   "execution_count": 117,
   "metadata": {},
   "outputs": [
    {
     "data": {
      "image/png": "[encoded data removed]",
      "text/plain": [
       "<Figure size 1400x500 with 1 Axes>"
      ]
     },
     "metadata": {},
     "output_type": "display_data"
    }
   ],
   "source": [
    "### PLOT RMSE ###\n",
    "\n",
    "plt.figure(figsize=(14, 5))\n",
    "plt.bar(1 ,error)\n",
    "# plt.xticks(range(7), [str(s) for s in range(7)])\n",
    "plt.ylabel(\"error\")\n",
    "np.set_printoptions(False)"
   ]
  },
  {
   "cell_type": "code",
   "execution_count": 118,
   "metadata": {},
   "outputs": [],
   "source": [
    "def plot_predictions(y_true, y_pred, store, item):\n",
    "    y_true = y_true.reshape(1, -1, 7)\n",
    "    y_pred = y_pred.reshape(1, -1, 7)\n",
    "    t = y_true[item, :, store]\n",
    "    for i in range(7):\n",
    "\n",
    "    plt.plot(y_true[item, :, store], label=\"true\")\n",
    "    plt.plot(y_pred[item, :, store], label=\"prediction\")\n",
    "    plt.title(f\"store: {store} item: {item}\")\n",
    "    plt.legend()\n",
    "    plt.ylabel(\"sales\")\n",
    "    plt.xlabel(\"date\")"
   ]
  },
  {
   "cell_type": "code",
   "execution_count": 120,
   "metadata": {},
   "outputs": [
    {
     "ename": "IndexError",
     "evalue": "index 1 is out of bounds for axis 0 with size 1",
     "output_type": "error",
     "traceback": [
      "\u001b[0;31m---------------------------------------------------------------------------\u001b[0m",
      "\u001b[0;31mIndexError\u001b[0m                                Traceback (most recent call last)",
      "\u001b[1;32m/home/samuell/Desktop/timeseries-forecasting/covid_deaths/models/covid-deaths-gnn.ipynb Cell 19\u001b[0m line \u001b[0;36m2\n\u001b[1;32m      <a href='vscode-notebook-cell:/home/samuell/Desktop/timeseries-forecasting/covid_deaths/models/covid-deaths-gnn.ipynb#X24sZmlsZQ%3D%3D?line=0'>1</a>\u001b[0m plt\u001b[39m.\u001b[39mfigure(figsize\u001b[39m=\u001b[39m(\u001b[39m11\u001b[39m, \u001b[39m5\u001b[39m))\n\u001b[0;32m----> <a href='vscode-notebook-cell:/home/samuell/Desktop/timeseries-forecasting/covid_deaths/models/covid-deaths-gnn.ipynb#X24sZmlsZQ%3D%3D?line=1'>2</a>\u001b[0m plot_predictions(reverse_test, pred_test_all, \u001b[39m6\u001b[39;49m, \u001b[39m1\u001b[39;49m)\n",
      "\u001b[1;32m/home/samuell/Desktop/timeseries-forecasting/covid_deaths/models/covid-deaths-gnn.ipynb Cell 19\u001b[0m line \u001b[0;36m5\n\u001b[1;32m      <a href='vscode-notebook-cell:/home/samuell/Desktop/timeseries-forecasting/covid_deaths/models/covid-deaths-gnn.ipynb#X24sZmlsZQ%3D%3D?line=1'>2</a>\u001b[0m y_true \u001b[39m=\u001b[39m y_true\u001b[39m.\u001b[39mreshape(\u001b[39m1\u001b[39m, \u001b[39m-\u001b[39m\u001b[39m1\u001b[39m, \u001b[39m7\u001b[39m)\n\u001b[1;32m      <a href='vscode-notebook-cell:/home/samuell/Desktop/timeseries-forecasting/covid_deaths/models/covid-deaths-gnn.ipynb#X24sZmlsZQ%3D%3D?line=2'>3</a>\u001b[0m y_pred \u001b[39m=\u001b[39m y_pred\u001b[39m.\u001b[39mreshape(\u001b[39m1\u001b[39m, \u001b[39m-\u001b[39m\u001b[39m1\u001b[39m, \u001b[39m7\u001b[39m)\n\u001b[0;32m----> <a href='vscode-notebook-cell:/home/samuell/Desktop/timeseries-forecasting/covid_deaths/models/covid-deaths-gnn.ipynb#X24sZmlsZQ%3D%3D?line=4'>5</a>\u001b[0m plt\u001b[39m.\u001b[39mplot(y_true[item, :, store], label\u001b[39m=\u001b[39m\u001b[39m\"\u001b[39m\u001b[39mtrue\u001b[39m\u001b[39m\"\u001b[39m)\n\u001b[1;32m      <a href='vscode-notebook-cell:/home/samuell/Desktop/timeseries-forecasting/covid_deaths/models/covid-deaths-gnn.ipynb#X24sZmlsZQ%3D%3D?line=5'>6</a>\u001b[0m plt\u001b[39m.\u001b[39mplot(y_pred[item, :, store], label\u001b[39m=\u001b[39m\u001b[39m\"\u001b[39m\u001b[39mprediction\u001b[39m\u001b[39m\"\u001b[39m)\n\u001b[1;32m      <a href='vscode-notebook-cell:/home/samuell/Desktop/timeseries-forecasting/covid_deaths/models/covid-deaths-gnn.ipynb#X24sZmlsZQ%3D%3D?line=6'>7</a>\u001b[0m plt\u001b[39m.\u001b[39mtitle(\u001b[39mf\u001b[39m\u001b[39m\"\u001b[39m\u001b[39mstore: \u001b[39m\u001b[39m{\u001b[39;00mstore\u001b[39m}\u001b[39;00m\u001b[39m item: \u001b[39m\u001b[39m{\u001b[39;00mitem\u001b[39m}\u001b[39;00m\u001b[39m\"\u001b[39m)\n",
      "\u001b[0;31mIndexError\u001b[0m: index 1 is out of bounds for axis 0 with size 1"
     ]
    },
    {
     "data": {
      "text/plain": [
       "<Figure size 1100x500 with 0 Axes>"
      ]
     },
     "metadata": {},
     "output_type": "display_data"
    }
   ],
   "source": [
    "plt.figure(figsize=(11, 5))\n",
    "plot_predictions(reverse_test, pred_test_all, 6, 1)"
   ]
  }
 ],
 "metadata": {
  "kernelspec": {
   "display_name": "Python 3",
   "language": "python",
   "name": "python3"
  },
  "language_info": {
   "codemirror_mode": {
    "name": "ipython",
    "version": 3
   },
   "file_extension": ".py",
   "mimetype": "text/x-python",
   "name": "python",
   "nbconvert_exporter": "python",
   "pygments_lexer": "ipython3",
   "version": "3.10.12"
  }
 },
 "nbformat": 4,
 "nbformat_minor": 2
}
