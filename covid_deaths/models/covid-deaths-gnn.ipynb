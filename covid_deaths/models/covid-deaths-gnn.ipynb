{
 "cells": [
  {
   "cell_type": "code",
   "execution_count": 1,
   "metadata": {},
   "outputs": [
    {
     "name": "stderr",
     "output_type": "stream",
     "text": [
      "2023-12-10 12:15:31.912814: I tensorflow/core/util/port.cc:113] oneDNN custom operations are on. You may see slightly different numerical results due to floating-point round-off errors from different computation orders. To turn them off, set the environment variable `TF_ENABLE_ONEDNN_OPTS=0`.\n",
      "2023-12-10 12:15:31.983476: E external/local_xla/xla/stream_executor/cuda/cuda_dnn.cc:9261] Unable to register cuDNN factory: Attempting to register factory for plugin cuDNN when one has already been registered\n",
      "2023-12-10 12:15:31.983527: E external/local_xla/xla/stream_executor/cuda/cuda_fft.cc:607] Unable to register cuFFT factory: Attempting to register factory for plugin cuFFT when one has already been registered\n",
      "2023-12-10 12:15:31.984882: E external/local_xla/xla/stream_executor/cuda/cuda_blas.cc:1515] Unable to register cuBLAS factory: Attempting to register factory for plugin cuBLAS when one has already been registered\n",
      "2023-12-10 12:15:32.001266: I tensorflow/core/platform/cpu_feature_guard.cc:182] This TensorFlow binary is optimized to use available CPU instructions in performance-critical operations.\n",
      "To enable the following instructions: AVX2 AVX512F AVX512_VNNI FMA, in other operations, rebuild TensorFlow with the appropriate compiler flags.\n",
      "2023-12-10 12:15:33.779738: W tensorflow/compiler/tf2tensorrt/utils/py_utils.cc:38] TF-TRT Warning: Could not find TensorRT\n"
     ]
    }
   ],
   "source": [
    "import os\n",
    "import random\n",
    "import numpy as np\n",
    "import pandas as pd\n",
    "from tqdm import tqdm\n",
    "import matplotlib.pyplot as plt\n",
    "from datetime import date, timedelta\n",
    "from scipy.stats import skew, kurtosis\n",
    "\n",
    "from sklearn.preprocessing import StandardScaler\n",
    "from sklearn.metrics import mean_squared_error\n",
    "\n",
    "import tensorflow as tf\n",
    "from keras.layers import *\n",
    "from keras.models import *\n",
    "from keras.optimizers import *\n",
    "from keras.callbacks import *\n",
    "from keras import backend as K"
   ]
  },
  {
   "cell_type": "code",
   "execution_count": 2,
   "metadata": {},
   "outputs": [],
   "source": [
    "### IMPORT SPEKTRAL CLASSES ###\n",
    "\n",
    "from spektral_utilities import *\n",
    "from spektral_gcn import GraphConv"
   ]
  },
  {
   "cell_type": "code",
   "execution_count": 3,
   "metadata": {},
   "outputs": [
    {
     "data": {
      "text/html": [
       "<div>\n",
       "<style scoped>\n",
       "    .dataframe tbody tr th:only-of-type {\n",
       "        vertical-align: middle;\n",
       "    }\n",
       "\n",
       "    .dataframe tbody tr th {\n",
       "        vertical-align: top;\n",
       "    }\n",
       "\n",
       "    .dataframe thead th {\n",
       "        text-align: right;\n",
       "    }\n",
       "</style>\n",
       "<table border=\"1\" class=\"dataframe\">\n",
       "  <thead>\n",
       "    <tr style=\"text-align: right;\">\n",
       "      <th></th>\n",
       "      <th>Date_reported</th>\n",
       "      <th>WHO_region</th>\n",
       "      <th>New_deaths</th>\n",
       "    </tr>\n",
       "  </thead>\n",
       "  <tbody>\n",
       "    <tr>\n",
       "      <th>0</th>\n",
       "      <td>2020-01-03</td>\n",
       "      <td>AFRO</td>\n",
       "      <td>50</td>\n",
       "    </tr>\n",
       "    <tr>\n",
       "      <th>1</th>\n",
       "      <td>2020-01-03</td>\n",
       "      <td>AMRO</td>\n",
       "      <td>56</td>\n",
       "    </tr>\n",
       "    <tr>\n",
       "      <th>2</th>\n",
       "      <td>2020-01-03</td>\n",
       "      <td>EMRO</td>\n",
       "      <td>22</td>\n",
       "    </tr>\n",
       "    <tr>\n",
       "      <th>3</th>\n",
       "      <td>2020-01-03</td>\n",
       "      <td>EURO</td>\n",
       "      <td>62</td>\n",
       "    </tr>\n",
       "    <tr>\n",
       "      <th>4</th>\n",
       "      <td>2020-01-03</td>\n",
       "      <td>Other</td>\n",
       "      <td>1</td>\n",
       "    </tr>\n",
       "  </tbody>\n",
       "</table>\n",
       "</div>"
      ],
      "text/plain": [
       "  Date_reported WHO_region  New_deaths\n",
       "0    2020-01-03       AFRO          50\n",
       "1    2020-01-03       AMRO          56\n",
       "2    2020-01-03       EMRO          22\n",
       "3    2020-01-03       EURO          62\n",
       "4    2020-01-03      Other           1"
      ]
     },
     "execution_count": 3,
     "metadata": {},
     "output_type": "execute_result"
    }
   ],
   "source": [
    "file_path = \"../data/parsed_dataset.csv\"\n",
    "date_column = \"Date_reported\"\n",
    "target_column = \"New_deaths\"\n",
    "id_column = \"WHO_region\"\n",
    "df = pd.read_csv(file_path)[[date_column, target_column, id_column]]\n",
    "df[date_column] = pd.to_datetime(df[date_column])\n",
    "df = df.groupby([date_column, id_column])[target_column].sum().reset_index()\n",
    "# df[id_column] = 'A'\n",
    "unique_dates = df[date_column].unique()\n",
    "um_countries_regions = len(df[id_column].unique())\n",
    "df.head()"
   ]
  },
  {
   "cell_type": "code",
   "execution_count": 4,
   "metadata": {},
   "outputs": [
    {
     "data": {
      "text/html": [
       "<div>\n",
       "<style scoped>\n",
       "    .dataframe tbody tr th:only-of-type {\n",
       "        vertical-align: middle;\n",
       "    }\n",
       "\n",
       "    .dataframe tbody tr th {\n",
       "        vertical-align: top;\n",
       "    }\n",
       "\n",
       "    .dataframe thead th {\n",
       "        text-align: right;\n",
       "    }\n",
       "</style>\n",
       "<table border=\"1\" class=\"dataframe\">\n",
       "  <thead>\n",
       "    <tr style=\"text-align: right;\">\n",
       "      <th></th>\n",
       "      <th>Date_reported</th>\n",
       "      <th>WHO_region</th>\n",
       "      <th>New_deaths</th>\n",
       "    </tr>\n",
       "  </thead>\n",
       "  <tbody>\n",
       "    <tr>\n",
       "      <th>0</th>\n",
       "      <td>2020-01-03</td>\n",
       "      <td>AFRO</td>\n",
       "      <td>50</td>\n",
       "    </tr>\n",
       "    <tr>\n",
       "      <th>1</th>\n",
       "      <td>2020-01-03</td>\n",
       "      <td>AMRO</td>\n",
       "      <td>56</td>\n",
       "    </tr>\n",
       "    <tr>\n",
       "      <th>2</th>\n",
       "      <td>2020-01-03</td>\n",
       "      <td>EMRO</td>\n",
       "      <td>22</td>\n",
       "    </tr>\n",
       "    <tr>\n",
       "      <th>3</th>\n",
       "      <td>2020-01-03</td>\n",
       "      <td>EURO</td>\n",
       "      <td>62</td>\n",
       "    </tr>\n",
       "    <tr>\n",
       "      <th>4</th>\n",
       "      <td>2020-01-03</td>\n",
       "      <td>Other</td>\n",
       "      <td>1</td>\n",
       "    </tr>\n",
       "  </tbody>\n",
       "</table>\n",
       "</div>"
      ],
      "text/plain": [
       "  Date_reported WHO_region  New_deaths\n",
       "0    2020-01-03       AFRO          50\n",
       "1    2020-01-03       AMRO          56\n",
       "2    2020-01-03       EMRO          22\n",
       "3    2020-01-03       EURO          62\n",
       "4    2020-01-03      Other           1"
      ]
     },
     "execution_count": 4,
     "metadata": {},
     "output_type": "execute_result"
    }
   ],
   "source": [
    "pivot_df = df.pivot_table(index=date_column, columns=id_column, values=target_column)\n",
    "\n",
    "# Rename 'index' back to date_columneported\n",
    "df.rename(columns={\"index\": date_column}, inplace=True)\n",
    "# df[date_column] = pd.to_datetime(df[date_column])\n",
    "# unique_dates = df[date_column].unique()\n",
    "# df.set_index(date_column, inplace=True)\n",
    "df.head()\n"
   ]
  },
  {
   "cell_type": "code",
   "execution_count": 22,
   "metadata": {},
   "outputs": [],
   "source": [
    "from sklearn.preprocessing import StandardScaler\n",
    "\n",
    "scaler = StandardScaler()\n",
    "scaled_data = scaler.fit_transform(df[[target_column]])\n",
    "df[target_column] = scaled_data"
   ]
  },
  {
   "cell_type": "code",
   "execution_count": 23,
   "metadata": {},
   "outputs": [
    {
     "name": "stdout",
     "output_type": "stream",
     "text": [
      "(7, 1420)\n"
     ]
    },
    {
     "data": {
      "text/html": [
       "<div>\n",
       "<style scoped>\n",
       "    .dataframe tbody tr th:only-of-type {\n",
       "        vertical-align: middle;\n",
       "    }\n",
       "\n",
       "    .dataframe tbody tr th {\n",
       "        vertical-align: top;\n",
       "    }\n",
       "\n",
       "    .dataframe thead th {\n",
       "        text-align: right;\n",
       "    }\n",
       "</style>\n",
       "<table border=\"1\" class=\"dataframe\">\n",
       "  <thead>\n",
       "    <tr style=\"text-align: right;\">\n",
       "      <th>Date_reported</th>\n",
       "      <th>2020-01-03</th>\n",
       "      <th>2020-01-04</th>\n",
       "      <th>2020-01-05</th>\n",
       "      <th>2020-01-06</th>\n",
       "      <th>2020-01-07</th>\n",
       "      <th>2020-01-08</th>\n",
       "      <th>2020-01-09</th>\n",
       "      <th>2020-01-10</th>\n",
       "      <th>2020-01-11</th>\n",
       "      <th>2020-01-12</th>\n",
       "      <th>2020-01-13</th>\n",
       "      <th>2020-01-14</th>\n",
       "      <th>2020-01-15</th>\n",
       "      <th>2020-01-16</th>\n",
       "      <th>2020-01-17</th>\n",
       "    </tr>\n",
       "    <tr>\n",
       "      <th>id</th>\n",
       "      <th></th>\n",
       "      <th></th>\n",
       "      <th></th>\n",
       "      <th></th>\n",
       "      <th></th>\n",
       "      <th></th>\n",
       "      <th></th>\n",
       "      <th></th>\n",
       "      <th></th>\n",
       "      <th></th>\n",
       "      <th></th>\n",
       "      <th></th>\n",
       "      <th></th>\n",
       "      <th></th>\n",
       "      <th></th>\n",
       "    </tr>\n",
       "  </thead>\n",
       "  <tbody>\n",
       "    <tr>\n",
       "      <th>AFRO</th>\n",
       "      <td>-0.454199</td>\n",
       "      <td>-0.454199</td>\n",
       "      <td>-0.454199</td>\n",
       "      <td>-0.454199</td>\n",
       "      <td>-0.454199</td>\n",
       "      <td>-0.454199</td>\n",
       "      <td>-0.454199</td>\n",
       "      <td>-0.454199</td>\n",
       "      <td>-0.454199</td>\n",
       "      <td>-0.454199</td>\n",
       "      <td>-0.454199</td>\n",
       "      <td>-0.454199</td>\n",
       "      <td>-0.454199</td>\n",
       "      <td>-0.454199</td>\n",
       "      <td>-0.454199</td>\n",
       "    </tr>\n",
       "    <tr>\n",
       "      <th>AMRO</th>\n",
       "      <td>-0.450204</td>\n",
       "      <td>-0.450204</td>\n",
       "      <td>-0.450204</td>\n",
       "      <td>-0.450204</td>\n",
       "      <td>-0.450204</td>\n",
       "      <td>-0.450204</td>\n",
       "      <td>-0.450204</td>\n",
       "      <td>-0.450204</td>\n",
       "      <td>-0.450204</td>\n",
       "      <td>-0.450204</td>\n",
       "      <td>-0.450204</td>\n",
       "      <td>-0.450204</td>\n",
       "      <td>-0.450204</td>\n",
       "      <td>-0.450204</td>\n",
       "      <td>-0.450204</td>\n",
       "    </tr>\n",
       "    <tr>\n",
       "      <th>EMRO</th>\n",
       "      <td>-0.472846</td>\n",
       "      <td>-0.472846</td>\n",
       "      <td>-0.472846</td>\n",
       "      <td>-0.472846</td>\n",
       "      <td>-0.472846</td>\n",
       "      <td>-0.472846</td>\n",
       "      <td>-0.472846</td>\n",
       "      <td>-0.472846</td>\n",
       "      <td>-0.472846</td>\n",
       "      <td>-0.472846</td>\n",
       "      <td>-0.472846</td>\n",
       "      <td>-0.472846</td>\n",
       "      <td>-0.472846</td>\n",
       "      <td>-0.472846</td>\n",
       "      <td>-0.472846</td>\n",
       "    </tr>\n",
       "    <tr>\n",
       "      <th>EURO</th>\n",
       "      <td>-0.446208</td>\n",
       "      <td>-0.446208</td>\n",
       "      <td>-0.444876</td>\n",
       "      <td>-0.446208</td>\n",
       "      <td>-0.446208</td>\n",
       "      <td>-0.446208</td>\n",
       "      <td>-0.446208</td>\n",
       "      <td>-0.446208</td>\n",
       "      <td>-0.446208</td>\n",
       "      <td>-0.446208</td>\n",
       "      <td>-0.446208</td>\n",
       "      <td>-0.446208</td>\n",
       "      <td>-0.446208</td>\n",
       "      <td>-0.446208</td>\n",
       "      <td>-0.446208</td>\n",
       "    </tr>\n",
       "    <tr>\n",
       "      <th>Other</th>\n",
       "      <td>-0.486830</td>\n",
       "      <td>-0.486830</td>\n",
       "      <td>-0.486830</td>\n",
       "      <td>-0.486830</td>\n",
       "      <td>-0.486830</td>\n",
       "      <td>-0.486830</td>\n",
       "      <td>-0.486830</td>\n",
       "      <td>-0.486830</td>\n",
       "      <td>-0.486830</td>\n",
       "      <td>-0.486830</td>\n",
       "      <td>-0.486830</td>\n",
       "      <td>-0.486830</td>\n",
       "      <td>-0.486830</td>\n",
       "      <td>-0.486830</td>\n",
       "      <td>-0.486830</td>\n",
       "    </tr>\n",
       "  </tbody>\n",
       "</table>\n",
       "</div>"
      ],
      "text/plain": [
       "Date_reported  2020-01-03  2020-01-04  2020-01-05  2020-01-06  2020-01-07  \\\n",
       "id                                                                          \n",
       "AFRO            -0.454199   -0.454199   -0.454199   -0.454199   -0.454199   \n",
       "AMRO            -0.450204   -0.450204   -0.450204   -0.450204   -0.450204   \n",
       "EMRO            -0.472846   -0.472846   -0.472846   -0.472846   -0.472846   \n",
       "EURO            -0.446208   -0.446208   -0.444876   -0.446208   -0.446208   \n",
       "Other           -0.486830   -0.486830   -0.486830   -0.486830   -0.486830   \n",
       "\n",
       "Date_reported  2020-01-08  2020-01-09  2020-01-10  2020-01-11  2020-01-12  \\\n",
       "id                                                                          \n",
       "AFRO            -0.454199   -0.454199   -0.454199   -0.454199   -0.454199   \n",
       "AMRO            -0.450204   -0.450204   -0.450204   -0.450204   -0.450204   \n",
       "EMRO            -0.472846   -0.472846   -0.472846   -0.472846   -0.472846   \n",
       "EURO            -0.446208   -0.446208   -0.446208   -0.446208   -0.446208   \n",
       "Other           -0.486830   -0.486830   -0.486830   -0.486830   -0.486830   \n",
       "\n",
       "Date_reported  2020-01-13  2020-01-14  2020-01-15  2020-01-16  2020-01-17  \n",
       "id                                                                         \n",
       "AFRO            -0.454199   -0.454199   -0.454199   -0.454199   -0.454199  \n",
       "AMRO            -0.450204   -0.450204   -0.450204   -0.450204   -0.450204  \n",
       "EMRO            -0.472846   -0.472846   -0.472846   -0.472846   -0.472846  \n",
       "EURO            -0.446208   -0.446208   -0.446208   -0.446208   -0.446208  \n",
       "Other           -0.486830   -0.486830   -0.486830   -0.486830   -0.486830  "
      ]
     },
     "execution_count": 23,
     "metadata": {},
     "output_type": "execute_result"
    }
   ],
   "source": [
    "unstaked_df = df.copy()\n",
    "unstaked_df[\"id\"] = unstaked_df[\"WHO_region\"]\n",
    "unstaked_df.set_index([\"id\", \"Date_reported\"], inplace=True)\n",
    "\n",
    "# Dropping columns not needed for the analysis\n",
    "unstaked_df.drop([\"WHO_region\"], axis=1, inplace=True)\n",
    "\n",
    "# Converting data to float and unstacking\n",
    "unstaked_df = unstaked_df.astype(float).unstack()\n",
    "unstaked_df.columns = unstaked_df.columns.get_level_values(1)\n",
    "\n",
    "# Displaying the shape and head of the updated DataFrame\n",
    "print(unstaked_df.shape)\n",
    "unstaked_df.iloc[:, :15].head()"
   ]
  },
  {
   "cell_type": "code",
   "execution_count": 24,
   "metadata": {},
   "outputs": [],
   "source": [
    "### UTILITY FUNCTIONS FOR FEATURE ENGINEERING ###\n",
    "\n",
    "sequence_length = 14\n",
    "\n",
    "\n",
    "\n",
    "def get_timespan(df, today, days):    \n",
    "    df = df[pd.date_range(today - timedelta(days=days), \n",
    "            periods=days, freq='D')] # day - n_days <= dates < day    \n",
    "    return df\n",
    "\n",
    "def create_features(df, today, seq_len):\n",
    "    \n",
    "    all_sequence = get_timespan(df, today, seq_len).values\n",
    "    \n",
    "    group_store = all_sequence.reshape((-1, um_countries_regions, seq_len))\n",
    "    \n",
    "    store_corr = np.stack([np.corrcoef(i) for i in group_store], axis=0)\n",
    "    \n",
    "    store_features = np.stack([\n",
    "              group_store.mean(axis=2),\n",
    "              group_store[:,:,int(sequence_length/2):].mean(axis=2),\n",
    "              group_store.std(axis=2),\n",
    "              group_store[:,:,int(sequence_length/2):].std(axis=2),\n",
    "              skew(group_store, axis=2),\n",
    "              kurtosis(group_store, axis=2),\n",
    "              np.apply_along_axis(lambda x: np.polyfit(np.arange(0, sequence_length), x, 1)[0], 2, group_store)\n",
    "            ], axis=1)\n",
    "    \n",
    "    group_store = np.transpose(group_store, (0,2,1))\n",
    "    store_features = np.transpose(store_features, (0,2,1))\n",
    "    \n",
    "    return group_store, store_corr, store_features\n",
    "\n",
    "def create_label(df, today):\n",
    "    \n",
    "    y = df[today].values\n",
    "    \n",
    "    return y.reshape((-1, um_countries_regions))"
   ]
  },
  {
   "cell_type": "code",
   "execution_count": 25,
   "metadata": {},
   "outputs": [],
   "source": [
    "### DEFINE TRAIN, VALID, TEST DATES ###\n",
    "\n",
    "train_date = unique_dates[0]\n",
    "valid_date = unique_dates[-(len(unique_dates) // 2) + 1]\n",
    "test_date = unique_dates[-len(unique_dates) // 4]"
   ]
  },
  {
   "cell_type": "code",
   "execution_count": 26,
   "metadata": {},
   "outputs": [
    {
     "name": "stderr",
     "output_type": "stream",
     "text": [
      "  0%|          | 0/698 [00:00<?, ?it/s]/tmp/ipykernel_38106/14441469.py:25: RuntimeWarning: Precision loss occurred in moment calculation due to catastrophic cancellation. This occurs when the data are nearly identical. Results may be unreliable.\n",
      "  skew(group_store, axis=2),\n",
      "/tmp/ipykernel_38106/14441469.py:26: RuntimeWarning: Precision loss occurred in moment calculation due to catastrophic cancellation. This occurs when the data are nearly identical. Results may be unreliable.\n",
      "  kurtosis(group_store, axis=2),\n",
      "/home/samuell/.local/lib/python3.10/site-packages/numpy/lib/function_base.py:2853: RuntimeWarning: invalid value encountered in divide\n",
      "  c /= stddev[:, None]\n",
      "/home/samuell/.local/lib/python3.10/site-packages/numpy/lib/function_base.py:2854: RuntimeWarning: invalid value encountered in divide\n",
      "  c /= stddev[None, :]\n",
      "  3%|▎         | 19/698 [00:00<00:03, 188.11it/s]"
     ]
    },
    {
     "name": "stderr",
     "output_type": "stream",
     "text": [
      "100%|██████████| 698/698 [00:03<00:00, 210.40it/s]"
     ]
    },
    {
     "name": "stdout",
     "output_type": "stream",
     "text": [
      "(698, 14, 7) (698, 7, 7) (698, 7, 7) (698, 7)\n"
     ]
    },
    {
     "name": "stderr",
     "output_type": "stream",
     "text": [
      "\n"
     ]
    }
   ],
   "source": [
    "X_seq, X_cor, X_feat, y = [], [], [], []\n",
    "\n",
    "for d in tqdm(pd.date_range(train_date + timedelta(days=sequence_length), valid_date)):\n",
    "    seq_, corr_, feat_ = create_features(unstaked_df, d, sequence_length)\n",
    "    y_ = create_label(unstaked_df, d)\n",
    "    X_seq.append(seq_), X_cor.append(corr_), X_feat.append(feat_), y.append(y_)\n",
    "\n",
    "X_train_seq = np.concatenate(X_seq, axis=0).astype(\"float16\")\n",
    "X_train_cor = np.concatenate(X_cor, axis=0).astype(\"float16\")\n",
    "X_train_feat = np.concatenate(X_feat, axis=0).astype(\"float16\")\n",
    "y_train = np.concatenate(y, axis=0).astype(\"float16\")\n",
    "\n",
    "print(X_train_seq.shape, X_train_cor.shape, X_train_feat.shape, y_train.shape)"
   ]
  },
  {
   "cell_type": "code",
   "execution_count": 27,
   "metadata": {},
   "outputs": [
    {
     "name": "stderr",
     "output_type": "stream",
     "text": [
      "  0%|          | 0/341 [00:00<?, ?it/s]/tmp/ipykernel_38106/14441469.py:25: RuntimeWarning: Precision loss occurred in moment calculation due to catastrophic cancellation. This occurs when the data are nearly identical. Results may be unreliable.\n",
      "  skew(group_store, axis=2),\n",
      "/tmp/ipykernel_38106/14441469.py:26: RuntimeWarning: Precision loss occurred in moment calculation due to catastrophic cancellation. This occurs when the data are nearly identical. Results may be unreliable.\n",
      "  kurtosis(group_store, axis=2),\n",
      " 11%|█         | 37/341 [00:00<00:01, 179.66it/s]"
     ]
    },
    {
     "name": "stderr",
     "output_type": "stream",
     "text": [
      "100%|██████████| 341/341 [00:01<00:00, 228.73it/s]"
     ]
    },
    {
     "name": "stdout",
     "output_type": "stream",
     "text": [
      "(341, 14, 7) (341, 7, 7) (341, 7, 7) (341, 7)\n"
     ]
    },
    {
     "name": "stderr",
     "output_type": "stream",
     "text": [
      "\n"
     ]
    }
   ],
   "source": [
    "### CREATE VALID FEATURES ###\n",
    "\n",
    "X_seq, X_cor, X_feat, y = [], [], [], []\n",
    "\n",
    "for d in tqdm(pd.date_range(valid_date + timedelta(days=sequence_length), test_date)):\n",
    "    seq_, corr_, feat_ = create_features(unstaked_df, d, sequence_length)\n",
    "    y_ = create_label(unstaked_df, d)\n",
    "    X_seq.append(seq_), X_cor.append(corr_), X_feat.append(feat_), y.append(y_)\n",
    "\n",
    "X_valid_seq = np.concatenate(X_seq, axis=0).astype(\"float16\")\n",
    "X_valid_cor = np.concatenate(X_cor, axis=0).astype(\"float16\")\n",
    "X_valid_feat = np.concatenate(X_feat, axis=0).astype(\"float16\")\n",
    "y_valid = np.concatenate(y, axis=0).astype(\"float16\")\n",
    "\n",
    "print(X_valid_seq.shape, X_valid_cor.shape, X_valid_feat.shape, y_valid.shape)"
   ]
  },
  {
   "cell_type": "code",
   "execution_count": 28,
   "metadata": {},
   "outputs": [
    {
     "name": "stderr",
     "output_type": "stream",
     "text": [
      "  0%|          | 0/341 [00:00<?, ?it/s]/tmp/ipykernel_38106/14441469.py:25: RuntimeWarning: Precision loss occurred in moment calculation due to catastrophic cancellation. This occurs when the data are nearly identical. Results may be unreliable.\n",
      "  skew(group_store, axis=2),\n",
      "/tmp/ipykernel_38106/14441469.py:26: RuntimeWarning: Precision loss occurred in moment calculation due to catastrophic cancellation. This occurs when the data are nearly identical. Results may be unreliable.\n",
      "  kurtosis(group_store, axis=2),\n",
      "100%|██████████| 341/341 [00:01<00:00, 250.94it/s]"
     ]
    },
    {
     "name": "stdout",
     "output_type": "stream",
     "text": [
      "(341, 14, 7) (341, 7, 7) (341, 7, 7) (341, 7)\n"
     ]
    },
    {
     "name": "stderr",
     "output_type": "stream",
     "text": [
      "\n"
     ]
    }
   ],
   "source": [
    "### CREATE TEST FEATURES ###\n",
    "\n",
    "X_seq, X_cor, X_feat, y = [], [], [], []\n",
    "\n",
    "for d in tqdm(\n",
    "    pd.date_range(test_date + timedelta(days=sequence_length), unique_dates[-1])\n",
    "):\n",
    "    seq_, corr_, feat_ = create_features(unstaked_df, d, sequence_length)\n",
    "    y_ = create_label(unstaked_df, d)\n",
    "    X_seq.append(seq_), X_cor.append(corr_), X_feat.append(feat_), y.append(y_)\n",
    "\n",
    "X_test_seq = np.concatenate(X_seq, axis=0).astype(\"float16\")\n",
    "X_test_cor = np.concatenate(X_cor, axis=0).astype(\"float16\")\n",
    "X_test_feat = np.concatenate(X_feat, axis=0).astype(\"float16\")\n",
    "y_test = np.concatenate(y, axis=0).astype(\"float16\")\n",
    "\n",
    "print(X_test_seq.shape, X_test_cor.shape, X_test_feat.shape, y_test.shape)"
   ]
  },
  {
   "cell_type": "code",
   "execution_count": 29,
   "metadata": {},
   "outputs": [],
   "source": [
    "### SCALE SEQUENCES ###\n",
    "\n",
    "scaler_seq = StandardScaler()\n",
    "scaler_feat = StandardScaler()\n",
    "\n",
    "X_train_seq = scaler_seq.fit_transform(\n",
    "    X_train_seq.reshape(-1, um_countries_regions)\n",
    ").reshape(X_train_seq.shape)\n",
    "X_valid_seq = scaler_seq.transform(\n",
    "    X_valid_seq.reshape(-1, um_countries_regions)\n",
    ").reshape(X_valid_seq.shape)\n",
    "X_test_seq = scaler_seq.transform(X_test_seq.reshape(-1, um_countries_regions)).reshape(\n",
    "    X_test_seq.shape\n",
    ")\n",
    "\n",
    "y_train = scaler_seq.transform(y_train)\n",
    "y_valid = scaler_seq.transform(y_valid)\n",
    "y_test = scaler_seq.transform(y_test)\n",
    "\n",
    "X_train_feat = scaler_feat.fit_transform(\n",
    "    X_train_feat.reshape(-1, um_countries_regions)\n",
    ").reshape(X_train_feat.shape)\n",
    "X_valid_feat = scaler_feat.transform(\n",
    "    X_valid_feat.reshape(-1, um_countries_regions)\n",
    ").reshape(X_valid_feat.shape)\n",
    "X_test_feat = scaler_feat.transform(\n",
    "    X_test_feat.reshape(-1, um_countries_regions)\n",
    ").reshape(X_test_feat.shape)"
   ]
  },
  {
   "cell_type": "code",
   "execution_count": 30,
   "metadata": {},
   "outputs": [],
   "source": [
    "X_train_lap = localpooling_filter(1 - np.abs(X_train_cor))\n",
    "X_valid_lap = localpooling_filter(1 - np.abs(X_valid_cor))\n",
    "X_test_lap = localpooling_filter(1 - np.abs(X_test_cor))"
   ]
  },
  {
   "cell_type": "code",
   "execution_count": 31,
   "metadata": {},
   "outputs": [],
   "source": [
    "def set_seed(seed):\n",
    "    tf.random.set_seed(seed)\n",
    "    os.environ[\"PYTHONHASHSEED\"] = str(seed)\n",
    "    np.random.seed(seed)\n",
    "    random.seed(seed)\n",
    "\n",
    "\n",
    "def get_model():\n",
    "    set_seed(33)\n",
    "\n",
    "    opt = Adam(lr=0.001)\n",
    "\n",
    "    inp_seq = Input((sequence_length, um_countries_regions))\n",
    "    inp_lap = Input((um_countries_regions, um_countries_regions))\n",
    "    inp_feat = Input((um_countries_regions, X_train_feat.shape[-1]))\n",
    "\n",
    "    x = GraphConv(256, activation=\"relu\")([inp_feat, inp_lap])\n",
    "    x = GraphConv(128, activation=\"relu\")([x, inp_lap])\n",
    "    x = Flatten()(x)\n",
    "\n",
    "    xx = LSTM(256, activation=\"relu\", return_sequences=True)(inp_seq)\n",
    "    xx = LSTM(128, activation=\"relu\")(xx)\n",
    "\n",
    "    x = Concatenate()([x, xx])\n",
    "    # x = BatchNormalization()(x)\n",
    "    x = Dropout(0.2)(x)\n",
    "    x = Dense(256, activation=\"relu\")(x)\n",
    "    x = Dense(128, activation=\"relu\")(x)\n",
    "    x = Dropout(0.1)(x)\n",
    "    out = Dense(1)(x)\n",
    "\n",
    "    model = Model([inp_seq, inp_lap, inp_feat], out)\n",
    "    model.compile(\n",
    "        optimizer=opt, loss=\"mse\", metrics=[tf.keras.metrics.RootMeanSquaredError()]\n",
    "    )\n",
    "\n",
    "    return model"
   ]
  },
  {
   "cell_type": "code",
   "execution_count": 32,
   "metadata": {},
   "outputs": [
    {
     "name": "stderr",
     "output_type": "stream",
     "text": [
      "WARNING:absl:`lr` is deprecated in Keras optimizer, please use `learning_rate` or use the legacy optimizer, e.g.,tf.keras.optimizers.legacy.Adam.\n"
     ]
    },
    {
     "name": "stdout",
     "output_type": "stream",
     "text": [
      "Model: \"model_8\"\n",
      "__________________________________________________________________________________________________\n",
      " Layer (type)                Output Shape                 Param #   Connected to                  \n",
      "==================================================================================================\n",
      " input_27 (InputLayer)       [(None, 7, 7)]               0         []                            \n",
      "                                                                                                  \n",
      " input_26 (InputLayer)       [(None, 7, 7)]               0         []                            \n",
      "                                                                                                  \n",
      " graph_conv_16 (GraphConv)   (None, 7, 256)               2048      ['input_27[0][0]',            \n",
      "                                                                     'input_26[0][0]']            \n",
      "                                                                                                  \n",
      " input_25 (InputLayer)       [(None, 14, 7)]              0         []                            \n",
      "                                                                                                  \n",
      " graph_conv_17 (GraphConv)   (None, 7, 128)               32896     ['graph_conv_16[0][0]',       \n",
      "                                                                     'input_26[0][0]']            \n",
      "                                                                                                  \n",
      " lstm_16 (LSTM)              (None, 14, 256)              270336    ['input_25[0][0]']            \n",
      "                                                                                                  \n",
      " flatten_8 (Flatten)         (None, 896)                  0         ['graph_conv_17[0][0]']       \n",
      "                                                                                                  \n",
      " lstm_17 (LSTM)              (None, 128)                  197120    ['lstm_16[0][0]']             \n",
      "                                                                                                  \n",
      " concatenate_8 (Concatenate  (None, 1024)                 0         ['flatten_8[0][0]',           \n",
      " )                                                                   'lstm_17[0][0]']             \n",
      "                                                                                                  \n",
      " dropout_16 (Dropout)        (None, 1024)                 0         ['concatenate_8[0][0]']       \n",
      "                                                                                                  \n",
      " dense_24 (Dense)            (None, 256)                  262400    ['dropout_16[0][0]']          \n",
      "                                                                                                  \n",
      " dense_25 (Dense)            (None, 128)                  32896     ['dense_24[0][0]']            \n",
      "                                                                                                  \n",
      " dropout_17 (Dropout)        (None, 128)                  0         ['dense_25[0][0]']            \n",
      "                                                                                                  \n",
      " dense_26 (Dense)            (None, 1)                    129       ['dropout_17[0][0]']          \n",
      "                                                                                                  \n",
      "==================================================================================================\n",
      "Total params: 797825 (3.04 MB)\n",
      "Trainable params: 797825 (3.04 MB)\n",
      "Non-trainable params: 0 (0.00 Byte)\n",
      "__________________________________________________________________________________________________\n"
     ]
    }
   ],
   "source": [
    "model = get_model()\n",
    "model.summary()"
   ]
  },
  {
   "cell_type": "code",
   "execution_count": 33,
   "metadata": {},
   "outputs": [
    {
     "name": "stderr",
     "output_type": "stream",
     "text": [
      "WARNING:absl:`lr` is deprecated in Keras optimizer, please use `learning_rate` or use the legacy optimizer, e.g.,tf.keras.optimizers.legacy.Adam.\n"
     ]
    },
    {
     "name": "stdout",
     "output_type": "stream",
     "text": [
      "------- store 0 -------\n",
      "Epoch 1/1000\n",
      "24/24 - 4s - loss: 0.9943 - root_mean_squared_error: 0.9972 - val_loss: 1.0148 - val_root_mean_squared_error: 1.0074 - 4s/epoch - 165ms/step\n",
      "Epoch 2/1000\n",
      "24/24 - 1s - loss: 0.9945 - root_mean_squared_error: 0.9972 - val_loss: 1.0063 - val_root_mean_squared_error: 1.0031 - 768ms/epoch - 32ms/step\n",
      "Epoch 3/1000\n",
      "24/24 - 1s - loss: 0.9949 - root_mean_squared_error: 0.9974 - val_loss: 1.0236 - val_root_mean_squared_error: 1.0117 - 855ms/epoch - 36ms/step\n",
      "Epoch 4/1000\n",
      "24/24 - 1s - loss: 0.9943 - root_mean_squared_error: 0.9971 - val_loss: 1.0159 - val_root_mean_squared_error: 1.0079 - 686ms/epoch - 29ms/step\n",
      "Epoch 5/1000\n",
      "24/24 - 1s - loss: 0.9945 - root_mean_squared_error: 0.9972 - val_loss: 1.0077 - val_root_mean_squared_error: 1.0039 - 679ms/epoch - 28ms/step\n",
      "Epoch 6/1000\n",
      "24/24 - 1s - loss: 0.9945 - root_mean_squared_error: 0.9972 - val_loss: 1.0213 - val_root_mean_squared_error: 1.0106 - 883ms/epoch - 37ms/step\n",
      "Epoch 7/1000\n",
      "Restoring model weights from the end of the best epoch: 2.\n",
      "24/24 - 1s - loss: 0.9943 - root_mean_squared_error: 0.9971 - val_loss: 1.0225 - val_root_mean_squared_error: 1.0112 - 895ms/epoch - 37ms/step\n",
      "Epoch 7: early stopping\n",
      "11/11 [==============================] - 1s 12ms/step\n",
      "11/11 [==============================] - 0s 15ms/step\n"
     ]
    },
    {
     "name": "stderr",
     "output_type": "stream",
     "text": [
      "WARNING:absl:`lr` is deprecated in Keras optimizer, please use `learning_rate` or use the legacy optimizer, e.g.,tf.keras.optimizers.legacy.Adam.\n"
     ]
    },
    {
     "name": "stdout",
     "output_type": "stream",
     "text": [
      "------- store 1 -------\n",
      "Epoch 1/1000\n",
      "24/24 - 5s - loss: 0.9750 - root_mean_squared_error: 0.9874 - val_loss: 3.0510 - val_root_mean_squared_error: 1.7467 - 5s/epoch - 193ms/step\n",
      "Epoch 2/1000\n",
      "24/24 - 1s - loss: 0.9750 - root_mean_squared_error: 0.9874 - val_loss: 3.0258 - val_root_mean_squared_error: 1.7395 - 692ms/epoch - 29ms/step\n",
      "Epoch 3/1000\n",
      "24/24 - 1s - loss: 0.9748 - root_mean_squared_error: 0.9873 - val_loss: 3.0414 - val_root_mean_squared_error: 1.7440 - 671ms/epoch - 28ms/step\n",
      "Epoch 4/1000\n",
      "24/24 - 1s - loss: 0.9749 - root_mean_squared_error: 0.9874 - val_loss: 3.0295 - val_root_mean_squared_error: 1.7405 - 660ms/epoch - 28ms/step\n",
      "Epoch 5/1000\n",
      "24/24 - 1s - loss: 0.9748 - root_mean_squared_error: 0.9873 - val_loss: 3.0176 - val_root_mean_squared_error: 1.7371 - 665ms/epoch - 28ms/step\n",
      "Epoch 6/1000\n",
      "24/24 - 1s - loss: 0.9748 - root_mean_squared_error: 0.9873 - val_loss: 3.0208 - val_root_mean_squared_error: 1.7380 - 659ms/epoch - 27ms/step\n",
      "Epoch 7/1000\n",
      "24/24 - 1s - loss: 0.9751 - root_mean_squared_error: 0.9875 - val_loss: 3.0311 - val_root_mean_squared_error: 1.7410 - 662ms/epoch - 28ms/step\n",
      "Epoch 8/1000\n",
      "24/24 - 1s - loss: 0.9748 - root_mean_squared_error: 0.9873 - val_loss: 3.0233 - val_root_mean_squared_error: 1.7388 - 670ms/epoch - 28ms/step\n",
      "Epoch 9/1000\n",
      "24/24 - 1s - loss: 0.9749 - root_mean_squared_error: 0.9874 - val_loss: 3.0128 - val_root_mean_squared_error: 1.7357 - 663ms/epoch - 28ms/step\n",
      "Epoch 10/1000\n",
      "24/24 - 1s - loss: 0.9747 - root_mean_squared_error: 0.9873 - val_loss: 3.0190 - val_root_mean_squared_error: 1.7375 - 681ms/epoch - 28ms/step\n",
      "Epoch 11/1000\n",
      "24/24 - 1s - loss: 0.9749 - root_mean_squared_error: 0.9874 - val_loss: 3.0146 - val_root_mean_squared_error: 1.7363 - 668ms/epoch - 28ms/step\n",
      "Epoch 12/1000\n",
      "24/24 - 1s - loss: 0.9749 - root_mean_squared_error: 0.9874 - val_loss: 3.0161 - val_root_mean_squared_error: 1.7367 - 667ms/epoch - 28ms/step\n",
      "Epoch 13/1000\n",
      "24/24 - 1s - loss: 0.9749 - root_mean_squared_error: 0.9874 - val_loss: 3.0286 - val_root_mean_squared_error: 1.7403 - 665ms/epoch - 28ms/step\n",
      "Epoch 14/1000\n",
      "Restoring model weights from the end of the best epoch: 9.\n",
      "24/24 - 1s - loss: 0.9747 - root_mean_squared_error: 0.9873 - val_loss: 3.0288 - val_root_mean_squared_error: 1.7403 - 689ms/epoch - 29ms/step\n",
      "Epoch 14: early stopping\n",
      "11/11 [==============================] - 0s 11ms/step\n",
      "11/11 [==============================] - 0s 10ms/step\n",
      "------- store 2 -------\n"
     ]
    },
    {
     "name": "stderr",
     "output_type": "stream",
     "text": [
      "WARNING:absl:`lr` is deprecated in Keras optimizer, please use `learning_rate` or use the legacy optimizer, e.g.,tf.keras.optimizers.legacy.Adam.\n"
     ]
    },
    {
     "name": "stdout",
     "output_type": "stream",
     "text": [
      "Epoch 1/1000\n",
      "24/24 - 4s - loss: 0.9778 - root_mean_squared_error: 0.9888 - val_loss: 2.7041 - val_root_mean_squared_error: 1.6444 - 4s/epoch - 162ms/step\n",
      "Epoch 2/1000\n",
      "24/24 - 1s - loss: 0.9775 - root_mean_squared_error: 0.9887 - val_loss: 2.7134 - val_root_mean_squared_error: 1.6472 - 673ms/epoch - 28ms/step\n",
      "Epoch 3/1000\n",
      "24/24 - 1s - loss: 0.9774 - root_mean_squared_error: 0.9887 - val_loss: 2.7209 - val_root_mean_squared_error: 1.6495 - 675ms/epoch - 28ms/step\n",
      "Epoch 4/1000\n",
      "24/24 - 1s - loss: 0.9774 - root_mean_squared_error: 0.9886 - val_loss: 2.7190 - val_root_mean_squared_error: 1.6489 - 676ms/epoch - 28ms/step\n",
      "Epoch 5/1000\n",
      "24/24 - 1s - loss: 0.9776 - root_mean_squared_error: 0.9887 - val_loss: 2.7080 - val_root_mean_squared_error: 1.6456 - 691ms/epoch - 29ms/step\n",
      "Epoch 6/1000\n",
      "Restoring model weights from the end of the best epoch: 1.\n",
      "24/24 - 1s - loss: 0.9776 - root_mean_squared_error: 0.9887 - val_loss: 2.7268 - val_root_mean_squared_error: 1.6513 - 686ms/epoch - 29ms/step\n",
      "Epoch 6: early stopping\n",
      "11/11 [==============================] - 0s 11ms/step\n",
      "11/11 [==============================] - 0s 10ms/step\n"
     ]
    },
    {
     "name": "stderr",
     "output_type": "stream",
     "text": [
      "WARNING:absl:`lr` is deprecated in Keras optimizer, please use `learning_rate` or use the legacy optimizer, e.g.,tf.keras.optimizers.legacy.Adam.\n"
     ]
    },
    {
     "name": "stdout",
     "output_type": "stream",
     "text": [
      "------- store 3 -------\n",
      "Epoch 1/1000\n",
      "24/24 - 4s - loss: 1.0105 - root_mean_squared_error: 1.0053 - val_loss: 0.4622 - val_root_mean_squared_error: 0.6799 - 4s/epoch - 180ms/step\n",
      "Epoch 2/1000\n",
      "24/24 - 1s - loss: 1.0097 - root_mean_squared_error: 1.0048 - val_loss: 0.4813 - val_root_mean_squared_error: 0.6937 - 694ms/epoch - 29ms/step\n",
      "Epoch 3/1000\n",
      "24/24 - 1s - loss: 1.0094 - root_mean_squared_error: 1.0047 - val_loss: 0.4781 - val_root_mean_squared_error: 0.6915 - 718ms/epoch - 30ms/step\n",
      "Epoch 4/1000\n",
      "24/24 - 1s - loss: 1.0093 - root_mean_squared_error: 1.0047 - val_loss: 0.4844 - val_root_mean_squared_error: 0.6960 - 703ms/epoch - 29ms/step\n",
      "Epoch 5/1000\n",
      "24/24 - 1s - loss: 1.0093 - root_mean_squared_error: 1.0046 - val_loss: 0.4841 - val_root_mean_squared_error: 0.6957 - 741ms/epoch - 31ms/step\n",
      "Epoch 6/1000\n",
      "Restoring model weights from the end of the best epoch: 1.\n",
      "24/24 - 1s - loss: 1.0093 - root_mean_squared_error: 1.0046 - val_loss: 0.4873 - val_root_mean_squared_error: 0.6981 - 774ms/epoch - 32ms/step\n",
      "Epoch 6: early stopping\n",
      "11/11 [==============================] - 0s 11ms/step\n",
      "11/11 [==============================] - 0s 11ms/step\n"
     ]
    },
    {
     "name": "stderr",
     "output_type": "stream",
     "text": [
      "WARNING:absl:`lr` is deprecated in Keras optimizer, please use `learning_rate` or use the legacy optimizer, e.g.,tf.keras.optimizers.legacy.Adam.\n"
     ]
    },
    {
     "name": "stdout",
     "output_type": "stream",
     "text": [
      "------- store 4 -------\n",
      "Epoch 1/1000\n",
      "24/24 - 4s - loss: 1.0001 - root_mean_squared_error: 1.0000 - val_loss: 0.0142 - val_root_mean_squared_error: 0.1192 - 4s/epoch - 167ms/step\n",
      "Epoch 2/1000\n",
      "24/24 - 1s - loss: 1.0000 - root_mean_squared_error: 1.0000 - val_loss: 0.0138 - val_root_mean_squared_error: 0.1176 - 658ms/epoch - 27ms/step\n",
      "Epoch 3/1000\n",
      "24/24 - 1s - loss: 1.0002 - root_mean_squared_error: 1.0001 - val_loss: 0.0157 - val_root_mean_squared_error: 0.1254 - 672ms/epoch - 28ms/step\n",
      "Epoch 4/1000\n",
      "24/24 - 1s - loss: 1.0000 - root_mean_squared_error: 1.0000 - val_loss: 0.0151 - val_root_mean_squared_error: 0.1230 - 675ms/epoch - 28ms/step\n",
      "Epoch 5/1000\n",
      "24/24 - 1s - loss: 1.0000 - root_mean_squared_error: 1.0000 - val_loss: 0.0155 - val_root_mean_squared_error: 0.1245 - 661ms/epoch - 28ms/step\n",
      "Epoch 6/1000\n",
      "Restoring model weights from the end of the best epoch: 1.\n",
      "24/24 - 1s - loss: 0.9999 - root_mean_squared_error: 1.0000 - val_loss: 0.0148 - val_root_mean_squared_error: 0.1215 - 702ms/epoch - 29ms/step\n",
      "Epoch 6: early stopping\n",
      "11/11 [==============================] - 0s 11ms/step\n",
      "11/11 [==============================] - 0s 11ms/step\n"
     ]
    },
    {
     "name": "stderr",
     "output_type": "stream",
     "text": [
      "WARNING:absl:`lr` is deprecated in Keras optimizer, please use `learning_rate` or use the legacy optimizer, e.g.,tf.keras.optimizers.legacy.Adam.\n"
     ]
    },
    {
     "name": "stdout",
     "output_type": "stream",
     "text": [
      "------- store 5 -------\n",
      "Epoch 1/1000\n",
      "24/24 - 4s - loss: 0.9961 - root_mean_squared_error: 0.9980 - val_loss: 0.7807 - val_root_mean_squared_error: 0.8836 - 4s/epoch - 165ms/step\n",
      "Epoch 2/1000\n",
      "24/24 - 1s - loss: 0.9960 - root_mean_squared_error: 0.9980 - val_loss: 0.7788 - val_root_mean_squared_error: 0.8825 - 699ms/epoch - 29ms/step\n",
      "Epoch 3/1000\n",
      "24/24 - 1s - loss: 0.9960 - root_mean_squared_error: 0.9980 - val_loss: 0.7801 - val_root_mean_squared_error: 0.8832 - 703ms/epoch - 29ms/step\n",
      "Epoch 4/1000\n",
      "24/24 - 1s - loss: 0.9960 - root_mean_squared_error: 0.9980 - val_loss: 0.7789 - val_root_mean_squared_error: 0.8825 - 676ms/epoch - 28ms/step\n",
      "Epoch 5/1000\n",
      "24/24 - 1s - loss: 0.9959 - root_mean_squared_error: 0.9980 - val_loss: 0.7825 - val_root_mean_squared_error: 0.8846 - 683ms/epoch - 28ms/step\n",
      "Epoch 6/1000\n",
      "24/24 - 1s - loss: 0.9963 - root_mean_squared_error: 0.9981 - val_loss: 0.7932 - val_root_mean_squared_error: 0.8906 - 680ms/epoch - 28ms/step\n",
      "Epoch 7/1000\n",
      "Restoring model weights from the end of the best epoch: 2.\n",
      "24/24 - 1s - loss: 0.9961 - root_mean_squared_error: 0.9980 - val_loss: 0.7827 - val_root_mean_squared_error: 0.8847 - 752ms/epoch - 31ms/step\n",
      "Epoch 7: early stopping\n",
      "11/11 [==============================] - 1s 11ms/step\n",
      "11/11 [==============================] - 0s 11ms/step\n"
     ]
    },
    {
     "name": "stderr",
     "output_type": "stream",
     "text": [
      "WARNING:absl:`lr` is deprecated in Keras optimizer, please use `learning_rate` or use the legacy optimizer, e.g.,tf.keras.optimizers.legacy.Adam.\n"
     ]
    },
    {
     "name": "stdout",
     "output_type": "stream",
     "text": [
      "------- store 6 -------\n",
      "Epoch 1/1000\n",
      "24/24 - 4s - loss: 1.0045 - root_mean_squared_error: 1.0022 - val_loss: 15.2366 - val_root_mean_squared_error: 3.9034 - 4s/epoch - 161ms/step\n",
      "Epoch 2/1000\n",
      "24/24 - 1s - loss: 1.0044 - root_mean_squared_error: 1.0022 - val_loss: 15.2356 - val_root_mean_squared_error: 3.9033 - 698ms/epoch - 29ms/step\n",
      "Epoch 3/1000\n",
      "24/24 - 1s - loss: 1.0044 - root_mean_squared_error: 1.0022 - val_loss: 15.2348 - val_root_mean_squared_error: 3.9032 - 708ms/epoch - 30ms/step\n",
      "Epoch 4/1000\n",
      "24/24 - 1s - loss: 1.0042 - root_mean_squared_error: 1.0021 - val_loss: 15.2349 - val_root_mean_squared_error: 3.9032 - 744ms/epoch - 31ms/step\n",
      "Epoch 5/1000\n",
      "24/24 - 1s - loss: 1.0045 - root_mean_squared_error: 1.0022 - val_loss: 15.2350 - val_root_mean_squared_error: 3.9032 - 737ms/epoch - 31ms/step\n",
      "Epoch 6/1000\n",
      "24/24 - 1s - loss: 1.0046 - root_mean_squared_error: 1.0023 - val_loss: 15.2331 - val_root_mean_squared_error: 3.9030 - 671ms/epoch - 28ms/step\n",
      "Epoch 7/1000\n",
      "24/24 - 1s - loss: 1.0041 - root_mean_squared_error: 1.0021 - val_loss: 15.2331 - val_root_mean_squared_error: 3.9030 - 751ms/epoch - 31ms/step\n",
      "Epoch 8/1000\n",
      "24/24 - 1s - loss: 1.0042 - root_mean_squared_error: 1.0021 - val_loss: 15.2328 - val_root_mean_squared_error: 3.9029 - 720ms/epoch - 30ms/step\n",
      "Epoch 9/1000\n",
      "24/24 - 1s - loss: 1.0042 - root_mean_squared_error: 1.0021 - val_loss: 15.2324 - val_root_mean_squared_error: 3.9029 - 722ms/epoch - 30ms/step\n",
      "Epoch 10/1000\n",
      "24/24 - 1s - loss: 1.0040 - root_mean_squared_error: 1.0020 - val_loss: 15.2329 - val_root_mean_squared_error: 3.9029 - 751ms/epoch - 31ms/step\n",
      "Epoch 11/1000\n",
      "Restoring model weights from the end of the best epoch: 6.\n",
      "24/24 - 1s - loss: 1.0041 - root_mean_squared_error: 1.0021 - val_loss: 15.2333 - val_root_mean_squared_error: 3.9030 - 726ms/epoch - 30ms/step\n",
      "Epoch 11: early stopping\n",
      "11/11 [==============================] - 0s 12ms/step\n",
      "11/11 [==============================] - 0s 11ms/step\n"
     ]
    }
   ],
   "source": [
    "### TRAIN A MODEL FOR EACH STORES USING ALL THE DATA AVAILALBE FROM OTHER STORES ###\n",
    "\n",
    "pred_valid_all = np.zeros(y_valid.shape)\n",
    "pred_test_all = np.zeros(y_test.shape)\n",
    "\n",
    "for store in range(um_countries_regions):\n",
    "    print(\"-------\", \"store\", store, \"-------\")\n",
    "\n",
    "    es = EarlyStopping(\n",
    "        patience=5,\n",
    "        verbose=1,\n",
    "        min_delta=0.001,\n",
    "        monitor=\"val_loss\",\n",
    "        mode=\"auto\",\n",
    "        restore_best_weights=True,\n",
    "    )\n",
    "\n",
    "    model = get_model()\n",
    "    model.fit(\n",
    "        [X_train_seq, X_train_lap, X_train_feat],\n",
    "        y_train[:, store],\n",
    "        epochs=1000,\n",
    "        batch_size=30,\n",
    "        validation_data=([X_valid_seq, X_valid_lap, X_valid_feat], y_test[:, store]),\n",
    "        callbacks=[es],\n",
    "        verbose=2,\n",
    "    )\n",
    "\n",
    "    pred_valid_all[:, store] = model.predict(\n",
    "        [X_valid_seq, X_valid_lap, X_valid_feat]\n",
    "    ).ravel()\n",
    "    pred_test_all[:, store] = model.predict(\n",
    "        [X_test_seq, X_test_lap, X_test_feat]\n",
    "    ).ravel()\n",
    "\n",
    "\n",
    "pred_valid_all = scaler_seq.inverse_transform(pred_valid_all)\n",
    "reverse_valid = scaler_seq.inverse_transform(y_valid)\n",
    "pred_test_all = scaler_seq.inverse_transform(pred_test_all)\n",
    "reverse_test = scaler_seq.inverse_transform(y_test)"
   ]
  },
  {
   "cell_type": "code",
   "execution_count": 34,
   "metadata": {},
   "outputs": [
    {
     "data": {
      "text/plain": [
       "array([[-0.,  2., -0., ..., -0.,  0., -0.],\n",
       "       [-0.,  2., -0., ..., -0.,  0., -0.],\n",
       "       [-0.,  2., -0., ..., -0.,  0., -0.],\n",
       "       ...,\n",
       "       [-0.,  2., -0., ..., -0.,  0., -0.],\n",
       "       [-0.,  2., -0., ..., -0.,  0., -0.],\n",
       "       [-0.,  2., -0., ..., -0.,  0., -0.]])"
      ]
     },
     "execution_count": 34,
     "metadata": {},
     "output_type": "execute_result"
    }
   ],
   "source": [
    "### RMSE ON TEST DATA ###\n",
    "\n",
    "\n",
    "\n",
    "error = np.sqrt(mean_squared_error(reverse_test, pred_test_all))\n",
    "pred_test_all"
   ]
  },
  {
   "cell_type": "code",
   "execution_count": 35,
   "metadata": {},
   "outputs": [
    {
     "data": {
      "image/png": "[encoded data removed]",
      "text/plain": [
       "<Figure size 1400x500 with 1 Axes>"
      ]
     },
     "metadata": {},
     "output_type": "display_data"
    }
   ],
   "source": [
    "### PLOT RMSE ###\n",
    "\n",
    "plt.figure(figsize=(14, 5))\n",
    "plt.bar(1 ,error)\n",
    "# plt.xticks(range(7), [str(s) for s in range(7)])\n",
    "plt.ylabel(\"error\")\n",
    "np.set_printoptions(False)"
   ]
  },
  {
   "cell_type": "code",
   "execution_count": 36,
   "metadata": {},
   "outputs": [],
   "source": [
    "def plot_predictions(y_true, y_pred, store, item):\n",
    "    y_true = y_true.reshape(1, -1, 7)\n",
    "    y_pred = y_pred.reshape(1, -1, 7)\n",
    "    t = y_true[item, :, store]\n",
    "    for i in range(7):\n",
    "\n",
    "        plt.plot(y_true[item, :, store], label=\"true\")\n",
    "        plt.plot(y_pred[item, :, store], label=\"prediction\")\n",
    "        plt.title(f\"store: {store} item: {item}\")\n",
    "        plt.legend()\n",
    "        plt.ylabel(\"sales\")\n",
    "        plt.xlabel(\"date\")"
   ]
  },
  {
   "cell_type": "code",
   "execution_count": 37,
   "metadata": {},
   "outputs": [
    {
     "data": {
      "image/png": "[encoded data removed]",
      "text/plain": [
       "<Figure size 1100x500 with 1 Axes>"
      ]
     },
     "metadata": {},
     "output_type": "display_data"
    }
   ],
   "source": [
    "plt.figure(figsize=(11, 5))\n",
    "plot_predictions(reverse_test, pred_test_all, 6, 0)"
   ]
  },
  {
   "cell_type": "code",
   "execution_count": 52,
   "metadata": {},
   "outputs": [
    {
     "data": {
      "text/plain": [
       "array([2., 2., 2., 2., 2., 2., 2., 2., 2., 2., 2., 2., 2., 2., 2., 2., 2.,\n",
       "       2., 2., 2., 2., 2., 2., 2., 2., 2., 2., 2., 2., 2., 2., 2., 2., 2.,\n",
       "       2., 2., 2., 2., 2., 2., 2., 2., 2., 2., 2., 2., 2., 2., 2., 2., 2.,\n",
       "       2., 2., 2., 2., 2., 2., 2., 2., 2., 2., 2., 2., 2., 2., 2., 2., 2.,\n",
       "       2., 2., 2., 2., 2., 2., 2., 2., 2., 2., 2., 2., 2., 2., 2., 2., 2.,\n",
       "       2., 2., 2., 2., 2., 2., 2., 2., 2., 2., 2., 2., 2., 2., 2., 2., 2.,\n",
       "       2., 2., 2., 2., 2., 2., 2., 2., 2., 2., 2., 2., 2., 2., 2., 2., 2.,\n",
       "       2., 2., 2., 2., 2., 2., 2., 2., 2., 2., 2., 2., 2., 2., 2., 2., 2.,\n",
       "       2., 2., 2., 2., 2., 2., 2., 2., 2., 2., 2., 2., 2., 2., 2., 2., 2.,\n",
       "       2., 2., 2., 2., 2., 2., 2., 2., 2., 2., 2., 2., 2., 2., 2., 2., 2.,\n",
       "       2., 2., 2., 2., 2., 2., 2., 2., 2., 2., 2., 2., 2., 2., 2., 2., 2.,\n",
       "       2., 2., 2., 2., 2., 2., 2., 2., 2., 2., 2., 2., 2., 2., 2., 2., 2.,\n",
       "       2., 2., 2., 2., 2., 2., 2., 2., 2., 2., 2., 2., 2., 2., 2., 2., 2.,\n",
       "       2., 2., 2., 2., 2., 2., 2., 2., 2., 2., 2., 2., 2., 2., 2., 2., 2.,\n",
       "       2., 2., 2., 2., 2., 2., 2., 2., 2., 2., 2., 2., 2., 2., 2., 2., 2.,\n",
       "       2., 2., 2., 2., 2., 2., 2., 2., 2., 2., 2., 2., 2., 2., 2., 2., 2.,\n",
       "       2., 2., 2., 2., 2., 2., 2., 2., 2., 2., 2., 2., 2., 2., 2., 2., 2.,\n",
       "       2., 2., 2., 2., 2., 2., 2., 2., 2., 2., 2., 2., 2., 2., 2., 2., 2.,\n",
       "       2., 2., 2., 2., 2., 2., 2., 2., 2., 2., 2., 2., 2., 2., 2., 2., 2.,\n",
       "       2., 2., 2., 2., 2., 2., 2., 2., 2., 2., 2., 2., 2., 2., 2., 2., 2.,\n",
       "       2.])"
      ]
     },
     "execution_count": 52,
     "metadata": {},
     "output_type": "execute_result"
    }
   ],
   "source": [
    "y_true = np.sum(reverse_test, axis=1)\n",
    "pred = np.sum(pred_test_all, axis=1)\n",
    "unscaled_y_pred = scaler.inverse_transform([pred])[0]\n",
    "unscaled_y_test = scaler.inverse_transform([y_true])[0]\n",
    "pred"
   ]
  },
  {
   "cell_type": "code",
   "execution_count": 50,
   "metadata": {},
   "outputs": [
    {
     "data": {
      "image/png": "[encoded data removed]",
      "text/plain": [
       "<Figure size 1333.33x750 with 1 Axes>"
      ]
     },
     "metadata": {},
     "output_type": "display_data"
    }
   ],
   "source": [
    "fig, ax = plt.subplots(1, 1, figsize=(1280 / 96, 720 / 96))\n",
    "ax.plot(range(len(unscaled_y_pred)), unscaled_y_test, label=\"actual\")\n",
    "ax.plot(range(len(unscaled_y_pred)), unscaled_y_pred, label=\"prediction\")\n",
    "ax.set_title(\"Error, Trend, Seasonality (ETS)\")\n",
    "ax.set_ylabel(\"New Deaths\")\n",
    "ax.set_xlabel(date_column)\n",
    "ax.legend()\n",
    "plt.show()"
   ]
  },
  {
   "cell_type": "code",
   "execution_count": 53,
   "metadata": {},
   "outputs": [
    {
     "name": "stdout",
     "output_type": "stream",
     "text": [
      "Evaluation Metrics:\n",
      "MSE: 48066661.62\n",
      "RMSE: 6933.01\n",
      "MAE: 6815.97\n",
      "MAPE: 233.82\n",
      "SMAPE: 195.63\n"
     ]
    }
   ],
   "source": [
    "from metrics import print_evaluation_metrics\n",
    "print_evaluation_metrics(unscaled_y_pred, unscaled_y_test)\n"
   ]
  }
 ],
 "metadata": {
  "kernelspec": {
   "display_name": "Python 3",
   "language": "python",
   "name": "python3"
  },
  "language_info": {
   "codemirror_mode": {
    "name": "ipython",
    "version": 3
   },
   "file_extension": ".py",
   "mimetype": "text/x-python",
   "name": "python",
   "nbconvert_exporter": "python",
   "pygments_lexer": "ipython3",
   "version": "3.10.12"
  }
 },
 "nbformat": 4,
 "nbformat_minor": 2
}
