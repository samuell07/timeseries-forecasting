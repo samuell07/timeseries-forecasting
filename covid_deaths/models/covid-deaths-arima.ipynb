{
 "cells": [
  {
   "cell_type": "markdown",
   "metadata": {},
   "source": [
    "Import libraries"
   ]
  },
  {
   "cell_type": "code",
   "execution_count": 1,
   "metadata": {},
   "outputs": [],
   "source": [
    "import pandas as pd\n",
    "import matplotlib.pyplot as plt\n",
    "from statsmodels.graphics.tsaplots import plot_acf, plot_pacf\n",
    "from statsmodels.tsa.stattools import adfuller\n",
    "from statsmodels.tsa.arima.model import ARIMA\n",
    "from sklearn.metrics import mean_squared_error\n",
    "from math import sqrt\n",
    "from pmdarima import auto_arima"
   ]
  },
  {
   "cell_type": "markdown",
   "metadata": {},
   "source": [
    "Load dataset and prepare df"
   ]
  },
  {
   "cell_type": "code",
   "execution_count": 2,
   "metadata": {},
   "outputs": [],
   "source": [
    "# Load the dataset\n",
    "file_path = '../data/WHO-COVID-19-global-data.csv'\n",
    "date_column = 'Date_reported'\n",
    "target_column = 'New_deaths'\n",
    "df = pd.read_csv(file_path, parse_dates=True)\n",
    "df = df[[date_column, target_column]]\n",
    "\n",
    "df.set_index(date_column, inplace=True)\n",
    "df = df.groupby(date_column).sum().reset_index()\n",
    "\n",
    "df = df.dropna()"
   ]
  },
  {
   "cell_type": "markdown",
   "metadata": {},
   "source": [
    "Determine whether the dataset is stationary"
   ]
  },
  {
   "cell_type": "code",
   "execution_count": 3,
   "metadata": {},
   "outputs": [
    {
     "name": "stdout",
     "output_type": "stream",
     "text": [
      "1. ADF :  -2.113417118064879\n",
      "2. P-Value :  0.23915384830229663\n",
      "3. Num Of Lags :  17\n",
      "4. Num Of Observations Used For ADF Regression: 1389\n",
      "5. Critical Values :\n",
      "\t 1% :  -3.4350666494778137\n",
      "\t 5% :  -2.8636230590277587\n",
      "\t 10% :  -2.5678790153478865\n"
     ]
    }
   ],
   "source": [
    "def adf_test(dataset):\n",
    "     dftest = adfuller(dataset, autolag = 'AIC')\n",
    "     print(\"1. ADF : \",dftest[0])\n",
    "     print(\"2. P-Value : \", dftest[1])\n",
    "     print(\"3. Num Of Lags : \", dftest[2])\n",
    "     print(\"4. Num Of Observations Used For ADF Regression:\",      dftest[3])\n",
    "     print(\"5. Critical Values :\")\n",
    "     for key, val in dftest[4].items():\n",
    "         print(\"\\t\",key, \": \", val)\n",
    "adf_test(df[target_column])"
   ]
  },
  {
   "cell_type": "markdown",
   "metadata": {},
   "source": [
    "Parameter tuning for order"
   ]
  },
  {
   "cell_type": "code",
   "execution_count": 4,
   "metadata": {},
   "outputs": [
    {
     "name": "stdout",
     "output_type": "stream",
     "text": [
      "Performing stepwise search to minimize aic\n",
      " ARIMA(2,1,2)(0,0,0)[0] intercept   : AIC=25528.197, Time=0.79 sec\n",
      " ARIMA(0,1,0)(0,0,0)[0] intercept   : AIC=26672.005, Time=0.01 sec\n",
      " ARIMA(1,1,0)(0,0,0)[0] intercept   : AIC=26325.080, Time=0.03 sec\n",
      " ARIMA(0,1,1)(0,0,0)[0] intercept   : AIC=25798.210, Time=0.15 sec\n",
      " ARIMA(0,1,0)(0,0,0)[0]             : AIC=26670.005, Time=0.01 sec\n",
      " ARIMA(1,1,2)(0,0,0)[0] intercept   : AIC=inf, Time=0.72 sec\n",
      " ARIMA(2,1,1)(0,0,0)[0] intercept   : AIC=25803.620, Time=0.12 sec\n",
      " ARIMA(3,1,2)(0,0,0)[0] intercept   : AIC=25489.086, Time=0.83 sec\n",
      " ARIMA(3,1,1)(0,0,0)[0] intercept   : AIC=25782.320, Time=0.16 sec\n",
      " ARIMA(4,1,2)(0,0,0)[0] intercept   : AIC=25523.807, Time=0.91 sec\n",
      " ARIMA(3,1,3)(0,0,0)[0] intercept   : AIC=25397.394, Time=0.88 sec\n",
      " ARIMA(2,1,3)(0,0,0)[0] intercept   : AIC=25579.550, Time=0.76 sec\n",
      " ARIMA(4,1,3)(0,0,0)[0] intercept   : AIC=25516.997, Time=0.94 sec\n",
      " ARIMA(3,1,4)(0,0,0)[0] intercept   : AIC=25398.580, Time=0.97 sec\n",
      " ARIMA(2,1,4)(0,0,0)[0] intercept   : AIC=25258.852, Time=0.83 sec\n",
      " ARIMA(1,1,4)(0,0,0)[0] intercept   : AIC=25319.370, Time=0.57 sec\n",
      " ARIMA(2,1,5)(0,0,0)[0] intercept   : AIC=25372.071, Time=1.15 sec\n",
      " ARIMA(1,1,3)(0,0,0)[0] intercept   : AIC=25556.676, Time=0.54 sec\n",
      " ARIMA(1,1,5)(0,0,0)[0] intercept   : AIC=25341.860, Time=1.00 sec\n",
      " ARIMA(3,1,5)(0,0,0)[0] intercept   : AIC=25281.038, Time=1.27 sec\n",
      " ARIMA(2,1,4)(0,0,0)[0]             : AIC=25256.851, Time=0.80 sec\n",
      " ARIMA(1,1,4)(0,0,0)[0]             : AIC=25317.370, Time=0.59 sec\n",
      " ARIMA(2,1,3)(0,0,0)[0]             : AIC=25577.550, Time=0.68 sec\n",
      " ARIMA(3,1,4)(0,0,0)[0]             : AIC=25427.868, Time=0.89 sec\n",
      " ARIMA(2,1,5)(0,0,0)[0]             : AIC=25370.047, Time=1.01 sec\n",
      " ARIMA(1,1,3)(0,0,0)[0]             : AIC=25554.670, Time=0.45 sec\n",
      " ARIMA(1,1,5)(0,0,0)[0]             : AIC=25332.621, Time=0.85 sec\n",
      " ARIMA(3,1,3)(0,0,0)[0]             : AIC=25395.399, Time=0.74 sec\n",
      " ARIMA(3,1,5)(0,0,0)[0]             : AIC=25279.046, Time=1.14 sec\n",
      "\n",
      "Best model:  ARIMA(2,1,4)(0,0,0)[0]          \n",
      "Total fit time: 19.817 seconds\n"
     ]
    }
   ],
   "source": [
    "stepwise_fit = auto_arima(df[target_column], trace=True,\n",
    "suppress_warnings=True)\n",
    "best_order=stepwise_fit.order"
   ]
  },
  {
   "cell_type": "markdown",
   "metadata": {},
   "source": [
    "Plot ACF and PACF for ARIMA order identification"
   ]
  },
  {
   "cell_type": "code",
   "execution_count": 5,
   "metadata": {},
   "outputs": [
    {
     "data": {
      "image/png": "[encoded data removed]",
      "text/plain": [
       "<Figure size 432x288 with 1 Axes>"
      ]
     },
     "metadata": {
      "needs_background": "light"
     },
     "output_type": "display_data"
    },
    {
     "data": {
      "image/png": "[encoded data removed]",
      "text/plain": [
       "<Figure size 432x288 with 1 Axes>"
      ]
     },
     "metadata": {
      "needs_background": "light"
     },
     "output_type": "display_data"
    }
   ],
   "source": [
    "train = df[[target_column]].iloc[:-30]\n",
    "test = df[[target_column]].iloc[-30:]\n",
    "plot_acf(train)\n",
    "plt.show()\n",
    "\n",
    "plot_pacf(train)\n",
    "plt.show()"
   ]
  },
  {
   "cell_type": "markdown",
   "metadata": {},
   "source": [
    "Create Model"
   ]
  },
  {
   "cell_type": "code",
   "execution_count": 6,
   "metadata": {},
   "outputs": [
    {
     "data": {
      "text/html": [
       "<table class=\"simpletable\">\n",
       "<caption>SARIMAX Results</caption>\n",
       "<tr>\n",
       "  <th>Dep. Variable:</th>      <td>New_deaths</td>    <th>  No. Observations:  </th>    <td>1377</td>   \n",
       "</tr>\n",
       "<tr>\n",
       "  <th>Model:</th>            <td>ARIMA(2, 1, 4)</td>  <th>  Log Likelihood     </th> <td>-12366.430</td>\n",
       "</tr>\n",
       "<tr>\n",
       "  <th>Date:</th>            <td>Mon, 13 Nov 2023</td> <th>  AIC                </th>  <td>24746.861</td>\n",
       "</tr>\n",
       "<tr>\n",
       "  <th>Time:</th>                <td>21:18:01</td>     <th>  BIC                </th>  <td>24783.449</td>\n",
       "</tr>\n",
       "<tr>\n",
       "  <th>Sample:</th>                  <td>0</td>        <th>  HQIC               </th>  <td>24760.550</td>\n",
       "</tr>\n",
       "<tr>\n",
       "  <th></th>                      <td> - 1377</td>     <th>                     </th>      <td> </td>    \n",
       "</tr>\n",
       "<tr>\n",
       "  <th>Covariance Type:</th>        <td>opg</td>       <th>                     </th>      <td> </td>    \n",
       "</tr>\n",
       "</table>\n",
       "<table class=\"simpletable\">\n",
       "<tr>\n",
       "     <td></td>       <th>coef</th>     <th>std err</th>      <th>z</th>      <th>P>|z|</th>  <th>[0.025</th>    <th>0.975]</th>  \n",
       "</tr>\n",
       "<tr>\n",
       "  <th>ar.L1</th>  <td>   -0.4034</td> <td>    0.038</td> <td>  -10.697</td> <td> 0.000</td> <td>   -0.477</td> <td>   -0.330</td>\n",
       "</tr>\n",
       "<tr>\n",
       "  <th>ar.L2</th>  <td>   -0.2849</td> <td>    0.041</td> <td>   -6.948</td> <td> 0.000</td> <td>   -0.365</td> <td>   -0.205</td>\n",
       "</tr>\n",
       "<tr>\n",
       "  <th>ma.L1</th>  <td>   -0.5925</td> <td>    0.024</td> <td>  -24.675</td> <td> 0.000</td> <td>   -0.640</td> <td>   -0.545</td>\n",
       "</tr>\n",
       "<tr>\n",
       "  <th>ma.L2</th>  <td>   -0.2288</td> <td>    0.027</td> <td>   -8.575</td> <td> 0.000</td> <td>   -0.281</td> <td>   -0.177</td>\n",
       "</tr>\n",
       "<tr>\n",
       "  <th>ma.L3</th>  <td>   -0.6046</td> <td>    0.023</td> <td>  -26.857</td> <td> 0.000</td> <td>   -0.649</td> <td>   -0.560</td>\n",
       "</tr>\n",
       "<tr>\n",
       "  <th>ma.L4</th>  <td>    0.7443</td> <td>    0.012</td> <td>   64.157</td> <td> 0.000</td> <td>    0.722</td> <td>    0.767</td>\n",
       "</tr>\n",
       "<tr>\n",
       "  <th>sigma2</th> <td> 3.737e+06</td> <td> 7.35e+04</td> <td>   50.825</td> <td> 0.000</td> <td> 3.59e+06</td> <td> 3.88e+06</td>\n",
       "</tr>\n",
       "</table>\n",
       "<table class=\"simpletable\">\n",
       "<tr>\n",
       "  <th>Ljung-Box (L1) (Q):</th>     <td>0.32</td> <th>  Jarque-Bera (JB):  </th> <td>4531.80</td>\n",
       "</tr>\n",
       "<tr>\n",
       "  <th>Prob(Q):</th>                <td>0.57</td> <th>  Prob(JB):          </th>  <td>0.00</td>  \n",
       "</tr>\n",
       "<tr>\n",
       "  <th>Heteroskedasticity (H):</th> <td>0.16</td> <th>  Skew:              </th>  <td>1.64</td>  \n",
       "</tr>\n",
       "<tr>\n",
       "  <th>Prob(H) (two-sided):</th>    <td>0.00</td> <th>  Kurtosis:          </th>  <td>11.26</td> \n",
       "</tr>\n",
       "</table><br/><br/>Warnings:<br/>[1] Covariance matrix calculated using the outer product of gradients (complex-step)."
      ],
      "text/latex": [
       "\\begin{center}\n",
       "\\begin{tabular}{lclc}\n",
       "\\toprule\n",
       "\\textbf{Dep. Variable:}          &   New\\_deaths    & \\textbf{  No. Observations:  } &    1377     \\\\\n",
       "\\textbf{Model:}                  &  ARIMA(2, 1, 4)  & \\textbf{  Log Likelihood     } & -12366.430  \\\\\n",
       "\\textbf{Date:}                   & Mon, 13 Nov 2023 & \\textbf{  AIC                } & 24746.861   \\\\\n",
       "\\textbf{Time:}                   &     21:18:01     & \\textbf{  BIC                } & 24783.449   \\\\\n",
       "\\textbf{Sample:}                 &        0         & \\textbf{  HQIC               } & 24760.550   \\\\\n",
       "\\textbf{}                        &      - 1377      & \\textbf{                     } &             \\\\\n",
       "\\textbf{Covariance Type:}        &       opg        & \\textbf{                     } &             \\\\\n",
       "\\bottomrule\n",
       "\\end{tabular}\n",
       "\\begin{tabular}{lcccccc}\n",
       "                & \\textbf{coef} & \\textbf{std err} & \\textbf{z} & \\textbf{P$> |$z$|$} & \\textbf{[0.025} & \\textbf{0.975]}  \\\\\n",
       "\\midrule\n",
       "\\textbf{ar.L1}  &      -0.4034  &        0.038     &   -10.697  &         0.000        &       -0.477    &       -0.330     \\\\\n",
       "\\textbf{ar.L2}  &      -0.2849  &        0.041     &    -6.948  &         0.000        &       -0.365    &       -0.205     \\\\\n",
       "\\textbf{ma.L1}  &      -0.5925  &        0.024     &   -24.675  &         0.000        &       -0.640    &       -0.545     \\\\\n",
       "\\textbf{ma.L2}  &      -0.2288  &        0.027     &    -8.575  &         0.000        &       -0.281    &       -0.177     \\\\\n",
       "\\textbf{ma.L3}  &      -0.6046  &        0.023     &   -26.857  &         0.000        &       -0.649    &       -0.560     \\\\\n",
       "\\textbf{ma.L4}  &       0.7443  &        0.012     &    64.157  &         0.000        &        0.722    &        0.767     \\\\\n",
       "\\textbf{sigma2} &    3.737e+06  &     7.35e+04     &    50.825  &         0.000        &     3.59e+06    &     3.88e+06     \\\\\n",
       "\\bottomrule\n",
       "\\end{tabular}\n",
       "\\begin{tabular}{lclc}\n",
       "\\textbf{Ljung-Box (L1) (Q):}     & 0.32 & \\textbf{  Jarque-Bera (JB):  } & 4531.80  \\\\\n",
       "\\textbf{Prob(Q):}                & 0.57 & \\textbf{  Prob(JB):          } &   0.00   \\\\\n",
       "\\textbf{Heteroskedasticity (H):} & 0.16 & \\textbf{  Skew:              } &   1.64   \\\\\n",
       "\\textbf{Prob(H) (two-sided):}    & 0.00 & \\textbf{  Kurtosis:          } &  11.26   \\\\\n",
       "\\bottomrule\n",
       "\\end{tabular}\n",
       "%\\caption{SARIMAX Results}\n",
       "\\end{center}\n",
       "\n",
       "Warnings: \\newline\n",
       " [1] Covariance matrix calculated using the outer product of gradients (complex-step)."
      ],
      "text/plain": [
       "<class 'statsmodels.iolib.summary.Summary'>\n",
       "\"\"\"\n",
       "                               SARIMAX Results                                \n",
       "==============================================================================\n",
       "Dep. Variable:             New_deaths   No. Observations:                 1377\n",
       "Model:                 ARIMA(2, 1, 4)   Log Likelihood              -12366.430\n",
       "Date:                Mon, 13 Nov 2023   AIC                          24746.861\n",
       "Time:                        21:18:01   BIC                          24783.449\n",
       "Sample:                             0   HQIC                         24760.550\n",
       "                               - 1377                                         \n",
       "Covariance Type:                  opg                                         \n",
       "==============================================================================\n",
       "                 coef    std err          z      P>|z|      [0.025      0.975]\n",
       "------------------------------------------------------------------------------\n",
       "ar.L1         -0.4034      0.038    -10.697      0.000      -0.477      -0.330\n",
       "ar.L2         -0.2849      0.041     -6.948      0.000      -0.365      -0.205\n",
       "ma.L1         -0.5925      0.024    -24.675      0.000      -0.640      -0.545\n",
       "ma.L2         -0.2288      0.027     -8.575      0.000      -0.281      -0.177\n",
       "ma.L3         -0.6046      0.023    -26.857      0.000      -0.649      -0.560\n",
       "ma.L4          0.7443      0.012     64.157      0.000       0.722       0.767\n",
       "sigma2      3.737e+06   7.35e+04     50.825      0.000    3.59e+06    3.88e+06\n",
       "===================================================================================\n",
       "Ljung-Box (L1) (Q):                   0.32   Jarque-Bera (JB):              4531.80\n",
       "Prob(Q):                              0.57   Prob(JB):                         0.00\n",
       "Heteroskedasticity (H):               0.16   Skew:                             1.64\n",
       "Prob(H) (two-sided):                  0.00   Kurtosis:                        11.26\n",
       "===================================================================================\n",
       "\n",
       "Warnings:\n",
       "[1] Covariance matrix calculated using the outer product of gradients (complex-step).\n",
       "\"\"\""
      ]
     },
     "execution_count": 6,
     "metadata": {},
     "output_type": "execute_result"
    }
   ],
   "source": [
    "model=ARIMA(train[target_column],order=best_order)\n",
    "model=model.fit()\n",
    "model.summary()"
   ]
  },
  {
   "cell_type": "markdown",
   "metadata": {},
   "source": [
    "Plot the result"
   ]
  },
  {
   "cell_type": "code",
   "execution_count": 7,
   "metadata": {},
   "outputs": [
    {
     "name": "stderr",
     "output_type": "stream",
     "text": [
      "c:\\Users\\ambro\\AppData\\Local\\Programs\\Python\\Python39\\lib\\site-packages\\statsmodels\\tsa\\statespace\\representation.py:374: FutureWarning: Unknown keyword arguments: dict_keys(['typ']).Passing unknown keyword arguments will raise a TypeError beginning in version 0.15.\n",
      "  warnings.warn(msg, FutureWarning)\n"
     ]
    },
    {
     "data": {
      "text/plain": [
       "<AxesSubplot:>"
      ]
     },
     "execution_count": 7,
     "metadata": {},
     "output_type": "execute_result"
    },
    {
     "data": {
      "image/png": "[encoded data removed]",
      "text/plain": [
       "<Figure size 432x288 with 1 Axes>"
      ]
     },
     "metadata": {
      "needs_background": "light"
     },
     "output_type": "display_data"
    }
   ],
   "source": [
    "start=len(train)\n",
    "end=len(train)+len(test)-1\n",
    "pred=model.predict(start=start,end=end,typ='levels').rename('ARIMA Predictions')\n",
    "pred.plot(legend=True)\n",
    "test[target_column].plot(legend=True)"
   ]
  },
  {
   "cell_type": "markdown",
   "metadata": {},
   "source": [
    "RMSE of the result"
   ]
  },
  {
   "cell_type": "code",
   "execution_count": 8,
   "metadata": {},
   "outputs": [
    {
     "name": "stdout",
     "output_type": "stream",
     "text": [
      "247.9743089911683\n"
     ]
    }
   ],
   "source": [
    "\n",
    "test[target_column].mean()\n",
    "rmse=sqrt(mean_squared_error(pred,test[target_column]))\n",
    "print(rmse)"
   ]
  }
 ],
 "metadata": {
  "kernelspec": {
   "display_name": "Python 3",
   "language": "python",
   "name": "python3"
  },
  "language_info": {
   "codemirror_mode": {
    "name": "ipython",
    "version": 3
   },
   "file_extension": ".py",
   "mimetype": "text/x-python",
   "name": "python",
   "nbconvert_exporter": "python",
   "pygments_lexer": "ipython3",
   "version": "3.9.12"
  },
  "orig_nbformat": 4
 },
 "nbformat": 4,
 "nbformat_minor": 2
}
