{
 "cells": [
  {
   "cell_type": "markdown",
   "metadata": {},
   "source": [
    "Import libraries"
   ]
  },
  {
   "cell_type": "code",
   "execution_count": 29,
   "metadata": {},
   "outputs": [],
   "source": [
    "import pandas as pd\n",
    "import matplotlib.pyplot as plt\n",
    "from statsmodels.graphics.tsaplots import plot_acf, plot_pacf\n",
    "from statsmodels.tsa.stattools import adfuller\n",
    "from statsmodels.tsa.arima.model import ARIMA\n",
    "from sklearn.metrics import mean_squared_error\n",
    "from math import sqrt\n",
    "from pmdarima import auto_arima"
   ]
  },
  {
   "cell_type": "markdown",
   "metadata": {},
   "source": [
    "Load dataset and prepare df"
   ]
  },
  {
   "cell_type": "code",
   "execution_count": 30,
   "metadata": {},
   "outputs": [],
   "source": [
    "# Load the dataset\n",
    "file_path = '../data/owid-covid-data.csv'\n",
    "date_column = 'date'\n",
    "target_column = 'new_deaths'\n",
    "df = pd.read_csv(file_path, parse_dates=True)\n",
    "df = df[[date_column, target_column]]\n",
    "\n",
    "df.set_index(date_column, inplace=True)\n",
    "df = df.groupby(date_column).sum().reset_index()\n",
    "\n",
    "df = df.dropna()"
   ]
  },
  {
   "cell_type": "markdown",
   "metadata": {},
   "source": [
    "Determine whether the dataset is stationary"
   ]
  },
  {
   "cell_type": "code",
   "execution_count": 31,
   "metadata": {},
   "outputs": [
    {
     "name": "stdout",
     "output_type": "stream",
     "text": [
      "1. ADF :  -2.16407040266354\n",
      "2. P-Value :  0.21954320991500131\n",
      "3. Num Of Lags :  17\n",
      "4. Num Of Observations Used For ADF Regression: 1348\n",
      "5. Critical Values :\n",
      "\t 1% :  -3.435210382964628\n",
      "\t 5% :  -2.8636864858936333\n",
      "\t 10% :  -2.5679127921571907\n"
     ]
    }
   ],
   "source": [
    "def adf_test(dataset):\n",
    "     dftest = adfuller(dataset, autolag = 'AIC')\n",
    "     print(\"1. ADF : \",dftest[0])\n",
    "     print(\"2. P-Value : \", dftest[1])\n",
    "     print(\"3. Num Of Lags : \", dftest[2])\n",
    "     print(\"4. Num Of Observations Used For ADF Regression:\",      dftest[3])\n",
    "     print(\"5. Critical Values :\")\n",
    "     for key, val in dftest[4].items():\n",
    "         print(\"\\t\",key, \": \", val)\n",
    "adf_test(df[target_column])"
   ]
  },
  {
   "cell_type": "markdown",
   "metadata": {},
   "source": [
    "Parameter tuning for order"
   ]
  },
  {
   "cell_type": "code",
   "execution_count": 32,
   "metadata": {},
   "outputs": [
    {
     "name": "stdout",
     "output_type": "stream",
     "text": [
      "Performing stepwise search to minimize aic\n",
      " ARIMA(2,1,2)(0,0,0)[0] intercept   : AIC=29138.397, Time=0.88 sec\n",
      " ARIMA(0,1,0)(0,0,0)[0] intercept   : AIC=30173.460, Time=0.02 sec\n",
      " ARIMA(1,1,0)(0,0,0)[0] intercept   : AIC=29819.963, Time=0.02 sec\n",
      " ARIMA(0,1,1)(0,0,0)[0] intercept   : AIC=29311.010, Time=0.08 sec\n",
      " ARIMA(0,1,0)(0,0,0)[0]             : AIC=30171.461, Time=0.02 sec\n",
      " ARIMA(1,1,2)(0,0,0)[0] intercept   : AIC=29255.887, Time=0.91 sec\n",
      " ARIMA(2,1,1)(0,0,0)[0] intercept   : AIC=29286.441, Time=0.14 sec\n",
      " ARIMA(3,1,2)(0,0,0)[0] intercept   : AIC=29052.392, Time=1.15 sec\n",
      " ARIMA(3,1,1)(0,0,0)[0] intercept   : AIC=29265.228, Time=0.19 sec\n",
      " ARIMA(4,1,2)(0,0,0)[0] intercept   : AIC=inf, Time=1.15 sec\n",
      " ARIMA(3,1,3)(0,0,0)[0] intercept   : AIC=29018.616, Time=0.49 sec\n",
      " ARIMA(2,1,3)(0,0,0)[0] intercept   : AIC=29167.831, Time=0.42 sec\n",
      " ARIMA(4,1,3)(0,0,0)[0] intercept   : AIC=28997.290, Time=1.20 sec\n",
      " ARIMA(5,1,3)(0,0,0)[0] intercept   : AIC=28822.459, Time=1.22 sec\n",
      " ARIMA(5,1,2)(0,0,0)[0] intercept   : AIC=29550.196, Time=1.51 sec\n",
      " ARIMA(5,1,4)(0,0,0)[0] intercept   : AIC=28548.180, Time=1.95 sec\n",
      " ARIMA(4,1,4)(0,0,0)[0] intercept   : AIC=28904.998, Time=1.15 sec\n",
      " ARIMA(5,1,5)(0,0,0)[0] intercept   : AIC=28498.489, Time=1.92 sec\n",
      " ARIMA(4,1,5)(0,0,0)[0] intercept   : AIC=28773.974, Time=1.83 sec\n",
      " ARIMA(5,1,5)(0,0,0)[0]             : AIC=28495.592, Time=2.21 sec\n",
      " ARIMA(4,1,5)(0,0,0)[0]             : AIC=28771.974, Time=1.59 sec\n",
      " ARIMA(5,1,4)(0,0,0)[0]             : AIC=28546.139, Time=1.80 sec\n",
      " ARIMA(4,1,4)(0,0,0)[0]             : AIC=28902.998, Time=1.14 sec\n",
      "\n",
      "Best model:  ARIMA(5,1,5)(0,0,0)[0]          \n",
      "Total fit time: 23.005 seconds\n"
     ]
    }
   ],
   "source": [
    "stepwise_fit = auto_arima(df[target_column], trace=True,\n",
    "suppress_warnings=True)\n",
    "best_order=stepwise_fit.order"
   ]
  },
  {
   "cell_type": "markdown",
   "metadata": {},
   "source": [
    "Plot ACF and PACF for ARIMA order identification"
   ]
  },
  {
   "cell_type": "code",
   "execution_count": 33,
   "metadata": {},
   "outputs": [
    {
     "data": {
      "image/png": "[encoded data removed]",
      "text/plain": [
       "<Figure size 432x288 with 1 Axes>"
      ]
     },
     "metadata": {
      "needs_background": "light"
     },
     "output_type": "display_data"
    },
    {
     "data": {
      "image/png": "[encoded data removed]",
      "text/plain": [
       "<Figure size 432x288 with 1 Axes>"
      ]
     },
     "metadata": {
      "needs_background": "light"
     },
     "output_type": "display_data"
    }
   ],
   "source": [
    "train = df[[target_column]].iloc[:-30]\n",
    "test = df[[target_column]].iloc[-30:]\n",
    "plot_acf(train)\n",
    "plt.show()\n",
    "\n",
    "plot_pacf(train)\n",
    "plt.show()"
   ]
  },
  {
   "cell_type": "markdown",
   "metadata": {},
   "source": [
    "Create Model"
   ]
  },
  {
   "cell_type": "code",
   "execution_count": 34,
   "metadata": {},
   "outputs": [
    {
     "name": "stderr",
     "output_type": "stream",
     "text": [
      "c:\\Users\\ambro\\AppData\\Local\\Programs\\Python\\Python39\\lib\\site-packages\\statsmodels\\base\\model.py:607: ConvergenceWarning: Maximum Likelihood optimization failed to converge. Check mle_retvals\n",
      "  warnings.warn(\"Maximum Likelihood optimization failed to \"\n"
     ]
    },
    {
     "data": {
      "text/html": [
       "<table class=\"simpletable\">\n",
       "<caption>SARIMAX Results</caption>\n",
       "<tr>\n",
       "  <th>Dep. Variable:</th>      <td>new_deaths</td>    <th>  No. Observations:  </th>    <td>1336</td>   \n",
       "</tr>\n",
       "<tr>\n",
       "  <th>Model:</th>            <td>ARIMA(5, 1, 5)</td>  <th>  Log Likelihood     </th> <td>-13939.214</td>\n",
       "</tr>\n",
       "<tr>\n",
       "  <th>Date:</th>            <td>Sun, 22 Oct 2023</td> <th>  AIC                </th>  <td>27900.428</td>\n",
       "</tr>\n",
       "<tr>\n",
       "  <th>Time:</th>                <td>17:54:35</td>     <th>  BIC                </th>  <td>27957.591</td>\n",
       "</tr>\n",
       "<tr>\n",
       "  <th>Sample:</th>                  <td>0</td>        <th>  HQIC               </th>  <td>27921.847</td>\n",
       "</tr>\n",
       "<tr>\n",
       "  <th></th>                      <td> - 1336</td>     <th>                     </th>      <td> </td>    \n",
       "</tr>\n",
       "<tr>\n",
       "  <th>Covariance Type:</th>        <td>opg</td>       <th>                     </th>      <td> </td>    \n",
       "</tr>\n",
       "</table>\n",
       "<table class=\"simpletable\">\n",
       "<tr>\n",
       "     <td></td>       <th>coef</th>     <th>std err</th>      <th>z</th>      <th>P>|z|</th>  <th>[0.025</th>    <th>0.975]</th>  \n",
       "</tr>\n",
       "<tr>\n",
       "  <th>ar.L1</th>  <td>    0.0286</td> <td>    0.073</td> <td>    0.392</td> <td> 0.695</td> <td>   -0.115</td> <td>    0.172</td>\n",
       "</tr>\n",
       "<tr>\n",
       "  <th>ar.L2</th>  <td>   -0.8253</td> <td>    0.065</td> <td>  -12.623</td> <td> 0.000</td> <td>   -0.953</td> <td>   -0.697</td>\n",
       "</tr>\n",
       "<tr>\n",
       "  <th>ar.L3</th>  <td>   -0.3064</td> <td>    0.105</td> <td>   -2.917</td> <td> 0.004</td> <td>   -0.512</td> <td>   -0.101</td>\n",
       "</tr>\n",
       "<tr>\n",
       "  <th>ar.L4</th>  <td>   -0.3684</td> <td>    0.063</td> <td>   -5.885</td> <td> 0.000</td> <td>   -0.491</td> <td>   -0.246</td>\n",
       "</tr>\n",
       "<tr>\n",
       "  <th>ar.L5</th>  <td>   -0.7504</td> <td>    0.069</td> <td>  -10.901</td> <td> 0.000</td> <td>   -0.885</td> <td>   -0.615</td>\n",
       "</tr>\n",
       "<tr>\n",
       "  <th>ma.L1</th>  <td>   -1.3182</td> <td>    0.087</td> <td>  -15.186</td> <td> 0.000</td> <td>   -1.488</td> <td>   -1.148</td>\n",
       "</tr>\n",
       "<tr>\n",
       "  <th>ma.L2</th>  <td>    1.6061</td> <td>    0.143</td> <td>   11.245</td> <td> 0.000</td> <td>    1.326</td> <td>    1.886</td>\n",
       "</tr>\n",
       "<tr>\n",
       "  <th>ma.L3</th>  <td>   -1.3244</td> <td>    0.159</td> <td>   -8.352</td> <td> 0.000</td> <td>   -1.635</td> <td>   -1.014</td>\n",
       "</tr>\n",
       "<tr>\n",
       "  <th>ma.L4</th>  <td>    1.0012</td> <td>    0.101</td> <td>    9.878</td> <td> 0.000</td> <td>    0.803</td> <td>    1.200</td>\n",
       "</tr>\n",
       "<tr>\n",
       "  <th>ma.L5</th>  <td>   -0.3783</td> <td>    0.080</td> <td>   -4.757</td> <td> 0.000</td> <td>   -0.534</td> <td>   -0.222</td>\n",
       "</tr>\n",
       "<tr>\n",
       "  <th>sigma2</th> <td> 1.438e+08</td> <td> 2.77e-09</td> <td> 5.18e+16</td> <td> 0.000</td> <td> 1.44e+08</td> <td> 1.44e+08</td>\n",
       "</tr>\n",
       "</table>\n",
       "<table class=\"simpletable\">\n",
       "<tr>\n",
       "  <th>Ljung-Box (L1) (Q):</th>     <td>15.39</td> <th>  Jarque-Bera (JB):  </th> <td>9907.38</td>\n",
       "</tr>\n",
       "<tr>\n",
       "  <th>Prob(Q):</th>                <td>0.00</td>  <th>  Prob(JB):          </th>  <td>0.00</td>  \n",
       "</tr>\n",
       "<tr>\n",
       "  <th>Heteroskedasticity (H):</th> <td>0.15</td>  <th>  Skew:              </th>  <td>1.85</td>  \n",
       "</tr>\n",
       "<tr>\n",
       "  <th>Prob(H) (two-sided):</th>    <td>0.00</td>  <th>  Kurtosis:          </th>  <td>15.82</td> \n",
       "</tr>\n",
       "</table><br/><br/>Warnings:<br/>[1] Covariance matrix calculated using the outer product of gradients (complex-step).<br/>[2] Covariance matrix is singular or near-singular, with condition number 2.04e+32. Standard errors may be unstable."
      ],
      "text/latex": [
       "\\begin{center}\n",
       "\\begin{tabular}{lclc}\n",
       "\\toprule\n",
       "\\textbf{Dep. Variable:}          &   new\\_deaths    & \\textbf{  No. Observations:  } &    1336     \\\\\n",
       "\\textbf{Model:}                  &  ARIMA(5, 1, 5)  & \\textbf{  Log Likelihood     } & -13939.214  \\\\\n",
       "\\textbf{Date:}                   & Sun, 22 Oct 2023 & \\textbf{  AIC                } & 27900.428   \\\\\n",
       "\\textbf{Time:}                   &     17:54:35     & \\textbf{  BIC                } & 27957.591   \\\\\n",
       "\\textbf{Sample:}                 &        0         & \\textbf{  HQIC               } & 27921.847   \\\\\n",
       "\\textbf{}                        &      - 1336      & \\textbf{                     } &             \\\\\n",
       "\\textbf{Covariance Type:}        &       opg        & \\textbf{                     } &             \\\\\n",
       "\\bottomrule\n",
       "\\end{tabular}\n",
       "\\begin{tabular}{lcccccc}\n",
       "                & \\textbf{coef} & \\textbf{std err} & \\textbf{z} & \\textbf{P$> |$z$|$} & \\textbf{[0.025} & \\textbf{0.975]}  \\\\\n",
       "\\midrule\n",
       "\\textbf{ar.L1}  &       0.0286  &        0.073     &     0.392  &         0.695        &       -0.115    &        0.172     \\\\\n",
       "\\textbf{ar.L2}  &      -0.8253  &        0.065     &   -12.623  &         0.000        &       -0.953    &       -0.697     \\\\\n",
       "\\textbf{ar.L3}  &      -0.3064  &        0.105     &    -2.917  &         0.004        &       -0.512    &       -0.101     \\\\\n",
       "\\textbf{ar.L4}  &      -0.3684  &        0.063     &    -5.885  &         0.000        &       -0.491    &       -0.246     \\\\\n",
       "\\textbf{ar.L5}  &      -0.7504  &        0.069     &   -10.901  &         0.000        &       -0.885    &       -0.615     \\\\\n",
       "\\textbf{ma.L1}  &      -1.3182  &        0.087     &   -15.186  &         0.000        &       -1.488    &       -1.148     \\\\\n",
       "\\textbf{ma.L2}  &       1.6061  &        0.143     &    11.245  &         0.000        &        1.326    &        1.886     \\\\\n",
       "\\textbf{ma.L3}  &      -1.3244  &        0.159     &    -8.352  &         0.000        &       -1.635    &       -1.014     \\\\\n",
       "\\textbf{ma.L4}  &       1.0012  &        0.101     &     9.878  &         0.000        &        0.803    &        1.200     \\\\\n",
       "\\textbf{ma.L5}  &      -0.3783  &        0.080     &    -4.757  &         0.000        &       -0.534    &       -0.222     \\\\\n",
       "\\textbf{sigma2} &    1.438e+08  &     2.77e-09     &  5.18e+16  &         0.000        &     1.44e+08    &     1.44e+08     \\\\\n",
       "\\bottomrule\n",
       "\\end{tabular}\n",
       "\\begin{tabular}{lclc}\n",
       "\\textbf{Ljung-Box (L1) (Q):}     & 15.39 & \\textbf{  Jarque-Bera (JB):  } & 9907.38  \\\\\n",
       "\\textbf{Prob(Q):}                &  0.00 & \\textbf{  Prob(JB):          } &   0.00   \\\\\n",
       "\\textbf{Heteroskedasticity (H):} &  0.15 & \\textbf{  Skew:              } &   1.85   \\\\\n",
       "\\textbf{Prob(H) (two-sided):}    &  0.00 & \\textbf{  Kurtosis:          } &  15.82   \\\\\n",
       "\\bottomrule\n",
       "\\end{tabular}\n",
       "%\\caption{SARIMAX Results}\n",
       "\\end{center}\n",
       "\n",
       "Warnings: \\newline\n",
       " [1] Covariance matrix calculated using the outer product of gradients (complex-step). \\newline\n",
       " [2] Covariance matrix is singular or near-singular, with condition number 2.04e+32. Standard errors may be unstable."
      ],
      "text/plain": [
       "<class 'statsmodels.iolib.summary.Summary'>\n",
       "\"\"\"\n",
       "                               SARIMAX Results                                \n",
       "==============================================================================\n",
       "Dep. Variable:             new_deaths   No. Observations:                 1336\n",
       "Model:                 ARIMA(5, 1, 5)   Log Likelihood              -13939.214\n",
       "Date:                Sun, 22 Oct 2023   AIC                          27900.428\n",
       "Time:                        17:54:35   BIC                          27957.591\n",
       "Sample:                             0   HQIC                         27921.847\n",
       "                               - 1336                                         \n",
       "Covariance Type:                  opg                                         \n",
       "==============================================================================\n",
       "                 coef    std err          z      P>|z|      [0.025      0.975]\n",
       "------------------------------------------------------------------------------\n",
       "ar.L1          0.0286      0.073      0.392      0.695      -0.115       0.172\n",
       "ar.L2         -0.8253      0.065    -12.623      0.000      -0.953      -0.697\n",
       "ar.L3         -0.3064      0.105     -2.917      0.004      -0.512      -0.101\n",
       "ar.L4         -0.3684      0.063     -5.885      0.000      -0.491      -0.246\n",
       "ar.L5         -0.7504      0.069    -10.901      0.000      -0.885      -0.615\n",
       "ma.L1         -1.3182      0.087    -15.186      0.000      -1.488      -1.148\n",
       "ma.L2          1.6061      0.143     11.245      0.000       1.326       1.886\n",
       "ma.L3         -1.3244      0.159     -8.352      0.000      -1.635      -1.014\n",
       "ma.L4          1.0012      0.101      9.878      0.000       0.803       1.200\n",
       "ma.L5         -0.3783      0.080     -4.757      0.000      -0.534      -0.222\n",
       "sigma2      1.438e+08   2.77e-09   5.18e+16      0.000    1.44e+08    1.44e+08\n",
       "===================================================================================\n",
       "Ljung-Box (L1) (Q):                  15.39   Jarque-Bera (JB):              9907.38\n",
       "Prob(Q):                              0.00   Prob(JB):                         0.00\n",
       "Heteroskedasticity (H):               0.15   Skew:                             1.85\n",
       "Prob(H) (two-sided):                  0.00   Kurtosis:                        15.82\n",
       "===================================================================================\n",
       "\n",
       "Warnings:\n",
       "[1] Covariance matrix calculated using the outer product of gradients (complex-step).\n",
       "[2] Covariance matrix is singular or near-singular, with condition number 2.04e+32. Standard errors may be unstable.\n",
       "\"\"\""
      ]
     },
     "execution_count": 34,
     "metadata": {},
     "output_type": "execute_result"
    }
   ],
   "source": [
    "model=ARIMA(train[target_column],order=best_order)\n",
    "model=model.fit()\n",
    "model.summary()"
   ]
  },
  {
   "cell_type": "markdown",
   "metadata": {},
   "source": [
    "Plot the result"
   ]
  },
  {
   "cell_type": "code",
   "execution_count": 35,
   "metadata": {},
   "outputs": [
    {
     "name": "stderr",
     "output_type": "stream",
     "text": [
      "c:\\Users\\ambro\\AppData\\Local\\Programs\\Python\\Python39\\lib\\site-packages\\statsmodels\\tsa\\statespace\\representation.py:374: FutureWarning: Unknown keyword arguments: dict_keys(['typ']).Passing unknown keyword arguments will raise a TypeError beginning in version 0.15.\n",
      "  warnings.warn(msg, FutureWarning)\n"
     ]
    },
    {
     "data": {
      "text/plain": [
       "<AxesSubplot:>"
      ]
     },
     "execution_count": 35,
     "metadata": {},
     "output_type": "execute_result"
    },
    {
     "data": {
      "image/png": "[encoded data removed]",
      "text/plain": [
       "<Figure size 432x288 with 1 Axes>"
      ]
     },
     "metadata": {
      "needs_background": "light"
     },
     "output_type": "display_data"
    }
   ],
   "source": [
    "start=len(train)\n",
    "end=len(train)+len(test)-1\n",
    "pred=model.predict(start=start,end=end,typ='levels').rename('ARIMA Predictions')\n",
    "pred.plot(legend=True)\n",
    "test[target_column].plot(legend=True)"
   ]
  },
  {
   "cell_type": "markdown",
   "metadata": {},
   "source": [
    "RMSE of the result"
   ]
  },
  {
   "cell_type": "code",
   "execution_count": 36,
   "metadata": {},
   "outputs": [
    {
     "name": "stdout",
     "output_type": "stream",
     "text": [
      "518.6235701579877\n"
     ]
    }
   ],
   "source": [
    "\n",
    "test[target_column].mean()\n",
    "rmse=sqrt(mean_squared_error(pred,test[target_column]))\n",
    "print(rmse)"
   ]
  }
 ],
 "metadata": {
  "kernelspec": {
   "display_name": "Python 3",
   "language": "python",
   "name": "python3"
  },
  "language_info": {
   "codemirror_mode": {
    "name": "ipython",
    "version": 3
   },
   "file_extension": ".py",
   "mimetype": "text/x-python",
   "name": "python",
   "nbconvert_exporter": "python",
   "pygments_lexer": "ipython3",
   "version": "3.9.12"
  },
  "orig_nbformat": 4
 },
 "nbformat": 4,
 "nbformat_minor": 2
}
