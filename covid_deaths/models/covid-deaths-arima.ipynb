{
 "cells": [
  {
   "cell_type": "markdown",
   "metadata": {},
   "source": [
    "Import libraries"
   ]
  },
  {
   "cell_type": "code",
   "execution_count": 22,
   "metadata": {},
   "outputs": [],
   "source": [
    "import pandas as pd\n",
    "from statsmodels.tsa.arima.model import ARIMA\n",
    "from pmdarima import auto_arima\n",
    "from metrics import print_evaluation_metrics"
   ]
  },
  {
   "cell_type": "markdown",
   "metadata": {},
   "source": [
    "Load dataset and prepare df"
   ]
  },
  {
   "cell_type": "code",
   "execution_count": 23,
   "metadata": {},
   "outputs": [],
   "source": [
    "file_path = \"../data/parsed_dataset.csv\"\n",
    "date_column = \"Date_reported\"\n",
    "target_column = \"New_deaths\"\n",
    "df = pd.read_csv(file_path, parse_dates=True)\n",
    "df = df[[date_column, target_column]]\n",
    "\n",
    "df.set_index(date_column, inplace=True)\n",
    "df = df.groupby(date_column).sum().reset_index()\n",
    "\n",
    "df = df.dropna()"
   ]
  },
  {
   "cell_type": "markdown",
   "metadata": {},
   "source": [
    "Train test split"
   ]
  },
  {
   "cell_type": "code",
   "execution_count": 24,
   "metadata": {},
   "outputs": [],
   "source": [
    "train = df.iloc[:-30]\n",
    "test = df.iloc[-30:]"
   ]
  },
  {
   "cell_type": "markdown",
   "metadata": {},
   "source": [
    "Parameter tuning for order"
   ]
  },
  {
   "cell_type": "code",
   "execution_count": 25,
   "metadata": {},
   "outputs": [
    {
     "name": "stdout",
     "output_type": "stream",
     "text": [
      "Performing stepwise search to minimize aic\n"
     ]
    },
    {
     "name": "stdout",
     "output_type": "stream",
     "text": [
      " ARIMA(2,1,2)(0,0,0)[0] intercept   : AIC=26527.083, Time=3.84 sec\n",
      " ARIMA(0,1,0)(0,0,0)[0] intercept   : AIC=27442.044, Time=0.06 sec\n",
      " ARIMA(1,1,0)(0,0,0)[0] intercept   : AIC=27043.553, Time=0.08 sec\n",
      " ARIMA(0,1,1)(0,0,0)[0] intercept   : AIC=26540.935, Time=0.58 sec\n",
      " ARIMA(0,1,0)(0,0,0)[0]             : AIC=27440.044, Time=0.08 sec\n",
      " ARIMA(1,1,2)(0,0,0)[0] intercept   : AIC=26494.719, Time=3.54 sec\n",
      " ARIMA(0,1,2)(0,0,0)[0] intercept   : AIC=26546.835, Time=0.61 sec\n",
      " ARIMA(1,1,1)(0,0,0)[0] intercept   : AIC=26538.677, Time=1.03 sec\n",
      " ARIMA(1,1,3)(0,0,0)[0] intercept   : AIC=26511.422, Time=5.78 sec\n",
      " ARIMA(0,1,3)(0,0,0)[0] intercept   : AIC=26521.824, Time=1.58 sec\n",
      " ARIMA(2,1,1)(0,0,0)[0] intercept   : AIC=26558.943, Time=0.92 sec\n",
      " ARIMA(2,1,3)(0,0,0)[0] intercept   : AIC=26392.763, Time=12.03 sec\n",
      " ARIMA(3,1,3)(0,0,0)[0] intercept   : AIC=26388.049, Time=8.00 sec\n",
      " ARIMA(3,1,2)(0,0,0)[0] intercept   : AIC=26466.856, Time=5.21 sec\n",
      " ARIMA(4,1,3)(0,0,0)[0] intercept   : AIC=26368.501, Time=6.14 sec\n",
      " ARIMA(4,1,2)(0,0,0)[0] intercept   : AIC=26458.648, Time=8.77 sec\n",
      " ARIMA(5,1,3)(0,0,0)[0] intercept   : AIC=26297.278, Time=10.19 sec\n",
      " ARIMA(5,1,2)(0,0,0)[0] intercept   : AIC=26297.903, Time=8.80 sec\n",
      " ARIMA(5,1,4)(0,0,0)[0] intercept   : AIC=26281.255, Time=15.71 sec\n",
      " ARIMA(4,1,4)(0,0,0)[0] intercept   : AIC=26378.100, Time=12.01 sec\n",
      " ARIMA(5,1,5)(0,0,0)[0] intercept   : AIC=26098.582, Time=15.26 sec\n",
      " ARIMA(4,1,5)(0,0,0)[0] intercept   : AIC=26297.843, Time=18.88 sec\n",
      " ARIMA(5,1,5)(0,0,0)[0]             : AIC=26096.595, Time=15.34 sec\n",
      " ARIMA(4,1,5)(0,0,0)[0]             : AIC=26295.854, Time=16.64 sec\n",
      " ARIMA(5,1,4)(0,0,0)[0]             : AIC=26278.375, Time=8.98 sec\n",
      " ARIMA(4,1,4)(0,0,0)[0]             : AIC=26375.392, Time=8.97 sec\n",
      "\n",
      "Best model:  ARIMA(5,1,5)(0,0,0)[0]          \n",
      "Total fit time: 189.124 seconds\n"
     ]
    }
   ],
   "source": [
    "stepwise_fit = auto_arima(df[target_column], trace=True, suppress_warnings=True)\n",
    "best_order = stepwise_fit.order"
   ]
  },
  {
   "cell_type": "markdown",
   "metadata": {},
   "source": [
    "Create Model"
   ]
  },
  {
   "cell_type": "code",
   "execution_count": 26,
   "metadata": {},
   "outputs": [
    {
     "name": "stderr",
     "output_type": "stream",
     "text": [
      "/home/samuell/.local/lib/python3.10/site-packages/statsmodels/base/model.py:607: ConvergenceWarning: Maximum Likelihood optimization failed to converge. Check mle_retvals\n",
      "  warnings.warn(\"Maximum Likelihood optimization failed to \"\n"
     ]
    },
    {
     "data": {
      "text/html": [
       "<table class=\"simpletable\">\n",
       "<caption>SARIMAX Results</caption>\n",
       "<tr>\n",
       "  <th>Dep. Variable:</th>      <td>New_deaths</td>    <th>  No. Observations:  </th>    <td>1390</td>   \n",
       "</tr>\n",
       "<tr>\n",
       "  <th>Model:</th>            <td>ARIMA(5, 1, 5)</td>  <th>  Log Likelihood     </th> <td>-12776.633</td>\n",
       "</tr>\n",
       "<tr>\n",
       "  <th>Date:</th>            <td>Sat, 09 Dec 2023</td> <th>  AIC                </th>  <td>25575.265</td>\n",
       "</tr>\n",
       "<tr>\n",
       "  <th>Time:</th>                <td>14:04:09</td>     <th>  BIC                </th>  <td>25632.865</td>\n",
       "</tr>\n",
       "<tr>\n",
       "  <th>Sample:</th>                  <td>0</td>        <th>  HQIC               </th>  <td>25596.806</td>\n",
       "</tr>\n",
       "<tr>\n",
       "  <th></th>                      <td> - 1390</td>     <th>                     </th>      <td> </td>    \n",
       "</tr>\n",
       "<tr>\n",
       "  <th>Covariance Type:</th>        <td>opg</td>       <th>                     </th>      <td> </td>    \n",
       "</tr>\n",
       "</table>\n",
       "<table class=\"simpletable\">\n",
       "<tr>\n",
       "     <td></td>       <th>coef</th>     <th>std err</th>      <th>z</th>      <th>P>|z|</th>  <th>[0.025</th>    <th>0.975]</th>  \n",
       "</tr>\n",
       "<tr>\n",
       "  <th>ar.L1</th>  <td>    0.3187</td> <td>    0.035</td> <td>    9.147</td> <td> 0.000</td> <td>    0.250</td> <td>    0.387</td>\n",
       "</tr>\n",
       "<tr>\n",
       "  <th>ar.L2</th>  <td>   -1.0611</td> <td>    0.032</td> <td>  -33.214</td> <td> 0.000</td> <td>   -1.124</td> <td>   -0.998</td>\n",
       "</tr>\n",
       "<tr>\n",
       "  <th>ar.L3</th>  <td>    0.1357</td> <td>    0.042</td> <td>    3.228</td> <td> 0.001</td> <td>    0.053</td> <td>    0.218</td>\n",
       "</tr>\n",
       "<tr>\n",
       "  <th>ar.L4</th>  <td>   -0.6045</td> <td>    0.030</td> <td>  -19.830</td> <td> 0.000</td> <td>   -0.664</td> <td>   -0.545</td>\n",
       "</tr>\n",
       "<tr>\n",
       "  <th>ar.L5</th>  <td>   -0.4407</td> <td>    0.027</td> <td>  -16.414</td> <td> 0.000</td> <td>   -0.493</td> <td>   -0.388</td>\n",
       "</tr>\n",
       "<tr>\n",
       "  <th>ma.L1</th>  <td>   -1.3775</td> <td>    0.036</td> <td>  -37.798</td> <td> 0.000</td> <td>   -1.449</td> <td>   -1.306</td>\n",
       "</tr>\n",
       "<tr>\n",
       "  <th>ma.L2</th>  <td>    1.6981</td> <td>    0.052</td> <td>   32.665</td> <td> 0.000</td> <td>    1.596</td> <td>    1.800</td>\n",
       "</tr>\n",
       "<tr>\n",
       "  <th>ma.L3</th>  <td>   -1.5397</td> <td>    0.052</td> <td>  -29.752</td> <td> 0.000</td> <td>   -1.641</td> <td>   -1.438</td>\n",
       "</tr>\n",
       "<tr>\n",
       "  <th>ma.L4</th>  <td>    1.2131</td> <td>    0.038</td> <td>   32.237</td> <td> 0.000</td> <td>    1.139</td> <td>    1.287</td>\n",
       "</tr>\n",
       "<tr>\n",
       "  <th>ma.L5</th>  <td>   -0.5511</td> <td>    0.027</td> <td>  -20.625</td> <td> 0.000</td> <td>   -0.603</td> <td>   -0.499</td>\n",
       "</tr>\n",
       "<tr>\n",
       "  <th>sigma2</th> <td> 8.667e+06</td> <td> 5.63e+04</td> <td>  153.899</td> <td> 0.000</td> <td> 8.56e+06</td> <td> 8.78e+06</td>\n",
       "</tr>\n",
       "</table>\n",
       "<table class=\"simpletable\">\n",
       "<tr>\n",
       "  <th>Ljung-Box (L1) (Q):</th>     <td>0.19</td> <th>  Jarque-Bera (JB):  </th> <td>5885419.96</td>\n",
       "</tr>\n",
       "<tr>\n",
       "  <th>Prob(Q):</th>                <td>0.66</td> <th>  Prob(JB):          </th>    <td>0.00</td>   \n",
       "</tr>\n",
       "<tr>\n",
       "  <th>Heteroskedasticity (H):</th> <td>2.95</td> <th>  Skew:              </th>    <td>12.36</td>  \n",
       "</tr>\n",
       "<tr>\n",
       "  <th>Prob(H) (two-sided):</th>    <td>0.00</td> <th>  Kurtosis:          </th>   <td>320.93</td>  \n",
       "</tr>\n",
       "</table><br/><br/>Warnings:<br/>[1] Covariance matrix calculated using the outer product of gradients (complex-step)."
      ],
      "text/latex": [
       "\\begin{center}\n",
       "\\begin{tabular}{lclc}\n",
       "\\toprule\n",
       "\\textbf{Dep. Variable:}          &   New\\_deaths    & \\textbf{  No. Observations:  } &    1390     \\\\\n",
       "\\textbf{Model:}                  &  ARIMA(5, 1, 5)  & \\textbf{  Log Likelihood     } & -12776.633  \\\\\n",
       "\\textbf{Date:}                   & Sat, 09 Dec 2023 & \\textbf{  AIC                } & 25575.265   \\\\\n",
       "\\textbf{Time:}                   &     14:04:09     & \\textbf{  BIC                } & 25632.865   \\\\\n",
       "\\textbf{Sample:}                 &        0         & \\textbf{  HQIC               } & 25596.806   \\\\\n",
       "\\textbf{}                        &      - 1390      & \\textbf{                     } &             \\\\\n",
       "\\textbf{Covariance Type:}        &       opg        & \\textbf{                     } &             \\\\\n",
       "\\bottomrule\n",
       "\\end{tabular}\n",
       "\\begin{tabular}{lcccccc}\n",
       "                & \\textbf{coef} & \\textbf{std err} & \\textbf{z} & \\textbf{P$> |$z$|$} & \\textbf{[0.025} & \\textbf{0.975]}  \\\\\n",
       "\\midrule\n",
       "\\textbf{ar.L1}  &       0.3187  &        0.035     &     9.147  &         0.000        &        0.250    &        0.387     \\\\\n",
       "\\textbf{ar.L2}  &      -1.0611  &        0.032     &   -33.214  &         0.000        &       -1.124    &       -0.998     \\\\\n",
       "\\textbf{ar.L3}  &       0.1357  &        0.042     &     3.228  &         0.001        &        0.053    &        0.218     \\\\\n",
       "\\textbf{ar.L4}  &      -0.6045  &        0.030     &   -19.830  &         0.000        &       -0.664    &       -0.545     \\\\\n",
       "\\textbf{ar.L5}  &      -0.4407  &        0.027     &   -16.414  &         0.000        &       -0.493    &       -0.388     \\\\\n",
       "\\textbf{ma.L1}  &      -1.3775  &        0.036     &   -37.798  &         0.000        &       -1.449    &       -1.306     \\\\\n",
       "\\textbf{ma.L2}  &       1.6981  &        0.052     &    32.665  &         0.000        &        1.596    &        1.800     \\\\\n",
       "\\textbf{ma.L3}  &      -1.5397  &        0.052     &   -29.752  &         0.000        &       -1.641    &       -1.438     \\\\\n",
       "\\textbf{ma.L4}  &       1.2131  &        0.038     &    32.237  &         0.000        &        1.139    &        1.287     \\\\\n",
       "\\textbf{ma.L5}  &      -0.5511  &        0.027     &   -20.625  &         0.000        &       -0.603    &       -0.499     \\\\\n",
       "\\textbf{sigma2} &    8.667e+06  &     5.63e+04     &   153.899  &         0.000        &     8.56e+06    &     8.78e+06     \\\\\n",
       "\\bottomrule\n",
       "\\end{tabular}\n",
       "\\begin{tabular}{lclc}\n",
       "\\textbf{Ljung-Box (L1) (Q):}     & 0.19 & \\textbf{  Jarque-Bera (JB):  } & 5885419.96  \\\\\n",
       "\\textbf{Prob(Q):}                & 0.66 & \\textbf{  Prob(JB):          } &    0.00     \\\\\n",
       "\\textbf{Heteroskedasticity (H):} & 2.95 & \\textbf{  Skew:              } &   12.36     \\\\\n",
       "\\textbf{Prob(H) (two-sided):}    & 0.00 & \\textbf{  Kurtosis:          } &   320.93    \\\\\n",
       "\\bottomrule\n",
       "\\end{tabular}\n",
       "%\\caption{SARIMAX Results}\n",
       "\\end{center}\n",
       "\n",
       "Warnings: \\newline\n",
       " [1] Covariance matrix calculated using the outer product of gradients (complex-step)."
      ],
      "text/plain": [
       "<class 'statsmodels.iolib.summary.Summary'>\n",
       "\"\"\"\n",
       "                               SARIMAX Results                                \n",
       "==============================================================================\n",
       "Dep. Variable:             New_deaths   No. Observations:                 1390\n",
       "Model:                 ARIMA(5, 1, 5)   Log Likelihood              -12776.633\n",
       "Date:                Sat, 09 Dec 2023   AIC                          25575.265\n",
       "Time:                        14:04:09   BIC                          25632.865\n",
       "Sample:                             0   HQIC                         25596.806\n",
       "                               - 1390                                         \n",
       "Covariance Type:                  opg                                         \n",
       "==============================================================================\n",
       "                 coef    std err          z      P>|z|      [0.025      0.975]\n",
       "------------------------------------------------------------------------------\n",
       "ar.L1          0.3187      0.035      9.147      0.000       0.250       0.387\n",
       "ar.L2         -1.0611      0.032    -33.214      0.000      -1.124      -0.998\n",
       "ar.L3          0.1357      0.042      3.228      0.001       0.053       0.218\n",
       "ar.L4         -0.6045      0.030    -19.830      0.000      -0.664      -0.545\n",
       "ar.L5         -0.4407      0.027    -16.414      0.000      -0.493      -0.388\n",
       "ma.L1         -1.3775      0.036    -37.798      0.000      -1.449      -1.306\n",
       "ma.L2          1.6981      0.052     32.665      0.000       1.596       1.800\n",
       "ma.L3         -1.5397      0.052    -29.752      0.000      -1.641      -1.438\n",
       "ma.L4          1.2131      0.038     32.237      0.000       1.139       1.287\n",
       "ma.L5         -0.5511      0.027    -20.625      0.000      -0.603      -0.499\n",
       "sigma2      8.667e+06   5.63e+04    153.899      0.000    8.56e+06    8.78e+06\n",
       "===================================================================================\n",
       "Ljung-Box (L1) (Q):                   0.19   Jarque-Bera (JB):           5885419.96\n",
       "Prob(Q):                              0.66   Prob(JB):                         0.00\n",
       "Heteroskedasticity (H):               2.95   Skew:                            12.36\n",
       "Prob(H) (two-sided):                  0.00   Kurtosis:                       320.93\n",
       "===================================================================================\n",
       "\n",
       "Warnings:\n",
       "[1] Covariance matrix calculated using the outer product of gradients (complex-step).\n",
       "\"\"\""
      ]
     },
     "execution_count": 26,
     "metadata": {},
     "output_type": "execute_result"
    }
   ],
   "source": [
    "model = ARIMA(train[target_column], order=best_order)\n",
    "model = model.fit()\n",
    "model.summary()"
   ]
  },
  {
   "cell_type": "markdown",
   "metadata": {},
   "source": [
    "Plot the result"
   ]
  },
  {
   "cell_type": "code",
   "execution_count": 27,
   "metadata": {},
   "outputs": [
    {
     "name": "stderr",
     "output_type": "stream",
     "text": [
      "/home/samuell/.local/lib/python3.10/site-packages/statsmodels/tsa/statespace/representation.py:374: FutureWarning: Unknown keyword arguments: dict_keys(['typ']).Passing unknown keyword arguments will raise a TypeError beginning in version 0.15.\n",
      "  warnings.warn(msg, FutureWarning)\n"
     ]
    },
    {
     "data": {
      "text/plain": [
       "<Axes: >"
      ]
     },
     "execution_count": 27,
     "metadata": {},
     "output_type": "execute_result"
    },
    {
     "data": {
      "image/png": "[encoded data removed]",
      "text/plain": [
       "<Figure size 640x480 with 1 Axes>"
      ]
     },
     "metadata": {},
     "output_type": "display_data"
    }
   ],
   "source": [
    "start = len(train)\n",
    "end = len(train) + len(test) - 1\n",
    "pred = model.predict(start=start, end=end, typ=\"levels\").rename(\"ARIMA Predictions\")\n",
    "pred.plot(legend=True)\n",
    "test[target_column].plot(legend=True)"
   ]
  },
  {
   "cell_type": "markdown",
   "metadata": {},
   "source": [
    "RMSE of the result"
   ]
  },
  {
   "cell_type": "code",
   "execution_count": 28,
   "metadata": {},
   "outputs": [
    {
     "name": "stdout",
     "output_type": "stream",
     "text": [
      "Evaluation Metrics:\n",
      "MSE: 126103.94\n",
      "RMSE: 355.11\n",
      "MAE: 311.35\n",
      "MAPE: inf\n",
      "SMAPE: 130.06\n"
     ]
    }
   ],
   "source": [
    "print_evaluation_metrics(pred, test[target_column])"
   ]
  }
 ],
 "metadata": {
  "kernelspec": {
   "display_name": "Python 3",
   "language": "python",
   "name": "python3"
  },
  "language_info": {
   "codemirror_mode": {
    "name": "ipython",
    "version": 3
   },
   "file_extension": ".py",
   "mimetype": "text/x-python",
   "name": "python",
   "nbconvert_exporter": "python",
   "pygments_lexer": "ipython3",
   "version": "3.10.12"
  },
  "orig_nbformat": 4
 },
 "nbformat": 4,
 "nbformat_minor": 2
}
