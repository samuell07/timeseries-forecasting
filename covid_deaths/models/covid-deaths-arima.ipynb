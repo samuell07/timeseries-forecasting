{
 "cells": [
  {
   "cell_type": "markdown",
   "metadata": {},
   "source": [
    "Import libraries"
   ]
  },
  {
   "cell_type": "code",
   "execution_count": 1,
   "metadata": {},
   "outputs": [],
   "source": [
    "import pandas as pd\n",
    "from statsmodels.tsa.arima.model import ARIMA\n",
    "from pmdarima import auto_arima\n",
    "from metrics import print_evaluation_metrics"
   ]
  },
  {
   "cell_type": "markdown",
   "metadata": {},
   "source": [
    "Load dataset and prepare df"
   ]
  },
  {
   "cell_type": "code",
   "execution_count": 2,
   "metadata": {},
   "outputs": [],
   "source": [
    "file_path = \"../data/WHO-COVID-19-global-data.csv\"\n",
    "date_column = \"Date_reported\"\n",
    "target_column = \"New_deaths\"\n",
    "df = pd.read_csv(file_path, parse_dates=True)\n",
    "df = df[[date_column, target_column]]\n",
    "\n",
    "df.set_index(date_column, inplace=True)\n",
    "df = df.groupby(date_column).sum().reset_index()\n",
    "\n",
    "df = df.dropna()"
   ]
  },
  {
   "cell_type": "markdown",
   "metadata": {},
   "source": [
    "Train test split"
   ]
  },
  {
   "cell_type": "code",
   "execution_count": 3,
   "metadata": {},
   "outputs": [],
   "source": [
    "train = df.iloc[:-30]\n",
    "test = df.iloc[-30:]"
   ]
  },
  {
   "cell_type": "markdown",
   "metadata": {},
   "source": [
    "Parameter tuning for order"
   ]
  },
  {
   "cell_type": "code",
   "execution_count": 4,
   "metadata": {},
   "outputs": [
    {
     "name": "stdout",
     "output_type": "stream",
     "text": [
      "Performing stepwise search to minimize aic\n",
      " ARIMA(2,1,2)(0,0,0)[0] intercept   : AIC=26516.485, Time=2.15 sec\n",
      " ARIMA(0,1,0)(0,0,0)[0] intercept   : AIC=27445.059, Time=0.08 sec\n",
      " ARIMA(1,1,0)(0,0,0)[0] intercept   : AIC=27050.750, Time=0.14 sec\n",
      " ARIMA(0,1,1)(0,0,0)[0] intercept   : AIC=26546.061, Time=0.84 sec\n",
      " ARIMA(0,1,0)(0,0,0)[0]             : AIC=27443.060, Time=0.08 sec\n",
      " ARIMA(1,1,2)(0,0,0)[0] intercept   : AIC=26499.368, Time=3.67 sec\n",
      " ARIMA(0,1,2)(0,0,0)[0] intercept   : AIC=26552.169, Time=0.45 sec\n",
      " ARIMA(1,1,1)(0,0,0)[0] intercept   : AIC=26544.146, Time=1.03 sec\n",
      " ARIMA(1,1,3)(0,0,0)[0] intercept   : AIC=26515.155, Time=3.16 sec\n",
      " ARIMA(0,1,3)(0,0,0)[0] intercept   : AIC=26526.259, Time=1.51 sec\n",
      " ARIMA(2,1,1)(0,0,0)[0] intercept   : AIC=26564.158, Time=0.62 sec\n",
      " ARIMA(2,1,3)(0,0,0)[0] intercept   : AIC=26398.837, Time=4.59 sec\n",
      " ARIMA(3,1,3)(0,0,0)[0] intercept   : AIC=26394.258, Time=4.85 sec\n",
      " ARIMA(3,1,2)(0,0,0)[0] intercept   : AIC=26471.171, Time=2.92 sec\n",
      " ARIMA(4,1,3)(0,0,0)[0] intercept   : AIC=26375.631, Time=4.93 sec\n",
      " ARIMA(4,1,2)(0,0,0)[0] intercept   : AIC=26460.978, Time=3.89 sec\n",
      " ARIMA(5,1,3)(0,0,0)[0] intercept   : AIC=26305.261, Time=4.65 sec\n",
      " ARIMA(5,1,2)(0,0,0)[0] intercept   : AIC=26306.569, Time=3.46 sec\n",
      " ARIMA(5,1,4)(0,0,0)[0] intercept   : AIC=26287.151, Time=5.18 sec\n",
      " ARIMA(4,1,4)(0,0,0)[0] intercept   : AIC=26384.150, Time=5.15 sec\n",
      " ARIMA(5,1,5)(0,0,0)[0] intercept   : AIC=26107.080, Time=5.84 sec\n",
      " ARIMA(4,1,5)(0,0,0)[0] intercept   : AIC=26305.479, Time=5.30 sec\n",
      " ARIMA(5,1,5)(0,0,0)[0]             : AIC=26105.097, Time=5.17 sec\n",
      " ARIMA(4,1,5)(0,0,0)[0]             : AIC=26303.436, Time=5.89 sec\n",
      " ARIMA(5,1,4)(0,0,0)[0]             : AIC=26285.435, Time=4.95 sec\n",
      " ARIMA(4,1,4)(0,0,0)[0]             : AIC=26381.110, Time=4.59 sec\n",
      "\n",
      "Best model:  ARIMA(5,1,5)(0,0,0)[0]          \n",
      "Total fit time: 85.131 seconds\n"
     ]
    }
   ],
   "source": [
    "stepwise_fit = auto_arima(df[target_column], trace=True, suppress_warnings=True)\n",
    "best_order = stepwise_fit.order"
   ]
  },
  {
   "cell_type": "markdown",
   "metadata": {},
   "source": [
    "Create Model"
   ]
  },
  {
   "cell_type": "code",
   "execution_count": 5,
   "metadata": {},
   "outputs": [
    {
     "name": "stderr",
     "output_type": "stream",
     "text": [
      "/home/samuell/.local/lib/python3.10/site-packages/statsmodels/base/model.py:607: ConvergenceWarning: Maximum Likelihood optimization failed to converge. Check mle_retvals\n",
      "  warnings.warn(\"Maximum Likelihood optimization failed to \"\n"
     ]
    },
    {
     "data": {
      "text/html": [
       "<table class=\"simpletable\">\n",
       "<caption>SARIMAX Results</caption>\n",
       "<tr>\n",
       "  <th>Dep. Variable:</th>      <td>New_deaths</td>    <th>  No. Observations:  </th>    <td>1390</td>   \n",
       "</tr>\n",
       "<tr>\n",
       "  <th>Model:</th>            <td>ARIMA(5, 1, 5)</td>  <th>  Log Likelihood     </th> <td>-12780.726</td>\n",
       "</tr>\n",
       "<tr>\n",
       "  <th>Date:</th>            <td>Sun, 26 Nov 2023</td> <th>  AIC                </th>  <td>25583.453</td>\n",
       "</tr>\n",
       "<tr>\n",
       "  <th>Time:</th>                <td>15:17:53</td>     <th>  BIC                </th>  <td>25641.052</td>\n",
       "</tr>\n",
       "<tr>\n",
       "  <th>Sample:</th>                  <td>0</td>        <th>  HQIC               </th>  <td>25604.993</td>\n",
       "</tr>\n",
       "<tr>\n",
       "  <th></th>                      <td> - 1390</td>     <th>                     </th>      <td> </td>    \n",
       "</tr>\n",
       "<tr>\n",
       "  <th>Covariance Type:</th>        <td>opg</td>       <th>                     </th>      <td> </td>    \n",
       "</tr>\n",
       "</table>\n",
       "<table class=\"simpletable\">\n",
       "<tr>\n",
       "     <td></td>       <th>coef</th>     <th>std err</th>      <th>z</th>      <th>P>|z|</th>  <th>[0.025</th>    <th>0.975]</th>  \n",
       "</tr>\n",
       "<tr>\n",
       "  <th>ar.L1</th>  <td>    0.3263</td> <td>    0.035</td> <td>    9.290</td> <td> 0.000</td> <td>    0.257</td> <td>    0.395</td>\n",
       "</tr>\n",
       "<tr>\n",
       "  <th>ar.L2</th>  <td>   -1.0673</td> <td>    0.033</td> <td>  -32.819</td> <td> 0.000</td> <td>   -1.131</td> <td>   -1.004</td>\n",
       "</tr>\n",
       "<tr>\n",
       "  <th>ar.L3</th>  <td>    0.1453</td> <td>    0.043</td> <td>    3.376</td> <td> 0.001</td> <td>    0.061</td> <td>    0.230</td>\n",
       "</tr>\n",
       "<tr>\n",
       "  <th>ar.L4</th>  <td>   -0.6107</td> <td>    0.031</td> <td>  -19.829</td> <td> 0.000</td> <td>   -0.671</td> <td>   -0.550</td>\n",
       "</tr>\n",
       "<tr>\n",
       "  <th>ar.L5</th>  <td>   -0.4333</td> <td>    0.028</td> <td>  -15.699</td> <td> 0.000</td> <td>   -0.487</td> <td>   -0.379</td>\n",
       "</tr>\n",
       "<tr>\n",
       "  <th>ma.L1</th>  <td>   -1.3843</td> <td>    0.036</td> <td>  -38.041</td> <td> 0.000</td> <td>   -1.456</td> <td>   -1.313</td>\n",
       "</tr>\n",
       "<tr>\n",
       "  <th>ma.L2</th>  <td>    1.7049</td> <td>    0.052</td> <td>   32.979</td> <td> 0.000</td> <td>    1.604</td> <td>    1.806</td>\n",
       "</tr>\n",
       "<tr>\n",
       "  <th>ma.L3</th>  <td>   -1.5462</td> <td>    0.052</td> <td>  -29.833</td> <td> 0.000</td> <td>   -1.648</td> <td>   -1.445</td>\n",
       "</tr>\n",
       "<tr>\n",
       "  <th>ma.L4</th>  <td>    1.2192</td> <td>    0.037</td> <td>   32.817</td> <td> 0.000</td> <td>    1.146</td> <td>    1.292</td>\n",
       "</tr>\n",
       "<tr>\n",
       "  <th>ma.L5</th>  <td>   -0.5593</td> <td>    0.027</td> <td>  -21.070</td> <td> 0.000</td> <td>   -0.611</td> <td>   -0.507</td>\n",
       "</tr>\n",
       "<tr>\n",
       "  <th>sigma2</th> <td> 8.705e+06</td> <td> 5.66e+04</td> <td>  153.706</td> <td> 0.000</td> <td> 8.59e+06</td> <td> 8.82e+06</td>\n",
       "</tr>\n",
       "</table>\n",
       "<table class=\"simpletable\">\n",
       "<tr>\n",
       "  <th>Ljung-Box (L1) (Q):</th>     <td>0.19</td> <th>  Jarque-Bera (JB):  </th> <td>5847652.27</td>\n",
       "</tr>\n",
       "<tr>\n",
       "  <th>Prob(Q):</th>                <td>0.66</td> <th>  Prob(JB):          </th>    <td>0.00</td>   \n",
       "</tr>\n",
       "<tr>\n",
       "  <th>Heteroskedasticity (H):</th> <td>2.95</td> <th>  Skew:              </th>    <td>12.36</td>  \n",
       "</tr>\n",
       "<tr>\n",
       "  <th>Prob(H) (two-sided):</th>    <td>0.00</td> <th>  Kurtosis:          </th>   <td>319.90</td>  \n",
       "</tr>\n",
       "</table><br/><br/>Warnings:<br/>[1] Covariance matrix calculated using the outer product of gradients (complex-step)."
      ],
      "text/latex": [
       "\\begin{center}\n",
       "\\begin{tabular}{lclc}\n",
       "\\toprule\n",
       "\\textbf{Dep. Variable:}          &   New\\_deaths    & \\textbf{  No. Observations:  } &    1390     \\\\\n",
       "\\textbf{Model:}                  &  ARIMA(5, 1, 5)  & \\textbf{  Log Likelihood     } & -12780.726  \\\\\n",
       "\\textbf{Date:}                   & Sun, 26 Nov 2023 & \\textbf{  AIC                } & 25583.453   \\\\\n",
       "\\textbf{Time:}                   &     15:17:53     & \\textbf{  BIC                } & 25641.052   \\\\\n",
       "\\textbf{Sample:}                 &        0         & \\textbf{  HQIC               } & 25604.993   \\\\\n",
       "\\textbf{}                        &      - 1390      & \\textbf{                     } &             \\\\\n",
       "\\textbf{Covariance Type:}        &       opg        & \\textbf{                     } &             \\\\\n",
       "\\bottomrule\n",
       "\\end{tabular}\n",
       "\\begin{tabular}{lcccccc}\n",
       "                & \\textbf{coef} & \\textbf{std err} & \\textbf{z} & \\textbf{P$> |$z$|$} & \\textbf{[0.025} & \\textbf{0.975]}  \\\\\n",
       "\\midrule\n",
       "\\textbf{ar.L1}  &       0.3263  &        0.035     &     9.290  &         0.000        &        0.257    &        0.395     \\\\\n",
       "\\textbf{ar.L2}  &      -1.0673  &        0.033     &   -32.819  &         0.000        &       -1.131    &       -1.004     \\\\\n",
       "\\textbf{ar.L3}  &       0.1453  &        0.043     &     3.376  &         0.001        &        0.061    &        0.230     \\\\\n",
       "\\textbf{ar.L4}  &      -0.6107  &        0.031     &   -19.829  &         0.000        &       -0.671    &       -0.550     \\\\\n",
       "\\textbf{ar.L5}  &      -0.4333  &        0.028     &   -15.699  &         0.000        &       -0.487    &       -0.379     \\\\\n",
       "\\textbf{ma.L1}  &      -1.3843  &        0.036     &   -38.041  &         0.000        &       -1.456    &       -1.313     \\\\\n",
       "\\textbf{ma.L2}  &       1.7049  &        0.052     &    32.979  &         0.000        &        1.604    &        1.806     \\\\\n",
       "\\textbf{ma.L3}  &      -1.5462  &        0.052     &   -29.833  &         0.000        &       -1.648    &       -1.445     \\\\\n",
       "\\textbf{ma.L4}  &       1.2192  &        0.037     &    32.817  &         0.000        &        1.146    &        1.292     \\\\\n",
       "\\textbf{ma.L5}  &      -0.5593  &        0.027     &   -21.070  &         0.000        &       -0.611    &       -0.507     \\\\\n",
       "\\textbf{sigma2} &    8.705e+06  &     5.66e+04     &   153.706  &         0.000        &     8.59e+06    &     8.82e+06     \\\\\n",
       "\\bottomrule\n",
       "\\end{tabular}\n",
       "\\begin{tabular}{lclc}\n",
       "\\textbf{Ljung-Box (L1) (Q):}     & 0.19 & \\textbf{  Jarque-Bera (JB):  } & 5847652.27  \\\\\n",
       "\\textbf{Prob(Q):}                & 0.66 & \\textbf{  Prob(JB):          } &    0.00     \\\\\n",
       "\\textbf{Heteroskedasticity (H):} & 2.95 & \\textbf{  Skew:              } &   12.36     \\\\\n",
       "\\textbf{Prob(H) (two-sided):}    & 0.00 & \\textbf{  Kurtosis:          } &   319.90    \\\\\n",
       "\\bottomrule\n",
       "\\end{tabular}\n",
       "%\\caption{SARIMAX Results}\n",
       "\\end{center}\n",
       "\n",
       "Warnings: \\newline\n",
       " [1] Covariance matrix calculated using the outer product of gradients (complex-step)."
      ],
      "text/plain": [
       "<class 'statsmodels.iolib.summary.Summary'>\n",
       "\"\"\"\n",
       "                               SARIMAX Results                                \n",
       "==============================================================================\n",
       "Dep. Variable:             New_deaths   No. Observations:                 1390\n",
       "Model:                 ARIMA(5, 1, 5)   Log Likelihood              -12780.726\n",
       "Date:                Sun, 26 Nov 2023   AIC                          25583.453\n",
       "Time:                        15:17:53   BIC                          25641.052\n",
       "Sample:                             0   HQIC                         25604.993\n",
       "                               - 1390                                         \n",
       "Covariance Type:                  opg                                         \n",
       "==============================================================================\n",
       "                 coef    std err          z      P>|z|      [0.025      0.975]\n",
       "------------------------------------------------------------------------------\n",
       "ar.L1          0.3263      0.035      9.290      0.000       0.257       0.395\n",
       "ar.L2         -1.0673      0.033    -32.819      0.000      -1.131      -1.004\n",
       "ar.L3          0.1453      0.043      3.376      0.001       0.061       0.230\n",
       "ar.L4         -0.6107      0.031    -19.829      0.000      -0.671      -0.550\n",
       "ar.L5         -0.4333      0.028    -15.699      0.000      -0.487      -0.379\n",
       "ma.L1         -1.3843      0.036    -38.041      0.000      -1.456      -1.313\n",
       "ma.L2          1.7049      0.052     32.979      0.000       1.604       1.806\n",
       "ma.L3         -1.5462      0.052    -29.833      0.000      -1.648      -1.445\n",
       "ma.L4          1.2192      0.037     32.817      0.000       1.146       1.292\n",
       "ma.L5         -0.5593      0.027    -21.070      0.000      -0.611      -0.507\n",
       "sigma2      8.705e+06   5.66e+04    153.706      0.000    8.59e+06    8.82e+06\n",
       "===================================================================================\n",
       "Ljung-Box (L1) (Q):                   0.19   Jarque-Bera (JB):           5847652.27\n",
       "Prob(Q):                              0.66   Prob(JB):                         0.00\n",
       "Heteroskedasticity (H):               2.95   Skew:                            12.36\n",
       "Prob(H) (two-sided):                  0.00   Kurtosis:                       319.90\n",
       "===================================================================================\n",
       "\n",
       "Warnings:\n",
       "[1] Covariance matrix calculated using the outer product of gradients (complex-step).\n",
       "\"\"\""
      ]
     },
     "execution_count": 5,
     "metadata": {},
     "output_type": "execute_result"
    }
   ],
   "source": [
    "model = ARIMA(train[target_column], order=best_order)\n",
    "model = model.fit()\n",
    "model.summary()"
   ]
  },
  {
   "cell_type": "markdown",
   "metadata": {},
   "source": [
    "Plot the result"
   ]
  },
  {
   "cell_type": "code",
   "execution_count": 6,
   "metadata": {},
   "outputs": [
    {
     "name": "stderr",
     "output_type": "stream",
     "text": [
      "/home/samuell/.local/lib/python3.10/site-packages/statsmodels/tsa/statespace/representation.py:374: FutureWarning: Unknown keyword arguments: dict_keys(['typ']).Passing unknown keyword arguments will raise a TypeError beginning in version 0.15.\n",
      "  warnings.warn(msg, FutureWarning)\n"
     ]
    },
    {
     "data": {
      "text/plain": [
       "<Axes: >"
      ]
     },
     "execution_count": 6,
     "metadata": {},
     "output_type": "execute_result"
    },
    {
     "data": {
      "image/png": "[encoded data removed]",
      "text/plain": [
       "<Figure size 640x480 with 1 Axes>"
      ]
     },
     "metadata": {},
     "output_type": "display_data"
    }
   ],
   "source": [
    "start = len(train)\n",
    "end = len(train) + len(test) - 1\n",
    "pred = model.predict(start=start, end=end, typ=\"levels\").rename(\"ARIMA Predictions\")\n",
    "pred.plot(legend=True)\n",
    "test[target_column].plot(legend=True)"
   ]
  },
  {
   "cell_type": "markdown",
   "metadata": {},
   "source": [
    "RMSE of the result"
   ]
  },
  {
   "cell_type": "code",
   "execution_count": 7,
   "metadata": {},
   "outputs": [
    {
     "name": "stdout",
     "output_type": "stream",
     "text": [
      "Evaluation Metrics:\n",
      "MSE: 124271.75\n",
      "RMSE: 352.52\n",
      "MAE: 309.57\n",
      "MAPE: inf\n",
      "SMAPE: 129.74\n"
     ]
    }
   ],
   "source": [
    "print_evaluation_metrics(pred, test[target_column])"
   ]
  }
 ],
 "metadata": {
  "kernelspec": {
   "display_name": "Python 3",
   "language": "python",
   "name": "python3"
  },
  "language_info": {
   "codemirror_mode": {
    "name": "ipython",
    "version": 3
   },
   "file_extension": ".py",
   "mimetype": "text/x-python",
   "name": "python",
   "nbconvert_exporter": "python",
   "pygments_lexer": "ipython3",
   "version": "3.10.12"
  },
  "orig_nbformat": 4
 },
 "nbformat": 4,
 "nbformat_minor": 2
}
