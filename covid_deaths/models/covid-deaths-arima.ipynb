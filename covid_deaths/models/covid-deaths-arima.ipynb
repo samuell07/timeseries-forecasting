{
 "cells": [
  {
   "cell_type": "markdown",
   "metadata": {},
   "source": [
    "Import libraries"
   ]
  },
  {
   "cell_type": "code",
   "execution_count": 1,
   "metadata": {},
   "outputs": [],
   "source": [
    "import pandas as pd\n",
    "from statsmodels.tsa.arima.model import ARIMA\n",
    "from pmdarima import auto_arima\n",
    "from metrics import print_evaluation_metrics"
   ]
  },
  {
   "cell_type": "markdown",
   "metadata": {},
   "source": [
    "Load dataset and prepare df"
   ]
  },
  {
   "cell_type": "code",
   "execution_count": 2,
   "metadata": {},
   "outputs": [],
   "source": [
    "file_path = \"../data/parsed_dataset.csv\"\n",
    "date_column = \"Date_reported\"\n",
    "target_column = \"New_deaths\"\n",
    "df = pd.read_csv(file_path, parse_dates=True)\n",
    "df = df[[date_column, target_column]]\n",
    "\n",
    "df.set_index(date_column, inplace=True)\n",
    "df = df.groupby(date_column).sum().reset_index()\n",
    "\n",
    "df = df.dropna()"
   ]
  },
  {
   "cell_type": "markdown",
   "metadata": {},
   "source": [
    "Train test split"
   ]
  },
  {
   "cell_type": "code",
   "execution_count": 3,
   "metadata": {},
   "outputs": [],
   "source": [
    "train = df.iloc[:-30]\n",
    "test = df.iloc[-30:]"
   ]
  },
  {
   "cell_type": "markdown",
   "metadata": {},
   "source": [
    "Parameter tuning for order"
   ]
  },
  {
   "cell_type": "code",
   "execution_count": 4,
   "metadata": {},
   "outputs": [
    {
     "name": "stdout",
     "output_type": "stream",
     "text": [
      "Performing stepwise search to minimize aic\n",
      " ARIMA(2,1,2)(0,0,0)[0] intercept   : AIC=25842.497, Time=0.98 sec\n",
      " ARIMA(0,1,0)(0,0,0)[0] intercept   : AIC=26938.672, Time=0.03 sec\n",
      " ARIMA(1,1,0)(0,0,0)[0] intercept   : AIC=26577.770, Time=0.05 sec\n",
      " ARIMA(0,1,1)(0,0,0)[0] intercept   : AIC=26050.334, Time=0.28 sec\n",
      " ARIMA(0,1,0)(0,0,0)[0]             : AIC=26936.672, Time=0.02 sec\n",
      " ARIMA(1,1,2)(0,0,0)[0] intercept   : AIC=25888.229, Time=0.96 sec\n",
      " ARIMA(2,1,1)(0,0,0)[0] intercept   : AIC=26029.229, Time=0.37 sec\n",
      " ARIMA(3,1,2)(0,0,0)[0] intercept   : AIC=25790.349, Time=0.96 sec\n",
      " ARIMA(3,1,1)(0,0,0)[0] intercept   : AIC=26039.943, Time=0.23 sec\n",
      " ARIMA(4,1,2)(0,0,0)[0] intercept   : AIC=25820.587, Time=1.33 sec\n",
      " ARIMA(3,1,3)(0,0,0)[0] intercept   : AIC=25703.637, Time=1.39 sec\n",
      " ARIMA(2,1,3)(0,0,0)[0] intercept   : AIC=25864.228, Time=0.95 sec\n",
      " ARIMA(4,1,3)(0,0,0)[0] intercept   : AIC=25781.779, Time=1.50 sec\n",
      " ARIMA(3,1,4)(0,0,0)[0] intercept   : AIC=25752.190, Time=1.56 sec\n",
      " ARIMA(2,1,4)(0,0,0)[0] intercept   : AIC=25612.271, Time=1.32 sec\n",
      " ARIMA(1,1,4)(0,0,0)[0] intercept   : AIC=25662.376, Time=1.04 sec\n",
      " ARIMA(2,1,5)(0,0,0)[0] intercept   : AIC=25665.635, Time=1.62 sec\n",
      " ARIMA(1,1,3)(0,0,0)[0] intercept   : AIC=25858.776, Time=0.78 sec\n",
      " ARIMA(1,1,5)(0,0,0)[0] intercept   : AIC=25681.170, Time=1.26 sec\n",
      " ARIMA(3,1,5)(0,0,0)[0] intercept   : AIC=25596.205, Time=1.77 sec\n",
      " ARIMA(4,1,5)(0,0,0)[0] intercept   : AIC=25575.636, Time=1.81 sec\n",
      " ARIMA(4,1,4)(0,0,0)[0] intercept   : AIC=25736.282, Time=1.57 sec\n",
      " ARIMA(5,1,5)(0,0,0)[0] intercept   : AIC=25287.343, Time=2.08 sec\n",
      " ARIMA(5,1,4)(0,0,0)[0] intercept   : AIC=25356.159, Time=1.59 sec\n",
      " ARIMA(5,1,5)(0,0,0)[0]             : AIC=25284.467, Time=1.76 sec\n",
      " ARIMA(4,1,5)(0,0,0)[0]             : AIC=25573.639, Time=1.37 sec\n",
      " ARIMA(5,1,4)(0,0,0)[0]             : AIC=25354.152, Time=1.45 sec\n",
      " ARIMA(4,1,4)(0,0,0)[0]             : AIC=25734.089, Time=1.38 sec\n",
      "\n",
      "Best model:  ARIMA(5,1,5)(0,0,0)[0]          \n",
      "Total fit time: 31.409 seconds\n"
     ]
    }
   ],
   "source": [
    "stepwise_fit = auto_arima(df[target_column], trace=True, suppress_warnings=True)\n",
    "best_order = stepwise_fit.order"
   ]
  },
  {
   "cell_type": "markdown",
   "metadata": {},
   "source": [
    "Create Model"
   ]
  },
  {
   "cell_type": "code",
   "execution_count": 5,
   "metadata": {},
   "outputs": [
    {
     "name": "stderr",
     "output_type": "stream",
     "text": [
      "/home/samuell/.local/lib/python3.10/site-packages/statsmodels/base/model.py:607: ConvergenceWarning: Maximum Likelihood optimization failed to converge. Check mle_retvals\n",
      "  warnings.warn(\"Maximum Likelihood optimization failed to \"\n"
     ]
    },
    {
     "data": {
      "text/html": [
       "<table class=\"simpletable\">\n",
       "<caption>SARIMAX Results</caption>\n",
       "<tr>\n",
       "  <th>Dep. Variable:</th>      <td>New_deaths</td>    <th>  No. Observations:  </th>    <td>1390</td>   \n",
       "</tr>\n",
       "<tr>\n",
       "  <th>Model:</th>            <td>ARIMA(5, 1, 5)</td>  <th>  Log Likelihood     </th> <td>-12379.334</td>\n",
       "</tr>\n",
       "<tr>\n",
       "  <th>Date:</th>            <td>Sun, 10 Dec 2023</td> <th>  AIC                </th>  <td>24780.668</td>\n",
       "</tr>\n",
       "<tr>\n",
       "  <th>Time:</th>                <td>10:41:23</td>     <th>  BIC                </th>  <td>24838.268</td>\n",
       "</tr>\n",
       "<tr>\n",
       "  <th>Sample:</th>                  <td>0</td>        <th>  HQIC               </th>  <td>24802.209</td>\n",
       "</tr>\n",
       "<tr>\n",
       "  <th></th>                      <td> - 1390</td>     <th>                     </th>      <td> </td>    \n",
       "</tr>\n",
       "<tr>\n",
       "  <th>Covariance Type:</th>        <td>opg</td>       <th>                     </th>      <td> </td>    \n",
       "</tr>\n",
       "</table>\n",
       "<table class=\"simpletable\">\n",
       "<tr>\n",
       "     <td></td>       <th>coef</th>     <th>std err</th>      <th>z</th>      <th>P>|z|</th>  <th>[0.025</th>    <th>0.975]</th>  \n",
       "</tr>\n",
       "<tr>\n",
       "  <th>ar.L1</th>  <td>    0.0770</td> <td>    0.063</td> <td>    1.215</td> <td> 0.225</td> <td>   -0.047</td> <td>    0.201</td>\n",
       "</tr>\n",
       "<tr>\n",
       "  <th>ar.L2</th>  <td>   -0.8695</td> <td>    0.057</td> <td>  -15.331</td> <td> 0.000</td> <td>   -0.981</td> <td>   -0.758</td>\n",
       "</tr>\n",
       "<tr>\n",
       "  <th>ar.L3</th>  <td>   -0.2248</td> <td>    0.089</td> <td>   -2.519</td> <td> 0.012</td> <td>   -0.400</td> <td>   -0.050</td>\n",
       "</tr>\n",
       "<tr>\n",
       "  <th>ar.L4</th>  <td>   -0.4126</td> <td>    0.054</td> <td>   -7.597</td> <td> 0.000</td> <td>   -0.519</td> <td>   -0.306</td>\n",
       "</tr>\n",
       "<tr>\n",
       "  <th>ar.L5</th>  <td>   -0.6904</td> <td>    0.059</td> <td>  -11.723</td> <td> 0.000</td> <td>   -0.806</td> <td>   -0.575</td>\n",
       "</tr>\n",
       "<tr>\n",
       "  <th>ma.L1</th>  <td>   -1.2558</td> <td>    0.081</td> <td>  -15.526</td> <td> 0.000</td> <td>   -1.414</td> <td>   -1.097</td>\n",
       "</tr>\n",
       "<tr>\n",
       "  <th>ma.L2</th>  <td>    1.5585</td> <td>    0.119</td> <td>   13.053</td> <td> 0.000</td> <td>    1.324</td> <td>    1.793</td>\n",
       "</tr>\n",
       "<tr>\n",
       "  <th>ma.L3</th>  <td>   -1.2913</td> <td>    0.127</td> <td>  -10.158</td> <td> 0.000</td> <td>   -1.540</td> <td>   -1.042</td>\n",
       "</tr>\n",
       "<tr>\n",
       "  <th>ma.L4</th>  <td>    0.9960</td> <td>    0.082</td> <td>   12.144</td> <td> 0.000</td> <td>    0.835</td> <td>    1.157</td>\n",
       "</tr>\n",
       "<tr>\n",
       "  <th>ma.L5</th>  <td>   -0.4067</td> <td>    0.068</td> <td>   -6.018</td> <td> 0.000</td> <td>   -0.539</td> <td>   -0.274</td>\n",
       "</tr>\n",
       "<tr>\n",
       "  <th>sigma2</th> <td> 6.409e+06</td> <td>  4.9e-08</td> <td> 1.31e+14</td> <td> 0.000</td> <td> 6.41e+06</td> <td> 6.41e+06</td>\n",
       "</tr>\n",
       "</table>\n",
       "<table class=\"simpletable\">\n",
       "<tr>\n",
       "  <th>Ljung-Box (L1) (Q):</th>     <td>7.08</td> <th>  Jarque-Bera (JB):  </th> <td>22600.46</td>\n",
       "</tr>\n",
       "<tr>\n",
       "  <th>Prob(Q):</th>                <td>0.01</td> <th>  Prob(JB):          </th>   <td>0.00</td>  \n",
       "</tr>\n",
       "<tr>\n",
       "  <th>Heteroskedasticity (H):</th> <td>0.46</td> <th>  Skew:              </th>   <td>2.33</td>  \n",
       "</tr>\n",
       "<tr>\n",
       "  <th>Prob(H) (two-sided):</th>    <td>0.00</td> <th>  Kurtosis:          </th>   <td>22.20</td> \n",
       "</tr>\n",
       "</table><br/><br/>Warnings:<br/>[1] Covariance matrix calculated using the outer product of gradients (complex-step).<br/>[2] Covariance matrix is singular or near-singular, with condition number 4.57e+29. Standard errors may be unstable."
      ],
      "text/latex": [
       "\\begin{center}\n",
       "\\begin{tabular}{lclc}\n",
       "\\toprule\n",
       "\\textbf{Dep. Variable:}          &   New\\_deaths    & \\textbf{  No. Observations:  } &    1390     \\\\\n",
       "\\textbf{Model:}                  &  ARIMA(5, 1, 5)  & \\textbf{  Log Likelihood     } & -12379.334  \\\\\n",
       "\\textbf{Date:}                   & Sun, 10 Dec 2023 & \\textbf{  AIC                } & 24780.668   \\\\\n",
       "\\textbf{Time:}                   &     10:41:23     & \\textbf{  BIC                } & 24838.268   \\\\\n",
       "\\textbf{Sample:}                 &        0         & \\textbf{  HQIC               } & 24802.209   \\\\\n",
       "\\textbf{}                        &      - 1390      & \\textbf{                     } &             \\\\\n",
       "\\textbf{Covariance Type:}        &       opg        & \\textbf{                     } &             \\\\\n",
       "\\bottomrule\n",
       "\\end{tabular}\n",
       "\\begin{tabular}{lcccccc}\n",
       "                & \\textbf{coef} & \\textbf{std err} & \\textbf{z} & \\textbf{P$> |$z$|$} & \\textbf{[0.025} & \\textbf{0.975]}  \\\\\n",
       "\\midrule\n",
       "\\textbf{ar.L1}  &       0.0770  &        0.063     &     1.215  &         0.225        &       -0.047    &        0.201     \\\\\n",
       "\\textbf{ar.L2}  &      -0.8695  &        0.057     &   -15.331  &         0.000        &       -0.981    &       -0.758     \\\\\n",
       "\\textbf{ar.L3}  &      -0.2248  &        0.089     &    -2.519  &         0.012        &       -0.400    &       -0.050     \\\\\n",
       "\\textbf{ar.L4}  &      -0.4126  &        0.054     &    -7.597  &         0.000        &       -0.519    &       -0.306     \\\\\n",
       "\\textbf{ar.L5}  &      -0.6904  &        0.059     &   -11.723  &         0.000        &       -0.806    &       -0.575     \\\\\n",
       "\\textbf{ma.L1}  &      -1.2558  &        0.081     &   -15.526  &         0.000        &       -1.414    &       -1.097     \\\\\n",
       "\\textbf{ma.L2}  &       1.5585  &        0.119     &    13.053  &         0.000        &        1.324    &        1.793     \\\\\n",
       "\\textbf{ma.L3}  &      -1.2913  &        0.127     &   -10.158  &         0.000        &       -1.540    &       -1.042     \\\\\n",
       "\\textbf{ma.L4}  &       0.9960  &        0.082     &    12.144  &         0.000        &        0.835    &        1.157     \\\\\n",
       "\\textbf{ma.L5}  &      -0.4067  &        0.068     &    -6.018  &         0.000        &       -0.539    &       -0.274     \\\\\n",
       "\\textbf{sigma2} &    6.409e+06  &      4.9e-08     &  1.31e+14  &         0.000        &     6.41e+06    &     6.41e+06     \\\\\n",
       "\\bottomrule\n",
       "\\end{tabular}\n",
       "\\begin{tabular}{lclc}\n",
       "\\textbf{Ljung-Box (L1) (Q):}     & 7.08 & \\textbf{  Jarque-Bera (JB):  } & 22600.46  \\\\\n",
       "\\textbf{Prob(Q):}                & 0.01 & \\textbf{  Prob(JB):          } &   0.00    \\\\\n",
       "\\textbf{Heteroskedasticity (H):} & 0.46 & \\textbf{  Skew:              } &   2.33    \\\\\n",
       "\\textbf{Prob(H) (two-sided):}    & 0.00 & \\textbf{  Kurtosis:          } &  22.20    \\\\\n",
       "\\bottomrule\n",
       "\\end{tabular}\n",
       "%\\caption{SARIMAX Results}\n",
       "\\end{center}\n",
       "\n",
       "Warnings: \\newline\n",
       " [1] Covariance matrix calculated using the outer product of gradients (complex-step). \\newline\n",
       " [2] Covariance matrix is singular or near-singular, with condition number 4.57e+29. Standard errors may be unstable."
      ],
      "text/plain": [
       "<class 'statsmodels.iolib.summary.Summary'>\n",
       "\"\"\"\n",
       "                               SARIMAX Results                                \n",
       "==============================================================================\n",
       "Dep. Variable:             New_deaths   No. Observations:                 1390\n",
       "Model:                 ARIMA(5, 1, 5)   Log Likelihood              -12379.334\n",
       "Date:                Sun, 10 Dec 2023   AIC                          24780.668\n",
       "Time:                        10:41:23   BIC                          24838.268\n",
       "Sample:                             0   HQIC                         24802.209\n",
       "                               - 1390                                         \n",
       "Covariance Type:                  opg                                         \n",
       "==============================================================================\n",
       "                 coef    std err          z      P>|z|      [0.025      0.975]\n",
       "------------------------------------------------------------------------------\n",
       "ar.L1          0.0770      0.063      1.215      0.225      -0.047       0.201\n",
       "ar.L2         -0.8695      0.057    -15.331      0.000      -0.981      -0.758\n",
       "ar.L3         -0.2248      0.089     -2.519      0.012      -0.400      -0.050\n",
       "ar.L4         -0.4126      0.054     -7.597      0.000      -0.519      -0.306\n",
       "ar.L5         -0.6904      0.059    -11.723      0.000      -0.806      -0.575\n",
       "ma.L1         -1.2558      0.081    -15.526      0.000      -1.414      -1.097\n",
       "ma.L2          1.5585      0.119     13.053      0.000       1.324       1.793\n",
       "ma.L3         -1.2913      0.127    -10.158      0.000      -1.540      -1.042\n",
       "ma.L4          0.9960      0.082     12.144      0.000       0.835       1.157\n",
       "ma.L5         -0.4067      0.068     -6.018      0.000      -0.539      -0.274\n",
       "sigma2      6.409e+06    4.9e-08   1.31e+14      0.000    6.41e+06    6.41e+06\n",
       "===================================================================================\n",
       "Ljung-Box (L1) (Q):                   7.08   Jarque-Bera (JB):             22600.46\n",
       "Prob(Q):                              0.01   Prob(JB):                         0.00\n",
       "Heteroskedasticity (H):               0.46   Skew:                             2.33\n",
       "Prob(H) (two-sided):                  0.00   Kurtosis:                        22.20\n",
       "===================================================================================\n",
       "\n",
       "Warnings:\n",
       "[1] Covariance matrix calculated using the outer product of gradients (complex-step).\n",
       "[2] Covariance matrix is singular or near-singular, with condition number 4.57e+29. Standard errors may be unstable.\n",
       "\"\"\""
      ]
     },
     "execution_count": 5,
     "metadata": {},
     "output_type": "execute_result"
    }
   ],
   "source": [
    "model = ARIMA(train[target_column], order=best_order)\n",
    "model = model.fit()\n",
    "model.summary()"
   ]
  },
  {
   "cell_type": "markdown",
   "metadata": {},
   "source": [
    "Plot the result"
   ]
  },
  {
   "cell_type": "code",
   "execution_count": 6,
   "metadata": {},
   "outputs": [
    {
     "name": "stderr",
     "output_type": "stream",
     "text": [
      "/home/samuell/.local/lib/python3.10/site-packages/statsmodels/tsa/statespace/representation.py:374: FutureWarning: Unknown keyword arguments: dict_keys(['typ']).Passing unknown keyword arguments will raise a TypeError beginning in version 0.15.\n",
      "  warnings.warn(msg, FutureWarning)\n"
     ]
    },
    {
     "data": {
      "text/plain": [
       "<Axes: >"
      ]
     },
     "execution_count": 6,
     "metadata": {},
     "output_type": "execute_result"
    },
    {
     "data": {
      "image/png": "[encoded data removed]",
      "text/plain": [
       "<Figure size 640x480 with 1 Axes>"
      ]
     },
     "metadata": {},
     "output_type": "display_data"
    }
   ],
   "source": [
    "start = len(train)\n",
    "end = len(train) + len(test) - 1\n",
    "pred = model.predict(start=start, end=end, typ=\"levels\").rename(\"ARIMA Predictions\")\n",
    "pred.plot(legend=True)\n",
    "test[target_column].plot(legend=True)"
   ]
  },
  {
   "cell_type": "markdown",
   "metadata": {},
   "source": [
    "RMSE of the result"
   ]
  },
  {
   "cell_type": "code",
   "execution_count": 7,
   "metadata": {},
   "outputs": [
    {
     "name": "stdout",
     "output_type": "stream",
     "text": [
      "Evaluation Metrics:\n",
      "MSE: 150407.55\n",
      "RMSE: 387.82\n",
      "MAE: 328.26\n",
      "MAPE: 112.04\n",
      "SMAPE: 63.72\n"
     ]
    }
   ],
   "source": [
    "print_evaluation_metrics(pred, test[target_column])"
   ]
  }
 ],
 "metadata": {
  "kernelspec": {
   "display_name": "Python 3",
   "language": "python",
   "name": "python3"
  },
  "language_info": {
   "codemirror_mode": {
    "name": "ipython",
    "version": 3
   },
   "file_extension": ".py",
   "mimetype": "text/x-python",
   "name": "python",
   "nbconvert_exporter": "python",
   "pygments_lexer": "ipython3",
   "version": "3.10.12"
  },
  "orig_nbformat": 4
 },
 "nbformat": 4,
 "nbformat_minor": 2
}
