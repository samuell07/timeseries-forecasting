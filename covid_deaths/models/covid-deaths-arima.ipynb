{
 "cells": [
  {
   "cell_type": "code",
   "execution_count": 2,
   "metadata": {},
   "outputs": [],
   "source": [
    "# Import necessary libraries\n",
    "import pandas as pd\n",
    "import matplotlib.pyplot as plt\n",
    "from statsmodels.graphics.tsaplots import plot_acf, plot_pacf\n"
   ]
  },
  {
   "cell_type": "code",
   "execution_count": 4,
   "metadata": {},
   "outputs": [],
   "source": [
    "# Load the dataset\n",
    "file_path = '../data/owid-covid-data.csv'\n",
    "data = pd.read_csv(file_path, parse_dates=True)\n",
    "data = data[['date', 'new_deaths']]\n",
    "\n",
    "data.set_index('date', inplace=True)\n",
    "data = data.groupby('date').sum().reset_index()\n",
    "\n"
   ]
  },
  {
   "cell_type": "code",
   "execution_count": 5,
   "metadata": {},
   "outputs": [
    {
     "name": "stdout",
     "output_type": "stream",
     "text": [
      "1. ADF :  -2.1640704026634534\n",
      "2. P-Value :  0.21954320991503407\n",
      "3. Num Of Lags :  17\n",
      "4. Num Of Observations Used For ADF Regression: 1348\n",
      "5. Critical Values :\n",
      "\t 1% :  -3.435210382964628\n",
      "\t 5% :  -2.8636864858936333\n",
      "\t 10% :  -2.5679127921571907\n"
     ]
    }
   ],
   "source": [
    "from statsmodels.tsa.stattools import adfuller\n",
    "data = data.dropna()\n",
    "def adf_test(dataset):\n",
    "     dftest = adfuller(dataset, autolag = 'AIC')\n",
    "     print(\"1. ADF : \",dftest[0])\n",
    "     print(\"2. P-Value : \", dftest[1])\n",
    "     print(\"3. Num Of Lags : \", dftest[2])\n",
    "     print(\"4. Num Of Observations Used For ADF Regression:\",      dftest[3])\n",
    "     print(\"5. Critical Values :\")\n",
    "     for key, val in dftest[4].items():\n",
    "         print(\"\\t\",key, \": \", val)\n",
    "adf_test(data['new_deaths'])"
   ]
  },
  {
   "cell_type": "code",
   "execution_count": 6,
   "metadata": {},
   "outputs": [
    {
     "name": "stdout",
     "output_type": "stream",
     "text": [
      "Performing stepwise search to minimize aic\n",
      " ARIMA(2,1,2)(0,0,0)[0] intercept   : AIC=29138.397, Time=0.82 sec\n",
      " ARIMA(0,1,0)(0,0,0)[0] intercept   : AIC=30173.460, Time=0.02 sec\n",
      " ARIMA(1,1,0)(0,0,0)[0] intercept   : AIC=29819.963, Time=0.02 sec\n",
      " ARIMA(0,1,1)(0,0,0)[0] intercept   : AIC=29311.010, Time=0.07 sec\n",
      " ARIMA(0,1,0)(0,0,0)[0]             : AIC=30171.461, Time=0.02 sec\n",
      " ARIMA(1,1,2)(0,0,0)[0] intercept   : AIC=29256.175, Time=0.89 sec\n",
      " ARIMA(2,1,1)(0,0,0)[0] intercept   : AIC=29286.441, Time=0.14 sec\n",
      " ARIMA(3,1,2)(0,0,0)[0] intercept   : AIC=29054.411, Time=1.04 sec\n",
      " ARIMA(3,1,1)(0,0,0)[0] intercept   : AIC=29265.228, Time=0.19 sec\n",
      " ARIMA(4,1,2)(0,0,0)[0] intercept   : AIC=inf, Time=1.21 sec\n",
      " ARIMA(3,1,3)(0,0,0)[0] intercept   : AIC=29018.616, Time=0.54 sec\n",
      " ARIMA(2,1,3)(0,0,0)[0] intercept   : AIC=29167.831, Time=0.44 sec\n",
      " ARIMA(4,1,3)(0,0,0)[0] intercept   : AIC=28997.290, Time=1.35 sec\n",
      " ARIMA(5,1,3)(0,0,0)[0] intercept   : AIC=28822.459, Time=1.50 sec\n",
      " ARIMA(5,1,2)(0,0,0)[0] intercept   : AIC=29549.520, Time=1.68 sec\n",
      " ARIMA(5,1,4)(0,0,0)[0] intercept   : AIC=28548.181, Time=1.92 sec\n",
      " ARIMA(4,1,4)(0,0,0)[0] intercept   : AIC=28904.998, Time=1.24 sec\n",
      " ARIMA(5,1,5)(0,0,0)[0] intercept   : AIC=28497.225, Time=2.41 sec\n",
      " ARIMA(4,1,5)(0,0,0)[0] intercept   : AIC=28773.974, Time=1.81 sec\n",
      " ARIMA(5,1,5)(0,0,0)[0]             : AIC=28495.630, Time=2.23 sec\n",
      " ARIMA(4,1,5)(0,0,0)[0]             : AIC=28771.974, Time=1.70 sec\n",
      " ARIMA(5,1,4)(0,0,0)[0]             : AIC=28546.141, Time=1.75 sec\n",
      " ARIMA(4,1,4)(0,0,0)[0]             : AIC=28902.998, Time=1.16 sec\n",
      "\n",
      "Best model:  ARIMA(5,1,5)(0,0,0)[0]          \n",
      "Total fit time: 24.147 seconds\n"
     ]
    }
   ],
   "source": [
    "from pmdarima import auto_arima\n",
    "stepwise_fit = auto_arima(data['new_deaths'], trace=True,\n",
    "suppress_warnings=True)"
   ]
  },
  {
   "cell_type": "code",
   "execution_count": 7,
   "metadata": {},
   "outputs": [
    {
     "data": {
      "image/png": "[encoded data removed]",
      "text/plain": [
       "<Figure size 432x288 with 1 Axes>"
      ]
     },
     "metadata": {
      "needs_background": "light"
     },
     "output_type": "display_data"
    },
    {
     "data": {
      "image/png": "[encoded data removed]",
      "text/plain": [
       "<Figure size 432x288 with 1 Axes>"
      ]
     },
     "metadata": {
      "needs_background": "light"
     },
     "output_type": "display_data"
    }
   ],
   "source": [
    "# Plot ACF and PACF for ARIMA order identification\n",
    "train = data[['new_deaths']].iloc[:-60]\n",
    "test = data[['new_deaths']].iloc[-60:]\n",
    "plot_acf(train)\n",
    "plt.show()\n",
    "\n",
    "plot_pacf(train)\n",
    "plt.show()"
   ]
  },
  {
   "cell_type": "code",
   "execution_count": 8,
   "metadata": {},
   "outputs": [
    {
     "name": "stderr",
     "output_type": "stream",
     "text": [
      "c:\\Users\\ambro\\AppData\\Local\\Programs\\Python\\Python39\\lib\\site-packages\\statsmodels\\base\\model.py:607: ConvergenceWarning: Maximum Likelihood optimization failed to converge. Check mle_retvals\n",
      "  warnings.warn(\"Maximum Likelihood optimization failed to \"\n"
     ]
    },
    {
     "data": {
      "text/html": [
       "<table class=\"simpletable\">\n",
       "<caption>SARIMAX Results</caption>\n",
       "<tr>\n",
       "  <th>Dep. Variable:</th>      <td>new_deaths</td>    <th>  No. Observations:  </th>    <td>1306</td>   \n",
       "</tr>\n",
       "<tr>\n",
       "  <th>Model:</th>            <td>ARIMA(5, 1, 5)</td>  <th>  Log Likelihood     </th> <td>-13640.348</td>\n",
       "</tr>\n",
       "<tr>\n",
       "  <th>Date:</th>            <td>Tue, 03 Oct 2023</td> <th>  AIC                </th>  <td>27302.697</td>\n",
       "</tr>\n",
       "<tr>\n",
       "  <th>Time:</th>                <td>19:40:50</td>     <th>  BIC                </th>  <td>27359.610</td>\n",
       "</tr>\n",
       "<tr>\n",
       "  <th>Sample:</th>                  <td>0</td>        <th>  HQIC               </th>  <td>27324.047</td>\n",
       "</tr>\n",
       "<tr>\n",
       "  <th></th>                      <td> - 1306</td>     <th>                     </th>      <td> </td>    \n",
       "</tr>\n",
       "<tr>\n",
       "  <th>Covariance Type:</th>        <td>opg</td>       <th>                     </th>      <td> </td>    \n",
       "</tr>\n",
       "</table>\n",
       "<table class=\"simpletable\">\n",
       "<tr>\n",
       "     <td></td>       <th>coef</th>     <th>std err</th>      <th>z</th>      <th>P>|z|</th>  <th>[0.025</th>    <th>0.975]</th>  \n",
       "</tr>\n",
       "<tr>\n",
       "  <th>ar.L1</th>  <td>    0.0555</td> <td>    0.082</td> <td>    0.674</td> <td> 0.500</td> <td>   -0.106</td> <td>    0.217</td>\n",
       "</tr>\n",
       "<tr>\n",
       "  <th>ar.L2</th>  <td>   -0.8425</td> <td>    0.076</td> <td>  -11.155</td> <td> 0.000</td> <td>   -0.991</td> <td>   -0.694</td>\n",
       "</tr>\n",
       "<tr>\n",
       "  <th>ar.L3</th>  <td>   -0.2717</td> <td>    0.122</td> <td>   -2.231</td> <td> 0.026</td> <td>   -0.510</td> <td>   -0.033</td>\n",
       "</tr>\n",
       "<tr>\n",
       "  <th>ar.L4</th>  <td>   -0.3856</td> <td>    0.074</td> <td>   -5.239</td> <td> 0.000</td> <td>   -0.530</td> <td>   -0.241</td>\n",
       "</tr>\n",
       "<tr>\n",
       "  <th>ar.L5</th>  <td>   -0.7265</td> <td>    0.081</td> <td>   -8.984</td> <td> 0.000</td> <td>   -0.885</td> <td>   -0.568</td>\n",
       "</tr>\n",
       "<tr>\n",
       "  <th>ma.L1</th>  <td>   -1.3471</td> <td>    0.095</td> <td>  -14.150</td> <td> 0.000</td> <td>   -1.534</td> <td>   -1.160</td>\n",
       "</tr>\n",
       "<tr>\n",
       "  <th>ma.L2</th>  <td>    1.6439</td> <td>    0.165</td> <td>    9.989</td> <td> 0.000</td> <td>    1.321</td> <td>    1.966</td>\n",
       "</tr>\n",
       "<tr>\n",
       "  <th>ma.L3</th>  <td>   -1.3439</td> <td>    0.188</td> <td>   -7.146</td> <td> 0.000</td> <td>   -1.712</td> <td>   -0.975</td>\n",
       "</tr>\n",
       "<tr>\n",
       "  <th>ma.L4</th>  <td>    0.9810</td> <td>    0.127</td> <td>    7.737</td> <td> 0.000</td> <td>    0.732</td> <td>    1.229</td>\n",
       "</tr>\n",
       "<tr>\n",
       "  <th>ma.L5</th>  <td>   -0.3564</td> <td>    0.087</td> <td>   -4.108</td> <td> 0.000</td> <td>   -0.526</td> <td>   -0.186</td>\n",
       "</tr>\n",
       "<tr>\n",
       "  <th>sigma2</th> <td> 1.472e+08</td> <td> 3.07e-09</td> <td> 4.79e+16</td> <td> 0.000</td> <td> 1.47e+08</td> <td> 1.47e+08</td>\n",
       "</tr>\n",
       "</table>\n",
       "<table class=\"simpletable\">\n",
       "<tr>\n",
       "  <th>Ljung-Box (L1) (Q):</th>     <td>15.49</td> <th>  Jarque-Bera (JB):  </th> <td>8434.07</td>\n",
       "</tr>\n",
       "<tr>\n",
       "  <th>Prob(Q):</th>                <td>0.00</td>  <th>  Prob(JB):          </th>  <td>0.00</td>  \n",
       "</tr>\n",
       "<tr>\n",
       "  <th>Heteroskedasticity (H):</th> <td>0.16</td>  <th>  Skew:              </th>  <td>1.74</td>  \n",
       "</tr>\n",
       "<tr>\n",
       "  <th>Prob(H) (two-sided):</th>    <td>0.00</td>  <th>  Kurtosis:          </th>  <td>14.96</td> \n",
       "</tr>\n",
       "</table><br/><br/>Warnings:<br/>[1] Covariance matrix calculated using the outer product of gradients (complex-step).<br/>[2] Covariance matrix is singular or near-singular, with condition number 3.42e+32. Standard errors may be unstable."
      ],
      "text/latex": [
       "\\begin{center}\n",
       "\\begin{tabular}{lclc}\n",
       "\\toprule\n",
       "\\textbf{Dep. Variable:}          &   new\\_deaths    & \\textbf{  No. Observations:  } &    1306     \\\\\n",
       "\\textbf{Model:}                  &  ARIMA(5, 1, 5)  & \\textbf{  Log Likelihood     } & -13640.348  \\\\\n",
       "\\textbf{Date:}                   & Tue, 03 Oct 2023 & \\textbf{  AIC                } & 27302.697   \\\\\n",
       "\\textbf{Time:}                   &     19:40:50     & \\textbf{  BIC                } & 27359.610   \\\\\n",
       "\\textbf{Sample:}                 &        0         & \\textbf{  HQIC               } & 27324.047   \\\\\n",
       "\\textbf{}                        &      - 1306      & \\textbf{                     } &             \\\\\n",
       "\\textbf{Covariance Type:}        &       opg        & \\textbf{                     } &             \\\\\n",
       "\\bottomrule\n",
       "\\end{tabular}\n",
       "\\begin{tabular}{lcccccc}\n",
       "                & \\textbf{coef} & \\textbf{std err} & \\textbf{z} & \\textbf{P$> |$z$|$} & \\textbf{[0.025} & \\textbf{0.975]}  \\\\\n",
       "\\midrule\n",
       "\\textbf{ar.L1}  &       0.0555  &        0.082     &     0.674  &         0.500        &       -0.106    &        0.217     \\\\\n",
       "\\textbf{ar.L2}  &      -0.8425  &        0.076     &   -11.155  &         0.000        &       -0.991    &       -0.694     \\\\\n",
       "\\textbf{ar.L3}  &      -0.2717  &        0.122     &    -2.231  &         0.026        &       -0.510    &       -0.033     \\\\\n",
       "\\textbf{ar.L4}  &      -0.3856  &        0.074     &    -5.239  &         0.000        &       -0.530    &       -0.241     \\\\\n",
       "\\textbf{ar.L5}  &      -0.7265  &        0.081     &    -8.984  &         0.000        &       -0.885    &       -0.568     \\\\\n",
       "\\textbf{ma.L1}  &      -1.3471  &        0.095     &   -14.150  &         0.000        &       -1.534    &       -1.160     \\\\\n",
       "\\textbf{ma.L2}  &       1.6439  &        0.165     &     9.989  &         0.000        &        1.321    &        1.966     \\\\\n",
       "\\textbf{ma.L3}  &      -1.3439  &        0.188     &    -7.146  &         0.000        &       -1.712    &       -0.975     \\\\\n",
       "\\textbf{ma.L4}  &       0.9810  &        0.127     &     7.737  &         0.000        &        0.732    &        1.229     \\\\\n",
       "\\textbf{ma.L5}  &      -0.3564  &        0.087     &    -4.108  &         0.000        &       -0.526    &       -0.186     \\\\\n",
       "\\textbf{sigma2} &    1.472e+08  &     3.07e-09     &  4.79e+16  &         0.000        &     1.47e+08    &     1.47e+08     \\\\\n",
       "\\bottomrule\n",
       "\\end{tabular}\n",
       "\\begin{tabular}{lclc}\n",
       "\\textbf{Ljung-Box (L1) (Q):}     & 15.49 & \\textbf{  Jarque-Bera (JB):  } & 8434.07  \\\\\n",
       "\\textbf{Prob(Q):}                &  0.00 & \\textbf{  Prob(JB):          } &   0.00   \\\\\n",
       "\\textbf{Heteroskedasticity (H):} &  0.16 & \\textbf{  Skew:              } &   1.74   \\\\\n",
       "\\textbf{Prob(H) (two-sided):}    &  0.00 & \\textbf{  Kurtosis:          } &  14.96   \\\\\n",
       "\\bottomrule\n",
       "\\end{tabular}\n",
       "%\\caption{SARIMAX Results}\n",
       "\\end{center}\n",
       "\n",
       "Warnings: \\newline\n",
       " [1] Covariance matrix calculated using the outer product of gradients (complex-step). \\newline\n",
       " [2] Covariance matrix is singular or near-singular, with condition number 3.42e+32. Standard errors may be unstable."
      ],
      "text/plain": [
       "<class 'statsmodels.iolib.summary.Summary'>\n",
       "\"\"\"\n",
       "                               SARIMAX Results                                \n",
       "==============================================================================\n",
       "Dep. Variable:             new_deaths   No. Observations:                 1306\n",
       "Model:                 ARIMA(5, 1, 5)   Log Likelihood              -13640.348\n",
       "Date:                Tue, 03 Oct 2023   AIC                          27302.697\n",
       "Time:                        19:40:50   BIC                          27359.610\n",
       "Sample:                             0   HQIC                         27324.047\n",
       "                               - 1306                                         \n",
       "Covariance Type:                  opg                                         \n",
       "==============================================================================\n",
       "                 coef    std err          z      P>|z|      [0.025      0.975]\n",
       "------------------------------------------------------------------------------\n",
       "ar.L1          0.0555      0.082      0.674      0.500      -0.106       0.217\n",
       "ar.L2         -0.8425      0.076    -11.155      0.000      -0.991      -0.694\n",
       "ar.L3         -0.2717      0.122     -2.231      0.026      -0.510      -0.033\n",
       "ar.L4         -0.3856      0.074     -5.239      0.000      -0.530      -0.241\n",
       "ar.L5         -0.7265      0.081     -8.984      0.000      -0.885      -0.568\n",
       "ma.L1         -1.3471      0.095    -14.150      0.000      -1.534      -1.160\n",
       "ma.L2          1.6439      0.165      9.989      0.000       1.321       1.966\n",
       "ma.L3         -1.3439      0.188     -7.146      0.000      -1.712      -0.975\n",
       "ma.L4          0.9810      0.127      7.737      0.000       0.732       1.229\n",
       "ma.L5         -0.3564      0.087     -4.108      0.000      -0.526      -0.186\n",
       "sigma2      1.472e+08   3.07e-09   4.79e+16      0.000    1.47e+08    1.47e+08\n",
       "===================================================================================\n",
       "Ljung-Box (L1) (Q):                  15.49   Jarque-Bera (JB):              8434.07\n",
       "Prob(Q):                              0.00   Prob(JB):                         0.00\n",
       "Heteroskedasticity (H):               0.16   Skew:                             1.74\n",
       "Prob(H) (two-sided):                  0.00   Kurtosis:                        14.96\n",
       "===================================================================================\n",
       "\n",
       "Warnings:\n",
       "[1] Covariance matrix calculated using the outer product of gradients (complex-step).\n",
       "[2] Covariance matrix is singular or near-singular, with condition number 3.42e+32. Standard errors may be unstable.\n",
       "\"\"\""
      ]
     },
     "execution_count": 8,
     "metadata": {},
     "output_type": "execute_result"
    }
   ],
   "source": [
    "from statsmodels.tsa.arima.model import ARIMA\n",
    "model=ARIMA(train['new_deaths'],order=(5,1,5))\n",
    "model=model.fit()\n",
    "model.summary()"
   ]
  },
  {
   "cell_type": "code",
   "execution_count": 9,
   "metadata": {},
   "outputs": [
    {
     "name": "stderr",
     "output_type": "stream",
     "text": [
      "c:\\Users\\ambro\\AppData\\Local\\Programs\\Python\\Python39\\lib\\site-packages\\statsmodels\\tsa\\statespace\\representation.py:374: FutureWarning: Unknown keyword arguments: dict_keys(['typ']).Passing unknown keyword arguments will raise a TypeError beginning in version 0.15.\n",
      "  warnings.warn(msg, FutureWarning)\n"
     ]
    },
    {
     "data": {
      "text/plain": [
       "<AxesSubplot:>"
      ]
     },
     "execution_count": 9,
     "metadata": {},
     "output_type": "execute_result"
    },
    {
     "data": {
      "image/png": "[encoded data removed]",
      "text/plain": [
       "<Figure size 432x288 with 1 Axes>"
      ]
     },
     "metadata": {
      "needs_background": "light"
     },
     "output_type": "display_data"
    }
   ],
   "source": [
    "start=len(train)\n",
    "end=len(train)+len(test)-1\n",
    "pred=model.predict(start=start,end=end,typ='levels').rename('ARIMA Predictions')\n",
    "pred.plot(legend=True)\n",
    "test['new_deaths'].plot(legend=True)"
   ]
  },
  {
   "cell_type": "code",
   "execution_count": 10,
   "metadata": {},
   "outputs": [
    {
     "name": "stdout",
     "output_type": "stream",
     "text": [
      "475.11510430467894\n"
     ]
    }
   ],
   "source": [
    "from sklearn.metrics import mean_squared_error\n",
    "from math import sqrt\n",
    "test['new_deaths'].mean()\n",
    "rmse=sqrt(mean_squared_error(pred,test['new_deaths']))\n",
    "print(rmse)"
   ]
  }
 ],
 "metadata": {
  "kernelspec": {
   "display_name": "Python 3",
   "language": "python",
   "name": "python3"
  },
  "language_info": {
   "codemirror_mode": {
    "name": "ipython",
    "version": 3
   },
   "file_extension": ".py",
   "mimetype": "text/x-python",
   "name": "python",
   "nbconvert_exporter": "python",
   "pygments_lexer": "ipython3",
   "version": "3.9.12"
  },
  "orig_nbformat": 4
 },
 "nbformat": 4,
 "nbformat_minor": 2
}
