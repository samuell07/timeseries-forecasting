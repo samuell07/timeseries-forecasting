{
 "cells": [
  {
   "cell_type": "code",
   "execution_count": 1,
   "metadata": {},
   "outputs": [],
   "source": [
    "# Import necessary libraries\n",
    "import pandas as pd\n",
    "import matplotlib.pyplot as plt\n",
    "from statsmodels.graphics.tsaplots import plot_acf, plot_pacf\n"
   ]
  },
  {
   "cell_type": "code",
   "execution_count": 2,
   "metadata": {},
   "outputs": [],
   "source": [
    "# Load the dataset\n",
    "file_path = '../data/owid-covid-data.csv'\n",
    "data = pd.read_csv(file_path, parse_dates=True)\n",
    "data = data[['date', 'new_deaths']]\n",
    "\n",
    "data.set_index('date', inplace=True)\n",
    "data = data.groupby('date').sum().reset_index()\n",
    "\n"
   ]
  },
  {
   "cell_type": "code",
   "execution_count": 3,
   "metadata": {},
   "outputs": [],
   "source": [
    "# Plot ACF and PACF for ARIMA order identification\n",
    "train = data[['new_deaths']].iloc[:-60]\n",
    "test = data[['new_deaths']].iloc[-60:]"
   ]
  },
  {
   "cell_type": "code",
   "execution_count": 12,
   "metadata": {},
   "outputs": [
    {
     "name": "stdout",
     "output_type": "stream",
     "text": [
      "Mean squared error: 0.000\n",
      "Coefficient of determination: 1.000\n"
     ]
    }
   ],
   "source": [
    "from sklearn.metrics import r2_score\n",
    "from sklearn.linear_model import LinearRegression\n",
    "from sklearn.metrics import mean_squared_error\n",
    "\n",
    "\n",
    "model = LinearRegression().fit(train, train['new_deaths'])\n",
    "\n",
    "pred = model.predict(test)\n",
    "# data['prediction'] = pred\n",
    "print(\"Mean squared error: %.3f\" % mean_squared_error(test['new_deaths'], pred))\n",
    "\n",
    "print(\"Coefficient of determination: %.3f\" % r2_score(test['new_deaths'], pred))"
   ]
  },
  {
   "cell_type": "code",
   "execution_count": 11,
   "metadata": {},
   "outputs": [
    {
     "ename": "AttributeError",
     "evalue": "'numpy.ndarray' object has no attribute 'plot'",
     "output_type": "error",
     "traceback": [
      "\u001b[1;31m---------------------------------------------------------------------------\u001b[0m",
      "\u001b[1;31mAttributeError\u001b[0m                            Traceback (most recent call last)",
      "\u001b[1;32mc:\\Users\\ambro\\OneDrive\\Desktop\\timeseries-forecasting\\covid-deaths-regression.ipynb Cell 5\u001b[0m line \u001b[0;36m<cell line: 4>\u001b[1;34m()\u001b[0m\n\u001b[0;32m      <a href='vscode-notebook-cell:/c%3A/Users/ambro/OneDrive/Desktop/timeseries-forecasting/covid-deaths-regression.ipynb#X10sZmlsZQ%3D%3D?line=1'>2</a>\u001b[0m end\u001b[39m=\u001b[39m\u001b[39mlen\u001b[39m(train)\u001b[39m+\u001b[39m\u001b[39mlen\u001b[39m(test)\u001b[39m-\u001b[39m\u001b[39m1\u001b[39m\n\u001b[0;32m      <a href='vscode-notebook-cell:/c%3A/Users/ambro/OneDrive/Desktop/timeseries-forecasting/covid-deaths-regression.ipynb#X10sZmlsZQ%3D%3D?line=2'>3</a>\u001b[0m pred\u001b[39m=\u001b[39mmodel\u001b[39m.\u001b[39mpredict(test)\n\u001b[1;32m----> <a href='vscode-notebook-cell:/c%3A/Users/ambro/OneDrive/Desktop/timeseries-forecasting/covid-deaths-regression.ipynb#X10sZmlsZQ%3D%3D?line=3'>4</a>\u001b[0m pred\u001b[39m.\u001b[39;49mplot(legend\u001b[39m=\u001b[39m\u001b[39mTrue\u001b[39;00m)\n\u001b[0;32m      <a href='vscode-notebook-cell:/c%3A/Users/ambro/OneDrive/Desktop/timeseries-forecasting/covid-deaths-regression.ipynb#X10sZmlsZQ%3D%3D?line=4'>5</a>\u001b[0m test[\u001b[39m'\u001b[39m\u001b[39mnew_deaths\u001b[39m\u001b[39m'\u001b[39m]\u001b[39m.\u001b[39mplot(legend\u001b[39m=\u001b[39m\u001b[39mTrue\u001b[39;00m)\n",
      "\u001b[1;31mAttributeError\u001b[0m: 'numpy.ndarray' object has no attribute 'plot'"
     ]
    }
   ],
   "source": [
    "start=len(train)\n",
    "end=len(train)+len(test)-1\n",
    "pred=model.predict(test)\n",
    "pred.plot(legend=True)\n",
    "test['new_deaths'].plot(legend=True)"
   ]
  },
  {
   "cell_type": "code",
   "execution_count": 7,
   "metadata": {},
   "outputs": [
    {
     "name": "stdout",
     "output_type": "stream",
     "text": [
      "1.0697863484270117e-11\n"
     ]
    }
   ],
   "source": [
    "from sklearn.metrics import mean_squared_error\n",
    "from math import sqrt\n",
    "test['new_deaths'].mean()\n",
    "rmse=sqrt(mean_squared_error(pred,test['new_deaths']))\n",
    "print(rmse)\n"
   ]
  }
 ],
 "metadata": {
  "kernelspec": {
   "display_name": "Python 3",
   "language": "python",
   "name": "python3"
  },
  "language_info": {
   "codemirror_mode": {
    "name": "ipython",
    "version": 3
   },
   "file_extension": ".py",
   "mimetype": "text/x-python",
   "name": "python",
   "nbconvert_exporter": "python",
   "pygments_lexer": "ipython3",
   "version": "3.9.12"
  },
  "orig_nbformat": 4
 },
 "nbformat": 4,
 "nbformat_minor": 2
}
