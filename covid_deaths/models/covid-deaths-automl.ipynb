{
 "cells": [
  {
   "cell_type": "code",
   "execution_count": 1,
   "metadata": {},
   "outputs": [
    {
     "name": "stderr",
     "output_type": "stream",
     "text": [
      "C:\\Users\\ambro\\AppData\\Roaming\\Python\\Python39\\site-packages\\smac\\__init__.py:29: UserWarning: Detected unsupported operating system: win32.Please be aware, that SMAC might not run on this system.\n",
      "  warnings.warn(\n"
     ]
    },
    {
     "ename": "ModuleNotFoundError",
     "evalue": "No module named 'resource'",
     "output_type": "error",
     "traceback": [
      "\u001b[1;31m---------------------------------------------------------------------------\u001b[0m",
      "\u001b[1;31mModuleNotFoundError\u001b[0m                       Traceback (most recent call last)",
      "\u001b[1;32mc:\\Users\\ambro\\OneDrive\\Desktop\\timeseries-forecasting\\covid_deaths\\models\\covid-deaths-automl.ipynb Cell 1\u001b[0m line \u001b[0;36m<cell line: 1>\u001b[1;34m()\u001b[0m\n\u001b[1;32m----> <a href='vscode-notebook-cell:/c%3A/Users/ambro/OneDrive/Desktop/timeseries-forecasting/covid_deaths/models/covid-deaths-automl.ipynb#W0sZmlsZQ%3D%3D?line=0'>1</a>\u001b[0m \u001b[39mfrom\u001b[39;00m \u001b[39mautoPyTorch\u001b[39;00m\u001b[39m.\u001b[39;00m\u001b[39mapi\u001b[39;00m\u001b[39m.\u001b[39;00m\u001b[39mtime_series_forecasting\u001b[39;00m \u001b[39mimport\u001b[39;00m TimeSeriesForecastingTask\n\u001b[0;32m      <a href='vscode-notebook-cell:/c%3A/Users/ambro/OneDrive/Desktop/timeseries-forecasting/covid_deaths/models/covid-deaths-automl.ipynb#W0sZmlsZQ%3D%3D?line=1'>2</a>\u001b[0m \u001b[39mimport\u001b[39;00m \u001b[39mpandas\u001b[39;00m \u001b[39mas\u001b[39;00m \u001b[39mpd\u001b[39;00m\n\u001b[0;32m      <a href='vscode-notebook-cell:/c%3A/Users/ambro/OneDrive/Desktop/timeseries-forecasting/covid_deaths/models/covid-deaths-automl.ipynb#W0sZmlsZQ%3D%3D?line=2'>3</a>\u001b[0m file_path \u001b[39m=\u001b[39m \u001b[39m'\u001b[39m\u001b[39m../data/owid-covid-data.csv\u001b[39m\u001b[39m'\u001b[39m\n",
      "File \u001b[1;32m~\\AppData\\Roaming\\Python\\Python39\\site-packages\\autoPyTorch\\api\\time_series_forecasting.py:7\u001b[0m, in \u001b[0;36m<module>\u001b[1;34m\u001b[0m\n\u001b[0;32m      3\u001b[0m \u001b[39mimport\u001b[39;00m \u001b[39mnumpy\u001b[39;00m \u001b[39mas\u001b[39;00m \u001b[39mnp\u001b[39;00m\n\u001b[0;32m      5\u001b[0m \u001b[39mimport\u001b[39;00m \u001b[39mpandas\u001b[39;00m \u001b[39mas\u001b[39;00m \u001b[39mpd\u001b[39;00m\n\u001b[1;32m----> 7\u001b[0m \u001b[39mfrom\u001b[39;00m \u001b[39mautoPyTorch\u001b[39;00m\u001b[39m.\u001b[39;00m\u001b[39mapi\u001b[39;00m\u001b[39m.\u001b[39;00m\u001b[39mbase_task\u001b[39;00m \u001b[39mimport\u001b[39;00m BaseTask\n\u001b[0;32m      8\u001b[0m \u001b[39mfrom\u001b[39;00m \u001b[39mautoPyTorch\u001b[39;00m\u001b[39m.\u001b[39;00m\u001b[39mautoml_common\u001b[39;00m\u001b[39m.\u001b[39;00m\u001b[39mcommon\u001b[39;00m\u001b[39m.\u001b[39;00m\u001b[39mutils\u001b[39;00m\u001b[39m.\u001b[39;00m\u001b[39mbackend\u001b[39;00m \u001b[39mimport\u001b[39;00m Backend\n\u001b[0;32m      9\u001b[0m \u001b[39mfrom\u001b[39;00m \u001b[39mautoPyTorch\u001b[39;00m\u001b[39m.\u001b[39;00m\u001b[39mconstants\u001b[39;00m \u001b[39mimport\u001b[39;00m MAX_WINDOW_SIZE_BASE, TASK_TYPES_TO_STRING, TIMESERIES_FORECASTING\n",
      "File \u001b[1;32m~\\AppData\\Roaming\\Python\\Python39\\site-packages\\autoPyTorch\\api\\base_task.py:53\u001b[0m, in \u001b[0;36m<module>\u001b[1;34m\u001b[0m\n\u001b[0;32m     46\u001b[0m \u001b[39mfrom\u001b[39;00m \u001b[39mautoPyTorch\u001b[39;00m\u001b[39m.\u001b[39;00m\u001b[39mdatasets\u001b[39;00m\u001b[39m.\u001b[39;00m\u001b[39mbase_dataset\u001b[39;00m \u001b[39mimport\u001b[39;00m BaseDataset, BaseDatasetPropertiesType\n\u001b[0;32m     47\u001b[0m \u001b[39mfrom\u001b[39;00m \u001b[39mautoPyTorch\u001b[39;00m\u001b[39m.\u001b[39;00m\u001b[39mdatasets\u001b[39;00m\u001b[39m.\u001b[39;00m\u001b[39mresampling_strategy\u001b[39;00m \u001b[39mimport\u001b[39;00m (\n\u001b[0;32m     48\u001b[0m     CrossValTypes,\n\u001b[0;32m     49\u001b[0m     HoldoutValTypes,\n\u001b[0;32m     50\u001b[0m     NoResamplingStrategyTypes,\n\u001b[0;32m     51\u001b[0m     ResamplingStrategies,\n\u001b[0;32m     52\u001b[0m )\n\u001b[1;32m---> 53\u001b[0m \u001b[39mfrom\u001b[39;00m \u001b[39mautoPyTorch\u001b[39;00m\u001b[39m.\u001b[39;00m\u001b[39mensemble\u001b[39;00m\u001b[39m.\u001b[39;00m\u001b[39mensemble_builder\u001b[39;00m \u001b[39mimport\u001b[39;00m EnsembleBuilderManager\n\u001b[0;32m     54\u001b[0m \u001b[39mfrom\u001b[39;00m \u001b[39mautoPyTorch\u001b[39;00m\u001b[39m.\u001b[39;00m\u001b[39mensemble\u001b[39;00m\u001b[39m.\u001b[39;00m\u001b[39msinglebest_ensemble\u001b[39;00m \u001b[39mimport\u001b[39;00m SingleBest\n\u001b[0;32m     55\u001b[0m \u001b[39mfrom\u001b[39;00m \u001b[39mautoPyTorch\u001b[39;00m\u001b[39m.\u001b[39;00m\u001b[39mevaluation\u001b[39;00m\u001b[39m.\u001b[39;00m\u001b[39mtae\u001b[39;00m \u001b[39mimport\u001b[39;00m ExecuteTaFuncWithQueue, get_cost_of_crash\n",
      "File \u001b[1;32m~\\AppData\\Roaming\\Python\\Python39\\site-packages\\autoPyTorch\\ensemble\\ensemble_builder.py:24\u001b[0m, in \u001b[0;36m<module>\u001b[1;34m\u001b[0m\n\u001b[0;32m     20\u001b[0m \u001b[39mimport\u001b[39;00m \u001b[39mnumpy\u001b[39;00m \u001b[39mas\u001b[39;00m \u001b[39mnp\u001b[39;00m\n\u001b[0;32m     22\u001b[0m \u001b[39mimport\u001b[39;00m \u001b[39mpandas\u001b[39;00m \u001b[39mas\u001b[39;00m \u001b[39mpd\u001b[39;00m\n\u001b[1;32m---> 24\u001b[0m \u001b[39mimport\u001b[39;00m \u001b[39mpynisher\u001b[39;00m\n\u001b[0;32m     26\u001b[0m \u001b[39mfrom\u001b[39;00m \u001b[39msklearn\u001b[39;00m\u001b[39m.\u001b[39;00m\u001b[39mutils\u001b[39;00m\u001b[39m.\u001b[39;00m\u001b[39mvalidation\u001b[39;00m \u001b[39mimport\u001b[39;00m check_random_state\n\u001b[0;32m     28\u001b[0m \u001b[39mfrom\u001b[39;00m \u001b[39msmac\u001b[39;00m\u001b[39m.\u001b[39;00m\u001b[39mcallbacks\u001b[39;00m \u001b[39mimport\u001b[39;00m IncorporateRunResultCallback\n",
      "File \u001b[1;32mc:\\Users\\ambro\\AppData\\Local\\Programs\\Python\\Python39\\lib\\site-packages\\pynisher\\__init__.py:1\u001b[0m, in \u001b[0;36m<module>\u001b[1;34m\u001b[0m\n\u001b[1;32m----> 1\u001b[0m \u001b[39mfrom\u001b[39;00m \u001b[39mpynisher\u001b[39;00m\u001b[39m.\u001b[39;00m\u001b[39mlimit_function_call\u001b[39;00m \u001b[39mimport\u001b[39;00m \u001b[39m*\u001b[39m\n",
      "File \u001b[1;32mc:\\Users\\ambro\\AppData\\Local\\Programs\\Python\\Python39\\lib\\site-packages\\pynisher\\limit_function_call.py:2\u001b[0m, in \u001b[0;36m<module>\u001b[1;34m\u001b[0m\n\u001b[0;32m      1\u001b[0m \u001b[39m#! /bin/python\u001b[39;00m\n\u001b[1;32m----> 2\u001b[0m \u001b[39mimport\u001b[39;00m \u001b[39mresource\u001b[39;00m\n\u001b[0;32m      3\u001b[0m \u001b[39mimport\u001b[39;00m \u001b[39msignal\u001b[39;00m\n\u001b[0;32m      4\u001b[0m \u001b[39mimport\u001b[39;00m \u001b[39mmultiprocessing\u001b[39;00m\n",
      "\u001b[1;31mModuleNotFoundError\u001b[0m: No module named 'resource'"
     ]
    }
   ],
   "source": [
    "\n",
    "from autoPyTorch.api.time_series_forecasting import TimeSeriesForecastingTask\n",
    "import pandas as pd\n",
    "file_path = '../data/owid-covid-data.csv'\n",
    "df = pd.read_csv(file_path, parse_dates=True)\n",
    "\n",
    "df.set_index('date', inplace=True)\n",
    "df = df.groupby('date').sum().reset_index()\n",
    "\n",
    "# Split your data into features and targets\n",
    "features = df.drop('target_column_name', axis=1)  # Replace 'target_column_name' with the name of your target column\n",
    "targets = df['target_column_name']\n",
    "\n",
    "# define the forecasting horizon\n",
    "forecasting_horizon = 3\n",
    "\n",
    "# Dataset optimized by APT-TS can be a list of np.ndarray/ pd.DataFrame where each series represents an element in the \n",
    "# list, or a single pd.DataFrame that records the series\n",
    "# index information: to which series the timestep belongs? This id can be stored as the DataFrame's index or a separate\n",
    "# column\n",
    "# Within each series, we take the last forecasting_horizon as test targets. The items before that as training targets\n",
    "# Normally the value to be forecasted should follow the training sets\n",
    "y_train = [targets[: -forecasting_horizon]]\n",
    "y_test = [targets[-forecasting_horizon:]]\n",
    "\n",
    "# same for features. For uni-variant models, X_train, X_test can be omitted and set as None\n",
    "X_train = [features[: -forecasting_horizon]]\n",
    "# Here x_test indicates the 'known future features': they are the features known previously, features that are unknown\n",
    "# could be replaced with NAN or zeros (which will not be used by our networks). If no feature is known beforehand,\n",
    "# we could also omit X_test\n",
    "known_future_features = list(features.columns)\n",
    "X_test = [features[-forecasting_horizon:]]\n",
    "\n",
    "start_times = [targets.index.to_timestamp()[0]]\n",
    "freq = '1Y'\n",
    "\n",
    "# initialise Auto-PyTorch api\n",
    "api = TimeSeriesForecastingTask()\n",
    "\n",
    "# Search for an ensemble of machine learning algorithms\n",
    "api.search(\n",
    "    X_train=X_train,\n",
    "    y_train=y_train,\n",
    "    X_test=X_test, \n",
    "    optimize_metric='mean_MAPE_forecasting',\n",
    "    n_prediction_steps=forecasting_horizon,\n",
    "    memory_limit=16 * 1024,  # Currently, forecasting models use much more memories\n",
    "    freq=freq,\n",
    "    start_times=start_times,\n",
    "    func_eval_time_limit_secs=50,\n",
    "    total_walltime_limit=60,\n",
    "    min_num_test_instances=1000,  # proxy validation sets. This only works for the tasks with more than 1000 series\n",
    "    known_future_features=known_future_features,\n",
    ")\n",
    "\n",
    "# our dataset could directly generate sequences for new datasets\n",
    "test_sets = api.dataset.generate_test_seqs()\n",
    "\n",
    "# Calculate test accuracy\n",
    "y_pred = api.predict(test_sets)\n",
    "score = api.score(y_pred, y_test)\n",
    "print(\"Forecasting score\", score)"
   ]
  }
 ],
 "metadata": {
  "kernelspec": {
   "display_name": "Python 3",
   "language": "python",
   "name": "python3"
  },
  "language_info": {
   "codemirror_mode": {
    "name": "ipython",
    "version": 3
   },
   "file_extension": ".py",
   "mimetype": "text/x-python",
   "name": "python",
   "nbconvert_exporter": "python",
   "pygments_lexer": "ipython3",
   "version": "3.9.12"
  },
  "orig_nbformat": 4
 },
 "nbformat": 4,
 "nbformat_minor": 2
}
