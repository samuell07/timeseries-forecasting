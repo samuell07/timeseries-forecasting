{
 "cells": [
  {
   "cell_type": "markdown",
   "metadata": {},
   "source": [
    "Related urls, will remove once finished:\n",
    "- https://www.tensorflow.org/tutorials/structured_data/time_series#multi-step_models"
   ]
  },
  {
   "cell_type": "code",
   "execution_count": 1,
   "metadata": {},
   "outputs": [
    {
     "name": "stderr",
     "output_type": "stream",
     "text": [
      "2023-11-23 18:26:00.939848: I tensorflow/core/util/port.cc:113] oneDNN custom operations are on. You may see slightly different numerical results due to floating-point round-off errors from different computation orders. To turn them off, set the environment variable `TF_ENABLE_ONEDNN_OPTS=0`.\n",
      "2023-11-23 18:26:00.991462: E external/local_xla/xla/stream_executor/cuda/cuda_dnn.cc:9261] Unable to register cuDNN factory: Attempting to register factory for plugin cuDNN when one has already been registered\n",
      "2023-11-23 18:26:00.991504: E external/local_xla/xla/stream_executor/cuda/cuda_fft.cc:607] Unable to register cuFFT factory: Attempting to register factory for plugin cuFFT when one has already been registered\n",
      "2023-11-23 18:26:00.992819: E external/local_xla/xla/stream_executor/cuda/cuda_blas.cc:1515] Unable to register cuBLAS factory: Attempting to register factory for plugin cuBLAS when one has already been registered\n",
      "2023-11-23 18:26:01.001528: I tensorflow/core/platform/cpu_feature_guard.cc:182] This TensorFlow binary is optimized to use available CPU instructions in performance-critical operations.\n",
      "To enable the following instructions: AVX2 AVX512F AVX512_VNNI FMA, in other operations, rebuild TensorFlow with the appropriate compiler flags.\n",
      "2023-11-23 18:26:02.171699: W tensorflow/compiler/tf2tensorrt/utils/py_utils.cc:38] TF-TRT Warning: Could not find TensorRT\n"
     ]
    }
   ],
   "source": [
    "import os\n",
    "import datetime\n",
    "\n",
    "import IPython\n",
    "import IPython.display\n",
    "import matplotlib as mpl\n",
    "import matplotlib.pyplot as plt\n",
    "import numpy as np\n",
    "import pandas as pd\n",
    "import seaborn as sns\n",
    "import tensorflow as tf\n",
    "\n",
    "mpl.rcParams['figure.figsize'] = (8, 6)\n",
    "mpl.rcParams['axes.grid'] = False"
   ]
  },
  {
   "cell_type": "code",
   "execution_count": 152,
   "metadata": {},
   "outputs": [],
   "source": [
    "file_path = '../data/WHO-COVID-19-global-data.csv'\n",
    "date_column = 'Date_reported'\n",
    "target_column = 'New_deaths'\n",
    "df = pd.read_csv(file_path, parse_dates=True)\n",
    "df = df[[date_column, target_column,'New_cases', 'Cumulative_cases']]\n",
    "df = df.groupby(date_column).sum().reset_index()\n",
    "df = df.dropna()\n",
    "date_time = pd.to_datetime(df.pop(date_column), format='%Y-%m-%d')\n",
    "df.set_index(date_time, inplace=True)\n"
   ]
  },
  {
   "cell_type": "code",
   "execution_count": 153,
   "metadata": {},
   "outputs": [
    {
     "data": {
      "text/html": [
       "<div>\n",
       "<style scoped>\n",
       "    .dataframe tbody tr th:only-of-type {\n",
       "        vertical-align: middle;\n",
       "    }\n",
       "\n",
       "    .dataframe tbody tr th {\n",
       "        vertical-align: top;\n",
       "    }\n",
       "\n",
       "    .dataframe thead th {\n",
       "        text-align: right;\n",
       "    }\n",
       "</style>\n",
       "<table border=\"1\" class=\"dataframe\">\n",
       "  <thead>\n",
       "    <tr style=\"text-align: right;\">\n",
       "      <th></th>\n",
       "      <th>New_deaths</th>\n",
       "      <th>New_cases</th>\n",
       "      <th>Cumulative_cases</th>\n",
       "    </tr>\n",
       "    <tr>\n",
       "      <th>Date_reported</th>\n",
       "      <th></th>\n",
       "      <th></th>\n",
       "      <th></th>\n",
       "    </tr>\n",
       "  </thead>\n",
       "  <tbody>\n",
       "    <tr>\n",
       "      <th>2020-01-03</th>\n",
       "      <td>0</td>\n",
       "      <td>0</td>\n",
       "      <td>0</td>\n",
       "    </tr>\n",
       "    <tr>\n",
       "      <th>2020-01-04</th>\n",
       "      <td>0</td>\n",
       "      <td>3</td>\n",
       "      <td>3</td>\n",
       "    </tr>\n",
       "    <tr>\n",
       "      <th>2020-01-05</th>\n",
       "      <td>3</td>\n",
       "      <td>-1</td>\n",
       "      <td>2</td>\n",
       "    </tr>\n",
       "    <tr>\n",
       "      <th>2020-01-06</th>\n",
       "      <td>0</td>\n",
       "      <td>3</td>\n",
       "      <td>5</td>\n",
       "    </tr>\n",
       "    <tr>\n",
       "      <th>2020-01-07</th>\n",
       "      <td>0</td>\n",
       "      <td>0</td>\n",
       "      <td>5</td>\n",
       "    </tr>\n",
       "  </tbody>\n",
       "</table>\n",
       "</div>"
      ],
      "text/plain": [
       "               New_deaths  New_cases  Cumulative_cases\n",
       "Date_reported                                         \n",
       "2020-01-03              0          0                 0\n",
       "2020-01-04              0          3                 3\n",
       "2020-01-05              3         -1                 2\n",
       "2020-01-06              0          3                 5\n",
       "2020-01-07              0          0                 5"
      ]
     },
     "execution_count": 153,
     "metadata": {},
     "output_type": "execute_result"
    }
   ],
   "source": [
    "df.head()"
   ]
  },
  {
   "cell_type": "code",
   "execution_count": 154,
   "metadata": {},
   "outputs": [
    {
     "data": {
      "text/html": [
       "<div>\n",
       "<style scoped>\n",
       "    .dataframe tbody tr th:only-of-type {\n",
       "        vertical-align: middle;\n",
       "    }\n",
       "\n",
       "    .dataframe tbody tr th {\n",
       "        vertical-align: top;\n",
       "    }\n",
       "\n",
       "    .dataframe thead th {\n",
       "        text-align: right;\n",
       "    }\n",
       "</style>\n",
       "<table border=\"1\" class=\"dataframe\">\n",
       "  <thead>\n",
       "    <tr style=\"text-align: right;\">\n",
       "      <th></th>\n",
       "      <th>count</th>\n",
       "      <th>mean</th>\n",
       "      <th>std</th>\n",
       "      <th>min</th>\n",
       "      <th>25%</th>\n",
       "      <th>50%</th>\n",
       "      <th>75%</th>\n",
       "      <th>max</th>\n",
       "    </tr>\n",
       "  </thead>\n",
       "  <tbody>\n",
       "    <tr>\n",
       "      <th>New_deaths</th>\n",
       "      <td>1420.0</td>\n",
       "      <td>4.916382e+03</td>\n",
       "      <td>4.869881e+03</td>\n",
       "      <td>-3179.0</td>\n",
       "      <td>746.0</td>\n",
       "      <td>4517.0</td>\n",
       "      <td>7.720250e+03</td>\n",
       "      <td>57889.0</td>\n",
       "    </tr>\n",
       "    <tr>\n",
       "      <th>New_cases</th>\n",
       "      <td>1420.0</td>\n",
       "      <td>5.437792e+05</td>\n",
       "      <td>8.657419e+05</td>\n",
       "      <td>-1.0</td>\n",
       "      <td>93110.5</td>\n",
       "      <td>350797.0</td>\n",
       "      <td>5.870945e+05</td>\n",
       "      <td>8401963.0</td>\n",
       "    </tr>\n",
       "    <tr>\n",
       "      <th>Cumulative_cases</th>\n",
       "      <td>1420.0</td>\n",
       "      <td>3.656805e+08</td>\n",
       "      <td>2.941915e+08</td>\n",
       "      <td>0.0</td>\n",
       "      <td>77590340.0</td>\n",
       "      <td>270009407.5</td>\n",
       "      <td>6.395637e+08</td>\n",
       "      <td>772166517.0</td>\n",
       "    </tr>\n",
       "  </tbody>\n",
       "</table>\n",
       "</div>"
      ],
      "text/plain": [
       "                   count          mean           std     min         25%  \\\n",
       "New_deaths        1420.0  4.916382e+03  4.869881e+03 -3179.0       746.0   \n",
       "New_cases         1420.0  5.437792e+05  8.657419e+05    -1.0     93110.5   \n",
       "Cumulative_cases  1420.0  3.656805e+08  2.941915e+08     0.0  77590340.0   \n",
       "\n",
       "                          50%           75%          max  \n",
       "New_deaths             4517.0  7.720250e+03      57889.0  \n",
       "New_cases            350797.0  5.870945e+05    8401963.0  \n",
       "Cumulative_cases  270009407.5  6.395637e+08  772166517.0  "
      ]
     },
     "execution_count": 154,
     "metadata": {},
     "output_type": "execute_result"
    }
   ],
   "source": [
    "df.describe().transpose()"
   ]
  },
  {
   "cell_type": "code",
   "execution_count": 173,
   "metadata": {},
   "outputs": [],
   "source": [
    "WINDOW_SIZE = 16\n",
    "num_features = df.shape[1]"
   ]
  },
  {
   "cell_type": "code",
   "execution_count": 174,
   "metadata": {},
   "outputs": [],
   "source": [
    "def df_to_X_y(df, window_size=WINDOW_SIZE):\n",
    "  df_as_np = df.to_numpy()\n",
    "  X = []\n",
    "  y = []\n",
    "  for i in range(len(df_as_np)-window_size):\n",
    "    row = [[a] for a in df_as_np[i:i+window_size]]\n",
    "    X.append(row)\n",
    "    label = df_as_np[i+window_size]\n",
    "    y.append(label)\n",
    "  return np.array(X), np.array(y)"
   ]
  },
  {
   "cell_type": "code",
   "execution_count": 175,
   "metadata": {},
   "outputs": [
    {
     "data": {
      "text/plain": [
       "((1404, 16, 1), (1404,))"
      ]
     },
     "execution_count": 175,
     "metadata": {},
     "output_type": "execute_result"
    }
   ],
   "source": [
    "temp = df[target_column]\n",
    "X1, y1 = df_to_X_y(temp, WINDOW_SIZE)\n",
    "X1.shape, y1.shape"
   ]
  },
  {
   "cell_type": "code",
   "execution_count": 176,
   "metadata": {},
   "outputs": [
    {
     "data": {
      "text/plain": [
       "((993, 16, 1), (993,), (285, 16, 1), (285,), (126, 16, 1), (126,))"
      ]
     },
     "execution_count": 176,
     "metadata": {},
     "output_type": "execute_result"
    }
   ],
   "source": [
    "X_train1, y_train1 = X1[0:int(n*0.7)], y1[0:int(n*0.7)]\n",
    "X_val1, y_val1 = X1[int(n*0.7):int(n*0.9)], y1[int(n*0.7):int(n*0.9)]\n",
    "X_test1, y_test1 = X1[int(n*0.9):], y1[int(n*0.9):]\n",
    "X_train1.shape, y_train1.shape, X_val1.shape, y_val1.shape, X_test1.shape, y_test1.shape"
   ]
  },
  {
   "cell_type": "code",
   "execution_count": 177,
   "metadata": {},
   "outputs": [],
   "source": [
    "from keras.models import Sequential\n",
    "from keras.layers import *\n",
    "from keras.callbacks import ModelCheckpoint\n",
    "from keras.losses import MeanSquaredError\n",
    "from keras.metrics import RootMeanSquaredError\n",
    "from keras.optimizers import Adam\n",
    "\n",
    "def compile_and_fit(model, X, y, validation_data, learing_rate = 0.001,expochs = 20, patience=2):\n",
    "  early_stopping = tf.keras.callbacks.EarlyStopping(monitor='val_loss',\n",
    "                                                    patience=patience,\n",
    "                                                    mode='min')\n",
    "\n",
    "  model.compile(loss=tf.keras.losses.MeanSquaredError(),\n",
    "                optimizer=tf.keras.optimizers.Adam(learning_rate=learing_rate),\n",
    "                metrics=[tf.keras.metrics.MeanAbsoluteError()])\n",
    "\n",
    "  history = model.fit(X, y, epochs=expochs,\n",
    "                      validation_data=validation_data,\n",
    "                      callbacks=[early_stopping])\n",
    "  return history, model\n",
    "\n",
    "def fit_lstm(X, y, batch_size, nb_epoch, neurons, validation_data, learning_rate = 0.001):\n",
    "# def fit_lstm(neurons, window):\n",
    "    early_stopping = tf.keras.callbacks.EarlyStopping(monitor='val_loss',\n",
    "                                                    patience=2,\n",
    "                                                    mode='min')\n",
    "\n",
    "    model = Sequential()\n",
    "    model.add(InputLayer((WINDOW_SIZE, 1)))\n",
    "    model.add(LSTM(neurons))\n",
    "    model.add(Dense(num_features, 'relu'))\n",
    "    model.add(Dense(1, 'linear'))\n",
    "    # model.compile(loss=MeanSquaredError(), optimizer=Adam(learning_rate=learning_rate), metrics=[RootMeanSquaredError()])\n",
    "    # for i in range(nb_epoch):\n",
    "    # model.fit(X, y, epochs=nb_epoch, batch_size=batch_size,  verbose=0, shuffle=False, validation_data=validation_data, callbacks=[early_stopping])\n",
    "    # model.reset_states()\n",
    "    return compile_and_fit(model, X, y, validation_data, expochs=nb_epoch, learing_rate=learning_rate)\n",
    "# model1 = Sequential()\n",
    "# model1.add(InputLayer((5, 1)))\n",
    "# model1.add(LSTM(64))\n",
    "# model1.add(Dense(8, 'relu'))\n",
    "# model1.add(Dense(1, 'linear'))\n",
    "\n",
    "# model1.summary()"
   ]
  },
  {
   "cell_type": "code",
   "execution_count": 178,
   "metadata": {},
   "outputs": [
    {
     "name": "stdout",
     "output_type": "stream",
     "text": [
      "Epoch 1/100\n",
      "32/32 [==============================] - 2s 21ms/step - loss: 64039088.0000 - mean_absolute_error: 6603.5327 - val_loss: 15278145.0000 - val_mean_absolute_error: 1411.2251\n",
      "Epoch 2/100\n",
      "32/32 [==============================] - 0s 7ms/step - loss: 64032992.0000 - mean_absolute_error: 6603.0640 - val_loss: 15276657.0000 - val_mean_absolute_error: 1410.6580\n",
      "Epoch 3/100\n",
      "32/32 [==============================] - 0s 7ms/step - loss: 64017932.0000 - mean_absolute_error: 6601.9409 - val_loss: 15272594.0000 - val_mean_absolute_error: 1409.2142\n",
      "Epoch 4/100\n",
      "32/32 [==============================] - 0s 7ms/step - loss: 64000708.0000 - mean_absolute_error: 6600.6323 - val_loss: 15268767.0000 - val_mean_absolute_error: 1407.8035\n",
      "Epoch 5/100\n",
      "32/32 [==============================] - 0s 7ms/step - loss: 63980516.0000 - mean_absolute_error: 6599.1392 - val_loss: 15265063.0000 - val_mean_absolute_error: 1406.4485\n",
      "Epoch 6/100\n",
      "32/32 [==============================] - 0s 7ms/step - loss: 63959752.0000 - mean_absolute_error: 6597.5830 - val_loss: 15259578.0000 - val_mean_absolute_error: 1404.5197\n",
      "Epoch 7/100\n",
      "32/32 [==============================] - 0s 7ms/step - loss: 63933344.0000 - mean_absolute_error: 6595.6084 - val_loss: 15254463.0000 - val_mean_absolute_error: 1402.5474\n",
      "Epoch 8/100\n",
      "32/32 [==============================] - 0s 8ms/step - loss: 63904660.0000 - mean_absolute_error: 6593.4365 - val_loss: 15247337.0000 - val_mean_absolute_error: 1399.9099\n",
      "Epoch 9/100\n",
      "32/32 [==============================] - 0s 7ms/step - loss: 63863588.0000 - mean_absolute_error: 6590.4141 - val_loss: 15239003.0000 - val_mean_absolute_error: 1396.9084\n",
      "Epoch 10/100\n",
      "32/32 [==============================] - 0s 7ms/step - loss: 63822268.0000 - mean_absolute_error: 6587.2993 - val_loss: 15230056.0000 - val_mean_absolute_error: 1393.7581\n",
      "Epoch 11/100\n",
      "32/32 [==============================] - 0s 7ms/step - loss: 63779160.0000 - mean_absolute_error: 6584.1069 - val_loss: 15221018.0000 - val_mean_absolute_error: 1390.5265\n",
      "Epoch 12/100\n",
      "32/32 [==============================] - 0s 7ms/step - loss: 63732340.0000 - mean_absolute_error: 6580.5796 - val_loss: 15211410.0000 - val_mean_absolute_error: 1387.0797\n",
      "Epoch 13/100\n",
      "32/32 [==============================] - 0s 7ms/step - loss: 63678512.0000 - mean_absolute_error: 6576.5122 - val_loss: 15199536.0000 - val_mean_absolute_error: 1382.8363\n",
      "Epoch 14/100\n",
      "32/32 [==============================] - 0s 7ms/step - loss: 63617772.0000 - mean_absolute_error: 6572.0903 - val_loss: 15187494.0000 - val_mean_absolute_error: 1378.6598\n",
      "Epoch 15/100\n",
      "32/32 [==============================] - 0s 7ms/step - loss: 63554752.0000 - mean_absolute_error: 6567.2554 - val_loss: 15173266.0000 - val_mean_absolute_error: 1373.8016\n",
      "Epoch 16/100\n",
      "32/32 [==============================] - 0s 7ms/step - loss: 63480520.0000 - mean_absolute_error: 6561.7090 - val_loss: 15156759.0000 - val_mean_absolute_error: 1368.3546\n",
      "Epoch 17/100\n",
      "32/32 [==============================] - 0s 8ms/step - loss: 63399972.0000 - mean_absolute_error: 6555.7998 - val_loss: 15141151.0000 - val_mean_absolute_error: 1363.0736\n",
      "Epoch 18/100\n",
      "32/32 [==============================] - 0s 7ms/step - loss: 63305748.0000 - mean_absolute_error: 6548.7734 - val_loss: 15120966.0000 - val_mean_absolute_error: 1356.5557\n",
      "Epoch 19/100\n",
      "32/32 [==============================] - 0s 7ms/step - loss: 63209856.0000 - mean_absolute_error: 6541.6606 - val_loss: 15102707.0000 - val_mean_absolute_error: 1350.8539\n",
      "Epoch 20/100\n",
      "32/32 [==============================] - 0s 7ms/step - loss: 63120396.0000 - mean_absolute_error: 6535.0503 - val_loss: 15084799.0000 - val_mean_absolute_error: 1345.2483\n",
      "Epoch 21/100\n",
      "32/32 [==============================] - 0s 8ms/step - loss: 63029092.0000 - mean_absolute_error: 6528.3428 - val_loss: 15067078.0000 - val_mean_absolute_error: 1339.6176\n",
      "Epoch 22/100\n",
      "32/32 [==============================] - 0s 7ms/step - loss: 62969700.0000 - mean_absolute_error: 6523.9629 - val_loss: 15057671.0000 - val_mean_absolute_error: 1336.8971\n",
      "Epoch 23/100\n",
      "32/32 [==============================] - 0s 7ms/step - loss: 62888336.0000 - mean_absolute_error: 6518.0972 - val_loss: 15038956.0000 - val_mean_absolute_error: 1331.3300\n",
      "Epoch 24/100\n",
      "32/32 [==============================] - 0s 7ms/step - loss: 62790452.0000 - mean_absolute_error: 6510.9321 - val_loss: 15019680.0000 - val_mean_absolute_error: 1325.7198\n",
      "Epoch 25/100\n",
      "32/32 [==============================] - 0s 8ms/step - loss: 62690560.0000 - mean_absolute_error: 6503.6919 - val_loss: 15000077.0000 - val_mean_absolute_error: 1320.0267\n",
      "Epoch 26/100\n",
      "32/32 [==============================] - 0s 7ms/step - loss: 62587712.0000 - mean_absolute_error: 6496.2910 - val_loss: 14979882.0000 - val_mean_absolute_error: 1314.1310\n",
      "Epoch 27/100\n",
      "32/32 [==============================] - 0s 7ms/step - loss: 62480016.0000 - mean_absolute_error: 6488.4946 - val_loss: 14959135.0000 - val_mean_absolute_error: 1308.0088\n",
      "Epoch 28/100\n",
      "32/32 [==============================] - 0s 7ms/step - loss: 62369080.0000 - mean_absolute_error: 6480.4180 - val_loss: 14938216.0000 - val_mean_absolute_error: 1301.5024\n",
      "Epoch 29/100\n",
      "32/32 [==============================] - 0s 8ms/step - loss: 62258448.0000 - mean_absolute_error: 6472.3853 - val_loss: 14916196.0000 - val_mean_absolute_error: 1295.5286\n",
      "Epoch 30/100\n",
      "32/32 [==============================] - 0s 7ms/step - loss: 62137484.0000 - mean_absolute_error: 6463.8652 - val_loss: 14894231.0000 - val_mean_absolute_error: 1289.4846\n",
      "Epoch 31/100\n",
      "32/32 [==============================] - 0s 7ms/step - loss: 62017528.0000 - mean_absolute_error: 6455.1362 - val_loss: 14872040.0000 - val_mean_absolute_error: 1282.4187\n",
      "Epoch 32/100\n",
      "32/32 [==============================] - 0s 7ms/step - loss: 61889652.0000 - mean_absolute_error: 6445.8555 - val_loss: 14847703.0000 - val_mean_absolute_error: 1276.3109\n",
      "Epoch 33/100\n",
      "32/32 [==============================] - 0s 8ms/step - loss: 61763864.0000 - mean_absolute_error: 6436.7026 - val_loss: 14824512.0000 - val_mean_absolute_error: 1269.6725\n",
      "Epoch 34/100\n",
      "32/32 [==============================] - 0s 7ms/step - loss: 61636640.0000 - mean_absolute_error: 6427.3657 - val_loss: 14801050.0000 - val_mean_absolute_error: 1262.6829\n",
      "Epoch 35/100\n",
      "32/32 [==============================] - 0s 7ms/step - loss: 61506744.0000 - mean_absolute_error: 6417.8970 - val_loss: 14777542.0000 - val_mean_absolute_error: 1254.5629\n",
      "Epoch 36/100\n",
      "32/32 [==============================] - 0s 7ms/step - loss: 61375648.0000 - mean_absolute_error: 6408.5234 - val_loss: 14753868.0000 - val_mean_absolute_error: 1249.4513\n",
      "Epoch 37/100\n",
      "32/32 [==============================] - 0s 7ms/step - loss: 61245436.0000 - mean_absolute_error: 6399.0869 - val_loss: 14730738.0000 - val_mean_absolute_error: 1242.8000\n",
      "Epoch 38/100\n",
      "32/32 [==============================] - 0s 7ms/step - loss: 61110148.0000 - mean_absolute_error: 6388.9009 - val_loss: 14708175.0000 - val_mean_absolute_error: 1234.9089\n",
      "Epoch 39/100\n",
      "32/32 [==============================] - 0s 7ms/step - loss: 60973020.0000 - mean_absolute_error: 6378.7515 - val_loss: 14681702.0000 - val_mean_absolute_error: 1228.3514\n",
      "Epoch 40/100\n",
      "32/32 [==============================] - 0s 7ms/step - loss: 60828488.0000 - mean_absolute_error: 6368.0425 - val_loss: 14656484.0000 - val_mean_absolute_error: 1220.2527\n",
      "Epoch 41/100\n",
      "32/32 [==============================] - 0s 7ms/step - loss: 60685116.0000 - mean_absolute_error: 6357.3901 - val_loss: 14630879.0000 - val_mean_absolute_error: 1214.4226\n",
      "Epoch 42/100\n",
      "32/32 [==============================] - 0s 7ms/step - loss: 60538296.0000 - mean_absolute_error: 6346.7119 - val_loss: 14607779.0000 - val_mean_absolute_error: 1207.1072\n",
      "Epoch 43/100\n",
      "32/32 [==============================] - 0s 7ms/step - loss: 60389556.0000 - mean_absolute_error: 6335.3262 - val_loss: 14583198.0000 - val_mean_absolute_error: 1197.8589\n",
      "Epoch 44/100\n",
      "32/32 [==============================] - 0s 7ms/step - loss: 60234808.0000 - mean_absolute_error: 6323.2437 - val_loss: 14556723.0000 - val_mean_absolute_error: 1189.7421\n",
      "Epoch 45/100\n",
      "32/32 [==============================] - 0s 8ms/step - loss: 60078236.0000 - mean_absolute_error: 6311.6455 - val_loss: 14530794.0000 - val_mean_absolute_error: 1183.9370\n",
      "Epoch 46/100\n",
      "32/32 [==============================] - 0s 7ms/step - loss: 59920072.0000 - mean_absolute_error: 6299.8491 - val_loss: 14503320.0000 - val_mean_absolute_error: 1176.5750\n",
      "Epoch 47/100\n",
      "32/32 [==============================] - 0s 7ms/step - loss: 59760388.0000 - mean_absolute_error: 6287.8013 - val_loss: 14477711.0000 - val_mean_absolute_error: 1169.2107\n",
      "Epoch 48/100\n",
      "32/32 [==============================] - 0s 7ms/step - loss: 59600232.0000 - mean_absolute_error: 6275.4873 - val_loss: 14451348.0000 - val_mean_absolute_error: 1163.6013\n",
      "Epoch 49/100\n",
      "32/32 [==============================] - 0s 8ms/step - loss: 59437204.0000 - mean_absolute_error: 6263.4497 - val_loss: 14427658.0000 - val_mean_absolute_error: 1158.7808\n",
      "Epoch 50/100\n",
      "32/32 [==============================] - 0s 7ms/step - loss: 59275168.0000 - mean_absolute_error: 6251.8965 - val_loss: 14400076.0000 - val_mean_absolute_error: 1151.3176\n",
      "Epoch 51/100\n",
      "32/32 [==============================] - 0s 7ms/step - loss: 59111924.0000 - mean_absolute_error: 6238.9995 - val_loss: 14373154.0000 - val_mean_absolute_error: 1145.6056\n",
      "Epoch 52/100\n",
      "32/32 [==============================] - 0s 7ms/step - loss: 58949428.0000 - mean_absolute_error: 6226.4854 - val_loss: 14349153.0000 - val_mean_absolute_error: 1137.6082\n",
      "Epoch 53/100\n",
      "32/32 [==============================] - 0s 8ms/step - loss: 58780744.0000 - mean_absolute_error: 6213.6699 - val_loss: 14320732.0000 - val_mean_absolute_error: 1133.0801\n",
      "Epoch 54/100\n",
      "32/32 [==============================] - 0s 7ms/step - loss: 58607516.0000 - mean_absolute_error: 6200.5156 - val_loss: 14295659.0000 - val_mean_absolute_error: 1127.5309\n",
      "Epoch 55/100\n",
      "32/32 [==============================] - 0s 7ms/step - loss: 58438804.0000 - mean_absolute_error: 6187.5776 - val_loss: 14269897.0000 - val_mean_absolute_error: 1124.7013\n",
      "Epoch 56/100\n",
      "32/32 [==============================] - 0s 7ms/step - loss: 58265892.0000 - mean_absolute_error: 6174.7285 - val_loss: 14242443.0000 - val_mean_absolute_error: 1115.9276\n",
      "Epoch 57/100\n",
      "32/32 [==============================] - 0s 8ms/step - loss: 58090076.0000 - mean_absolute_error: 6161.2559 - val_loss: 14217009.0000 - val_mean_absolute_error: 1115.7609\n",
      "Epoch 58/100\n",
      "32/32 [==============================] - 0s 7ms/step - loss: 57969504.0000 - mean_absolute_error: 6151.7280 - val_loss: 14248202.0000 - val_mean_absolute_error: 1117.2135\n",
      "Epoch 59/100\n",
      "32/32 [==============================] - 0s 7ms/step - loss: 58147100.0000 - mean_absolute_error: 6165.8052 - val_loss: 14225099.0000 - val_mean_absolute_error: 1118.3024\n"
     ]
    }
   ],
   "source": [
    "history, model1=fit_lstm(X_train1, y_train1, neurons=32, nb_epoch=100, batch_size=16, validation_data=(X_val1, y_val1))"
   ]
  },
  {
   "cell_type": "code",
   "execution_count": 181,
   "metadata": {},
   "outputs": [
    {
     "name": "stdout",
     "output_type": "stream",
     "text": [
      "4/4 [==============================] - 0s 3ms/step\n"
     ]
    },
    {
     "data": {
      "text/html": [
       "<div>\n",
       "<style scoped>\n",
       "    .dataframe tbody tr th:only-of-type {\n",
       "        vertical-align: middle;\n",
       "    }\n",
       "\n",
       "    .dataframe tbody tr th {\n",
       "        vertical-align: top;\n",
       "    }\n",
       "\n",
       "    .dataframe thead th {\n",
       "        text-align: right;\n",
       "    }\n",
       "</style>\n",
       "<table border=\"1\" class=\"dataframe\">\n",
       "  <thead>\n",
       "    <tr style=\"text-align: right;\">\n",
       "      <th></th>\n",
       "      <th>Train Predictions</th>\n",
       "      <th>Actuals</th>\n",
       "    </tr>\n",
       "  </thead>\n",
       "  <tbody>\n",
       "    <tr>\n",
       "      <th>0</th>\n",
       "      <td>145.581360</td>\n",
       "      <td>25</td>\n",
       "    </tr>\n",
       "    <tr>\n",
       "      <th>1</th>\n",
       "      <td>145.658997</td>\n",
       "      <td>20</td>\n",
       "    </tr>\n",
       "    <tr>\n",
       "      <th>2</th>\n",
       "      <td>148.358109</td>\n",
       "      <td>26</td>\n",
       "    </tr>\n",
       "    <tr>\n",
       "      <th>3</th>\n",
       "      <td>145.911804</td>\n",
       "      <td>532</td>\n",
       "    </tr>\n",
       "    <tr>\n",
       "      <th>4</th>\n",
       "      <td>276.006134</td>\n",
       "      <td>43</td>\n",
       "    </tr>\n",
       "    <tr>\n",
       "      <th>...</th>\n",
       "      <td>...</td>\n",
       "      <td>...</td>\n",
       "    </tr>\n",
       "    <tr>\n",
       "      <th>121</th>\n",
       "      <td>155.500076</td>\n",
       "      <td>15</td>\n",
       "    </tr>\n",
       "    <tr>\n",
       "      <th>122</th>\n",
       "      <td>149.884201</td>\n",
       "      <td>32</td>\n",
       "    </tr>\n",
       "    <tr>\n",
       "      <th>123</th>\n",
       "      <td>141.709061</td>\n",
       "      <td>0</td>\n",
       "    </tr>\n",
       "    <tr>\n",
       "      <th>124</th>\n",
       "      <td>148.763565</td>\n",
       "      <td>0</td>\n",
       "    </tr>\n",
       "    <tr>\n",
       "      <th>125</th>\n",
       "      <td>137.515671</td>\n",
       "      <td>0</td>\n",
       "    </tr>\n",
       "  </tbody>\n",
       "</table>\n",
       "<p>126 rows × 2 columns</p>\n",
       "</div>"
      ],
      "text/plain": [
       "     Train Predictions  Actuals\n",
       "0           145.581360       25\n",
       "1           145.658997       20\n",
       "2           148.358109       26\n",
       "3           145.911804      532\n",
       "4           276.006134       43\n",
       "..                 ...      ...\n",
       "121         155.500076       15\n",
       "122         149.884201       32\n",
       "123         141.709061        0\n",
       "124         148.763565        0\n",
       "125         137.515671        0\n",
       "\n",
       "[126 rows x 2 columns]"
      ]
     },
     "execution_count": 181,
     "metadata": {},
     "output_type": "execute_result"
    }
   ],
   "source": [
    "train_predictions = model1.predict(X_test1).flatten()\n",
    "train_results = pd.DataFrame(data={'Train Predictions':train_predictions, 'Actuals':y_test1})\n",
    "train_results"
   ]
  },
  {
   "cell_type": "code",
   "execution_count": 182,
   "metadata": {},
   "outputs": [
    {
     "data": {
      "text/plain": [
       "[<matplotlib.lines.Line2D at 0x7ff36ffbd9c0>]"
      ]
     },
     "execution_count": 182,
     "metadata": {},
     "output_type": "execute_result"
    },
    {
     "data": {
      "image/png": "[encoded data removed]",
      "text/plain": [
       "<Figure size 800x600 with 1 Axes>"
      ]
     },
     "metadata": {},
     "output_type": "display_data"
    }
   ],
   "source": [
    "import matplotlib.pyplot as plt\n",
    "plt.plot(train_results['Train Predictions'])\n",
    "plt.plot(train_results['Actuals'])"
   ]
  }
 ],
 "metadata": {
  "kernelspec": {
   "display_name": "Python 3 (ipykernel)",
   "language": "python",
   "name": "python3"
  },
  "language_info": {
   "codemirror_mode": {
    "name": "ipython",
    "version": 3
   },
   "file_extension": ".py",
   "mimetype": "text/x-python",
   "name": "python",
   "nbconvert_exporter": "python",
   "pygments_lexer": "ipython3",
   "version": "3.10.12"
  }
 },
 "nbformat": 4,
 "nbformat_minor": 2
}
