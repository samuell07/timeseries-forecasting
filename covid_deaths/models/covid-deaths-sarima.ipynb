{
 "cells": [
  {
   "cell_type": "markdown",
   "metadata": {},
   "source": [
    "Related urls, will remove once finished:\n",
    "- https://www.kaggle.com/code/mjmurphy28/grid-search-for-sarima"
   ]
  },
  {
   "cell_type": "code",
   "execution_count": 2,
   "metadata": {},
   "outputs": [],
   "source": [
    "import pandas as pd\n",
    "import matplotlib.pyplot as plt\n",
    "from statsmodels.graphics.tsaplots import plot_acf, plot_pacf\n",
    "from statsmodels.tsa.stattools import adfuller\n",
    "from sklearn.metrics import mean_squared_error\n",
    "from math import sqrt\n",
    "from pmdarima import auto_arima"
   ]
  },
  {
   "cell_type": "code",
   "execution_count": 3,
   "metadata": {},
   "outputs": [],
   "source": [
    "# Load the dataset\n",
    "file_path = '../data/WHO-COVID-19-global-data.csv'\n",
    "date_column = 'Date_reported'\n",
    "target_column = 'New_deaths'\n",
    "data = pd.read_csv(file_path, parse_dates=True)\n",
    "data = data[[date_column, target_column]]\n",
    "\n",
    "data.set_index(date_column, inplace=True)\n",
    "data = data.groupby(date_column).sum().reset_index()\n",
    "\n"
   ]
  },
  {
   "cell_type": "code",
   "execution_count": 4,
   "metadata": {},
   "outputs": [
    {
     "name": "stdout",
     "output_type": "stream",
     "text": [
      "1. ADF :  -2.113417118064879\n",
      "2. P-Value :  0.23915384830229663\n",
      "3. Num Of Lags :  17\n",
      "4. Num Of Observations Used For ADF Regression: 1389\n",
      "5. Critical Values :\n",
      "\t 1% :  -3.4350666494778137\n",
      "\t 5% :  -2.8636230590277587\n",
      "\t 10% :  -2.5678790153478865\n"
     ]
    }
   ],
   "source": [
    "data = data.dropna()\n",
    "def adf_test(dataset):\n",
    "     dftest = adfuller(dataset, autolag = 'AIC')\n",
    "     print(\"1. ADF : \",dftest[0])\n",
    "     print(\"2. P-Value : \", dftest[1])\n",
    "     print(\"3. Num Of Lags : \", dftest[2])\n",
    "     print(\"4. Num Of Observations Used For ADF Regression:\",      dftest[3])\n",
    "     print(\"5. Critical Values :\")\n",
    "     for key, val in dftest[4].items():\n",
    "         print(\"\\t\",key, \": \", val)\n",
    "adf_test(data[target_column])"
   ]
  },
  {
   "cell_type": "code",
   "execution_count": 5,
   "metadata": {},
   "outputs": [
    {
     "data": {
      "image/png": "[encoded data removed]",
      "text/plain": [
       "<Figure size 432x288 with 1 Axes>"
      ]
     },
     "metadata": {
      "needs_background": "light"
     },
     "output_type": "display_data"
    },
    {
     "data": {
      "image/png": "[encoded data removed]",
      "text/plain": [
       "<Figure size 432x288 with 1 Axes>"
      ]
     },
     "metadata": {
      "needs_background": "light"
     },
     "output_type": "display_data"
    }
   ],
   "source": [
    "# Plot ACF and PACF for ARIMA order identification\n",
    "train = data[[target_column]].iloc[:-60]\n",
    "test = data[[target_column]].iloc[-60:]\n",
    "plot_acf(train)\n",
    "plt.show()\n",
    "\n",
    "plot_pacf(train)\n",
    "plt.show()"
   ]
  },
  {
   "cell_type": "code",
   "execution_count": 6,
   "metadata": {},
   "outputs": [
    {
     "ename": "NameError",
     "evalue": "name 'SARIMAWrapper' is not defined",
     "output_type": "error",
     "traceback": [
      "\u001b[1;31m---------------------------------------------------------------------------\u001b[0m",
      "\u001b[1;31mNameError\u001b[0m                                 Traceback (most recent call last)",
      "\u001b[1;32mc:\\Users\\ambro\\OneDrive\\Desktop\\timeseries-forecasting\\covid_deaths\\models\\covid-deaths-sarima.ipynb Cell 6\u001b[0m line \u001b[0;36m<cell line: 38>\u001b[1;34m()\u001b[0m\n\u001b[0;32m     <a href='vscode-notebook-cell:/c%3A/Users/ambro/OneDrive/Desktop/timeseries-forecasting/covid_deaths/models/covid-deaths-sarima.ipynb#W5sZmlsZQ%3D%3D?line=18'>19</a>\u001b[0m param_distributions \u001b[39m=\u001b[39m {\n\u001b[0;32m     <a href='vscode-notebook-cell:/c%3A/Users/ambro/OneDrive/Desktop/timeseries-forecasting/covid_deaths/models/covid-deaths-sarima.ipynb#W5sZmlsZQ%3D%3D?line=19'>20</a>\u001b[0m     \u001b[39m'\u001b[39m\u001b[39morder\u001b[39m\u001b[39m'\u001b[39m: [(p,d,q) \u001b[39mfor\u001b[39;00m p \u001b[39min\u001b[39;00m \u001b[39mrange\u001b[39m(\u001b[39m3\u001b[39m) \u001b[39mfor\u001b[39;00m d \u001b[39min\u001b[39;00m \u001b[39mrange\u001b[39m(\u001b[39m2\u001b[39m) \u001b[39mfor\u001b[39;00m q \u001b[39min\u001b[39;00m \u001b[39mrange\u001b[39m(\u001b[39m3\u001b[39m)],\n\u001b[0;32m     <a href='vscode-notebook-cell:/c%3A/Users/ambro/OneDrive/Desktop/timeseries-forecasting/covid_deaths/models/covid-deaths-sarima.ipynb#W5sZmlsZQ%3D%3D?line=20'>21</a>\u001b[0m     \u001b[39m'\u001b[39m\u001b[39mseasonal_order\u001b[39m\u001b[39m'\u001b[39m: [(P,D,Q,s) \u001b[39mfor\u001b[39;00m P \u001b[39min\u001b[39;00m \u001b[39mrange\u001b[39m(\u001b[39m3\u001b[39m) \u001b[39mfor\u001b[39;00m D \u001b[39min\u001b[39;00m \u001b[39mrange\u001b[39m(\u001b[39m2\u001b[39m) \u001b[39mfor\u001b[39;00m Q \u001b[39min\u001b[39;00m \u001b[39mrange\u001b[39m(\u001b[39m3\u001b[39m) \u001b[39mfor\u001b[39;00m s \u001b[39min\u001b[39;00m [\u001b[39m12\u001b[39m]] \u001b[39m# assuming monthly data\u001b[39;00m\n\u001b[0;32m     <a href='vscode-notebook-cell:/c%3A/Users/ambro/OneDrive/Desktop/timeseries-forecasting/covid_deaths/models/covid-deaths-sarima.ipynb#W5sZmlsZQ%3D%3D?line=21'>22</a>\u001b[0m } \n\u001b[0;32m     <a href='vscode-notebook-cell:/c%3A/Users/ambro/OneDrive/Desktop/timeseries-forecasting/covid_deaths/models/covid-deaths-sarima.ipynb#W5sZmlsZQ%3D%3D?line=22'>23</a>\u001b[0m \u001b[39m# for order in pdq:\u001b[39;00m\n\u001b[0;32m     <a href='vscode-notebook-cell:/c%3A/Users/ambro/OneDrive/Desktop/timeseries-forecasting/covid_deaths/models/covid-deaths-sarima.ipynb#W5sZmlsZQ%3D%3D?line=23'>24</a>\u001b[0m \u001b[39m#     for seasonal_order in seasonal_pdq:\u001b[39;00m\n\u001b[0;32m     <a href='vscode-notebook-cell:/c%3A/Users/ambro/OneDrive/Desktop/timeseries-forecasting/covid_deaths/models/covid-deaths-sarima.ipynb#W5sZmlsZQ%3D%3D?line=24'>25</a>\u001b[0m \u001b[39m#         try:\u001b[39;00m\n\u001b[1;32m   (...)\u001b[0m\n\u001b[0;32m     <a href='vscode-notebook-cell:/c%3A/Users/ambro/OneDrive/Desktop/timeseries-forecasting/covid_deaths/models/covid-deaths-sarima.ipynb#W5sZmlsZQ%3D%3D?line=35'>36</a>\u001b[0m \u001b[39m# print(f\"Best ARIMA Order: {best_order}\")\u001b[39;00m\n\u001b[0;32m     <a href='vscode-notebook-cell:/c%3A/Users/ambro/OneDrive/Desktop/timeseries-forecasting/covid_deaths/models/covid-deaths-sarima.ipynb#W5sZmlsZQ%3D%3D?line=36'>37</a>\u001b[0m \u001b[39m# print(f\"Best Seasonal Order: {best_seasonal_order}\")\u001b[39;00m\n\u001b[1;32m---> <a href='vscode-notebook-cell:/c%3A/Users/ambro/OneDrive/Desktop/timeseries-forecasting/covid_deaths/models/covid-deaths-sarima.ipynb#W5sZmlsZQ%3D%3D?line=37'>38</a>\u001b[0m sarima \u001b[39m=\u001b[39m SARIMAWrapper()\n\u001b[0;32m     <a href='vscode-notebook-cell:/c%3A/Users/ambro/OneDrive/Desktop/timeseries-forecasting/covid_deaths/models/covid-deaths-sarima.ipynb#W5sZmlsZQ%3D%3D?line=38'>39</a>\u001b[0m tscv \u001b[39m=\u001b[39m TimeSeriesSplit(n_splits\u001b[39m=\u001b[39m\u001b[39m5\u001b[39m)\n\u001b[0;32m     <a href='vscode-notebook-cell:/c%3A/Users/ambro/OneDrive/Desktop/timeseries-forecasting/covid_deaths/models/covid-deaths-sarima.ipynb#W5sZmlsZQ%3D%3D?line=39'>40</a>\u001b[0m \u001b[39m# Use RandomizedSearchCV\u001b[39;00m\n",
      "\u001b[1;31mNameError\u001b[0m: name 'SARIMAWrapper' is not defined"
     ]
    }
   ],
   "source": [
    "import itertools\n",
    "from sklearn.base import BaseEstimator\n",
    "from sklearn.model_selection import RandomizedSearchCV, TimeSeriesSplit\n",
    "from statsmodels.tsa.statespace.sarimax import SARIMAX\n",
    "\n",
    "# # Define the p, d, and q parameters to take any value between 0 and 2\n",
    "# p = d = q = range(0, 3)\n",
    "\n",
    "# # Generate all different combinations of p, d, and q triplets\n",
    "# pdq = list(itertools.product(p, d, q))\n",
    "\n",
    "# # Generate all different combinations of seasonal p, d, and q triplets\n",
    "# seasonal_pdq = [(x[0], x[1], x[2], 12) for x in pdq]  # Assuming a seasonal period of 12\n",
    "\n",
    "# min_aic = float('inf')\n",
    "# best_order = None\n",
    "# best_seasonal_order = None\n",
    "\n",
    "param_distributions = {\n",
    "    'order': [(p,d,q) for p in range(3) for d in range(2) for q in range(3)],\n",
    "    'seasonal_order': [(P,D,Q,s) for P in range(3) for D in range(2) for Q in range(3) for s in [12]] # assuming monthly data\n",
    "} \n",
    "# for order in pdq:\n",
    "#     for seasonal_order in seasonal_pdq:\n",
    "#         try:\n",
    "#             model = SARIMAX(train[target_column], order=order, seasonal_order=seasonal_order)\n",
    "#             results = model.fit()\n",
    "#             if results.aic < min_aic:\n",
    "#                 min_aic = results.aic\n",
    "#                 best_order = order\n",
    "#                 best_seasonal_order = seasonal_order\n",
    "#         except Exception as e:\n",
    "#             print(e)\n",
    "#             continue\n",
    "\n",
    "# print(f\"Best ARIMA Order: {best_order}\")\n",
    "# print(f\"Best Seasonal Order: {best_seasonal_order}\")\n",
    "sarima = SARIMAWrapper()\n",
    "tscv = TimeSeriesSplit(n_splits=5)\n",
    "# Use RandomizedSearchCV\n",
    "random_search = RandomizedSearchCV(sarima, param_distributions=param_distributions, \n",
    "                                   n_iter=10, scoring='neg_mean_squared_error', \n",
    "                                   n_jobs=-1, cv=tscv, random_state=42)\n",
    "# Fit to the data (use only y_train since SARIMA uses the time series itself)\n",
    "random_search.fit(None, train[target_column])\n",
    "\n",
    "# Print the best parameters\n",
    "print('Best order:', random_search.best_params_['order'])\n",
    "print('Best seasonal order:', random_search.best_params_['seasonal_order'])"
   ]
  },
  {
   "cell_type": "code",
   "execution_count": 7,
   "metadata": {},
   "outputs": [
    {
     "name": "stdout",
     "output_type": "stream",
     "text": [
      "Performing stepwise search to minimize aic\n",
      " ARIMA(2,1,2)(1,0,1)[12] intercept   : AIC=25596.366, Time=1.77 sec\n",
      " ARIMA(0,1,0)(0,0,0)[12] intercept   : AIC=26672.005, Time=0.01 sec\n",
      " ARIMA(1,1,0)(1,0,0)[12] intercept   : AIC=26167.798, Time=0.20 sec\n",
      " ARIMA(0,1,1)(0,0,1)[12] intercept   : AIC=25765.898, Time=0.50 sec\n",
      " ARIMA(0,1,0)(0,0,0)[12]             : AIC=26670.005, Time=0.01 sec\n",
      " ARIMA(2,1,2)(0,0,1)[12] intercept   : AIC=25619.432, Time=1.49 sec\n",
      " ARIMA(2,1,2)(1,0,0)[12] intercept   : AIC=25655.092, Time=1.70 sec\n",
      " ARIMA(2,1,2)(2,0,1)[12] intercept   : AIC=26560.067, Time=4.69 sec\n",
      " ARIMA(2,1,2)(1,0,2)[12] intercept   : AIC=inf, Time=5.47 sec\n",
      " ARIMA(2,1,2)(0,0,0)[12] intercept   : AIC=25528.197, Time=0.75 sec\n",
      " ARIMA(1,1,2)(0,0,0)[12] intercept   : AIC=inf, Time=0.65 sec\n",
      " ARIMA(2,1,1)(0,0,0)[12] intercept   : AIC=25803.620, Time=0.11 sec\n",
      " ARIMA(3,1,2)(0,0,0)[12] intercept   : AIC=25489.086, Time=0.81 sec\n",
      " ARIMA(3,1,2)(1,0,0)[12] intercept   : AIC=25394.418, Time=1.79 sec\n",
      " ARIMA(3,1,2)(2,0,0)[12] intercept   : AIC=26989.090, Time=5.83 sec\n",
      " ARIMA(3,1,2)(1,0,1)[12] intercept   : AIC=25517.709, Time=2.08 sec\n",
      " ARIMA(3,1,2)(0,0,1)[12] intercept   : AIC=inf, Time=2.07 sec\n",
      " ARIMA(3,1,2)(2,0,1)[12] intercept   : AIC=26864.564, Time=8.24 sec\n",
      " ARIMA(3,1,1)(1,0,0)[12] intercept   : AIC=25764.183, Time=0.42 sec\n",
      " ARIMA(4,1,2)(1,0,0)[12] intercept   : AIC=25167.138, Time=2.49 sec\n",
      " ARIMA(4,1,2)(0,0,0)[12] intercept   : AIC=25523.807, Time=0.90 sec\n",
      " ARIMA(4,1,2)(2,0,0)[12] intercept   : AIC=25085.249, Time=5.50 sec\n",
      " ARIMA(4,1,2)(3,0,0)[12] intercept   : AIC=25057.450, Time=16.23 sec\n",
      " ARIMA(4,1,2)(3,0,1)[12] intercept   : AIC=25682.725, Time=19.22 sec\n",
      " ARIMA(4,1,2)(2,0,1)[12] intercept   : AIC=25732.311, Time=6.62 sec\n",
      " ARIMA(3,1,2)(3,0,0)[12] intercept   : AIC=26913.316, Time=14.96 sec\n",
      " ARIMA(4,1,1)(3,0,0)[12] intercept   : AIC=25349.893, Time=15.07 sec\n",
      " ARIMA(5,1,2)(3,0,0)[12] intercept   : AIC=24546.947, Time=19.34 sec\n",
      " ARIMA(5,1,2)(2,0,0)[12] intercept   : AIC=25564.577, Time=5.94 sec\n",
      " ARIMA(5,1,2)(3,0,1)[12] intercept   : AIC=24511.154, Time=20.24 sec\n",
      " ARIMA(5,1,2)(2,0,1)[12] intercept   : AIC=25724.672, Time=6.40 sec\n",
      " ARIMA(5,1,2)(3,0,2)[12] intercept   : AIC=24518.185, Time=21.95 sec\n",
      " ARIMA(5,1,2)(2,0,2)[12] intercept   : AIC=25650.817, Time=7.69 sec\n",
      " ARIMA(5,1,1)(3,0,1)[12] intercept   : AIC=25230.355, Time=18.45 sec\n",
      " ARIMA(5,1,3)(3,0,1)[12] intercept   : AIC=25144.243, Time=21.05 sec\n",
      " ARIMA(4,1,1)(3,0,1)[12] intercept   : AIC=25412.292, Time=18.64 sec\n",
      " ARIMA(4,1,3)(3,0,1)[12] intercept   : AIC=25112.583, Time=21.91 sec\n",
      " ARIMA(5,1,2)(3,0,1)[12]             : AIC=24509.140, Time=18.67 sec\n",
      " ARIMA(5,1,2)(2,0,1)[12]             : AIC=25722.665, Time=5.30 sec\n",
      " ARIMA(5,1,2)(3,0,0)[12]             : AIC=24545.599, Time=12.62 sec\n",
      " ARIMA(5,1,2)(3,0,2)[12]             : AIC=24510.966, Time=19.70 sec\n",
      " ARIMA(5,1,2)(2,0,0)[12]             : AIC=25568.114, Time=3.75 sec\n",
      " ARIMA(5,1,2)(2,0,2)[12]             : AIC=25647.193, Time=5.94 sec\n",
      " ARIMA(4,1,2)(3,0,1)[12]             : AIC=25681.089, Time=16.35 sec\n",
      " ARIMA(5,1,1)(3,0,1)[12]             : AIC=25228.381, Time=16.57 sec\n",
      " ARIMA(5,1,3)(3,0,1)[12]             : AIC=25142.222, Time=19.96 sec\n",
      " ARIMA(4,1,1)(3,0,1)[12]             : AIC=25410.318, Time=16.05 sec\n",
      " ARIMA(4,1,3)(3,0,1)[12]             : AIC=25110.589, Time=19.46 sec\n",
      "\n",
      "Best model:  ARIMA(5,1,2)(3,0,1)[12]          \n",
      "Total fit time: 435.605 seconds\n"
     ]
    }
   ],
   "source": [
    "stepwise_fit = auto_arima(data[target_column], trace=True,\n",
    "suppress_warnings=True, max_P=3, max_D=2, max_Q=3, m=12, stepwise=True)\n",
    "best_order=stepwise_fit.order\n",
    "best_seasonal_order=stepwise_fit.seasonal_order"
   ]
  },
  {
   "cell_type": "code",
   "execution_count": 8,
   "metadata": {},
   "outputs": [
    {
     "name": "stderr",
     "output_type": "stream",
     "text": [
      "c:\\Users\\ambro\\AppData\\Local\\Programs\\Python\\Python39\\lib\\site-packages\\statsmodels\\tsa\\statespace\\sarimax.py:966: UserWarning: Non-stationary starting autoregressive parameters found. Using zeros as starting parameters.\n",
      "  warn('Non-stationary starting autoregressive parameters'\n",
      "c:\\Users\\ambro\\AppData\\Local\\Programs\\Python\\Python39\\lib\\site-packages\\statsmodels\\tsa\\statespace\\sarimax.py:978: UserWarning: Non-invertible starting MA parameters found. Using zeros as starting parameters.\n",
      "  warn('Non-invertible starting MA parameters found.'\n",
      "c:\\Users\\ambro\\AppData\\Local\\Programs\\Python\\Python39\\lib\\site-packages\\statsmodels\\base\\model.py:607: ConvergenceWarning: Maximum Likelihood optimization failed to converge. Check mle_retvals\n",
      "  warnings.warn(\"Maximum Likelihood optimization failed to \"\n"
     ]
    },
    {
     "data": {
      "text/html": [
       "<table class=\"simpletable\">\n",
       "<caption>SARIMAX Results</caption>\n",
       "<tr>\n",
       "  <th>Dep. Variable:</th>              <td>New_deaths</td>            <th>  No. Observations:  </th>    <td>1347</td>   \n",
       "</tr>\n",
       "<tr>\n",
       "  <th>Model:</th>           <td>SARIMAX(5, 1, 2)x(3, 0, [1], 12)</td> <th>  Log Likelihood     </th> <td>-11747.675</td>\n",
       "</tr>\n",
       "<tr>\n",
       "  <th>Date:</th>                    <td>Mon, 13 Nov 2023</td>         <th>  AIC                </th>  <td>23519.349</td>\n",
       "</tr>\n",
       "<tr>\n",
       "  <th>Time:</th>                        <td>21:25:23</td>             <th>  BIC                </th>  <td>23581.808</td>\n",
       "</tr>\n",
       "<tr>\n",
       "  <th>Sample:</th>                          <td>0</td>                <th>  HQIC               </th>  <td>23542.743</td>\n",
       "</tr>\n",
       "<tr>\n",
       "  <th></th>                              <td> - 1347</td>             <th>                     </th>      <td> </td>    \n",
       "</tr>\n",
       "<tr>\n",
       "  <th>Covariance Type:</th>                <td>opg</td>               <th>                     </th>      <td> </td>    \n",
       "</tr>\n",
       "</table>\n",
       "<table class=\"simpletable\">\n",
       "<tr>\n",
       "      <td></td>        <th>coef</th>     <th>std err</th>      <th>z</th>      <th>P>|z|</th>  <th>[0.025</th>    <th>0.975]</th>  \n",
       "</tr>\n",
       "<tr>\n",
       "  <th>ar.L1</th>    <td>    0.0137</td> <td>    0.011</td> <td>    1.272</td> <td> 0.203</td> <td>   -0.007</td> <td>    0.035</td>\n",
       "</tr>\n",
       "<tr>\n",
       "  <th>ar.L2</th>    <td>   -0.7365</td> <td>    0.009</td> <td>  -78.961</td> <td> 0.000</td> <td>   -0.755</td> <td>   -0.718</td>\n",
       "</tr>\n",
       "<tr>\n",
       "  <th>ar.L3</th>    <td>   -0.3734</td> <td>    0.013</td> <td>  -27.980</td> <td> 0.000</td> <td>   -0.400</td> <td>   -0.347</td>\n",
       "</tr>\n",
       "<tr>\n",
       "  <th>ar.L4</th>    <td>   -0.3454</td> <td>    0.009</td> <td>  -39.143</td> <td> 0.000</td> <td>   -0.363</td> <td>   -0.328</td>\n",
       "</tr>\n",
       "<tr>\n",
       "  <th>ar.L5</th>    <td>   -0.7351</td> <td>    0.010</td> <td>  -74.747</td> <td> 0.000</td> <td>   -0.754</td> <td>   -0.716</td>\n",
       "</tr>\n",
       "<tr>\n",
       "  <th>ma.L1</th>    <td>   -0.9807</td> <td>    0.011</td> <td>  -92.320</td> <td> 0.000</td> <td>   -1.002</td> <td>   -0.960</td>\n",
       "</tr>\n",
       "<tr>\n",
       "  <th>ma.L2</th>    <td>    0.6828</td> <td>    0.009</td> <td>   72.075</td> <td> 0.000</td> <td>    0.664</td> <td>    0.701</td>\n",
       "</tr>\n",
       "<tr>\n",
       "  <th>ar.S.L12</th> <td>    0.6821</td> <td>    0.034</td> <td>   20.162</td> <td> 0.000</td> <td>    0.616</td> <td>    0.748</td>\n",
       "</tr>\n",
       "<tr>\n",
       "  <th>ar.S.L24</th> <td>   -0.2919</td> <td>    0.027</td> <td>  -10.871</td> <td> 0.000</td> <td>   -0.345</td> <td>   -0.239</td>\n",
       "</tr>\n",
       "<tr>\n",
       "  <th>ar.S.L36</th> <td>   -0.3070</td> <td>    0.018</td> <td>  -17.034</td> <td> 0.000</td> <td>   -0.342</td> <td>   -0.272</td>\n",
       "</tr>\n",
       "<tr>\n",
       "  <th>ma.S.L12</th> <td>   -0.2538</td> <td>    0.036</td> <td>   -7.112</td> <td> 0.000</td> <td>   -0.324</td> <td>   -0.184</td>\n",
       "</tr>\n",
       "<tr>\n",
       "  <th>sigma2</th>   <td> 1.176e+06</td> <td> 1.05e+04</td> <td>  112.001</td> <td> 0.000</td> <td> 1.15e+06</td> <td>  1.2e+06</td>\n",
       "</tr>\n",
       "</table>\n",
       "<table class=\"simpletable\">\n",
       "<tr>\n",
       "  <th>Ljung-Box (L1) (Q):</th>     <td>26.61</td> <th>  Jarque-Bera (JB):  </th> <td>12700.38</td>\n",
       "</tr>\n",
       "<tr>\n",
       "  <th>Prob(Q):</th>                <td>0.00</td>  <th>  Prob(JB):          </th>   <td>0.00</td>  \n",
       "</tr>\n",
       "<tr>\n",
       "  <th>Heteroskedasticity (H):</th> <td>0.28</td>  <th>  Skew:              </th>   <td>1.79</td>  \n",
       "</tr>\n",
       "<tr>\n",
       "  <th>Prob(H) (two-sided):</th>    <td>0.00</td>  <th>  Kurtosis:          </th>   <td>17.62</td> \n",
       "</tr>\n",
       "</table><br/><br/>Warnings:<br/>[1] Covariance matrix calculated using the outer product of gradients (complex-step)."
      ],
      "text/latex": [
       "\\begin{center}\n",
       "\\begin{tabular}{lclc}\n",
       "\\toprule\n",
       "\\textbf{Dep. Variable:}          &           New\\_deaths            & \\textbf{  No. Observations:  } &    1347     \\\\\n",
       "\\textbf{Model:}                  & SARIMAX(5, 1, 2)x(3, 0, [1], 12) & \\textbf{  Log Likelihood     } & -11747.675  \\\\\n",
       "\\textbf{Date:}                   &         Mon, 13 Nov 2023         & \\textbf{  AIC                } & 23519.349   \\\\\n",
       "\\textbf{Time:}                   &             21:25:23             & \\textbf{  BIC                } & 23581.808   \\\\\n",
       "\\textbf{Sample:}                 &                0                 & \\textbf{  HQIC               } & 23542.743   \\\\\n",
       "\\textbf{}                        &              - 1347              & \\textbf{                     } &             \\\\\n",
       "\\textbf{Covariance Type:}        &               opg                & \\textbf{                     } &             \\\\\n",
       "\\bottomrule\n",
       "\\end{tabular}\n",
       "\\begin{tabular}{lcccccc}\n",
       "                  & \\textbf{coef} & \\textbf{std err} & \\textbf{z} & \\textbf{P$> |$z$|$} & \\textbf{[0.025} & \\textbf{0.975]}  \\\\\n",
       "\\midrule\n",
       "\\textbf{ar.L1}    &       0.0137  &        0.011     &     1.272  &         0.203        &       -0.007    &        0.035     \\\\\n",
       "\\textbf{ar.L2}    &      -0.7365  &        0.009     &   -78.961  &         0.000        &       -0.755    &       -0.718     \\\\\n",
       "\\textbf{ar.L3}    &      -0.3734  &        0.013     &   -27.980  &         0.000        &       -0.400    &       -0.347     \\\\\n",
       "\\textbf{ar.L4}    &      -0.3454  &        0.009     &   -39.143  &         0.000        &       -0.363    &       -0.328     \\\\\n",
       "\\textbf{ar.L5}    &      -0.7351  &        0.010     &   -74.747  &         0.000        &       -0.754    &       -0.716     \\\\\n",
       "\\textbf{ma.L1}    &      -0.9807  &        0.011     &   -92.320  &         0.000        &       -1.002    &       -0.960     \\\\\n",
       "\\textbf{ma.L2}    &       0.6828  &        0.009     &    72.075  &         0.000        &        0.664    &        0.701     \\\\\n",
       "\\textbf{ar.S.L12} &       0.6821  &        0.034     &    20.162  &         0.000        &        0.616    &        0.748     \\\\\n",
       "\\textbf{ar.S.L24} &      -0.2919  &        0.027     &   -10.871  &         0.000        &       -0.345    &       -0.239     \\\\\n",
       "\\textbf{ar.S.L36} &      -0.3070  &        0.018     &   -17.034  &         0.000        &       -0.342    &       -0.272     \\\\\n",
       "\\textbf{ma.S.L12} &      -0.2538  &        0.036     &    -7.112  &         0.000        &       -0.324    &       -0.184     \\\\\n",
       "\\textbf{sigma2}   &    1.176e+06  &     1.05e+04     &   112.001  &         0.000        &     1.15e+06    &      1.2e+06     \\\\\n",
       "\\bottomrule\n",
       "\\end{tabular}\n",
       "\\begin{tabular}{lclc}\n",
       "\\textbf{Ljung-Box (L1) (Q):}     & 26.61 & \\textbf{  Jarque-Bera (JB):  } & 12700.38  \\\\\n",
       "\\textbf{Prob(Q):}                &  0.00 & \\textbf{  Prob(JB):          } &   0.00    \\\\\n",
       "\\textbf{Heteroskedasticity (H):} &  0.28 & \\textbf{  Skew:              } &   1.79    \\\\\n",
       "\\textbf{Prob(H) (two-sided):}    &  0.00 & \\textbf{  Kurtosis:          } &  17.62    \\\\\n",
       "\\bottomrule\n",
       "\\end{tabular}\n",
       "%\\caption{SARIMAX Results}\n",
       "\\end{center}\n",
       "\n",
       "Warnings: \\newline\n",
       " [1] Covariance matrix calculated using the outer product of gradients (complex-step)."
      ],
      "text/plain": [
       "<class 'statsmodels.iolib.summary.Summary'>\n",
       "\"\"\"\n",
       "                                      SARIMAX Results                                       \n",
       "============================================================================================\n",
       "Dep. Variable:                           New_deaths   No. Observations:                 1347\n",
       "Model:             SARIMAX(5, 1, 2)x(3, 0, [1], 12)   Log Likelihood              -11747.675\n",
       "Date:                              Mon, 13 Nov 2023   AIC                          23519.349\n",
       "Time:                                      21:25:23   BIC                          23581.808\n",
       "Sample:                                           0   HQIC                         23542.743\n",
       "                                             - 1347                                         \n",
       "Covariance Type:                                opg                                         \n",
       "==============================================================================\n",
       "                 coef    std err          z      P>|z|      [0.025      0.975]\n",
       "------------------------------------------------------------------------------\n",
       "ar.L1          0.0137      0.011      1.272      0.203      -0.007       0.035\n",
       "ar.L2         -0.7365      0.009    -78.961      0.000      -0.755      -0.718\n",
       "ar.L3         -0.3734      0.013    -27.980      0.000      -0.400      -0.347\n",
       "ar.L4         -0.3454      0.009    -39.143      0.000      -0.363      -0.328\n",
       "ar.L5         -0.7351      0.010    -74.747      0.000      -0.754      -0.716\n",
       "ma.L1         -0.9807      0.011    -92.320      0.000      -1.002      -0.960\n",
       "ma.L2          0.6828      0.009     72.075      0.000       0.664       0.701\n",
       "ar.S.L12       0.6821      0.034     20.162      0.000       0.616       0.748\n",
       "ar.S.L24      -0.2919      0.027    -10.871      0.000      -0.345      -0.239\n",
       "ar.S.L36      -0.3070      0.018    -17.034      0.000      -0.342      -0.272\n",
       "ma.S.L12      -0.2538      0.036     -7.112      0.000      -0.324      -0.184\n",
       "sigma2      1.176e+06   1.05e+04    112.001      0.000    1.15e+06     1.2e+06\n",
       "===================================================================================\n",
       "Ljung-Box (L1) (Q):                  26.61   Jarque-Bera (JB):             12700.38\n",
       "Prob(Q):                              0.00   Prob(JB):                         0.00\n",
       "Heteroskedasticity (H):               0.28   Skew:                             1.79\n",
       "Prob(H) (two-sided):                  0.00   Kurtosis:                        17.62\n",
       "===================================================================================\n",
       "\n",
       "Warnings:\n",
       "[1] Covariance matrix calculated using the outer product of gradients (complex-step).\n",
       "\"\"\""
      ]
     },
     "execution_count": 8,
     "metadata": {},
     "output_type": "execute_result"
    }
   ],
   "source": [
    "from sklearn.model_selection import GridSearchCV\n",
    "from statsmodels.tsa.statespace.sarimax import SARIMAX\n",
    "GridSearchCV\n",
    "model=SARIMAX(train[target_column],order=best_order, seasonal_order=best_seasonal_order)\n",
    "model=model.fit()\n",
    "model.summary()"
   ]
  },
  {
   "cell_type": "code",
   "execution_count": 9,
   "metadata": {},
   "outputs": [
    {
     "name": "stderr",
     "output_type": "stream",
     "text": [
      "c:\\Users\\ambro\\AppData\\Local\\Programs\\Python\\Python39\\lib\\site-packages\\statsmodels\\tsa\\statespace\\representation.py:374: FutureWarning: Unknown keyword arguments: dict_keys(['typ']).Passing unknown keyword arguments will raise a TypeError beginning in version 0.15.\n",
      "  warnings.warn(msg, FutureWarning)\n"
     ]
    },
    {
     "data": {
      "text/plain": [
       "<AxesSubplot:>"
      ]
     },
     "execution_count": 9,
     "metadata": {},
     "output_type": "execute_result"
    },
    {
     "data": {
      "image/png": "[encoded data removed]",
      "text/plain": [
       "<Figure size 432x288 with 1 Axes>"
      ]
     },
     "metadata": {
      "needs_background": "light"
     },
     "output_type": "display_data"
    }
   ],
   "source": [
    "start=len(train)\n",
    "end=len(train)+len(test)-1\n",
    "pred=model.predict(start=start,end=end,typ='levels').rename('SARIMA Predictions')\n",
    "pred.plot(legend=True)\n",
    "test[target_column].plot(legend=True)"
   ]
  },
  {
   "cell_type": "code",
   "execution_count": 10,
   "metadata": {},
   "outputs": [
    {
     "name": "stdout",
     "output_type": "stream",
     "text": [
      "305.1154123995522\n"
     ]
    }
   ],
   "source": [
    "test[target_column].mean()\n",
    "rmse=sqrt(mean_squared_error(pred,test[target_column]))\n",
    "print(rmse)"
   ]
  }
 ],
 "metadata": {
  "kernelspec": {
   "display_name": "Python 3",
   "language": "python",
   "name": "python3"
  },
  "language_info": {
   "codemirror_mode": {
    "name": "ipython",
    "version": 3
   },
   "file_extension": ".py",
   "mimetype": "text/x-python",
   "name": "python",
   "nbconvert_exporter": "python",
   "pygments_lexer": "ipython3",
   "version": "3.9.12"
  },
  "orig_nbformat": 4
 },
 "nbformat": 4,
 "nbformat_minor": 2
}
