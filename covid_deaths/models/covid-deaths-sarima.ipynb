{
 "cells": [
  {
   "cell_type": "markdown",
   "metadata": {},
   "source": [
    "Related urls, will remove once finished:\n",
    "- https://www.kaggle.com/code/mjmurphy28/grid-search-for-sarima"
   ]
  },
  {
   "cell_type": "code",
   "execution_count": 2,
   "metadata": {},
   "outputs": [],
   "source": [
    "import pandas as pd\n",
    "import matplotlib.pyplot as plt\n",
    "from statsmodels.graphics.tsaplots import plot_acf, plot_pacf\n",
    "from statsmodels.tsa.stattools import adfuller\n",
    "from sklearn.metrics import mean_squared_error\n",
    "from math import sqrt\n",
    "from pmdarima import auto_arima"
   ]
  },
  {
   "cell_type": "code",
   "execution_count": 3,
   "metadata": {},
   "outputs": [],
   "source": [
    "# Load the dataset\n",
    "file_path = '../data/owid-covid-data.csv'\n",
    "date_column = 'date'\n",
    "target_column = 'new_deaths'\n",
    "data = pd.read_csv(file_path, parse_dates=True)\n",
    "data = data[[date_column, target_column]]\n",
    "\n",
    "data.set_index(date_column, inplace=True)\n",
    "data = data.groupby(date_column).sum().reset_index()\n",
    "\n"
   ]
  },
  {
   "cell_type": "code",
   "execution_count": 4,
   "metadata": {},
   "outputs": [
    {
     "name": "stdout",
     "output_type": "stream",
     "text": [
      "1. ADF :  -2.16407040266354\n",
      "2. P-Value :  0.21954320991500131\n",
      "3. Num Of Lags :  17\n",
      "4. Num Of Observations Used For ADF Regression: 1348\n",
      "5. Critical Values :\n",
      "\t 1% :  -3.435210382964628\n",
      "\t 5% :  -2.8636864858936333\n",
      "\t 10% :  -2.5679127921571907\n"
     ]
    }
   ],
   "source": [
    "data = data.dropna()\n",
    "def adf_test(dataset):\n",
    "     dftest = adfuller(dataset, autolag = 'AIC')\n",
    "     print(\"1. ADF : \",dftest[0])\n",
    "     print(\"2. P-Value : \", dftest[1])\n",
    "     print(\"3. Num Of Lags : \", dftest[2])\n",
    "     print(\"4. Num Of Observations Used For ADF Regression:\",      dftest[3])\n",
    "     print(\"5. Critical Values :\")\n",
    "     for key, val in dftest[4].items():\n",
    "         print(\"\\t\",key, \": \", val)\n",
    "adf_test(data[target_column])"
   ]
  },
  {
   "cell_type": "code",
   "execution_count": 5,
   "metadata": {},
   "outputs": [
    {
     "data": {
      "image/png": "[encoded data removed]",
      "text/plain": [
       "<Figure size 432x288 with 1 Axes>"
      ]
     },
     "metadata": {
      "needs_background": "light"
     },
     "output_type": "display_data"
    },
    {
     "data": {
      "image/png": "[encoded data removed]",
      "text/plain": [
       "<Figure size 432x288 with 1 Axes>"
      ]
     },
     "metadata": {
      "needs_background": "light"
     },
     "output_type": "display_data"
    }
   ],
   "source": [
    "# Plot ACF and PACF for ARIMA order identification\n",
    "train = data[[target_column]].iloc[:-60]\n",
    "test = data[[target_column]].iloc[-60:]\n",
    "plot_acf(train)\n",
    "plt.show()\n",
    "\n",
    "plot_pacf(train)\n",
    "plt.show()"
   ]
  },
  {
   "cell_type": "code",
   "execution_count": 15,
   "metadata": {},
   "outputs": [
    {
     "ename": "TypeError",
     "evalue": "int() argument must be a string, a bytes-like object or a number, not 'NAType'",
     "output_type": "error",
     "traceback": [
      "\u001b[1;31m---------------------------------------------------------------------------\u001b[0m",
      "\u001b[1;31mTypeError\u001b[0m                                 Traceback (most recent call last)",
      "\u001b[1;32mUbuntu-20.04\\home\\sambros\\timeseries-forecasting\\covid_deaths\\models\\covid-deaths-sarima.ipynb Cell 5\u001b[0m line \u001b[0;36m<cell line: 44>\u001b[1;34m()\u001b[0m\n\u001b[0;32m     <a href='vscode-notebook-cell://wsl.localhost/Ubuntu-20.04/home/sambros/timeseries-forecasting/covid_deaths/models/covid-deaths-sarima.ipynb#W4sZmlsZQ%3D%3D?line=40'>41</a>\u001b[0m random_src \u001b[39m=\u001b[39m ForecastingRandomizedSearchCV(forecaster\u001b[39m=\u001b[39mmodel, param_distributions\u001b[39m=\u001b[39mparam_distributions, cv\u001b[39m=\u001b[39mSlidingWindowSplitter(window_length\u001b[39m=\u001b[39m\u001b[39m12\u001b[39m, start_with_window\u001b[39m=\u001b[39m\u001b[39mTrue\u001b[39;00m)\n\u001b[0;32m     <a href='vscode-notebook-cell://wsl.localhost/Ubuntu-20.04/home/sambros/timeseries-forecasting/covid_deaths/models/covid-deaths-sarima.ipynb#W4sZmlsZQ%3D%3D?line=41'>42</a>\u001b[0m , n_jobs\u001b[39m=\u001b[39m\u001b[39m-\u001b[39m\u001b[39m1\u001b[39m)\n\u001b[0;32m     <a href='vscode-notebook-cell://wsl.localhost/Ubuntu-20.04/home/sambros/timeseries-forecasting/covid_deaths/models/covid-deaths-sarima.ipynb#W4sZmlsZQ%3D%3D?line=42'>43</a>\u001b[0m \u001b[39m# Fit to the data (use only y_train since SARIMA uses the time series itself)\u001b[39;00m\n\u001b[1;32m---> <a href='vscode-notebook-cell://wsl.localhost/Ubuntu-20.04/home/sambros/timeseries-forecasting/covid_deaths/models/covid-deaths-sarima.ipynb#W4sZmlsZQ%3D%3D?line=43'>44</a>\u001b[0m random_src\u001b[39m.\u001b[39;49mfit(train[target_column])\n\u001b[0;32m     <a href='vscode-notebook-cell://wsl.localhost/Ubuntu-20.04/home/sambros/timeseries-forecasting/covid_deaths/models/covid-deaths-sarima.ipynb#W4sZmlsZQ%3D%3D?line=45'>46</a>\u001b[0m \u001b[39m# Print the best parameters\u001b[39;00m\n\u001b[0;32m     <a href='vscode-notebook-cell://wsl.localhost/Ubuntu-20.04/home/sambros/timeseries-forecasting/covid_deaths/models/covid-deaths-sarima.ipynb#W4sZmlsZQ%3D%3D?line=46'>47</a>\u001b[0m \u001b[39mprint\u001b[39m(\u001b[39m'\u001b[39m\u001b[39mBest order:\u001b[39m\u001b[39m'\u001b[39m, random_src\u001b[39m.\u001b[39mbest_params_[\u001b[39m'\u001b[39m\u001b[39morder\u001b[39m\u001b[39m'\u001b[39m])\n",
      "File \u001b[1;32mc:\\Users\\ambro\\AppData\\Local\\Programs\\Python\\Python39\\lib\\site-packages\\sktime\\forecasting\\base\\_base.py:383\u001b[0m, in \u001b[0;36mBaseForecaster.fit\u001b[1;34m(self, y, X, fh)\u001b[0m\n\u001b[0;32m    381\u001b[0m \u001b[39m# we call the ordinary _fit if no looping/vectorization needed\u001b[39;00m\n\u001b[0;32m    382\u001b[0m \u001b[39mif\u001b[39;00m \u001b[39mnot\u001b[39;00m vectorization_needed:\n\u001b[1;32m--> 383\u001b[0m     \u001b[39mself\u001b[39;49m\u001b[39m.\u001b[39;49m_fit(y\u001b[39m=\u001b[39;49my_inner, X\u001b[39m=\u001b[39;49mX_inner, fh\u001b[39m=\u001b[39;49mfh)\n\u001b[0;32m    384\u001b[0m \u001b[39melse\u001b[39;00m:\n\u001b[0;32m    385\u001b[0m     \u001b[39m# otherwise we call the vectorized version of fit\u001b[39;00m\n\u001b[0;32m    386\u001b[0m     \u001b[39mself\u001b[39m\u001b[39m.\u001b[39m_vectorize(\u001b[39m\"\u001b[39m\u001b[39mfit\u001b[39m\u001b[39m\"\u001b[39m, y\u001b[39m=\u001b[39my_inner, X\u001b[39m=\u001b[39mX_inner, fh\u001b[39m=\u001b[39mfh)\n",
      "File \u001b[1;32mc:\\Users\\ambro\\AppData\\Local\\Programs\\Python\\Python39\\lib\\site-packages\\sktime\\forecasting\\model_selection\\_tune.py:245\u001b[0m, in \u001b[0;36mBaseGridSearch._fit\u001b[1;34m(self, y, X, fh)\u001b[0m\n\u001b[0;32m    242\u001b[0m     \u001b[39mreturn\u001b[39;00m out\n\u001b[0;32m    244\u001b[0m \u001b[39m# Run grid-search cross-validation.\u001b[39;00m\n\u001b[1;32m--> 245\u001b[0m results \u001b[39m=\u001b[39m \u001b[39mself\u001b[39;49m\u001b[39m.\u001b[39;49m_run_search(evaluate_candidates)\n\u001b[0;32m    247\u001b[0m results \u001b[39m=\u001b[39m pd\u001b[39m.\u001b[39mDataFrame(results)\n\u001b[0;32m    249\u001b[0m \u001b[39m# Rank results, according to whether greater is better for the given scoring.\u001b[39;00m\n",
      "File \u001b[1;32mc:\\Users\\ambro\\AppData\\Local\\Programs\\Python\\Python39\\lib\\site-packages\\sktime\\forecasting\\model_selection\\_tune.py:838\u001b[0m, in \u001b[0;36mForecastingRandomizedSearchCV._run_search\u001b[1;34m(self, evaluate_candidates)\u001b[0m\n\u001b[0;32m    836\u001b[0m \u001b[39mdef\u001b[39;00m \u001b[39m_run_search\u001b[39m(\u001b[39mself\u001b[39m, evaluate_candidates):\n\u001b[0;32m    837\u001b[0m \u001b[39m    \u001b[39m\u001b[39m\"\"\"Search n_iter candidates from param_distributions.\"\"\"\u001b[39;00m\n\u001b[1;32m--> 838\u001b[0m     \u001b[39mreturn\u001b[39;00m evaluate_candidates(\n\u001b[0;32m    839\u001b[0m         ParameterSampler(\n\u001b[0;32m    840\u001b[0m             \u001b[39mself\u001b[39;49m\u001b[39m.\u001b[39;49mparam_distributions, \u001b[39mself\u001b[39;49m\u001b[39m.\u001b[39;49mn_iter, random_state\u001b[39m=\u001b[39;49m\u001b[39mself\u001b[39;49m\u001b[39m.\u001b[39;49mrandom_state\n\u001b[0;32m    841\u001b[0m         )\n\u001b[0;32m    842\u001b[0m     )\n",
      "File \u001b[1;32mc:\\Users\\ambro\\AppData\\Local\\Programs\\Python\\Python39\\lib\\site-packages\\sktime\\forecasting\\model_selection\\_tune.py:231\u001b[0m, in \u001b[0;36mBaseGridSearch._fit.<locals>.evaluate_candidates\u001b[1;34m(candidate_params)\u001b[0m\n\u001b[0;32m    223\u001b[0m     n_splits \u001b[39m=\u001b[39m cv\u001b[39m.\u001b[39mget_n_splits(y)\n\u001b[0;32m    224\u001b[0m     \u001b[39mprint\u001b[39m(  \u001b[39m# noqa\u001b[39;00m\n\u001b[0;32m    225\u001b[0m         \u001b[39m\"\u001b[39m\u001b[39mFitting \u001b[39m\u001b[39m{}\u001b[39;00m\u001b[39m folds for each of \u001b[39m\u001b[39m{}\u001b[39;00m\u001b[39m candidates,\u001b[39m\u001b[39m\"\u001b[39m\n\u001b[0;32m    226\u001b[0m         \u001b[39m\"\u001b[39m\u001b[39m totalling \u001b[39m\u001b[39m{}\u001b[39;00m\u001b[39m fits\u001b[39m\u001b[39m\"\u001b[39m\u001b[39m.\u001b[39mformat(\n\u001b[0;32m    227\u001b[0m             n_splits, n_candidates, n_candidates \u001b[39m*\u001b[39m n_splits\n\u001b[0;32m    228\u001b[0m         )\n\u001b[0;32m    229\u001b[0m     )\n\u001b[1;32m--> 231\u001b[0m out \u001b[39m=\u001b[39m parallel(\n\u001b[0;32m    232\u001b[0m     delayed(_fit_and_score)(params) \u001b[39mfor\u001b[39;49;00m params \u001b[39min\u001b[39;49;00m candidate_params\n\u001b[0;32m    233\u001b[0m )\n\u001b[0;32m    235\u001b[0m \u001b[39mif\u001b[39;00m \u001b[39mlen\u001b[39m(out) \u001b[39m<\u001b[39m \u001b[39m1\u001b[39m:\n\u001b[0;32m    236\u001b[0m     \u001b[39mraise\u001b[39;00m \u001b[39mValueError\u001b[39;00m(\n\u001b[0;32m    237\u001b[0m         \u001b[39m\"\u001b[39m\u001b[39mNo fits were performed. \u001b[39m\u001b[39m\"\u001b[39m\n\u001b[0;32m    238\u001b[0m         \u001b[39m\"\u001b[39m\u001b[39mWas the CV iterator empty? \u001b[39m\u001b[39m\"\u001b[39m\n\u001b[0;32m    239\u001b[0m         \u001b[39m\"\u001b[39m\u001b[39mWere there no candidates?\u001b[39m\u001b[39m\"\u001b[39m\n\u001b[0;32m    240\u001b[0m     )\n",
      "File \u001b[1;32mc:\\Users\\ambro\\AppData\\Local\\Programs\\Python\\Python39\\lib\\site-packages\\joblib\\parallel.py:1056\u001b[0m, in \u001b[0;36mParallel.__call__\u001b[1;34m(self, iterable)\u001b[0m\n\u001b[0;32m   1053\u001b[0m     \u001b[39mself\u001b[39m\u001b[39m.\u001b[39m_iterating \u001b[39m=\u001b[39m \u001b[39mFalse\u001b[39;00m\n\u001b[0;32m   1055\u001b[0m \u001b[39mwith\u001b[39;00m \u001b[39mself\u001b[39m\u001b[39m.\u001b[39m_backend\u001b[39m.\u001b[39mretrieval_context():\n\u001b[1;32m-> 1056\u001b[0m     \u001b[39mself\u001b[39;49m\u001b[39m.\u001b[39;49mretrieve()\n\u001b[0;32m   1057\u001b[0m \u001b[39m# Make sure that we get a last message telling us we are done\u001b[39;00m\n\u001b[0;32m   1058\u001b[0m elapsed_time \u001b[39m=\u001b[39m time\u001b[39m.\u001b[39mtime() \u001b[39m-\u001b[39m \u001b[39mself\u001b[39m\u001b[39m.\u001b[39m_start_time\n",
      "File \u001b[1;32mc:\\Users\\ambro\\AppData\\Local\\Programs\\Python\\Python39\\lib\\site-packages\\joblib\\parallel.py:935\u001b[0m, in \u001b[0;36mParallel.retrieve\u001b[1;34m(self)\u001b[0m\n\u001b[0;32m    933\u001b[0m \u001b[39mtry\u001b[39;00m:\n\u001b[0;32m    934\u001b[0m     \u001b[39mif\u001b[39;00m \u001b[39mgetattr\u001b[39m(\u001b[39mself\u001b[39m\u001b[39m.\u001b[39m_backend, \u001b[39m'\u001b[39m\u001b[39msupports_timeout\u001b[39m\u001b[39m'\u001b[39m, \u001b[39mFalse\u001b[39;00m):\n\u001b[1;32m--> 935\u001b[0m         \u001b[39mself\u001b[39m\u001b[39m.\u001b[39m_output\u001b[39m.\u001b[39mextend(job\u001b[39m.\u001b[39;49mget(timeout\u001b[39m=\u001b[39;49m\u001b[39mself\u001b[39;49m\u001b[39m.\u001b[39;49mtimeout))\n\u001b[0;32m    936\u001b[0m     \u001b[39melse\u001b[39;00m:\n\u001b[0;32m    937\u001b[0m         \u001b[39mself\u001b[39m\u001b[39m.\u001b[39m_output\u001b[39m.\u001b[39mextend(job\u001b[39m.\u001b[39mget())\n",
      "File \u001b[1;32mc:\\Users\\ambro\\AppData\\Local\\Programs\\Python\\Python39\\lib\\site-packages\\joblib\\_parallel_backends.py:542\u001b[0m, in \u001b[0;36mLokyBackend.wrap_future_result\u001b[1;34m(future, timeout)\u001b[0m\n\u001b[0;32m    539\u001b[0m \u001b[39m\u001b[39m\u001b[39m\"\"\"Wrapper for Future.result to implement the same behaviour as\u001b[39;00m\n\u001b[0;32m    540\u001b[0m \u001b[39mAsyncResults.get from multiprocessing.\"\"\"\u001b[39;00m\n\u001b[0;32m    541\u001b[0m \u001b[39mtry\u001b[39;00m:\n\u001b[1;32m--> 542\u001b[0m     \u001b[39mreturn\u001b[39;00m future\u001b[39m.\u001b[39;49mresult(timeout\u001b[39m=\u001b[39;49mtimeout)\n\u001b[0;32m    543\u001b[0m \u001b[39mexcept\u001b[39;00m CfTimeoutError \u001b[39mas\u001b[39;00m e:\n\u001b[0;32m    544\u001b[0m     \u001b[39mraise\u001b[39;00m \u001b[39mTimeoutError\u001b[39;00m \u001b[39mfrom\u001b[39;00m \u001b[39me\u001b[39;00m\n",
      "File \u001b[1;32mc:\\Users\\ambro\\AppData\\Local\\Programs\\Python\\Python39\\lib\\concurrent\\futures\\_base.py:439\u001b[0m, in \u001b[0;36mFuture.result\u001b[1;34m(self, timeout)\u001b[0m\n\u001b[0;32m    437\u001b[0m     \u001b[39mraise\u001b[39;00m CancelledError()\n\u001b[0;32m    438\u001b[0m \u001b[39melif\u001b[39;00m \u001b[39mself\u001b[39m\u001b[39m.\u001b[39m_state \u001b[39m==\u001b[39m FINISHED:\n\u001b[1;32m--> 439\u001b[0m     \u001b[39mreturn\u001b[39;00m \u001b[39mself\u001b[39;49m\u001b[39m.\u001b[39;49m__get_result()\n\u001b[0;32m    441\u001b[0m \u001b[39mself\u001b[39m\u001b[39m.\u001b[39m_condition\u001b[39m.\u001b[39mwait(timeout)\n\u001b[0;32m    443\u001b[0m \u001b[39mif\u001b[39;00m \u001b[39mself\u001b[39m\u001b[39m.\u001b[39m_state \u001b[39min\u001b[39;00m [CANCELLED, CANCELLED_AND_NOTIFIED]:\n",
      "File \u001b[1;32mc:\\Users\\ambro\\AppData\\Local\\Programs\\Python\\Python39\\lib\\concurrent\\futures\\_base.py:391\u001b[0m, in \u001b[0;36mFuture.__get_result\u001b[1;34m(self)\u001b[0m\n\u001b[0;32m    389\u001b[0m \u001b[39mif\u001b[39;00m \u001b[39mself\u001b[39m\u001b[39m.\u001b[39m_exception:\n\u001b[0;32m    390\u001b[0m     \u001b[39mtry\u001b[39;00m:\n\u001b[1;32m--> 391\u001b[0m         \u001b[39mraise\u001b[39;00m \u001b[39mself\u001b[39m\u001b[39m.\u001b[39m_exception\n\u001b[0;32m    392\u001b[0m     \u001b[39mfinally\u001b[39;00m:\n\u001b[0;32m    393\u001b[0m         \u001b[39m# Break a reference cycle with the exception in self._exception\u001b[39;00m\n\u001b[0;32m    394\u001b[0m         \u001b[39mself\u001b[39m \u001b[39m=\u001b[39m \u001b[39mNone\u001b[39;00m\n",
      "\u001b[1;31mTypeError\u001b[0m: int() argument must be a string, a bytes-like object or a number, not 'NAType'"
     ]
    }
   ],
   "source": [
    "import itertools\n",
    "from sklearn.base import BaseEstimator\n",
    "from sklearn.model_selection import RandomizedSearchCV, TimeSeriesSplit\n",
    "from statsmodels.tsa.statespace.sarimax import SARIMAX\n",
    "\n",
    "# # Define the p, d, and q parameters to take any value between 0 and 2\n",
    "# p = d = q = range(0, 3)\n",
    "\n",
    "# # Generate all different combinations of p, d, and q triplets\n",
    "# pdq = list(itertools.product(p, d, q))\n",
    "\n",
    "# # Generate all different combinations of seasonal p, d, and q triplets\n",
    "# seasonal_pdq = [(x[0], x[1], x[2], 12) for x in pdq]  # Assuming a seasonal period of 12\n",
    "\n",
    "# min_aic = float('inf')\n",
    "# best_order = None\n",
    "# best_seasonal_order = None\n",
    "\n",
    "param_distributions = {\n",
    "    'order': [(p,d,q) for p in range(3) for d in range(2) for q in range(3)],\n",
    "    'seasonal_order': [(P,D,Q,s) for P in range(3) for D in range(2) for Q in range(3) for s in [12]] # assuming monthly data\n",
    "} \n",
    "# for order in pdq:\n",
    "#     for seasonal_order in seasonal_pdq:\n",
    "#         try:\n",
    "#             model = SARIMAX(train[target_column], order=order, seasonal_order=seasonal_order)\n",
    "#             results = model.fit()\n",
    "#             if results.aic < min_aic:\n",
    "#                 min_aic = results.aic\n",
    "#                 best_order = order\n",
    "#                 best_seasonal_order = seasonal_order\n",
    "#         except Exception as e:\n",
    "#             print(e)\n",
    "#             continue\n",
    "\n",
    "# print(f\"Best ARIMA Order: {best_order}\")\n",
    "# print(f\"Best Seasonal Order: {best_seasonal_order}\")\n",
    "sarima = SARIMAWrapper()\n",
    "tscv = TimeSeriesSplit(n_splits=5)\n",
    "# Use RandomizedSearchCV\n",
    "random_search = RandomizedSearchCV(sarima, param_distributions=param_distributions, \n",
    "                                   n_iter=10, scoring='neg_mean_squared_error', \n",
    "                                   n_jobs=-1, cv=tscv, random_state=42)\n",
    "# Fit to the data (use only y_train since SARIMA uses the time series itself)\n",
    "random_search.fit(None, train[target_column])\n",
    "\n",
    "# Print the best parameters\n",
    "print('Best order:', random_search.best_params_['order'])\n",
    "print('Best seasonal order:', random_search.best_params_['seasonal_order'])"
   ]
  },
  {
   "cell_type": "code",
   "execution_count": 14,
   "metadata": {},
   "outputs": [
    {
     "name": "stdout",
     "output_type": "stream",
     "text": [
      "Performing stepwise search to minimize aic\n",
      " ARIMA(2,1,2)(1,0,1)[12] intercept   : AIC=inf, Time=1.91 sec\n",
      " ARIMA(0,1,0)(0,0,0)[12] intercept   : AIC=30173.460, Time=0.01 sec\n",
      " ARIMA(1,1,0)(1,0,0)[12] intercept   : AIC=29654.979, Time=0.19 sec\n",
      " ARIMA(0,1,1)(0,0,1)[12] intercept   : AIC=29287.039, Time=0.23 sec\n",
      " ARIMA(0,1,0)(0,0,0)[12]             : AIC=30171.461, Time=0.01 sec\n",
      " ARIMA(0,1,1)(0,0,0)[12] intercept   : AIC=29311.010, Time=0.05 sec\n",
      " ARIMA(0,1,1)(1,0,1)[12] intercept   : AIC=29207.378, Time=0.37 sec\n",
      " ARIMA(0,1,1)(1,0,0)[12] intercept   : AIC=29295.924, Time=0.20 sec\n",
      " ARIMA(0,1,1)(2,0,1)[12] intercept   : AIC=29198.794, Time=0.82 sec\n",
      " ARIMA(0,1,1)(2,0,0)[12] intercept   : AIC=29276.934, Time=0.53 sec\n",
      " ARIMA(0,1,1)(3,0,1)[12] intercept   : AIC=29186.830, Time=5.56 sec\n",
      " ARIMA(0,1,1)(3,0,0)[12] intercept   : AIC=29249.541, Time=4.24 sec\n",
      " ARIMA(0,1,1)(3,0,2)[12] intercept   : AIC=29158.871, Time=8.15 sec\n",
      " ARIMA(0,1,1)(2,0,2)[12] intercept   : AIC=inf, Time=2.01 sec\n",
      " ARIMA(0,1,1)(3,0,3)[12] intercept   : AIC=inf, Time=9.05 sec\n",
      " ARIMA(0,1,1)(2,0,3)[12] intercept   : AIC=inf, Time=7.55 sec\n",
      " ARIMA(0,1,0)(3,0,2)[12] intercept   : AIC=29797.184, Time=5.99 sec\n",
      " ARIMA(1,1,1)(3,0,2)[12] intercept   : AIC=inf, Time=9.34 sec\n",
      " ARIMA(0,1,2)(3,0,2)[12] intercept   : AIC=29103.666, Time=8.60 sec\n",
      " ARIMA(0,1,2)(2,0,2)[12] intercept   : AIC=inf, Time=2.62 sec\n",
      " ARIMA(0,1,2)(3,0,1)[12] intercept   : AIC=29102.732, Time=7.62 sec\n",
      " ARIMA(0,1,2)(2,0,1)[12] intercept   : AIC=29107.295, Time=1.89 sec\n",
      " ARIMA(0,1,2)(3,0,0)[12] intercept   : AIC=29107.272, Time=5.68 sec\n",
      " ARIMA(0,1,2)(2,0,0)[12] intercept   : AIC=29105.366, Time=0.92 sec\n",
      " ARIMA(1,1,2)(3,0,1)[12] intercept   : AIC=29800.343, Time=14.44 sec\n",
      " ARIMA(0,1,3)(3,0,1)[12] intercept   : AIC=29311.324, Time=8.24 sec\n",
      " ARIMA(1,1,1)(3,0,1)[12] intercept   : AIC=29176.893, Time=6.89 sec\n",
      " ARIMA(1,1,3)(3,0,1)[12] intercept   : AIC=29125.959, Time=9.66 sec\n",
      " ARIMA(0,1,2)(3,0,1)[12]             : AIC=29100.731, Time=7.41 sec\n",
      " ARIMA(0,1,2)(2,0,1)[12]             : AIC=29105.295, Time=1.66 sec\n",
      " ARIMA(0,1,2)(3,0,0)[12]             : AIC=29105.272, Time=5.34 sec\n",
      " ARIMA(0,1,2)(3,0,2)[12]             : AIC=29101.666, Time=8.31 sec\n",
      " ARIMA(0,1,2)(2,0,0)[12]             : AIC=29103.366, Time=0.81 sec\n",
      " ARIMA(0,1,2)(2,0,2)[12]             : AIC=inf, Time=2.34 sec\n",
      " ARIMA(0,1,1)(3,0,1)[12]             : AIC=29184.830, Time=5.05 sec\n",
      " ARIMA(1,1,2)(3,0,1)[12]             : AIC=29802.027, Time=12.96 sec\n",
      " ARIMA(0,1,3)(3,0,1)[12]             : AIC=29309.324, Time=8.09 sec\n",
      " ARIMA(1,1,1)(3,0,1)[12]             : AIC=29174.892, Time=6.83 sec\n",
      " ARIMA(1,1,3)(3,0,1)[12]             : AIC=29123.959, Time=9.36 sec\n",
      "\n",
      "Best model:  ARIMA(0,1,2)(3,0,1)[12]          \n",
      "Total fit time: 190.957 seconds\n"
     ]
    }
   ],
   "source": [
    "stepwise_fit = auto_arima(data[target_column], trace=True,\n",
    "suppress_warnings=True, max_P=3, max_D=2, max_Q=3, m=12, stepwise=True)\n",
    "best_order=stepwise_fit.order\n",
    "best_seasonal_order=stepwise_fit.seasonal_order"
   ]
  },
  {
   "cell_type": "code",
   "execution_count": 15,
   "metadata": {},
   "outputs": [
    {
     "name": "stderr",
     "output_type": "stream",
     "text": [
      "c:\\Users\\ambro\\AppData\\Local\\Programs\\Python\\Python39\\lib\\site-packages\\statsmodels\\tsa\\statespace\\sarimax.py:978: UserWarning: Non-invertible starting MA parameters found. Using zeros as starting parameters.\n",
      "  warn('Non-invertible starting MA parameters found.'\n"
     ]
    },
    {
     "data": {
      "text/html": [
       "<table class=\"simpletable\">\n",
       "<caption>SARIMAX Results</caption>\n",
       "<tr>\n",
       "  <th>Dep. Variable:</th>              <td>new_deaths</td>            <th>  No. Observations:  </th>    <td>1306</td>   \n",
       "</tr>\n",
       "<tr>\n",
       "  <th>Model:</th>           <td>SARIMAX(0, 1, 2)x(3, 0, [1], 12)</td> <th>  Log Likelihood     </th> <td>-13933.524</td>\n",
       "</tr>\n",
       "<tr>\n",
       "  <th>Date:</th>                    <td>Fri, 27 Oct 2023</td>         <th>  AIC                </th>  <td>27881.048</td>\n",
       "</tr>\n",
       "<tr>\n",
       "  <th>Time:</th>                        <td>17:34:41</td>             <th>  BIC                </th>  <td>27917.266</td>\n",
       "</tr>\n",
       "<tr>\n",
       "  <th>Sample:</th>                          <td>0</td>                <th>  HQIC               </th>  <td>27894.634</td>\n",
       "</tr>\n",
       "<tr>\n",
       "  <th></th>                              <td> - 1306</td>             <th>                     </th>      <td> </td>    \n",
       "</tr>\n",
       "<tr>\n",
       "  <th>Covariance Type:</th>                <td>opg</td>               <th>                     </th>      <td> </td>    \n",
       "</tr>\n",
       "</table>\n",
       "<table class=\"simpletable\">\n",
       "<tr>\n",
       "      <td></td>        <th>coef</th>     <th>std err</th>      <th>z</th>      <th>P>|z|</th>  <th>[0.025</th>    <th>0.975]</th>  \n",
       "</tr>\n",
       "<tr>\n",
       "  <th>ma.L1</th>    <td>   -1.5150</td> <td>    0.020</td> <td>  -75.747</td> <td> 0.000</td> <td>   -1.554</td> <td>   -1.476</td>\n",
       "</tr>\n",
       "<tr>\n",
       "  <th>ma.L2</th>    <td>    0.6578</td> <td>    0.019</td> <td>   34.133</td> <td> 0.000</td> <td>    0.620</td> <td>    0.696</td>\n",
       "</tr>\n",
       "<tr>\n",
       "  <th>ar.S.L12</th> <td>    0.4807</td> <td>    0.167</td> <td>    2.886</td> <td> 0.004</td> <td>    0.154</td> <td>    0.807</td>\n",
       "</tr>\n",
       "<tr>\n",
       "  <th>ar.S.L24</th> <td>   -0.2538</td> <td>    0.068</td> <td>   -3.709</td> <td> 0.000</td> <td>   -0.388</td> <td>   -0.120</td>\n",
       "</tr>\n",
       "<tr>\n",
       "  <th>ar.S.L36</th> <td>    0.3028</td> <td>    0.103</td> <td>    2.942</td> <td> 0.003</td> <td>    0.101</td> <td>    0.504</td>\n",
       "</tr>\n",
       "<tr>\n",
       "  <th>ma.S.L12</th> <td>   -0.7871</td> <td>    0.165</td> <td>   -4.780</td> <td> 0.000</td> <td>   -1.110</td> <td>   -0.464</td>\n",
       "</tr>\n",
       "<tr>\n",
       "  <th>sigma2</th>   <td> 1.411e+08</td> <td> 6.04e-10</td> <td> 2.34e+17</td> <td> 0.000</td> <td> 1.41e+08</td> <td> 1.41e+08</td>\n",
       "</tr>\n",
       "</table>\n",
       "<table class=\"simpletable\">\n",
       "<tr>\n",
       "  <th>Ljung-Box (L1) (Q):</th>     <td>44.81</td> <th>  Jarque-Bera (JB):  </th> <td>5580.86</td>\n",
       "</tr>\n",
       "<tr>\n",
       "  <th>Prob(Q):</th>                <td>0.00</td>  <th>  Prob(JB):          </th>  <td>0.00</td>  \n",
       "</tr>\n",
       "<tr>\n",
       "  <th>Heteroskedasticity (H):</th> <td>0.12</td>  <th>  Skew:              </th>  <td>2.19</td>  \n",
       "</tr>\n",
       "<tr>\n",
       "  <th>Prob(H) (two-sided):</th>    <td>0.00</td>  <th>  Kurtosis:          </th>  <td>12.14</td> \n",
       "</tr>\n",
       "</table><br/><br/>Warnings:<br/>[1] Covariance matrix calculated using the outer product of gradients (complex-step).<br/>[2] Covariance matrix is singular or near-singular, with condition number 7.96e+32. Standard errors may be unstable."
      ],
      "text/latex": [
       "\\begin{center}\n",
       "\\begin{tabular}{lclc}\n",
       "\\toprule\n",
       "\\textbf{Dep. Variable:}          &           new\\_deaths            & \\textbf{  No. Observations:  } &    1306     \\\\\n",
       "\\textbf{Model:}                  & SARIMAX(0, 1, 2)x(3, 0, [1], 12) & \\textbf{  Log Likelihood     } & -13933.524  \\\\\n",
       "\\textbf{Date:}                   &         Fri, 27 Oct 2023         & \\textbf{  AIC                } & 27881.048   \\\\\n",
       "\\textbf{Time:}                   &             17:34:41             & \\textbf{  BIC                } & 27917.266   \\\\\n",
       "\\textbf{Sample:}                 &                0                 & \\textbf{  HQIC               } & 27894.634   \\\\\n",
       "\\textbf{}                        &              - 1306              & \\textbf{                     } &             \\\\\n",
       "\\textbf{Covariance Type:}        &               opg                & \\textbf{                     } &             \\\\\n",
       "\\bottomrule\n",
       "\\end{tabular}\n",
       "\\begin{tabular}{lcccccc}\n",
       "                  & \\textbf{coef} & \\textbf{std err} & \\textbf{z} & \\textbf{P$> |$z$|$} & \\textbf{[0.025} & \\textbf{0.975]}  \\\\\n",
       "\\midrule\n",
       "\\textbf{ma.L1}    &      -1.5150  &        0.020     &   -75.747  &         0.000        &       -1.554    &       -1.476     \\\\\n",
       "\\textbf{ma.L2}    &       0.6578  &        0.019     &    34.133  &         0.000        &        0.620    &        0.696     \\\\\n",
       "\\textbf{ar.S.L12} &       0.4807  &        0.167     &     2.886  &         0.004        &        0.154    &        0.807     \\\\\n",
       "\\textbf{ar.S.L24} &      -0.2538  &        0.068     &    -3.709  &         0.000        &       -0.388    &       -0.120     \\\\\n",
       "\\textbf{ar.S.L36} &       0.3028  &        0.103     &     2.942  &         0.003        &        0.101    &        0.504     \\\\\n",
       "\\textbf{ma.S.L12} &      -0.7871  &        0.165     &    -4.780  &         0.000        &       -1.110    &       -0.464     \\\\\n",
       "\\textbf{sigma2}   &    1.411e+08  &     6.04e-10     &  2.34e+17  &         0.000        &     1.41e+08    &     1.41e+08     \\\\\n",
       "\\bottomrule\n",
       "\\end{tabular}\n",
       "\\begin{tabular}{lclc}\n",
       "\\textbf{Ljung-Box (L1) (Q):}     & 44.81 & \\textbf{  Jarque-Bera (JB):  } & 5580.86  \\\\\n",
       "\\textbf{Prob(Q):}                &  0.00 & \\textbf{  Prob(JB):          } &   0.00   \\\\\n",
       "\\textbf{Heteroskedasticity (H):} &  0.12 & \\textbf{  Skew:              } &   2.19   \\\\\n",
       "\\textbf{Prob(H) (two-sided):}    &  0.00 & \\textbf{  Kurtosis:          } &  12.14   \\\\\n",
       "\\bottomrule\n",
       "\\end{tabular}\n",
       "%\\caption{SARIMAX Results}\n",
       "\\end{center}\n",
       "\n",
       "Warnings: \\newline\n",
       " [1] Covariance matrix calculated using the outer product of gradients (complex-step). \\newline\n",
       " [2] Covariance matrix is singular or near-singular, with condition number 7.96e+32. Standard errors may be unstable."
      ],
      "text/plain": [
       "<class 'statsmodels.iolib.summary.Summary'>\n",
       "\"\"\"\n",
       "                                      SARIMAX Results                                       \n",
       "============================================================================================\n",
       "Dep. Variable:                           new_deaths   No. Observations:                 1306\n",
       "Model:             SARIMAX(0, 1, 2)x(3, 0, [1], 12)   Log Likelihood              -13933.524\n",
       "Date:                              Fri, 27 Oct 2023   AIC                          27881.048\n",
       "Time:                                      17:34:41   BIC                          27917.266\n",
       "Sample:                                           0   HQIC                         27894.634\n",
       "                                             - 1306                                         \n",
       "Covariance Type:                                opg                                         \n",
       "==============================================================================\n",
       "                 coef    std err          z      P>|z|      [0.025      0.975]\n",
       "------------------------------------------------------------------------------\n",
       "ma.L1         -1.5150      0.020    -75.747      0.000      -1.554      -1.476\n",
       "ma.L2          0.6578      0.019     34.133      0.000       0.620       0.696\n",
       "ar.S.L12       0.4807      0.167      2.886      0.004       0.154       0.807\n",
       "ar.S.L24      -0.2538      0.068     -3.709      0.000      -0.388      -0.120\n",
       "ar.S.L36       0.3028      0.103      2.942      0.003       0.101       0.504\n",
       "ma.S.L12      -0.7871      0.165     -4.780      0.000      -1.110      -0.464\n",
       "sigma2      1.411e+08   6.04e-10   2.34e+17      0.000    1.41e+08    1.41e+08\n",
       "===================================================================================\n",
       "Ljung-Box (L1) (Q):                  44.81   Jarque-Bera (JB):              5580.86\n",
       "Prob(Q):                              0.00   Prob(JB):                         0.00\n",
       "Heteroskedasticity (H):               0.12   Skew:                             2.19\n",
       "Prob(H) (two-sided):                  0.00   Kurtosis:                        12.14\n",
       "===================================================================================\n",
       "\n",
       "Warnings:\n",
       "[1] Covariance matrix calculated using the outer product of gradients (complex-step).\n",
       "[2] Covariance matrix is singular or near-singular, with condition number 7.96e+32. Standard errors may be unstable.\n",
       "\"\"\""
      ]
     },
     "execution_count": 15,
     "metadata": {},
     "output_type": "execute_result"
    }
   ],
   "source": [
    "from sklearn.model_selection import GridSearchCV\n",
    "from statsmodels.tsa.statespace.sarimax import SARIMAX\n",
    "GridSearchCV\n",
    "model=SARIMAX(train[target_column],order=best_order, seasonal_order=best_seasonal_order)\n",
    "model=model.fit()\n",
    "model.summary()"
   ]
  },
  {
   "cell_type": "code",
   "execution_count": 16,
   "metadata": {},
   "outputs": [
    {
     "name": "stderr",
     "output_type": "stream",
     "text": [
      "c:\\Users\\ambro\\AppData\\Local\\Programs\\Python\\Python39\\lib\\site-packages\\statsmodels\\tsa\\statespace\\representation.py:374: FutureWarning: Unknown keyword arguments: dict_keys(['typ']).Passing unknown keyword arguments will raise a TypeError beginning in version 0.15.\n",
      "  warnings.warn(msg, FutureWarning)\n"
     ]
    },
    {
     "data": {
      "text/plain": [
       "<AxesSubplot:>"
      ]
     },
     "execution_count": 16,
     "metadata": {},
     "output_type": "execute_result"
    },
    {
     "data": {
      "image/png": "[encoded data removed]",
      "text/plain": [
       "<Figure size 432x288 with 1 Axes>"
      ]
     },
     "metadata": {
      "needs_background": "light"
     },
     "output_type": "display_data"
    }
   ],
   "source": [
    "start=len(train)\n",
    "end=len(train)+len(test)-1\n",
    "pred=model.predict(start=start,end=end,typ='levels').rename('SARIMA Predictions')\n",
    "pred.plot(legend=True)\n",
    "test[target_column].plot(legend=True)"
   ]
  },
  {
   "cell_type": "code",
   "execution_count": 17,
   "metadata": {},
   "outputs": [
    {
     "name": "stdout",
     "output_type": "stream",
     "text": [
      "624.7514934778691\n"
     ]
    }
   ],
   "source": [
    "test[target_column].mean()\n",
    "rmse=sqrt(mean_squared_error(pred,test[target_column]))\n",
    "print(rmse)"
   ]
  }
 ],
 "metadata": {
  "kernelspec": {
   "display_name": "Python 3",
   "language": "python",
   "name": "python3"
  },
  "language_info": {
   "codemirror_mode": {
    "name": "ipython",
    "version": 3
   },
   "file_extension": ".py",
   "mimetype": "text/x-python",
   "name": "python",
   "nbconvert_exporter": "python",
   "pygments_lexer": "ipython3",
   "version": "3.9.12"
  },
  "orig_nbformat": 4
 },
 "nbformat": 4,
 "nbformat_minor": 2
}
