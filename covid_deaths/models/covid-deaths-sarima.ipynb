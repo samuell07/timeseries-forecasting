{
 "cells": [
  {
   "cell_type": "markdown",
   "metadata": {},
   "source": [
    "Import libraries"
   ]
  },
  {
   "cell_type": "code",
   "execution_count": 1,
   "metadata": {},
   "outputs": [],
   "source": [
    "import pandas as pd\n",
    "from pmdarima import auto_arima\n",
    "from metrics import print_evaluation_metrics"
   ]
  },
  {
   "cell_type": "markdown",
   "metadata": {},
   "source": [
    "Load dataset and prepare df"
   ]
  },
  {
   "cell_type": "code",
   "execution_count": 2,
   "metadata": {},
   "outputs": [],
   "source": [
    "file_path = \"../data/parsed_dataset.csv\"\n",
    "date_column = \"Date_reported\"\n",
    "target_column = \"New_deaths\"\n",
    "df = pd.read_csv(file_path, parse_dates=True)\n",
    "df = df[[date_column, target_column]]\n",
    "\n",
    "df.set_index(date_column, inplace=True)\n",
    "df = df.groupby(date_column).sum().reset_index()\n",
    "\n",
    "df = df.dropna()"
   ]
  },
  {
   "cell_type": "markdown",
   "metadata": {},
   "source": [
    "Train test split"
   ]
  },
  {
   "cell_type": "code",
   "execution_count": 3,
   "metadata": {},
   "outputs": [],
   "source": [
    "train = df.iloc[:-30]\n",
    "test = df.iloc[-30:]"
   ]
  },
  {
   "cell_type": "markdown",
   "metadata": {},
   "source": [
    "Parameter tuning for order and seasonal order"
   ]
  },
  {
   "cell_type": "code",
   "execution_count": 4,
   "metadata": {},
   "outputs": [
    {
     "name": "stdout",
     "output_type": "stream",
     "text": [
      "Performing stepwise search to minimize aic\n",
      " ARIMA(2,1,2)(1,0,1)[12] intercept   : AIC=25938.670, Time=10.73 sec\n",
      " ARIMA(0,1,0)(0,0,0)[12] intercept   : AIC=26938.672, Time=0.09 sec\n",
      " ARIMA(1,1,0)(1,0,0)[12] intercept   : AIC=26423.839, Time=0.97 sec\n",
      " ARIMA(0,1,1)(0,0,1)[12] intercept   : AIC=26020.964, Time=2.41 sec\n",
      " ARIMA(0,1,0)(0,0,0)[12]             : AIC=26936.672, Time=0.03 sec\n",
      " ARIMA(2,1,2)(0,0,1)[12] intercept   : AIC=25907.176, Time=5.20 sec\n",
      " ARIMA(2,1,2)(0,0,0)[12] intercept   : AIC=25842.497, Time=1.91 sec\n",
      " ARIMA(2,1,2)(1,0,0)[12] intercept   : AIC=25934.312, Time=8.12 sec\n",
      " ARIMA(1,1,2)(0,0,0)[12] intercept   : AIC=25888.229, Time=1.72 sec\n",
      " ARIMA(2,1,1)(0,0,0)[12] intercept   : AIC=26029.229, Time=0.78 sec\n",
      " ARIMA(3,1,2)(0,0,0)[12] intercept   : AIC=25790.349, Time=2.48 sec\n",
      " ARIMA(3,1,2)(1,0,0)[12] intercept   : AIC=25786.897, Time=10.09 sec\n",
      " ARIMA(3,1,2)(2,0,0)[12] intercept   : AIC=26277.875, Time=12.46 sec\n",
      " ARIMA(3,1,2)(1,0,1)[12] intercept   : AIC=25892.708, Time=6.81 sec\n",
      " ARIMA(3,1,2)(0,0,1)[12] intercept   : AIC=25738.942, Time=7.50 sec\n",
      " ARIMA(3,1,2)(0,0,2)[12] intercept   : AIC=26389.006, Time=19.87 sec\n",
      " ARIMA(3,1,2)(1,0,2)[12] intercept   : AIC=26750.325, Time=20.05 sec\n",
      " ARIMA(3,1,1)(0,0,1)[12] intercept   : AIC=25952.095, Time=8.69 sec\n",
      " ARIMA(4,1,2)(0,0,1)[12] intercept   : AIC=25561.118, Time=9.94 sec\n",
      " ARIMA(4,1,2)(0,0,0)[12] intercept   : AIC=25820.587, Time=1.95 sec\n",
      " ARIMA(4,1,2)(1,0,1)[12] intercept   : AIC=25453.763, Time=18.39 sec\n",
      " ARIMA(4,1,2)(1,0,0)[12] intercept   : AIC=25464.163, Time=14.49 sec\n",
      " ARIMA(4,1,2)(2,0,1)[12] intercept   : AIC=25941.346, Time=31.72 sec\n",
      " ARIMA(4,1,2)(1,0,2)[12] intercept   : AIC=25649.753, Time=27.92 sec\n",
      " ARIMA(4,1,2)(0,0,2)[12] intercept   : AIC=25572.802, Time=25.24 sec\n",
      " ARIMA(4,1,2)(2,0,0)[12] intercept   : AIC=25617.837, Time=27.83 sec\n",
      " ARIMA(4,1,2)(2,0,2)[12] intercept   : AIC=25842.117, Time=24.88 sec\n",
      " ARIMA(4,1,1)(1,0,1)[12] intercept   : AIC=25710.226, Time=12.69 sec\n",
      " ARIMA(5,1,2)(1,0,1)[12] intercept   : AIC=25456.205, Time=18.01 sec\n",
      " ARIMA(4,1,3)(1,0,1)[12] intercept   : AIC=25539.672, Time=22.01 sec\n",
      " ARIMA(3,1,1)(1,0,1)[12] intercept   : AIC=25882.134, Time=8.67 sec\n",
      " ARIMA(3,1,3)(1,0,1)[12] intercept   : AIC=25777.770, Time=15.68 sec\n",
      " ARIMA(5,1,1)(1,0,1)[12] intercept   : AIC=25680.620, Time=16.63 sec\n",
      " ARIMA(5,1,3)(1,0,1)[12] intercept   : AIC=25502.575, Time=21.60 sec\n",
      " ARIMA(4,1,2)(1,0,1)[12]             : AIC=25451.569, Time=16.79 sec\n",
      " ARIMA(4,1,2)(0,0,1)[12]             : AIC=25559.118, Time=9.79 sec\n",
      " ARIMA(4,1,2)(1,0,0)[12]             : AIC=25462.163, Time=10.76 sec\n",
      " ARIMA(4,1,2)(2,0,1)[12]             : AIC=25939.479, Time=26.30 sec\n",
      " ARIMA(4,1,2)(1,0,2)[12]             : AIC=25647.899, Time=18.31 sec\n",
      " ARIMA(4,1,2)(0,0,0)[12]             : AIC=25818.587, Time=1.01 sec\n",
      " ARIMA(4,1,2)(0,0,2)[12]             : AIC=25528.506, Time=21.88 sec\n",
      " ARIMA(4,1,2)(2,0,0)[12]             : AIC=25600.922, Time=15.52 sec\n",
      " ARIMA(4,1,2)(2,0,2)[12]             : AIC=25840.083, Time=19.04 sec\n",
      " ARIMA(3,1,2)(1,0,1)[12]             : AIC=25713.962, Time=6.63 sec\n",
      " ARIMA(4,1,1)(1,0,1)[12]             : AIC=25708.225, Time=8.66 sec\n",
      " ARIMA(5,1,2)(1,0,1)[12]             : AIC=25454.267, Time=9.04 sec\n",
      " ARIMA(4,1,3)(1,0,1)[12]             : AIC=25534.544, Time=12.06 sec\n",
      " ARIMA(3,1,1)(1,0,1)[12]             : AIC=25879.794, Time=5.51 sec\n",
      " ARIMA(3,1,3)(1,0,1)[12]             : AIC=25775.728, Time=11.37 sec\n",
      " ARIMA(5,1,1)(1,0,1)[12]             : AIC=25678.583, Time=11.83 sec\n",
      " ARIMA(5,1,3)(1,0,1)[12]             : AIC=25501.215, Time=15.77 sec\n",
      "\n",
      "Best model:  ARIMA(4,1,2)(1,0,1)[12]          \n",
      "Total fit time: 638.036 seconds\n"
     ]
    }
   ],
   "source": [
    "stepwise_fit = auto_arima(\n",
    "    df[target_column],\n",
    "    trace=True,\n",
    "    suppress_warnings=True,\n",
    "    max_P=3,\n",
    "    max_D=2,\n",
    "    max_Q=3,\n",
    "    m=12,\n",
    "    stepwise=True,\n",
    ")\n",
    "best_order = stepwise_fit.order\n",
    "best_seasonal_order = stepwise_fit.seasonal_order"
   ]
  },
  {
   "cell_type": "markdown",
   "metadata": {},
   "source": [
    "Create Model"
   ]
  },
  {
   "cell_type": "code",
   "execution_count": 5,
   "metadata": {},
   "outputs": [
    {
     "name": "stderr",
     "output_type": "stream",
     "text": [
      "/home/samuell/.local/lib/python3.10/site-packages/statsmodels/tsa/statespace/sarimax.py:966: UserWarning: Non-stationary starting autoregressive parameters found. Using zeros as starting parameters.\n",
      "  warn('Non-stationary starting autoregressive parameters'\n",
      "/home/samuell/.local/lib/python3.10/site-packages/statsmodels/tsa/statespace/sarimax.py:978: UserWarning: Non-invertible starting MA parameters found. Using zeros as starting parameters.\n",
      "  warn('Non-invertible starting MA parameters found.'\n"
     ]
    },
    {
     "name": "stderr",
     "output_type": "stream",
     "text": [
      " This problem is unconstrained.\n"
     ]
    },
    {
     "name": "stdout",
     "output_type": "stream",
     "text": [
      "RUNNING THE L-BFGS-B CODE\n",
      "\n",
      "           * * *\n",
      "\n",
      "Machine precision = 2.220D-16\n",
      " N =            9     M =           10\n",
      "\n",
      "At X0         0 variables are exactly at the bounds\n",
      "\n",
      "At iterate    0    f=  1.17487D+01    |proj g|=  3.79108D+00\n",
      "\n",
      "At iterate    5    f=  9.64420D+00    |proj g|=  4.21047D-01\n",
      "\n",
      "At iterate   10    f=  9.38562D+00    |proj g|=  4.17948D-01\n",
      "\n",
      "At iterate   15    f=  9.30051D+00    |proj g|=  1.09491D-01\n",
      "\n",
      "At iterate   20    f=  9.28727D+00    |proj g|=  1.58048D-02\n",
      "\n",
      "At iterate   25    f=  9.28704D+00    |proj g|=  1.35368D-03\n",
      "\n",
      "At iterate   30    f=  9.28694D+00    |proj g|=  1.32646D-02\n",
      "\n",
      "At iterate   35    f=  9.27563D+00    |proj g|=  7.96180D-02\n",
      "\n",
      "At iterate   40    f=  9.02167D+00    |proj g|=  1.46723D-01\n",
      "\n",
      "At iterate   45    f=  8.98391D+00    |proj g|=  1.10471D-02\n",
      "\n",
      "At iterate   50    f=  8.98346D+00    |proj g|=  1.50996D-03\n",
      "\n",
      "           * * *\n",
      "\n",
      "Tit   = total number of iterations\n",
      "Tnf   = total number of function evaluations\n",
      "Tnint = total number of segments explored during Cauchy searches\n",
      "Skip  = number of BFGS updates skipped\n",
      "Nact  = number of active bounds at final generalized Cauchy point\n",
      "Projg = norm of the final projected gradient\n",
      "F     = final function value\n",
      "\n",
      "           * * *\n",
      "\n",
      "   N    Tit     Tnf  Tnint  Skip  Nact     Projg        F\n",
      "    9     50     54      1     0     0   1.510D-03   8.983D+00\n",
      "  F =   8.9834615269716895     \n",
      "\n",
      "STOP: TOTAL NO. of ITERATIONS REACHED LIMIT                 \n"
     ]
    },
    {
     "name": "stderr",
     "output_type": "stream",
     "text": [
      "/home/samuell/.local/lib/python3.10/site-packages/statsmodels/base/model.py:607: ConvergenceWarning: Maximum Likelihood optimization failed to converge. Check mle_retvals\n",
      "  warnings.warn(\"Maximum Likelihood optimization failed to \"\n"
     ]
    },
    {
     "data": {
      "text/html": [
       "<table class=\"simpletable\">\n",
       "<caption>SARIMAX Results</caption>\n",
       "<tr>\n",
       "  <th>Dep. Variable:</th>              <td>New_deaths</td>            <th>  No. Observations:  </th>    <td>1390</td>   \n",
       "</tr>\n",
       "<tr>\n",
       "  <th>Model:</th>           <td>SARIMAX(4, 1, 2)x(1, 0, [1], 12)</td> <th>  Log Likelihood     </th> <td>-12487.012</td>\n",
       "</tr>\n",
       "<tr>\n",
       "  <th>Date:</th>                    <td>Sun, 10 Dec 2023</td>         <th>  AIC                </th>  <td>24992.023</td>\n",
       "</tr>\n",
       "<tr>\n",
       "  <th>Time:</th>                        <td>10:52:45</td>             <th>  BIC                </th>  <td>25039.150</td>\n",
       "</tr>\n",
       "<tr>\n",
       "  <th>Sample:</th>                          <td>0</td>                <th>  HQIC               </th>  <td>25009.647</td>\n",
       "</tr>\n",
       "<tr>\n",
       "  <th></th>                              <td> - 1390</td>             <th>                     </th>      <td> </td>    \n",
       "</tr>\n",
       "<tr>\n",
       "  <th>Covariance Type:</th>                <td>opg</td>               <th>                     </th>      <td> </td>    \n",
       "</tr>\n",
       "</table>\n",
       "<table class=\"simpletable\">\n",
       "<tr>\n",
       "      <td></td>        <th>coef</th>     <th>std err</th>      <th>z</th>      <th>P>|z|</th>  <th>[0.025</th>    <th>0.975]</th>  \n",
       "</tr>\n",
       "<tr>\n",
       "  <th>ar.L1</th>    <td>   -0.8788</td> <td>    0.024</td> <td>  -37.300</td> <td> 0.000</td> <td>   -0.925</td> <td>   -0.833</td>\n",
       "</tr>\n",
       "<tr>\n",
       "  <th>ar.L2</th>    <td>   -0.0390</td> <td>    0.033</td> <td>   -1.175</td> <td> 0.240</td> <td>   -0.104</td> <td>    0.026</td>\n",
       "</tr>\n",
       "<tr>\n",
       "  <th>ar.L3</th>    <td>   -0.3249</td> <td>    0.030</td> <td>  -10.885</td> <td> 0.000</td> <td>   -0.383</td> <td>   -0.266</td>\n",
       "</tr>\n",
       "<tr>\n",
       "  <th>ar.L4</th>    <td>   -0.6880</td> <td>    0.023</td> <td>  -30.373</td> <td> 0.000</td> <td>   -0.732</td> <td>   -0.644</td>\n",
       "</tr>\n",
       "<tr>\n",
       "  <th>ma.L1</th>    <td>    0.0707</td> <td>    0.022</td> <td>    3.234</td> <td> 0.001</td> <td>    0.028</td> <td>    0.114</td>\n",
       "</tr>\n",
       "<tr>\n",
       "  <th>ma.L2</th>    <td>   -0.4970</td> <td>    0.025</td> <td>  -20.039</td> <td> 0.000</td> <td>   -0.546</td> <td>   -0.448</td>\n",
       "</tr>\n",
       "<tr>\n",
       "  <th>ar.S.L12</th> <td>   -0.5843</td> <td>    0.037</td> <td>  -15.658</td> <td> 0.000</td> <td>   -0.657</td> <td>   -0.511</td>\n",
       "</tr>\n",
       "<tr>\n",
       "  <th>ma.S.L12</th> <td>   -0.1550</td> <td>    0.040</td> <td>   -3.853</td> <td> 0.000</td> <td>   -0.234</td> <td>   -0.076</td>\n",
       "</tr>\n",
       "<tr>\n",
       "  <th>sigma2</th>   <td> 3.711e+06</td> <td> 6.87e+04</td> <td>   54.025</td> <td> 0.000</td> <td> 3.58e+06</td> <td> 3.85e+06</td>\n",
       "</tr>\n",
       "</table>\n",
       "<table class=\"simpletable\">\n",
       "<tr>\n",
       "  <th>Ljung-Box (L1) (Q):</th>     <td>0.04</td> <th>  Jarque-Bera (JB):  </th> <td>2970.85</td>\n",
       "</tr>\n",
       "<tr>\n",
       "  <th>Prob(Q):</th>                <td>0.85</td> <th>  Prob(JB):          </th>  <td>0.00</td>  \n",
       "</tr>\n",
       "<tr>\n",
       "  <th>Heteroskedasticity (H):</th> <td>0.38</td> <th>  Skew:              </th>  <td>0.89</td>  \n",
       "</tr>\n",
       "<tr>\n",
       "  <th>Prob(H) (two-sided):</th>    <td>0.00</td> <th>  Kurtosis:          </th>  <td>9.94</td>  \n",
       "</tr>\n",
       "</table><br/><br/>Warnings:<br/>[1] Covariance matrix calculated using the outer product of gradients (complex-step)."
      ],
      "text/latex": [
       "\\begin{center}\n",
       "\\begin{tabular}{lclc}\n",
       "\\toprule\n",
       "\\textbf{Dep. Variable:}          &           New\\_deaths            & \\textbf{  No. Observations:  } &    1390     \\\\\n",
       "\\textbf{Model:}                  & SARIMAX(4, 1, 2)x(1, 0, [1], 12) & \\textbf{  Log Likelihood     } & -12487.012  \\\\\n",
       "\\textbf{Date:}                   &         Sun, 10 Dec 2023         & \\textbf{  AIC                } & 24992.023   \\\\\n",
       "\\textbf{Time:}                   &             10:52:45             & \\textbf{  BIC                } & 25039.150   \\\\\n",
       "\\textbf{Sample:}                 &                0                 & \\textbf{  HQIC               } & 25009.647   \\\\\n",
       "\\textbf{}                        &              - 1390              & \\textbf{                     } &             \\\\\n",
       "\\textbf{Covariance Type:}        &               opg                & \\textbf{                     } &             \\\\\n",
       "\\bottomrule\n",
       "\\end{tabular}\n",
       "\\begin{tabular}{lcccccc}\n",
       "                  & \\textbf{coef} & \\textbf{std err} & \\textbf{z} & \\textbf{P$> |$z$|$} & \\textbf{[0.025} & \\textbf{0.975]}  \\\\\n",
       "\\midrule\n",
       "\\textbf{ar.L1}    &      -0.8788  &        0.024     &   -37.300  &         0.000        &       -0.925    &       -0.833     \\\\\n",
       "\\textbf{ar.L2}    &      -0.0390  &        0.033     &    -1.175  &         0.240        &       -0.104    &        0.026     \\\\\n",
       "\\textbf{ar.L3}    &      -0.3249  &        0.030     &   -10.885  &         0.000        &       -0.383    &       -0.266     \\\\\n",
       "\\textbf{ar.L4}    &      -0.6880  &        0.023     &   -30.373  &         0.000        &       -0.732    &       -0.644     \\\\\n",
       "\\textbf{ma.L1}    &       0.0707  &        0.022     &     3.234  &         0.001        &        0.028    &        0.114     \\\\\n",
       "\\textbf{ma.L2}    &      -0.4970  &        0.025     &   -20.039  &         0.000        &       -0.546    &       -0.448     \\\\\n",
       "\\textbf{ar.S.L12} &      -0.5843  &        0.037     &   -15.658  &         0.000        &       -0.657    &       -0.511     \\\\\n",
       "\\textbf{ma.S.L12} &      -0.1550  &        0.040     &    -3.853  &         0.000        &       -0.234    &       -0.076     \\\\\n",
       "\\textbf{sigma2}   &    3.711e+06  &     6.87e+04     &    54.025  &         0.000        &     3.58e+06    &     3.85e+06     \\\\\n",
       "\\bottomrule\n",
       "\\end{tabular}\n",
       "\\begin{tabular}{lclc}\n",
       "\\textbf{Ljung-Box (L1) (Q):}     & 0.04 & \\textbf{  Jarque-Bera (JB):  } & 2970.85  \\\\\n",
       "\\textbf{Prob(Q):}                & 0.85 & \\textbf{  Prob(JB):          } &   0.00   \\\\\n",
       "\\textbf{Heteroskedasticity (H):} & 0.38 & \\textbf{  Skew:              } &   0.89   \\\\\n",
       "\\textbf{Prob(H) (two-sided):}    & 0.00 & \\textbf{  Kurtosis:          } &   9.94   \\\\\n",
       "\\bottomrule\n",
       "\\end{tabular}\n",
       "%\\caption{SARIMAX Results}\n",
       "\\end{center}\n",
       "\n",
       "Warnings: \\newline\n",
       " [1] Covariance matrix calculated using the outer product of gradients (complex-step)."
      ],
      "text/plain": [
       "<class 'statsmodels.iolib.summary.Summary'>\n",
       "\"\"\"\n",
       "                                      SARIMAX Results                                       \n",
       "============================================================================================\n",
       "Dep. Variable:                           New_deaths   No. Observations:                 1390\n",
       "Model:             SARIMAX(4, 1, 2)x(1, 0, [1], 12)   Log Likelihood              -12487.012\n",
       "Date:                              Sun, 10 Dec 2023   AIC                          24992.023\n",
       "Time:                                      10:52:45   BIC                          25039.150\n",
       "Sample:                                           0   HQIC                         25009.647\n",
       "                                             - 1390                                         \n",
       "Covariance Type:                                opg                                         \n",
       "==============================================================================\n",
       "                 coef    std err          z      P>|z|      [0.025      0.975]\n",
       "------------------------------------------------------------------------------\n",
       "ar.L1         -0.8788      0.024    -37.300      0.000      -0.925      -0.833\n",
       "ar.L2         -0.0390      0.033     -1.175      0.240      -0.104       0.026\n",
       "ar.L3         -0.3249      0.030    -10.885      0.000      -0.383      -0.266\n",
       "ar.L4         -0.6880      0.023    -30.373      0.000      -0.732      -0.644\n",
       "ma.L1          0.0707      0.022      3.234      0.001       0.028       0.114\n",
       "ma.L2         -0.4970      0.025    -20.039      0.000      -0.546      -0.448\n",
       "ar.S.L12      -0.5843      0.037    -15.658      0.000      -0.657      -0.511\n",
       "ma.S.L12      -0.1550      0.040     -3.853      0.000      -0.234      -0.076\n",
       "sigma2      3.711e+06   6.87e+04     54.025      0.000    3.58e+06    3.85e+06\n",
       "===================================================================================\n",
       "Ljung-Box (L1) (Q):                   0.04   Jarque-Bera (JB):              2970.85\n",
       "Prob(Q):                              0.85   Prob(JB):                         0.00\n",
       "Heteroskedasticity (H):               0.38   Skew:                             0.89\n",
       "Prob(H) (two-sided):                  0.00   Kurtosis:                         9.94\n",
       "===================================================================================\n",
       "\n",
       "Warnings:\n",
       "[1] Covariance matrix calculated using the outer product of gradients (complex-step).\n",
       "\"\"\""
      ]
     },
     "execution_count": 5,
     "metadata": {},
     "output_type": "execute_result"
    }
   ],
   "source": [
    "from statsmodels.tsa.statespace.sarimax import SARIMAX\n",
    "\n",
    "model = SARIMAX(\n",
    "    train[target_column], order=best_order, seasonal_order=best_seasonal_order\n",
    ")\n",
    "model = model.fit()\n",
    "model.summary()"
   ]
  },
  {
   "cell_type": "markdown",
   "metadata": {},
   "source": [
    "Plot the result"
   ]
  },
  {
   "cell_type": "code",
   "execution_count": 6,
   "metadata": {},
   "outputs": [
    {
     "name": "stderr",
     "output_type": "stream",
     "text": [
      "/home/samuell/.local/lib/python3.10/site-packages/statsmodels/tsa/statespace/representation.py:374: FutureWarning: Unknown keyword arguments: dict_keys(['typ']).Passing unknown keyword arguments will raise a TypeError beginning in version 0.15.\n",
      "  warnings.warn(msg, FutureWarning)\n"
     ]
    },
    {
     "data": {
      "text/plain": [
       "<Axes: >"
      ]
     },
     "execution_count": 6,
     "metadata": {},
     "output_type": "execute_result"
    },
    {
     "data": {
      "image/png": "[encoded data removed]",
      "text/plain": [
       "<Figure size 640x480 with 1 Axes>"
      ]
     },
     "metadata": {},
     "output_type": "display_data"
    }
   ],
   "source": [
    "start = len(train)\n",
    "end = len(train) + len(test) - 1\n",
    "pred = model.predict(start=start, end=end, typ=\"levels\").rename(\"SARIMA Predictions\")\n",
    "pred.plot(legend=True)\n",
    "test[target_column].plot(legend=True)"
   ]
  },
  {
   "cell_type": "markdown",
   "metadata": {},
   "source": [
    "RMSE of the result"
   ]
  },
  {
   "cell_type": "code",
   "execution_count": 7,
   "metadata": {},
   "outputs": [
    {
     "name": "stdout",
     "output_type": "stream",
     "text": [
      "Evaluation Metrics:\n",
      "MSE: 99210.04\n",
      "RMSE: 314.98\n",
      "MAE: 249.92\n",
      "MAPE: 84.87\n",
      "SMAPE: 55.98\n"
     ]
    }
   ],
   "source": [
    "print_evaluation_metrics(pred, test[target_column])"
   ]
  }
 ],
 "metadata": {
  "kernelspec": {
   "display_name": "Python 3",
   "language": "python",
   "name": "python3"
  },
  "language_info": {
   "codemirror_mode": {
    "name": "ipython",
    "version": 3
   },
   "file_extension": ".py",
   "mimetype": "text/x-python",
   "name": "python",
   "nbconvert_exporter": "python",
   "pygments_lexer": "ipython3",
   "version": "3.10.12"
  },
  "orig_nbformat": 4
 },
 "nbformat": 4,
 "nbformat_minor": 2
}
