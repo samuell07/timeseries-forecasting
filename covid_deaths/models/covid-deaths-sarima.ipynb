{
 "cells": [
  {
   "cell_type": "markdown",
   "metadata": {},
   "source": [
    "Related urls, will remove once finished:\n",
    "- https://www.kaggle.com/code/mjmurphy28/grid-search-for-sarima"
   ]
  },
  {
   "cell_type": "markdown",
   "metadata": {},
   "source": [
    "Import libraries"
   ]
  },
  {
   "cell_type": "code",
   "execution_count": 1,
   "metadata": {},
   "outputs": [],
   "source": [
    "import pandas as pd\n",
    "import matplotlib.pyplot as plt\n",
    "from statsmodels.graphics.tsaplots import plot_acf, plot_pacf\n",
    "from statsmodels.tsa.stattools import adfuller\n",
    "from sklearn.metrics import mean_squared_error\n",
    "from math import sqrt\n",
    "from pmdarima import auto_arima"
   ]
  },
  {
   "cell_type": "markdown",
   "metadata": {},
   "source": [
    "Load dataset and prepare df"
   ]
  },
  {
   "cell_type": "code",
   "execution_count": 2,
   "metadata": {},
   "outputs": [],
   "source": [
    "# Load the dataset\n",
    "file_path = '../data/WHO-COVID-19-global-df.csv'\n",
    "date_column = 'Date_reported'\n",
    "target_column = 'New_deaths'\n",
    "df = pd.read_csv(file_path, parse_dates=True)\n",
    "df = df[[date_column, target_column]]\n",
    "\n",
    "df.set_index(date_column, inplace=True)\n",
    "df = df.groupby(date_column).sum().reset_index()\n",
    "\n",
    "df = df.dropna()"
   ]
  },
  {
   "cell_type": "markdown",
   "metadata": {},
   "source": [
    "Train test split"
   ]
  },
  {
   "cell_type": "code",
   "execution_count": null,
   "metadata": {},
   "outputs": [],
   "source": [
    "train = df.iloc[:-30]\n",
    "test = df.iloc[-30:]"
   ]
  },
  {
   "cell_type": "markdown",
   "metadata": {},
   "source": [
    "Parameter tuning for order and seasonal order"
   ]
  },
  {
   "cell_type": "code",
   "execution_count": 5,
   "metadata": {},
   "outputs": [
    {
     "name": "stdout",
     "output_type": "stream",
     "text": [
      "Performing stepwise search to minimize aic\n",
      " ARIMA(2,1,2)(1,0,1)[12] intercept   : AIC=25596.367, Time=12.37 sec\n",
      " ARIMA(0,1,0)(0,0,0)[12] intercept   : AIC=26672.005, Time=0.05 sec\n",
      " ARIMA(1,1,0)(1,0,0)[12] intercept   : AIC=26167.798, Time=0.81 sec\n",
      " ARIMA(0,1,1)(0,0,1)[12] intercept   : AIC=25765.898, Time=2.38 sec\n",
      " ARIMA(0,1,0)(0,0,0)[12]             : AIC=26670.005, Time=0.09 sec\n",
      " ARIMA(2,1,2)(0,0,1)[12] intercept   : AIC=25619.432, Time=9.68 sec\n",
      " ARIMA(2,1,2)(1,0,0)[12] intercept   : AIC=25655.092, Time=13.09 sec\n",
      " ARIMA(2,1,2)(2,0,1)[12] intercept   : AIC=26559.857, Time=19.73 sec\n",
      " ARIMA(2,1,2)(1,0,2)[12] intercept   : AIC=inf, Time=24.24 sec\n",
      " ARIMA(2,1,2)(0,0,0)[12] intercept   : AIC=25528.870, Time=1.40 sec\n",
      " ARIMA(1,1,2)(0,0,0)[12] intercept   : AIC=25718.319, Time=1.19 sec\n",
      " ARIMA(2,1,1)(0,0,0)[12] intercept   : AIC=25803.620, Time=0.22 sec\n",
      " ARIMA(3,1,2)(0,0,0)[12] intercept   : AIC=25555.335, Time=1.55 sec\n",
      " ARIMA(2,1,3)(0,0,0)[12] intercept   : AIC=25579.550, Time=1.13 sec\n",
      " ARIMA(1,1,1)(0,0,0)[12] intercept   : AIC=25795.797, Time=0.31 sec\n",
      " ARIMA(1,1,3)(0,0,0)[12] intercept   : AIC=25556.676, Time=0.72 sec\n",
      " ARIMA(3,1,1)(0,0,0)[12] intercept   : AIC=25782.320, Time=0.22 sec\n",
      " ARIMA(3,1,3)(0,0,0)[12] intercept   : AIC=25397.393, Time=1.44 sec\n",
      " ARIMA(3,1,3)(1,0,0)[12] intercept   : AIC=25477.099, Time=8.23 sec\n",
      " ARIMA(3,1,3)(0,0,1)[12] intercept   : AIC=25437.642, Time=9.87 sec\n",
      " ARIMA(3,1,3)(1,0,1)[12] intercept   : AIC=25421.368, Time=10.34 sec\n",
      " ARIMA(4,1,3)(0,0,0)[12] intercept   : AIC=25516.997, Time=1.48 sec\n",
      " ARIMA(3,1,4)(0,0,0)[12] intercept   : AIC=25441.308, Time=1.68 sec\n",
      " ARIMA(2,1,4)(0,0,0)[12] intercept   : AIC=25258.859, Time=1.77 sec\n",
      " ARIMA(2,1,4)(1,0,0)[12] intercept   : AIC=25229.215, Time=8.71 sec\n",
      " ARIMA(2,1,4)(2,0,0)[12] intercept   : AIC=25172.591, Time=21.42 sec\n",
      " ARIMA(2,1,4)(3,0,0)[12] intercept   : AIC=25172.960, Time=52.93 sec\n",
      " ARIMA(2,1,4)(2,0,1)[12] intercept   : AIC=inf, Time=26.70 sec\n",
      " ARIMA(2,1,4)(1,0,1)[12] intercept   : AIC=25192.199, Time=13.71 sec\n",
      " ARIMA(2,1,4)(3,0,1)[12] intercept   : AIC=25397.991, Time=74.10 sec\n",
      " ARIMA(1,1,4)(2,0,0)[12] intercept   : AIC=25228.306, Time=20.29 sec\n",
      " ARIMA(2,1,3)(2,0,0)[12] intercept   : AIC=25374.940, Time=29.61 sec\n",
      " ARIMA(3,1,4)(2,0,0)[12] intercept   : AIC=25331.904, Time=32.60 sec\n",
      " ARIMA(2,1,5)(2,0,0)[12] intercept   : AIC=25282.913, Time=24.87 sec\n",
      " ARIMA(1,1,3)(2,0,0)[12] intercept   : AIC=25444.471, Time=14.87 sec\n",
      " ARIMA(1,1,5)(2,0,0)[12] intercept   : AIC=inf, Time=20.58 sec\n",
      " ARIMA(3,1,3)(2,0,0)[12] intercept   : AIC=25351.013, Time=22.45 sec\n",
      " ARIMA(3,1,5)(2,0,0)[12] intercept   : AIC=25216.379, Time=28.83 sec\n",
      " ARIMA(2,1,4)(2,0,0)[12]             : AIC=25170.555, Time=19.55 sec\n",
      " ARIMA(2,1,4)(1,0,0)[12]             : AIC=25227.215, Time=11.61 sec\n",
      " ARIMA(2,1,4)(3,0,0)[12]             : AIC=25171.653, Time=52.23 sec\n",
      " ARIMA(2,1,4)(2,0,1)[12]             : AIC=inf, Time=22.60 sec\n",
      " ARIMA(2,1,4)(1,0,1)[12]             : AIC=25177.881, Time=12.03 sec\n",
      " ARIMA(2,1,4)(3,0,1)[12]             : AIC=25407.365, Time=52.89 sec\n",
      " ARIMA(1,1,4)(2,0,0)[12]             : AIC=25230.705, Time=14.00 sec\n",
      " ARIMA(2,1,3)(2,0,0)[12]             : AIC=25372.952, Time=21.77 sec\n",
      " ARIMA(3,1,4)(2,0,0)[12]             : AIC=25329.968, Time=26.41 sec\n",
      " ARIMA(2,1,5)(2,0,0)[12]             : AIC=25280.913, Time=23.84 sec\n",
      " ARIMA(1,1,3)(2,0,0)[12]             : AIC=25442.471, Time=12.77 sec\n",
      " ARIMA(1,1,5)(2,0,0)[12]             : AIC=inf, Time=22.64 sec\n",
      " ARIMA(3,1,3)(2,0,0)[12]             : AIC=25349.013, Time=21.54 sec\n",
      " ARIMA(3,1,5)(2,0,0)[12]             : AIC=25288.379, Time=25.71 sec\n",
      "\n",
      "Best model:  ARIMA(2,1,4)(2,0,0)[12]          \n",
      "Total fit time: 855.415 seconds\n"
     ]
    }
   ],
   "source": [
    "stepwise_fit = auto_arima(df[target_column], trace=True,\n",
    "suppress_warnings=True, max_P=3, max_D=2, max_Q=3, m=12, stepwise=True)\n",
    "best_order=stepwise_fit.order\n",
    "best_seasonal_order=stepwise_fit.seasonal_order"
   ]
  },
  {
   "cell_type": "markdown",
   "metadata": {},
   "source": [
    "Create Model"
   ]
  },
  {
   "cell_type": "code",
   "execution_count": 6,
   "metadata": {},
   "outputs": [
    {
     "name": "stdout",
     "output_type": "stream",
     "text": [
      "RUNNING THE L-BFGS-B CODE\n",
      "\n",
      "           * * *\n",
      "\n",
      "Machine precision = 2.220D-16\n",
      " N =            9     M =           10\n",
      "\n",
      "At X0         0 variables are exactly at the bounds\n",
      "\n",
      "At iterate    0    f=  9.19215D+00    |proj g|=  1.98194D-01\n"
     ]
    },
    {
     "name": "stderr",
     "output_type": "stream",
     "text": [
      " This problem is unconstrained.\n"
     ]
    },
    {
     "name": "stdout",
     "output_type": "stream",
     "text": [
      "\n",
      "At iterate    5    f=  9.05915D+00    |proj g|=  4.06366D-02\n",
      "\n",
      "At iterate   10    f=  9.05764D+00    |proj g|=  2.98964D-03\n",
      "\n",
      "At iterate   15    f=  9.05759D+00    |proj g|=  3.13794D-04\n",
      "\n",
      "At iterate   20    f=  9.05758D+00    |proj g|=  3.41842D-04\n",
      "\n",
      "At iterate   25    f=  9.05758D+00    |proj g|=  7.35919D-04\n",
      "\n",
      "At iterate   30    f=  9.05730D+00    |proj g|=  2.96095D-02\n",
      "\n",
      "At iterate   35    f=  9.02983D+00    |proj g|=  1.76711D-01\n",
      "\n",
      "At iterate   40    f=  8.98204D+00    |proj g|=  4.49151D-02\n",
      "\n",
      "At iterate   45    f=  8.96243D+00    |proj g|=  6.86002D-02\n",
      "\n",
      "At iterate   50    f=  8.95944D+00    |proj g|=  2.66718D-02\n",
      "\n",
      "           * * *\n",
      "\n",
      "Tit   = total number of iterations\n",
      "Tnf   = total number of function evaluations\n",
      "Tnint = total number of segments explored during Cauchy searches\n",
      "Skip  = number of BFGS updates skipped\n",
      "Nact  = number of active bounds at final generalized Cauchy point\n",
      "Projg = norm of the final projected gradient\n",
      "F     = final function value\n",
      "\n",
      "           * * *\n",
      "\n",
      "   N    Tit     Tnf  Tnint  Skip  Nact     Projg        F\n",
      "    9     50     58      1     0     0   2.667D-02   8.959D+00\n",
      "  F =   8.9594361195192835     \n",
      "\n",
      "STOP: TOTAL NO. of ITERATIONS REACHED LIMIT                 \n"
     ]
    },
    {
     "name": "stderr",
     "output_type": "stream",
     "text": [
      "/home/samuell/.local/lib/python3.10/site-packages/statsmodels/base/model.py:607: ConvergenceWarning: Maximum Likelihood optimization failed to converge. Check mle_retvals\n",
      "  warnings.warn(\"Maximum Likelihood optimization failed to \"\n"
     ]
    },
    {
     "data": {
      "text/html": [
       "<table class=\"simpletable\">\n",
       "<caption>SARIMAX Results</caption>\n",
       "<tr>\n",
       "  <th>Dep. Variable:</th>             <td>New_deaths</td>            <th>  No. Observations:  </th>    <td>1347</td>   \n",
       "</tr>\n",
       "<tr>\n",
       "  <th>Model:</th>           <td>SARIMAX(2, 1, 4)x(2, 0, [], 12)</td> <th>  Log Likelihood     </th> <td>-12068.360</td>\n",
       "</tr>\n",
       "<tr>\n",
       "  <th>Date:</th>                   <td>Thu, 16 Nov 2023</td>         <th>  AIC                </th>  <td>24154.721</td>\n",
       "</tr>\n",
       "<tr>\n",
       "  <th>Time:</th>                       <td>13:51:29</td>             <th>  BIC                </th>  <td>24201.565</td>\n",
       "</tr>\n",
       "<tr>\n",
       "  <th>Sample:</th>                         <td>0</td>                <th>  HQIC               </th>  <td>24172.267</td>\n",
       "</tr>\n",
       "<tr>\n",
       "  <th></th>                             <td> - 1347</td>             <th>                     </th>      <td> </td>    \n",
       "</tr>\n",
       "<tr>\n",
       "  <th>Covariance Type:</th>               <td>opg</td>               <th>                     </th>      <td> </td>    \n",
       "</tr>\n",
       "</table>\n",
       "<table class=\"simpletable\">\n",
       "<tr>\n",
       "      <td></td>        <th>coef</th>     <th>std err</th>      <th>z</th>      <th>P>|z|</th>  <th>[0.025</th>    <th>0.975]</th>  \n",
       "</tr>\n",
       "<tr>\n",
       "  <th>ar.L1</th>    <td>   -0.6226</td> <td>    0.031</td> <td>  -19.817</td> <td> 0.000</td> <td>   -0.684</td> <td>   -0.561</td>\n",
       "</tr>\n",
       "<tr>\n",
       "  <th>ar.L2</th>    <td>   -0.3462</td> <td>    0.037</td> <td>   -9.389</td> <td> 0.000</td> <td>   -0.418</td> <td>   -0.274</td>\n",
       "</tr>\n",
       "<tr>\n",
       "  <th>ma.L1</th>    <td>   -0.4996</td> <td>    0.021</td> <td>  -24.185</td> <td> 0.000</td> <td>   -0.540</td> <td>   -0.459</td>\n",
       "</tr>\n",
       "<tr>\n",
       "  <th>ma.L2</th>    <td>   -0.2714</td> <td>    0.019</td> <td>  -14.524</td> <td> 0.000</td> <td>   -0.308</td> <td>   -0.235</td>\n",
       "</tr>\n",
       "<tr>\n",
       "  <th>ma.L3</th>    <td>   -0.6192</td> <td>    0.019</td> <td>  -32.309</td> <td> 0.000</td> <td>   -0.657</td> <td>   -0.582</td>\n",
       "</tr>\n",
       "<tr>\n",
       "  <th>ma.L4</th>    <td>    0.7624</td> <td>    0.011</td> <td>   68.027</td> <td> 0.000</td> <td>    0.740</td> <td>    0.784</td>\n",
       "</tr>\n",
       "<tr>\n",
       "  <th>ar.S.L12</th> <td>   -0.1751</td> <td>    0.028</td> <td>   -6.170</td> <td> 0.000</td> <td>   -0.231</td> <td>   -0.119</td>\n",
       "</tr>\n",
       "<tr>\n",
       "  <th>ar.S.L24</th> <td>   -0.2862</td> <td>    0.026</td> <td>  -10.945</td> <td> 0.000</td> <td>   -0.337</td> <td>   -0.235</td>\n",
       "</tr>\n",
       "<tr>\n",
       "  <th>sigma2</th>   <td> 3.556e+06</td> <td> 7.28e+04</td> <td>   48.877</td> <td> 0.000</td> <td> 3.41e+06</td> <td>  3.7e+06</td>\n",
       "</tr>\n",
       "</table>\n",
       "<table class=\"simpletable\">\n",
       "<tr>\n",
       "  <th>Ljung-Box (L1) (Q):</th>     <td>0.84</td> <th>  Jarque-Bera (JB):  </th> <td>3072.88</td>\n",
       "</tr>\n",
       "<tr>\n",
       "  <th>Prob(Q):</th>                <td>0.36</td> <th>  Prob(JB):          </th>  <td>0.00</td>  \n",
       "</tr>\n",
       "<tr>\n",
       "  <th>Heteroskedasticity (H):</th> <td>0.18</td> <th>  Skew:              </th>  <td>1.27</td>  \n",
       "</tr>\n",
       "<tr>\n",
       "  <th>Prob(H) (two-sided):</th>    <td>0.00</td> <th>  Kurtosis:          </th>  <td>9.95</td>  \n",
       "</tr>\n",
       "</table><br/><br/>Warnings:<br/>[1] Covariance matrix calculated using the outer product of gradients (complex-step)."
      ],
      "text/latex": [
       "\\begin{center}\n",
       "\\begin{tabular}{lclc}\n",
       "\\toprule\n",
       "\\textbf{Dep. Variable:}          &           New\\_deaths           & \\textbf{  No. Observations:  } &    1347     \\\\\n",
       "\\textbf{Model:}                  & SARIMAX(2, 1, 4)x(2, 0, [], 12) & \\textbf{  Log Likelihood     } & -12068.360  \\\\\n",
       "\\textbf{Date:}                   &         Thu, 16 Nov 2023        & \\textbf{  AIC                } & 24154.721   \\\\\n",
       "\\textbf{Time:}                   &             13:51:29            & \\textbf{  BIC                } & 24201.565   \\\\\n",
       "\\textbf{Sample:}                 &                0                & \\textbf{  HQIC               } & 24172.267   \\\\\n",
       "\\textbf{}                        &              - 1347             & \\textbf{                     } &             \\\\\n",
       "\\textbf{Covariance Type:}        &               opg               & \\textbf{                     } &             \\\\\n",
       "\\bottomrule\n",
       "\\end{tabular}\n",
       "\\begin{tabular}{lcccccc}\n",
       "                  & \\textbf{coef} & \\textbf{std err} & \\textbf{z} & \\textbf{P$> |$z$|$} & \\textbf{[0.025} & \\textbf{0.975]}  \\\\\n",
       "\\midrule\n",
       "\\textbf{ar.L1}    &      -0.6226  &        0.031     &   -19.817  &         0.000        &       -0.684    &       -0.561     \\\\\n",
       "\\textbf{ar.L2}    &      -0.3462  &        0.037     &    -9.389  &         0.000        &       -0.418    &       -0.274     \\\\\n",
       "\\textbf{ma.L1}    &      -0.4996  &        0.021     &   -24.185  &         0.000        &       -0.540    &       -0.459     \\\\\n",
       "\\textbf{ma.L2}    &      -0.2714  &        0.019     &   -14.524  &         0.000        &       -0.308    &       -0.235     \\\\\n",
       "\\textbf{ma.L3}    &      -0.6192  &        0.019     &   -32.309  &         0.000        &       -0.657    &       -0.582     \\\\\n",
       "\\textbf{ma.L4}    &       0.7624  &        0.011     &    68.027  &         0.000        &        0.740    &        0.784     \\\\\n",
       "\\textbf{ar.S.L12} &      -0.1751  &        0.028     &    -6.170  &         0.000        &       -0.231    &       -0.119     \\\\\n",
       "\\textbf{ar.S.L24} &      -0.2862  &        0.026     &   -10.945  &         0.000        &       -0.337    &       -0.235     \\\\\n",
       "\\textbf{sigma2}   &    3.556e+06  &     7.28e+04     &    48.877  &         0.000        &     3.41e+06    &      3.7e+06     \\\\\n",
       "\\bottomrule\n",
       "\\end{tabular}\n",
       "\\begin{tabular}{lclc}\n",
       "\\textbf{Ljung-Box (L1) (Q):}     & 0.84 & \\textbf{  Jarque-Bera (JB):  } & 3072.88  \\\\\n",
       "\\textbf{Prob(Q):}                & 0.36 & \\textbf{  Prob(JB):          } &   0.00   \\\\\n",
       "\\textbf{Heteroskedasticity (H):} & 0.18 & \\textbf{  Skew:              } &   1.27   \\\\\n",
       "\\textbf{Prob(H) (two-sided):}    & 0.00 & \\textbf{  Kurtosis:          } &   9.95   \\\\\n",
       "\\bottomrule\n",
       "\\end{tabular}\n",
       "%\\caption{SARIMAX Results}\n",
       "\\end{center}\n",
       "\n",
       "Warnings: \\newline\n",
       " [1] Covariance matrix calculated using the outer product of gradients (complex-step)."
      ],
      "text/plain": [
       "<class 'statsmodels.iolib.summary.Summary'>\n",
       "\"\"\"\n",
       "                                      SARIMAX Results                                      \n",
       "===========================================================================================\n",
       "Dep. Variable:                          New_deaths   No. Observations:                 1347\n",
       "Model:             SARIMAX(2, 1, 4)x(2, 0, [], 12)   Log Likelihood              -12068.360\n",
       "Date:                             Thu, 16 Nov 2023   AIC                          24154.721\n",
       "Time:                                     13:51:29   BIC                          24201.565\n",
       "Sample:                                          0   HQIC                         24172.267\n",
       "                                            - 1347                                         \n",
       "Covariance Type:                               opg                                         \n",
       "==============================================================================\n",
       "                 coef    std err          z      P>|z|      [0.025      0.975]\n",
       "------------------------------------------------------------------------------\n",
       "ar.L1         -0.6226      0.031    -19.817      0.000      -0.684      -0.561\n",
       "ar.L2         -0.3462      0.037     -9.389      0.000      -0.418      -0.274\n",
       "ma.L1         -0.4996      0.021    -24.185      0.000      -0.540      -0.459\n",
       "ma.L2         -0.2714      0.019    -14.524      0.000      -0.308      -0.235\n",
       "ma.L3         -0.6192      0.019    -32.309      0.000      -0.657      -0.582\n",
       "ma.L4          0.7624      0.011     68.027      0.000       0.740       0.784\n",
       "ar.S.L12      -0.1751      0.028     -6.170      0.000      -0.231      -0.119\n",
       "ar.S.L24      -0.2862      0.026    -10.945      0.000      -0.337      -0.235\n",
       "sigma2      3.556e+06   7.28e+04     48.877      0.000    3.41e+06     3.7e+06\n",
       "===================================================================================\n",
       "Ljung-Box (L1) (Q):                   0.84   Jarque-Bera (JB):              3072.88\n",
       "Prob(Q):                              0.36   Prob(JB):                         0.00\n",
       "Heteroskedasticity (H):               0.18   Skew:                             1.27\n",
       "Prob(H) (two-sided):                  0.00   Kurtosis:                         9.95\n",
       "===================================================================================\n",
       "\n",
       "Warnings:\n",
       "[1] Covariance matrix calculated using the outer product of gradients (complex-step).\n",
       "\"\"\""
      ]
     },
     "execution_count": 6,
     "metadata": {},
     "output_type": "execute_result"
    }
   ],
   "source": [
    "from statsmodels.tsa.statespace.sarimax import SARIMAX\n",
    "model=SARIMAX(train[target_column],order=best_order, seasonal_order=best_seasonal_order)\n",
    "model=model.fit()\n",
    "model.summary()"
   ]
  },
  {
   "cell_type": "markdown",
   "metadata": {},
   "source": [
    "Plot the result"
   ]
  },
  {
   "cell_type": "code",
   "execution_count": 7,
   "metadata": {},
   "outputs": [
    {
     "name": "stderr",
     "output_type": "stream",
     "text": [
      "/home/samuell/.local/lib/python3.10/site-packages/statsmodels/tsa/statespace/representation.py:374: FutureWarning: Unknown keyword arguments: dict_keys(['typ']).Passing unknown keyword arguments will raise a TypeError beginning in version 0.15.\n",
      "  warnings.warn(msg, FutureWarning)\n"
     ]
    },
    {
     "data": {
      "text/plain": [
       "<Axes: >"
      ]
     },
     "execution_count": 7,
     "metadata": {},
     "output_type": "execute_result"
    },
    {
     "data": {
      "image/png": "[encoded data removed]",
      "text/plain": [
       "<Figure size 640x480 with 1 Axes>"
      ]
     },
     "metadata": {},
     "output_type": "display_data"
    }
   ],
   "source": [
    "start=len(train)\n",
    "end=len(train)+len(test)-1\n",
    "pred=model.predict(start=start,end=end,typ='levels').rename('SARIMA Predictions')\n",
    "pred.plot(legend=True)\n",
    "test[target_column].plot(legend=True)"
   ]
  },
  {
   "cell_type": "markdown",
   "metadata": {},
   "source": [
    "RMSE of the result"
   ]
  },
  {
   "cell_type": "code",
   "execution_count": 8,
   "metadata": {},
   "outputs": [
    {
     "name": "stdout",
     "output_type": "stream",
     "text": [
      "349.2781837356974\n"
     ]
    }
   ],
   "source": [
    "test[target_column].mean()\n",
    "rmse=sqrt(mean_squared_error(pred,test[target_column]))\n",
    "print(rmse)"
   ]
  }
 ],
 "metadata": {
  "kernelspec": {
   "display_name": "Python 3",
   "language": "python",
   "name": "python3"
  },
  "language_info": {
   "codemirror_mode": {
    "name": "ipython",
    "version": 3
   },
   "file_extension": ".py",
   "mimetype": "text/x-python",
   "name": "python",
   "nbconvert_exporter": "python",
   "pygments_lexer": "ipython3",
   "version": "3.10.12"
  },
  "orig_nbformat": 4
 },
 "nbformat": 4,
 "nbformat_minor": 2
}
