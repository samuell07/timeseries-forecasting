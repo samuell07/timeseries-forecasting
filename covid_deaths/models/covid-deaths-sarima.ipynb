{
 "cells": [
  {
   "cell_type": "markdown",
   "metadata": {},
   "source": [
    "Import libraries"
   ]
  },
  {
   "cell_type": "code",
   "execution_count": 1,
   "metadata": {},
   "outputs": [],
   "source": [
    "import pandas as pd\n",
    "from pmdarima import auto_arima\n",
    "from metrics import print_evaluation_metrics"
   ]
  },
  {
   "cell_type": "markdown",
   "metadata": {},
   "source": [
    "Load dataset and prepare df"
   ]
  },
  {
   "cell_type": "code",
   "execution_count": 3,
   "metadata": {},
   "outputs": [],
   "source": [
    "file_path = \"../data/WHO-COVID-19-global-data.csv\"\n",
    "date_column = \"Date_reported\"\n",
    "target_column = \"New_deaths\"\n",
    "df = pd.read_csv(file_path, parse_dates=True)\n",
    "df = df[[date_column, target_column]]\n",
    "\n",
    "df.set_index(date_column, inplace=True)\n",
    "df = df.groupby(date_column).sum().reset_index()\n",
    "\n",
    "df = df.dropna()"
   ]
  },
  {
   "cell_type": "markdown",
   "metadata": {},
   "source": [
    "Train test split"
   ]
  },
  {
   "cell_type": "code",
   "execution_count": 4,
   "metadata": {},
   "outputs": [],
   "source": [
    "train = df.iloc[:-30]\n",
    "test = df.iloc[-30:]"
   ]
  },
  {
   "cell_type": "markdown",
   "metadata": {},
   "source": [
    "Parameter tuning for order and seasonal order"
   ]
  },
  {
   "cell_type": "code",
   "execution_count": 5,
   "metadata": {},
   "outputs": [
    {
     "name": "stdout",
     "output_type": "stream",
     "text": [
      "Performing stepwise search to minimize aic\n"
     ]
    },
    {
     "name": "stdout",
     "output_type": "stream",
     "text": [
      " ARIMA(2,1,2)(1,0,1)[12] intercept   : AIC=26493.554, Time=20.42 sec\n",
      " ARIMA(0,1,0)(0,0,0)[12] intercept   : AIC=27445.059, Time=0.09 sec\n",
      " ARIMA(1,1,0)(1,0,0)[12] intercept   : AIC=26984.122, Time=1.14 sec\n",
      " ARIMA(0,1,1)(0,0,1)[12] intercept   : AIC=26538.401, Time=4.01 sec\n",
      " ARIMA(0,1,0)(0,0,0)[12]             : AIC=27443.060, Time=0.07 sec\n",
      " ARIMA(2,1,2)(0,0,1)[12] intercept   : AIC=26508.720, Time=12.39 sec\n",
      " ARIMA(2,1,2)(1,0,0)[12] intercept   : AIC=26511.706, Time=13.49 sec\n",
      " ARIMA(2,1,2)(2,0,1)[12] intercept   : AIC=26497.418, Time=32.80 sec\n",
      " ARIMA(2,1,2)(1,0,2)[12] intercept   : AIC=inf, Time=34.31 sec\n",
      " ARIMA(2,1,2)(0,0,0)[12] intercept   : AIC=26516.485, Time=2.16 sec\n",
      " ARIMA(2,1,2)(0,0,2)[12] intercept   : AIC=26487.581, Time=31.02 sec\n",
      " ARIMA(2,1,2)(0,0,3)[12] intercept   : AIC=26478.141, Time=67.14 sec\n",
      " ARIMA(2,1,2)(1,0,3)[12] intercept   : AIC=26496.671, Time=60.99 sec\n",
      " ARIMA(1,1,2)(0,0,3)[12] intercept   : AIC=26493.314, Time=51.03 sec\n",
      " ARIMA(2,1,1)(0,0,3)[12] intercept   : AIC=26532.593, Time=20.30 sec\n",
      " ARIMA(3,1,2)(0,0,3)[12] intercept   : AIC=26424.267, Time=62.01 sec\n",
      " ARIMA(3,1,2)(0,0,2)[12] intercept   : AIC=26443.211, Time=30.98 sec\n",
      " ARIMA(3,1,2)(1,0,3)[12] intercept   : AIC=26514.124, Time=71.22 sec\n",
      " ARIMA(3,1,2)(1,0,2)[12] intercept   : AIC=26520.111, Time=34.10 sec\n",
      " ARIMA(3,1,1)(0,0,3)[12] intercept   : AIC=26524.206, Time=25.47 sec\n",
      " ARIMA(4,1,2)(0,0,3)[12] intercept   : AIC=26408.904, Time=63.96 sec\n",
      " ARIMA(4,1,2)(0,0,2)[12] intercept   : AIC=26411.828, Time=28.47 sec\n",
      " ARIMA(4,1,2)(1,0,3)[12] intercept   : AIC=26496.133, Time=73.00 sec\n",
      " ARIMA(4,1,2)(1,0,2)[12] intercept   : AIC=26413.985, Time=33.29 sec\n",
      " ARIMA(4,1,1)(0,0,3)[12] intercept   : AIC=26486.952, Time=29.67 sec\n",
      " ARIMA(5,1,2)(0,0,3)[12] intercept   : AIC=26231.325, Time=92.71 sec\n",
      " ARIMA(5,1,2)(0,0,2)[12] intercept   : AIC=26413.688, Time=38.76 sec\n",
      " ARIMA(5,1,2)(1,0,3)[12] intercept   : AIC=26503.350, Time=89.10 sec\n",
      " ARIMA(5,1,2)(1,0,2)[12] intercept   : AIC=26446.639, Time=40.99 sec\n",
      " ARIMA(5,1,1)(0,0,3)[12] intercept   : AIC=26437.901, Time=42.24 sec\n",
      " ARIMA(5,1,3)(0,0,3)[12] intercept   : AIC=26241.856, Time=97.86 sec\n",
      " ARIMA(4,1,3)(0,0,3)[12] intercept   : AIC=26307.634, Time=91.85 sec\n"
     ]
    },
    {
     "name": "stderr",
     "output_type": "stream",
     "text": [
      "/home/samuell/.local/lib/python3.10/site-packages/pmdarima/arima/_auto_solvers.py:524: ModelFitWarning: Error fitting  ARIMA(5,1,2)(0,0,3)[12]           (if you do not want to see these warnings, run with error_action=\"ignore\").\n",
      "Traceback:\n",
      "Traceback (most recent call last):\n",
      "  File \"/home/samuell/.local/lib/python3.10/site-packages/pmdarima/arima/_auto_solvers.py\", line 508, in _fit_candidate_model\n",
      "    fit.fit(y, X=X, **fit_params)\n",
      "  File \"/home/samuell/.local/lib/python3.10/site-packages/pmdarima/arima/arima.py\", line 603, in fit\n",
      "    self._fit(y, X, **fit_args)\n",
      "  File \"/home/samuell/.local/lib/python3.10/site-packages/pmdarima/arima/arima.py\", line 524, in _fit\n",
      "    fit, self.arima_res_ = _fit_wrapper()\n",
      "  File \"/home/samuell/.local/lib/python3.10/site-packages/pmdarima/arima/arima.py\", line 510, in _fit_wrapper\n",
      "    fitted = arima.fit(\n",
      "  File \"/home/samuell/.local/lib/python3.10/site-packages/statsmodels/tsa/statespace/mlemodel.py\", line 704, in fit\n",
      "    mlefit = super(MLEModel, self).fit(start_params, method=method,\n",
      "  File \"/home/samuell/.local/lib/python3.10/site-packages/statsmodels/base/model.py\", line 566, in fit\n",
      "    xopt, retvals, optim_settings = optimizer._fit(f, score, start_params,\n",
      "  File \"/home/samuell/.local/lib/python3.10/site-packages/statsmodels/base/optimizer.py\", line 242, in _fit\n",
      "    xopt, retvals = func(objective, gradient, start_params, fargs, kwargs,\n",
      "  File \"/home/samuell/.local/lib/python3.10/site-packages/statsmodels/base/optimizer.py\", line 659, in _fit_lbfgs\n",
      "    retvals = optimize.fmin_l_bfgs_b(func, start_params, maxiter=maxiter,\n",
      "  File \"/home/samuell/.local/lib/python3.10/site-packages/scipy/optimize/_lbfgsb_py.py\", line 199, in fmin_l_bfgs_b\n",
      "    res = _minimize_lbfgsb(fun, x0, args=args, jac=jac, bounds=bounds,\n",
      "  File \"/home/samuell/.local/lib/python3.10/site-packages/scipy/optimize/_lbfgsb_py.py\", line 365, in _minimize_lbfgsb\n",
      "    f, g = func_and_grad(x)\n",
      "  File \"/home/samuell/.local/lib/python3.10/site-packages/scipy/optimize/_differentiable_functions.py\", line 286, in fun_and_grad\n",
      "    self._update_grad()\n",
      "  File \"/home/samuell/.local/lib/python3.10/site-packages/scipy/optimize/_differentiable_functions.py\", line 256, in _update_grad\n",
      "    self._update_grad_impl()\n",
      "  File \"/home/samuell/.local/lib/python3.10/site-packages/scipy/optimize/_differentiable_functions.py\", line 173, in update_grad\n",
      "    self.g = approx_derivative(fun_wrapped, self.x, f0=self.f,\n",
      "  File \"/home/samuell/.local/lib/python3.10/site-packages/scipy/optimize/_numdiff.py\", line 505, in approx_derivative\n",
      "    return _dense_difference(fun_wrapped, x0, f0, h,\n",
      "  File \"/home/samuell/.local/lib/python3.10/site-packages/scipy/optimize/_numdiff.py\", line 576, in _dense_difference\n",
      "    df = fun(x) - f0\n",
      "  File \"/home/samuell/.local/lib/python3.10/site-packages/scipy/optimize/_numdiff.py\", line 456, in fun_wrapped\n",
      "    f = np.atleast_1d(fun(x, *args, **kwargs))\n",
      "  File \"/home/samuell/.local/lib/python3.10/site-packages/scipy/optimize/_differentiable_functions.py\", line 137, in fun_wrapped\n",
      "    fx = fun(np.copy(x), *args)\n",
      "  File \"/home/samuell/.local/lib/python3.10/site-packages/statsmodels/base/model.py\", line 534, in f\n",
      "    return -self.loglike(params, *args) / nobs\n",
      "  File \"/home/samuell/.local/lib/python3.10/site-packages/statsmodels/tsa/statespace/mlemodel.py\", line 939, in loglike\n",
      "    loglike = self.ssm.loglike(complex_step=complex_step, **kwargs)\n",
      "  File \"/home/samuell/.local/lib/python3.10/site-packages/statsmodels/tsa/statespace/kalman_filter.py\", line 1001, in loglike\n",
      "    kfilter = self._filter(**kwargs)\n",
      "  File \"/home/samuell/.local/lib/python3.10/site-packages/statsmodels/tsa/statespace/kalman_filter.py\", line 921, in _filter\n",
      "    self._initialize_state(prefix=prefix, complex_step=complex_step)\n",
      "  File \"/home/samuell/.local/lib/python3.10/site-packages/statsmodels/tsa/statespace/representation.py\", line 1058, in _initialize_state\n",
      "    self._statespaces[prefix].initialize(self.initialization,\n",
      "  File \"statsmodels/tsa/statespace/_representation.pyx\", line 1373, in statsmodels.tsa.statespace._representation.dStatespace.initialize\n",
      "  File \"statsmodels/tsa/statespace/_representation.pyx\", line 1362, in statsmodels.tsa.statespace._representation.dStatespace.initialize\n",
      "  File \"statsmodels/tsa/statespace/_initialization.pyx\", line 288, in statsmodels.tsa.statespace._initialization.dInitialization.initialize\n",
      "  File \"statsmodels/tsa/statespace/_initialization.pyx\", line 406, in statsmodels.tsa.statespace._initialization.dInitialization.initialize_stationary_stationary_cov\n",
      "  File \"statsmodels/tsa/statespace/_tools.pyx\", line 1525, in statsmodels.tsa.statespace._tools._dsolve_discrete_lyapunov\n",
      "numpy.linalg.LinAlgError: LU decomposition error.\n",
      "\n",
      "  warnings.warn(warning_str, ModelFitWarning)\n"
     ]
    },
    {
     "name": "stdout",
     "output_type": "stream",
     "text": [
      " ARIMA(5,1,2)(0,0,3)[12]             : AIC=inf, Time=nan sec\n",
      "\n",
      "Best model:  ARIMA(5,1,2)(0,0,3)[12] intercept\n",
      "Total fit time: 1330.436 seconds\n"
     ]
    }
   ],
   "source": [
    "stepwise_fit = auto_arima(\n",
    "    df[target_column],\n",
    "    trace=True,\n",
    "    suppress_warnings=True,\n",
    "    max_P=3,\n",
    "    max_D=2,\n",
    "    max_Q=3,\n",
    "    m=12,\n",
    "    stepwise=True,\n",
    ")\n",
    "best_order = stepwise_fit.order\n",
    "best_seasonal_order = stepwise_fit.seasonal_order"
   ]
  },
  {
   "cell_type": "markdown",
   "metadata": {},
   "source": [
    "Create Model"
   ]
  },
  {
   "cell_type": "code",
   "execution_count": 6,
   "metadata": {},
   "outputs": [
    {
     "name": "stderr",
     "output_type": "stream",
     "text": [
      "/home/samuell/.local/lib/python3.10/site-packages/statsmodels/tsa/statespace/sarimax.py:966: UserWarning: Non-stationary starting autoregressive parameters found. Using zeros as starting parameters.\n",
      "  warn('Non-stationary starting autoregressive parameters'\n",
      "/home/samuell/.local/lib/python3.10/site-packages/statsmodels/tsa/statespace/sarimax.py:978: UserWarning: Non-invertible starting MA parameters found. Using zeros as starting parameters.\n",
      "  warn('Non-invertible starting MA parameters found.'\n"
     ]
    },
    {
     "name": "stdout",
     "output_type": "stream",
     "text": [
      "RUNNING THE L-BFGS-B CODE\n",
      "\n",
      "           * * *\n",
      "\n",
      "Machine precision = 2.220D-16\n",
      " N =           11     M =           10\n",
      "\n",
      "At X0         0 variables are exactly at the bounds\n",
      "\n",
      "At iterate    0    f=  1.00189D+01    |proj g|=  1.23535D+00\n"
     ]
    },
    {
     "name": "stderr",
     "output_type": "stream",
     "text": [
      " This problem is unconstrained.\n"
     ]
    },
    {
     "name": "stdout",
     "output_type": "stream",
     "text": [
      "\n",
      "At iterate    5    f=  9.36866D+00    |proj g|=  1.44100D-01\n",
      "\n",
      "At iterate   10    f=  9.35871D+00    |proj g|=  5.69494D-03\n",
      "\n",
      "At iterate   15    f=  9.35865D+00    |proj g|=  2.05985D-04\n",
      "\n",
      "At iterate   20    f=  9.35501D+00    |proj g|=  2.40564D-01\n",
      "\n",
      "At iterate   25    f=  9.27324D+00    |proj g|=  7.52535D-02\n",
      "\n",
      "At iterate   30    f=  9.24680D+00    |proj g|=  1.22505D-01\n",
      "\n",
      "At iterate   35    f=  9.24201D+00    |proj g|=  3.37416D-02\n",
      "\n",
      "At iterate   40    f=  9.23916D+00    |proj g|=  4.54294D-02\n",
      "\n",
      "At iterate   45    f=  9.23811D+00    |proj g|=  1.44052D-02\n",
      "\n",
      "At iterate   50    f=  9.23780D+00    |proj g|=  9.73953D-03\n",
      "\n",
      "           * * *\n",
      "\n",
      "Tit   = total number of iterations\n",
      "Tnf   = total number of function evaluations\n",
      "Tnint = total number of segments explored during Cauchy searches\n",
      "Skip  = number of BFGS updates skipped\n",
      "Nact  = number of active bounds at final generalized Cauchy point\n",
      "Projg = norm of the final projected gradient\n",
      "F     = final function value\n",
      "\n",
      "           * * *\n",
      "\n",
      "   N    Tit     Tnf  Tnint  Skip  Nact     Projg        F\n",
      "   11     50     67      1     0     0   9.740D-03   9.238D+00\n",
      "  F =   9.2378016163074310     \n",
      "\n",
      "STOP: TOTAL NO. of ITERATIONS REACHED LIMIT                 \n"
     ]
    },
    {
     "name": "stderr",
     "output_type": "stream",
     "text": [
      "/home/samuell/.local/lib/python3.10/site-packages/statsmodels/base/model.py:607: ConvergenceWarning: Maximum Likelihood optimization failed to converge. Check mle_retvals\n",
      "  warnings.warn(\"Maximum Likelihood optimization failed to \"\n"
     ]
    },
    {
     "data": {
      "text/html": [
       "<table class=\"simpletable\">\n",
       "<caption>SARIMAX Results</caption>\n",
       "<tr>\n",
       "  <th>Dep. Variable:</th>                 <td>New_deaths</td>               <th>  No. Observations:  </th>    <td>1390</td>   \n",
       "</tr>\n",
       "<tr>\n",
       "  <th>Model:</th>           <td>SARIMAX(5, 1, 2)x(0, 0, [1, 2, 3], 12)</td> <th>  Log Likelihood     </th> <td>-12840.544</td>\n",
       "</tr>\n",
       "<tr>\n",
       "  <th>Date:</th>                       <td>Sun, 26 Nov 2023</td>            <th>  AIC                </th>  <td>25703.088</td>\n",
       "</tr>\n",
       "<tr>\n",
       "  <th>Time:</th>                           <td>15:41:28</td>                <th>  BIC                </th>  <td>25760.688</td>\n",
       "</tr>\n",
       "<tr>\n",
       "  <th>Sample:</th>                             <td>0</td>                   <th>  HQIC               </th>  <td>25724.629</td>\n",
       "</tr>\n",
       "<tr>\n",
       "  <th></th>                                 <td> - 1390</td>                <th>                     </th>      <td> </td>    \n",
       "</tr>\n",
       "<tr>\n",
       "  <th>Covariance Type:</th>                   <td>opg</td>                  <th>                     </th>      <td> </td>    \n",
       "</tr>\n",
       "</table>\n",
       "<table class=\"simpletable\">\n",
       "<tr>\n",
       "      <td></td>        <th>coef</th>     <th>std err</th>      <th>z</th>      <th>P>|z|</th>  <th>[0.025</th>    <th>0.975]</th>  \n",
       "</tr>\n",
       "<tr>\n",
       "  <th>ar.L1</th>    <td>    0.1462</td> <td>    0.023</td> <td>    6.347</td> <td> 0.000</td> <td>    0.101</td> <td>    0.191</td>\n",
       "</tr>\n",
       "<tr>\n",
       "  <th>ar.L2</th>    <td>   -0.5201</td> <td>    0.023</td> <td>  -22.736</td> <td> 0.000</td> <td>   -0.565</td> <td>   -0.475</td>\n",
       "</tr>\n",
       "<tr>\n",
       "  <th>ar.L3</th>    <td>   -0.4026</td> <td>    0.015</td> <td>  -26.502</td> <td> 0.000</td> <td>   -0.432</td> <td>   -0.373</td>\n",
       "</tr>\n",
       "<tr>\n",
       "  <th>ar.L4</th>    <td>   -0.3318</td> <td>    0.007</td> <td>  -47.122</td> <td> 0.000</td> <td>   -0.346</td> <td>   -0.318</td>\n",
       "</tr>\n",
       "<tr>\n",
       "  <th>ar.L5</th>    <td>   -0.4251</td> <td>    0.013</td> <td>  -33.385</td> <td> 0.000</td> <td>   -0.450</td> <td>   -0.400</td>\n",
       "</tr>\n",
       "<tr>\n",
       "  <th>ma.L1</th>    <td>   -1.1139</td> <td>    0.016</td> <td>  -68.060</td> <td> 0.000</td> <td>   -1.146</td> <td>   -1.082</td>\n",
       "</tr>\n",
       "<tr>\n",
       "  <th>ma.L2</th>    <td>    0.7836</td> <td>    0.009</td> <td>   88.279</td> <td> 0.000</td> <td>    0.766</td> <td>    0.801</td>\n",
       "</tr>\n",
       "<tr>\n",
       "  <th>ma.S.L12</th> <td>    0.0272</td> <td>    0.035</td> <td>    0.769</td> <td> 0.442</td> <td>   -0.042</td> <td>    0.096</td>\n",
       "</tr>\n",
       "<tr>\n",
       "  <th>ma.S.L24</th> <td>    0.0304</td> <td>    0.035</td> <td>    0.878</td> <td> 0.380</td> <td>   -0.037</td> <td>    0.098</td>\n",
       "</tr>\n",
       "<tr>\n",
       "  <th>ma.S.L36</th> <td>   -0.2126</td> <td>    0.007</td> <td>  -28.601</td> <td> 0.000</td> <td>   -0.227</td> <td>   -0.198</td>\n",
       "</tr>\n",
       "<tr>\n",
       "  <th>sigma2</th>   <td> 5.028e+06</td> <td> 2.32e+04</td> <td>  216.617</td> <td> 0.000</td> <td> 4.98e+06</td> <td> 5.07e+06</td>\n",
       "</tr>\n",
       "</table>\n",
       "<table class=\"simpletable\">\n",
       "<tr>\n",
       "  <th>Ljung-Box (L1) (Q):</th>     <td>6.58</td> <th>  Jarque-Bera (JB):  </th> <td>2843564.46</td>\n",
       "</tr>\n",
       "<tr>\n",
       "  <th>Prob(Q):</th>                <td>0.01</td> <th>  Prob(JB):          </th>    <td>0.00</td>   \n",
       "</tr>\n",
       "<tr>\n",
       "  <th>Heteroskedasticity (H):</th> <td>2.42</td> <th>  Skew:              </th>    <td>9.51</td>   \n",
       "</tr>\n",
       "<tr>\n",
       "  <th>Prob(H) (two-sided):</th>    <td>0.00</td> <th>  Kurtosis:          </th>   <td>223.84</td>  \n",
       "</tr>\n",
       "</table><br/><br/>Warnings:<br/>[1] Covariance matrix calculated using the outer product of gradients (complex-step)."
      ],
      "text/latex": [
       "\\begin{center}\n",
       "\\begin{tabular}{lclc}\n",
       "\\toprule\n",
       "\\textbf{Dep. Variable:}          &              New\\_deaths               & \\textbf{  No. Observations:  } &    1390     \\\\\n",
       "\\textbf{Model:}                  & SARIMAX(5, 1, 2)x(0, 0, [1, 2, 3], 12) & \\textbf{  Log Likelihood     } & -12840.544  \\\\\n",
       "\\textbf{Date:}                   &            Sun, 26 Nov 2023            & \\textbf{  AIC                } & 25703.088   \\\\\n",
       "\\textbf{Time:}                   &                15:41:28                & \\textbf{  BIC                } & 25760.688   \\\\\n",
       "\\textbf{Sample:}                 &                   0                    & \\textbf{  HQIC               } & 25724.629   \\\\\n",
       "\\textbf{}                        &                 - 1390                 & \\textbf{                     } &             \\\\\n",
       "\\textbf{Covariance Type:}        &                  opg                   & \\textbf{                     } &             \\\\\n",
       "\\bottomrule\n",
       "\\end{tabular}\n",
       "\\begin{tabular}{lcccccc}\n",
       "                  & \\textbf{coef} & \\textbf{std err} & \\textbf{z} & \\textbf{P$> |$z$|$} & \\textbf{[0.025} & \\textbf{0.975]}  \\\\\n",
       "\\midrule\n",
       "\\textbf{ar.L1}    &       0.1462  &        0.023     &     6.347  &         0.000        &        0.101    &        0.191     \\\\\n",
       "\\textbf{ar.L2}    &      -0.5201  &        0.023     &   -22.736  &         0.000        &       -0.565    &       -0.475     \\\\\n",
       "\\textbf{ar.L3}    &      -0.4026  &        0.015     &   -26.502  &         0.000        &       -0.432    &       -0.373     \\\\\n",
       "\\textbf{ar.L4}    &      -0.3318  &        0.007     &   -47.122  &         0.000        &       -0.346    &       -0.318     \\\\\n",
       "\\textbf{ar.L5}    &      -0.4251  &        0.013     &   -33.385  &         0.000        &       -0.450    &       -0.400     \\\\\n",
       "\\textbf{ma.L1}    &      -1.1139  &        0.016     &   -68.060  &         0.000        &       -1.146    &       -1.082     \\\\\n",
       "\\textbf{ma.L2}    &       0.7836  &        0.009     &    88.279  &         0.000        &        0.766    &        0.801     \\\\\n",
       "\\textbf{ma.S.L12} &       0.0272  &        0.035     &     0.769  &         0.442        &       -0.042    &        0.096     \\\\\n",
       "\\textbf{ma.S.L24} &       0.0304  &        0.035     &     0.878  &         0.380        &       -0.037    &        0.098     \\\\\n",
       "\\textbf{ma.S.L36} &      -0.2126  &        0.007     &   -28.601  &         0.000        &       -0.227    &       -0.198     \\\\\n",
       "\\textbf{sigma2}   &    5.028e+06  &     2.32e+04     &   216.617  &         0.000        &     4.98e+06    &     5.07e+06     \\\\\n",
       "\\bottomrule\n",
       "\\end{tabular}\n",
       "\\begin{tabular}{lclc}\n",
       "\\textbf{Ljung-Box (L1) (Q):}     & 6.58 & \\textbf{  Jarque-Bera (JB):  } & 2843564.46  \\\\\n",
       "\\textbf{Prob(Q):}                & 0.01 & \\textbf{  Prob(JB):          } &    0.00     \\\\\n",
       "\\textbf{Heteroskedasticity (H):} & 2.42 & \\textbf{  Skew:              } &    9.51     \\\\\n",
       "\\textbf{Prob(H) (two-sided):}    & 0.00 & \\textbf{  Kurtosis:          } &   223.84    \\\\\n",
       "\\bottomrule\n",
       "\\end{tabular}\n",
       "%\\caption{SARIMAX Results}\n",
       "\\end{center}\n",
       "\n",
       "Warnings: \\newline\n",
       " [1] Covariance matrix calculated using the outer product of gradients (complex-step)."
      ],
      "text/plain": [
       "<class 'statsmodels.iolib.summary.Summary'>\n",
       "\"\"\"\n",
       "                                         SARIMAX Results                                          \n",
       "==================================================================================================\n",
       "Dep. Variable:                                 New_deaths   No. Observations:                 1390\n",
       "Model:             SARIMAX(5, 1, 2)x(0, 0, [1, 2, 3], 12)   Log Likelihood              -12840.544\n",
       "Date:                                    Sun, 26 Nov 2023   AIC                          25703.088\n",
       "Time:                                            15:41:28   BIC                          25760.688\n",
       "Sample:                                                 0   HQIC                         25724.629\n",
       "                                                   - 1390                                         \n",
       "Covariance Type:                                      opg                                         \n",
       "==============================================================================\n",
       "                 coef    std err          z      P>|z|      [0.025      0.975]\n",
       "------------------------------------------------------------------------------\n",
       "ar.L1          0.1462      0.023      6.347      0.000       0.101       0.191\n",
       "ar.L2         -0.5201      0.023    -22.736      0.000      -0.565      -0.475\n",
       "ar.L3         -0.4026      0.015    -26.502      0.000      -0.432      -0.373\n",
       "ar.L4         -0.3318      0.007    -47.122      0.000      -0.346      -0.318\n",
       "ar.L5         -0.4251      0.013    -33.385      0.000      -0.450      -0.400\n",
       "ma.L1         -1.1139      0.016    -68.060      0.000      -1.146      -1.082\n",
       "ma.L2          0.7836      0.009     88.279      0.000       0.766       0.801\n",
       "ma.S.L12       0.0272      0.035      0.769      0.442      -0.042       0.096\n",
       "ma.S.L24       0.0304      0.035      0.878      0.380      -0.037       0.098\n",
       "ma.S.L36      -0.2126      0.007    -28.601      0.000      -0.227      -0.198\n",
       "sigma2      5.028e+06   2.32e+04    216.617      0.000    4.98e+06    5.07e+06\n",
       "===================================================================================\n",
       "Ljung-Box (L1) (Q):                   6.58   Jarque-Bera (JB):           2843564.46\n",
       "Prob(Q):                              0.01   Prob(JB):                         0.00\n",
       "Heteroskedasticity (H):               2.42   Skew:                             9.51\n",
       "Prob(H) (two-sided):                  0.00   Kurtosis:                       223.84\n",
       "===================================================================================\n",
       "\n",
       "Warnings:\n",
       "[1] Covariance matrix calculated using the outer product of gradients (complex-step).\n",
       "\"\"\""
      ]
     },
     "execution_count": 6,
     "metadata": {},
     "output_type": "execute_result"
    }
   ],
   "source": [
    "from statsmodels.tsa.statespace.sarimax import SARIMAX\n",
    "\n",
    "model = SARIMAX(\n",
    "    train[target_column], order=best_order, seasonal_order=best_seasonal_order\n",
    ")\n",
    "model = model.fit()\n",
    "model.summary()"
   ]
  },
  {
   "cell_type": "markdown",
   "metadata": {},
   "source": [
    "Plot the result"
   ]
  },
  {
   "cell_type": "code",
   "execution_count": 7,
   "metadata": {},
   "outputs": [
    {
     "name": "stderr",
     "output_type": "stream",
     "text": [
      "/home/samuell/.local/lib/python3.10/site-packages/statsmodels/tsa/statespace/representation.py:374: FutureWarning: Unknown keyword arguments: dict_keys(['typ']).Passing unknown keyword arguments will raise a TypeError beginning in version 0.15.\n",
      "  warnings.warn(msg, FutureWarning)\n"
     ]
    },
    {
     "data": {
      "text/plain": [
       "<Axes: >"
      ]
     },
     "execution_count": 7,
     "metadata": {},
     "output_type": "execute_result"
    },
    {
     "data": {
      "image/png": "[encoded data removed]",
      "text/plain": [
       "<Figure size 640x480 with 1 Axes>"
      ]
     },
     "metadata": {},
     "output_type": "display_data"
    }
   ],
   "source": [
    "start = len(train)\n",
    "end = len(train) + len(test) - 1\n",
    "pred = model.predict(start=start, end=end, typ=\"levels\").rename(\"SARIMA Predictions\")\n",
    "pred.plot(legend=True)\n",
    "test[target_column].plot(legend=True)"
   ]
  },
  {
   "cell_type": "markdown",
   "metadata": {},
   "source": [
    "RMSE of the result"
   ]
  },
  {
   "cell_type": "code",
   "execution_count": 8,
   "metadata": {},
   "outputs": [
    {
     "name": "stdout",
     "output_type": "stream",
     "text": [
      "Evaluation Metrics:\n",
      "MSE: 195370.81\n",
      "RMSE: 442.01\n",
      "MAE: 424.70\n",
      "MAPE: inf\n",
      "SMAPE: 150.10\n"
     ]
    }
   ],
   "source": [
    "print_evaluation_metrics(pred, test[target_column])"
   ]
  }
 ],
 "metadata": {
  "kernelspec": {
   "display_name": "Python 3",
   "language": "python",
   "name": "python3"
  },
  "language_info": {
   "codemirror_mode": {
    "name": "ipython",
    "version": 3
   },
   "file_extension": ".py",
   "mimetype": "text/x-python",
   "name": "python",
   "nbconvert_exporter": "python",
   "pygments_lexer": "ipython3",
   "version": "3.10.12"
  },
  "orig_nbformat": 4
 },
 "nbformat": 4,
 "nbformat_minor": 2
}
