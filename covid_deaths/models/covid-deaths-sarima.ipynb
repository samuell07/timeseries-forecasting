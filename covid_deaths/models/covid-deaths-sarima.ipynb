{
 "cells": [
  {
   "cell_type": "markdown",
   "metadata": {},
   "source": [
    "Import libraries"
   ]
  },
  {
   "cell_type": "code",
   "execution_count": 1,
   "metadata": {},
   "outputs": [],
   "source": [
    "import pandas as pd\n",
    "from pmdarima import auto_arima\n",
    "from metrics import print_evaluation_metrics"
   ]
  },
  {
   "cell_type": "markdown",
   "metadata": {},
   "source": [
    "Load dataset and prepare df"
   ]
  },
  {
   "cell_type": "code",
   "execution_count": 2,
   "metadata": {},
   "outputs": [],
   "source": [
    "file_path = \"../data/parsed_dataset.csv\"\n",
    "date_column = \"Date_reported\"\n",
    "target_column = \"New_deaths\"\n",
    "df = pd.read_csv(file_path, parse_dates=True)\n",
    "df = df[[date_column, target_column]]\n",
    "\n",
    "df.set_index(date_column, inplace=True)\n",
    "df = df.groupby(date_column).sum().reset_index()\n",
    "\n",
    "df = df.dropna()"
   ]
  },
  {
   "cell_type": "markdown",
   "metadata": {},
   "source": [
    "Train test split"
   ]
  },
  {
   "cell_type": "code",
   "execution_count": 3,
   "metadata": {},
   "outputs": [],
   "source": [
    "train = df.iloc[:-30]\n",
    "test = df.iloc[-30:]"
   ]
  },
  {
   "cell_type": "markdown",
   "metadata": {},
   "source": [
    "Parameter tuning for order and seasonal order"
   ]
  },
  {
   "cell_type": "code",
   "execution_count": 4,
   "metadata": {},
   "outputs": [
    {
     "name": "stdout",
     "output_type": "stream",
     "text": [
      "Performing stepwise search to minimize aic\n"
     ]
    },
    {
     "name": "stdout",
     "output_type": "stream",
     "text": [
      " ARIMA(2,1,2)(1,0,1)[12] intercept   : AIC=25955.122, Time=12.10 sec\n",
      " ARIMA(0,1,0)(0,0,0)[12] intercept   : AIC=26939.808, Time=0.06 sec\n",
      " ARIMA(1,1,0)(1,0,0)[12] intercept   : AIC=26426.646, Time=1.42 sec\n",
      " ARIMA(0,1,1)(0,0,1)[12] intercept   : AIC=26023.173, Time=2.95 sec\n",
      " ARIMA(0,1,0)(0,0,0)[12]             : AIC=26937.808, Time=0.04 sec\n",
      " ARIMA(2,1,2)(0,0,1)[12] intercept   : AIC=25982.838, Time=9.77 sec\n",
      " ARIMA(2,1,2)(1,0,0)[12] intercept   : AIC=25832.357, Time=13.21 sec\n",
      " ARIMA(2,1,2)(0,0,0)[12] intercept   : AIC=25950.365, Time=1.84 sec\n",
      " ARIMA(2,1,2)(2,0,0)[12] intercept   : AIC=25845.650, Time=25.16 sec\n",
      " ARIMA(2,1,2)(2,0,1)[12] intercept   : AIC=26361.245, Time=19.70 sec\n",
      " ARIMA(1,1,2)(1,0,0)[12] intercept   : AIC=25883.280, Time=6.05 sec\n",
      " ARIMA(2,1,1)(1,0,0)[12] intercept   : AIC=26021.839, Time=4.99 sec\n",
      " ARIMA(3,1,2)(1,0,0)[12] intercept   : AIC=25775.900, Time=8.59 sec\n",
      " ARIMA(3,1,2)(0,0,0)[12] intercept   : AIC=25795.582, Time=1.61 sec\n",
      " ARIMA(3,1,2)(2,0,0)[12] intercept   : AIC=25957.592, Time=24.71 sec\n",
      " ARIMA(3,1,2)(1,0,1)[12] intercept   : AIC=inf, Time=22.28 sec\n",
      " ARIMA(3,1,2)(0,0,1)[12] intercept   : AIC=inf, Time=15.79 sec\n",
      " ARIMA(3,1,2)(2,0,1)[12] intercept   : AIC=26679.445, Time=32.93 sec\n",
      " ARIMA(3,1,1)(1,0,0)[12] intercept   : AIC=26022.994, Time=3.84 sec\n",
      " ARIMA(4,1,2)(1,0,0)[12] intercept   : AIC=18.000, Time=250.34 sec\n",
      " ARIMA(4,1,2)(0,0,0)[12] intercept   : AIC=inf, Time=6.05 sec\n",
      " ARIMA(4,1,2)(2,0,0)[12] intercept   : AIC=25498.812, Time=46.27 sec\n",
      " ARIMA(4,1,2)(1,0,1)[12] intercept   : AIC=25458.936, Time=25.89 sec\n",
      " ARIMA(4,1,2)(0,0,1)[12] intercept   : AIC=25566.495, Time=18.66 sec\n",
      " ARIMA(4,1,2)(2,0,1)[12] intercept   : AIC=25941.659, Time=51.66 sec\n",
      " ARIMA(4,1,1)(1,0,0)[12] intercept   : AIC=25826.790, Time=6.99 sec\n",
      " ARIMA(5,1,2)(1,0,0)[12] intercept   : AIC=25526.810, Time=31.20 sec\n",
      " ARIMA(4,1,3)(1,0,0)[12] intercept   : AIC=25357.387, Time=27.88 sec\n",
      " ARIMA(3,1,3)(1,0,0)[12] intercept   : AIC=25713.427, Time=22.08 sec\n",
      " ARIMA(5,1,1)(1,0,0)[12] intercept   : AIC=25758.273, Time=25.68 sec\n",
      " ARIMA(5,1,3)(1,0,0)[12] intercept   : AIC=25517.952, Time=32.52 sec\n",
      " ARIMA(4,1,2)(1,0,0)[12]             : AIC=25471.932, Time=19.42 sec\n",
      "\n",
      "Best model:  ARIMA(4,1,2)(1,0,0)[12] intercept\n",
      "Total fit time: 771.820 seconds\n"
     ]
    }
   ],
   "source": [
    "stepwise_fit = auto_arima(\n",
    "    df[target_column],\n",
    "    trace=True,\n",
    "    suppress_warnings=True,\n",
    "    max_P=3,\n",
    "    max_D=2,\n",
    "    max_Q=3,\n",
    "    m=12,\n",
    "    stepwise=True,\n",
    ")\n",
    "best_order = stepwise_fit.order\n",
    "best_seasonal_order = stepwise_fit.seasonal_order"
   ]
  },
  {
   "cell_type": "markdown",
   "metadata": {},
   "source": [
    "Create Model"
   ]
  },
  {
   "cell_type": "code",
   "execution_count": 5,
   "metadata": {},
   "outputs": [
    {
     "name": "stderr",
     "output_type": "stream",
     "text": [
      "/home/samuell/.local/lib/python3.10/site-packages/statsmodels/tsa/statespace/sarimax.py:966: UserWarning: Non-stationary starting autoregressive parameters found. Using zeros as starting parameters.\n",
      "  warn('Non-stationary starting autoregressive parameters'\n",
      "/home/samuell/.local/lib/python3.10/site-packages/statsmodels/tsa/statespace/sarimax.py:978: UserWarning: Non-invertible starting MA parameters found. Using zeros as starting parameters.\n",
      "  warn('Non-invertible starting MA parameters found.'\n",
      " This problem is unconstrained.\n"
     ]
    },
    {
     "name": "stdout",
     "output_type": "stream",
     "text": [
      "RUNNING THE L-BFGS-B CODE\n",
      "\n",
      "           * * *\n",
      "\n",
      "Machine precision = 2.220D-16\n",
      " N =            8     M =           10\n",
      "\n",
      "At X0         0 variables are exactly at the bounds\n",
      "\n",
      "At iterate    0    f=  1.17096D+01    |proj g|=  3.64272D+00\n"
     ]
    },
    {
     "name": "stdout",
     "output_type": "stream",
     "text": [
      "\n",
      "At iterate    5    f=  9.65369D+00    |proj g|=  3.76455D-01\n",
      "\n",
      "At iterate   10    f=  9.38608D+00    |proj g|=  5.52755D-01\n",
      "\n",
      "At iterate   15    f=  9.30277D+00    |proj g|=  8.24937D-02\n",
      "\n",
      "At iterate   20    f=  9.29492D+00    |proj g|=  4.37071D-03\n",
      "\n",
      "At iterate   25    f=  9.29488D+00    |proj g|=  4.27935D-03\n",
      "\n",
      "At iterate   30    f=  9.29130D+00    |proj g|=  7.18026D-02\n",
      "\n",
      "At iterate   35    f=  9.08697D+00    |proj g|=  1.00377D-01\n",
      "\n",
      "At iterate   40    f=  9.03534D+00    |proj g|=  2.75851D-02\n",
      "\n",
      "At iterate   45    f=  8.98904D+00    |proj g|=  1.74870D-01\n",
      "\n",
      "At iterate   50    f=  8.97270D+00    |proj g|=  1.23247D-02\n",
      "\n",
      "           * * *\n",
      "\n",
      "Tit   = total number of iterations\n",
      "Tnf   = total number of function evaluations\n",
      "Tnint = total number of segments explored during Cauchy searches\n",
      "Skip  = number of BFGS updates skipped\n",
      "Nact  = number of active bounds at final generalized Cauchy point\n",
      "Projg = norm of the final projected gradient\n",
      "F     = final function value\n",
      "\n",
      "           * * *\n",
      "\n",
      "   N    Tit     Tnf  Tnint  Skip  Nact     Projg        F\n",
      "    8     50     57      1     0     0   1.232D-02   8.973D+00\n",
      "  F =   8.9727027463168234     \n",
      "\n",
      "STOP: TOTAL NO. of ITERATIONS REACHED LIMIT                 \n"
     ]
    },
    {
     "name": "stderr",
     "output_type": "stream",
     "text": [
      "/home/samuell/.local/lib/python3.10/site-packages/statsmodels/base/model.py:607: ConvergenceWarning: Maximum Likelihood optimization failed to converge. Check mle_retvals\n",
      "  warnings.warn(\"Maximum Likelihood optimization failed to \"\n"
     ]
    },
    {
     "data": {
      "text/html": [
       "<table class=\"simpletable\">\n",
       "<caption>SARIMAX Results</caption>\n",
       "<tr>\n",
       "  <th>Dep. Variable:</th>             <td>New_deaths</td>            <th>  No. Observations:  </th>    <td>1390</td>   \n",
       "</tr>\n",
       "<tr>\n",
       "  <th>Model:</th>           <td>SARIMAX(4, 1, 2)x(1, 0, [], 12)</td> <th>  Log Likelihood     </th> <td>-12472.057</td>\n",
       "</tr>\n",
       "<tr>\n",
       "  <th>Date:</th>                   <td>Sat, 09 Dec 2023</td>         <th>  AIC                </th>  <td>24960.114</td>\n",
       "</tr>\n",
       "<tr>\n",
       "  <th>Time:</th>                       <td>13:53:12</td>             <th>  BIC                </th>  <td>25002.004</td>\n",
       "</tr>\n",
       "<tr>\n",
       "  <th>Sample:</th>                         <td>0</td>                <th>  HQIC               </th>  <td>24975.779</td>\n",
       "</tr>\n",
       "<tr>\n",
       "  <th></th>                             <td> - 1390</td>             <th>                     </th>      <td> </td>    \n",
       "</tr>\n",
       "<tr>\n",
       "  <th>Covariance Type:</th>               <td>opg</td>               <th>                     </th>      <td> </td>    \n",
       "</tr>\n",
       "</table>\n",
       "<table class=\"simpletable\">\n",
       "<tr>\n",
       "      <td></td>        <th>coef</th>     <th>std err</th>      <th>z</th>      <th>P>|z|</th>  <th>[0.025</th>    <th>0.975]</th>  \n",
       "</tr>\n",
       "<tr>\n",
       "  <th>ar.L1</th>    <td>   -0.7884</td> <td>    0.023</td> <td>  -33.759</td> <td> 0.000</td> <td>   -0.834</td> <td>   -0.743</td>\n",
       "</tr>\n",
       "<tr>\n",
       "  <th>ar.L2</th>    <td>   -0.0181</td> <td>    0.032</td> <td>   -0.572</td> <td> 0.567</td> <td>   -0.080</td> <td>    0.044</td>\n",
       "</tr>\n",
       "<tr>\n",
       "  <th>ar.L3</th>    <td>   -0.3584</td> <td>    0.031</td> <td>  -11.566</td> <td> 0.000</td> <td>   -0.419</td> <td>   -0.298</td>\n",
       "</tr>\n",
       "<tr>\n",
       "  <th>ar.L4</th>    <td>   -0.6417</td> <td>    0.024</td> <td>  -26.229</td> <td> 0.000</td> <td>   -0.690</td> <td>   -0.594</td>\n",
       "</tr>\n",
       "<tr>\n",
       "  <th>ma.L1</th>    <td>    0.0431</td> <td>    0.022</td> <td>    1.963</td> <td> 0.050</td> <td>  5.9e-05</td> <td>    0.086</td>\n",
       "</tr>\n",
       "<tr>\n",
       "  <th>ma.L2</th>    <td>   -0.5249</td> <td>    0.027</td> <td>  -19.249</td> <td> 0.000</td> <td>   -0.578</td> <td>   -0.471</td>\n",
       "</tr>\n",
       "<tr>\n",
       "  <th>ar.S.L12</th> <td>   -0.6508</td> <td>    0.018</td> <td>  -36.350</td> <td> 0.000</td> <td>   -0.686</td> <td>   -0.616</td>\n",
       "</tr>\n",
       "<tr>\n",
       "  <th>sigma2</th>   <td> 3.631e+06</td> <td> 6.67e+04</td> <td>   54.437</td> <td> 0.000</td> <td>  3.5e+06</td> <td> 3.76e+06</td>\n",
       "</tr>\n",
       "</table>\n",
       "<table class=\"simpletable\">\n",
       "<tr>\n",
       "  <th>Ljung-Box (L1) (Q):</th>     <td>0.77</td> <th>  Jarque-Bera (JB):  </th> <td>4033.08</td>\n",
       "</tr>\n",
       "<tr>\n",
       "  <th>Prob(Q):</th>                <td>0.38</td> <th>  Prob(JB):          </th>  <td>0.00</td>  \n",
       "</tr>\n",
       "<tr>\n",
       "  <th>Heteroskedasticity (H):</th> <td>0.32</td> <th>  Skew:              </th>  <td>1.42</td>  \n",
       "</tr>\n",
       "<tr>\n",
       "  <th>Prob(H) (two-sided):</th>    <td>0.00</td> <th>  Kurtosis:          </th>  <td>10.85</td> \n",
       "</tr>\n",
       "</table><br/><br/>Warnings:<br/>[1] Covariance matrix calculated using the outer product of gradients (complex-step)."
      ],
      "text/latex": [
       "\\begin{center}\n",
       "\\begin{tabular}{lclc}\n",
       "\\toprule\n",
       "\\textbf{Dep. Variable:}          &           New\\_deaths           & \\textbf{  No. Observations:  } &    1390     \\\\\n",
       "\\textbf{Model:}                  & SARIMAX(4, 1, 2)x(1, 0, [], 12) & \\textbf{  Log Likelihood     } & -12472.057  \\\\\n",
       "\\textbf{Date:}                   &         Sat, 09 Dec 2023        & \\textbf{  AIC                } & 24960.114   \\\\\n",
       "\\textbf{Time:}                   &             13:53:12            & \\textbf{  BIC                } & 25002.004   \\\\\n",
       "\\textbf{Sample:}                 &                0                & \\textbf{  HQIC               } & 24975.779   \\\\\n",
       "\\textbf{}                        &              - 1390             & \\textbf{                     } &             \\\\\n",
       "\\textbf{Covariance Type:}        &               opg               & \\textbf{                     } &             \\\\\n",
       "\\bottomrule\n",
       "\\end{tabular}\n",
       "\\begin{tabular}{lcccccc}\n",
       "                  & \\textbf{coef} & \\textbf{std err} & \\textbf{z} & \\textbf{P$> |$z$|$} & \\textbf{[0.025} & \\textbf{0.975]}  \\\\\n",
       "\\midrule\n",
       "\\textbf{ar.L1}    &      -0.7884  &        0.023     &   -33.759  &         0.000        &       -0.834    &       -0.743     \\\\\n",
       "\\textbf{ar.L2}    &      -0.0181  &        0.032     &    -0.572  &         0.567        &       -0.080    &        0.044     \\\\\n",
       "\\textbf{ar.L3}    &      -0.3584  &        0.031     &   -11.566  &         0.000        &       -0.419    &       -0.298     \\\\\n",
       "\\textbf{ar.L4}    &      -0.6417  &        0.024     &   -26.229  &         0.000        &       -0.690    &       -0.594     \\\\\n",
       "\\textbf{ma.L1}    &       0.0431  &        0.022     &     1.963  &         0.050        &      5.9e-05    &        0.086     \\\\\n",
       "\\textbf{ma.L2}    &      -0.5249  &        0.027     &   -19.249  &         0.000        &       -0.578    &       -0.471     \\\\\n",
       "\\textbf{ar.S.L12} &      -0.6508  &        0.018     &   -36.350  &         0.000        &       -0.686    &       -0.616     \\\\\n",
       "\\textbf{sigma2}   &    3.631e+06  &     6.67e+04     &    54.437  &         0.000        &      3.5e+06    &     3.76e+06     \\\\\n",
       "\\bottomrule\n",
       "\\end{tabular}\n",
       "\\begin{tabular}{lclc}\n",
       "\\textbf{Ljung-Box (L1) (Q):}     & 0.77 & \\textbf{  Jarque-Bera (JB):  } & 4033.08  \\\\\n",
       "\\textbf{Prob(Q):}                & 0.38 & \\textbf{  Prob(JB):          } &   0.00   \\\\\n",
       "\\textbf{Heteroskedasticity (H):} & 0.32 & \\textbf{  Skew:              } &   1.42   \\\\\n",
       "\\textbf{Prob(H) (two-sided):}    & 0.00 & \\textbf{  Kurtosis:          } &  10.85   \\\\\n",
       "\\bottomrule\n",
       "\\end{tabular}\n",
       "%\\caption{SARIMAX Results}\n",
       "\\end{center}\n",
       "\n",
       "Warnings: \\newline\n",
       " [1] Covariance matrix calculated using the outer product of gradients (complex-step)."
      ],
      "text/plain": [
       "<class 'statsmodels.iolib.summary.Summary'>\n",
       "\"\"\"\n",
       "                                      SARIMAX Results                                      \n",
       "===========================================================================================\n",
       "Dep. Variable:                          New_deaths   No. Observations:                 1390\n",
       "Model:             SARIMAX(4, 1, 2)x(1, 0, [], 12)   Log Likelihood              -12472.057\n",
       "Date:                             Sat, 09 Dec 2023   AIC                          24960.114\n",
       "Time:                                     13:53:12   BIC                          25002.004\n",
       "Sample:                                          0   HQIC                         24975.779\n",
       "                                            - 1390                                         \n",
       "Covariance Type:                               opg                                         \n",
       "==============================================================================\n",
       "                 coef    std err          z      P>|z|      [0.025      0.975]\n",
       "------------------------------------------------------------------------------\n",
       "ar.L1         -0.7884      0.023    -33.759      0.000      -0.834      -0.743\n",
       "ar.L2         -0.0181      0.032     -0.572      0.567      -0.080       0.044\n",
       "ar.L3         -0.3584      0.031    -11.566      0.000      -0.419      -0.298\n",
       "ar.L4         -0.6417      0.024    -26.229      0.000      -0.690      -0.594\n",
       "ma.L1          0.0431      0.022      1.963      0.050     5.9e-05       0.086\n",
       "ma.L2         -0.5249      0.027    -19.249      0.000      -0.578      -0.471\n",
       "ar.S.L12      -0.6508      0.018    -36.350      0.000      -0.686      -0.616\n",
       "sigma2      3.631e+06   6.67e+04     54.437      0.000     3.5e+06    3.76e+06\n",
       "===================================================================================\n",
       "Ljung-Box (L1) (Q):                   0.77   Jarque-Bera (JB):              4033.08\n",
       "Prob(Q):                              0.38   Prob(JB):                         0.00\n",
       "Heteroskedasticity (H):               0.32   Skew:                             1.42\n",
       "Prob(H) (two-sided):                  0.00   Kurtosis:                        10.85\n",
       "===================================================================================\n",
       "\n",
       "Warnings:\n",
       "[1] Covariance matrix calculated using the outer product of gradients (complex-step).\n",
       "\"\"\""
      ]
     },
     "execution_count": 5,
     "metadata": {},
     "output_type": "execute_result"
    }
   ],
   "source": [
    "from statsmodels.tsa.statespace.sarimax import SARIMAX\n",
    "\n",
    "model = SARIMAX(\n",
    "    train[target_column], order=best_order, seasonal_order=best_seasonal_order\n",
    ")\n",
    "model = model.fit()\n",
    "model.summary()"
   ]
  },
  {
   "cell_type": "markdown",
   "metadata": {},
   "source": [
    "Plot the result"
   ]
  },
  {
   "cell_type": "code",
   "execution_count": 6,
   "metadata": {},
   "outputs": [
    {
     "name": "stderr",
     "output_type": "stream",
     "text": [
      "/home/samuell/.local/lib/python3.10/site-packages/statsmodels/tsa/statespace/representation.py:374: FutureWarning: Unknown keyword arguments: dict_keys(['typ']).Passing unknown keyword arguments will raise a TypeError beginning in version 0.15.\n",
      "  warnings.warn(msg, FutureWarning)\n"
     ]
    },
    {
     "data": {
      "text/plain": [
       "<Axes: >"
      ]
     },
     "execution_count": 6,
     "metadata": {},
     "output_type": "execute_result"
    },
    {
     "data": {
      "image/png": "[encoded data removed]",
      "text/plain": [
       "<Figure size 640x480 with 1 Axes>"
      ]
     },
     "metadata": {},
     "output_type": "display_data"
    }
   ],
   "source": [
    "start = len(train)\n",
    "end = len(train) + len(test) - 1\n",
    "pred = model.predict(start=start, end=end, typ=\"levels\").rename(\"SARIMA Predictions\")\n",
    "pred.plot(legend=True)\n",
    "test[target_column].plot(legend=True)"
   ]
  },
  {
   "cell_type": "markdown",
   "metadata": {},
   "source": [
    "RMSE of the result"
   ]
  },
  {
   "cell_type": "code",
   "execution_count": 7,
   "metadata": {},
   "outputs": [
    {
     "name": "stdout",
     "output_type": "stream",
     "text": [
      "Evaluation Metrics:\n",
      "MSE: 87872.23\n",
      "RMSE: 296.43\n",
      "MAE: 244.72\n",
      "MAPE: 84.41\n",
      "SMAPE: 57.59\n"
     ]
    }
   ],
   "source": [
    "print_evaluation_metrics(pred, test[target_column])"
   ]
  }
 ],
 "metadata": {
  "kernelspec": {
   "display_name": "Python 3",
   "language": "python",
   "name": "python3"
  },
  "language_info": {
   "codemirror_mode": {
    "name": "ipython",
    "version": 3
   },
   "file_extension": ".py",
   "mimetype": "text/x-python",
   "name": "python",
   "nbconvert_exporter": "python",
   "pygments_lexer": "ipython3",
   "version": "3.10.12"
  },
  "orig_nbformat": 4
 },
 "nbformat": 4,
 "nbformat_minor": 2
}
