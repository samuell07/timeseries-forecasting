{
 "cells": [
  {
   "cell_type": "code",
   "execution_count": 1,
   "metadata": {},
   "outputs": [
    {
     "name": "stderr",
     "output_type": "stream",
     "text": [
      "2024-03-28 15:34:11.836386: I tensorflow/core/util/port.cc:113] oneDNN custom operations are on. You may see slightly different numerical results due to floating-point round-off errors from different computation orders. To turn them off, set the environment variable `TF_ENABLE_ONEDNN_OPTS=0`.\n",
      "2024-03-28 15:34:11.864036: E external/local_xla/xla/stream_executor/cuda/cuda_dnn.cc:9261] Unable to register cuDNN factory: Attempting to register factory for plugin cuDNN when one has already been registered\n",
      "2024-03-28 15:34:11.864066: E external/local_xla/xla/stream_executor/cuda/cuda_fft.cc:607] Unable to register cuFFT factory: Attempting to register factory for plugin cuFFT when one has already been registered\n",
      "2024-03-28 15:34:11.864698: E external/local_xla/xla/stream_executor/cuda/cuda_blas.cc:1515] Unable to register cuBLAS factory: Attempting to register factory for plugin cuBLAS when one has already been registered\n",
      "2024-03-28 15:34:11.869536: I tensorflow/core/platform/cpu_feature_guard.cc:182] This TensorFlow binary is optimized to use available CPU instructions in performance-critical operations.\n",
      "To enable the following instructions: AVX2 AVX512F AVX512_VNNI FMA, in other operations, rebuild TensorFlow with the appropriate compiler flags.\n",
      "2024-03-28 15:34:12.596139: W tensorflow/compiler/tf2tensorrt/utils/py_utils.cc:38] TF-TRT Warning: Could not find TensorRT\n"
     ]
    }
   ],
   "source": [
    "import os\n",
    "import random\n",
    "import numpy as np\n",
    "import pandas as pd\n",
    "from tqdm import tqdm\n",
    "import matplotlib.pyplot as plt\n",
    "from datetime import date, timedelta\n",
    "from scipy.stats import skew, kurtosis\n",
    "import matplotlib.dates as mdates\n",
    "\n",
    "from sklearn.preprocessing import MinMaxScaler\n",
    "from sklearn.metrics import mean_squared_error\n",
    "\n",
    "import tensorflow as tf\n",
    "from keras.layers import *\n",
    "from keras.models import *\n",
    "from keras.optimizers import *\n",
    "from keras.callbacks import *\n",
    "from keras import backend as K"
   ]
  },
  {
   "cell_type": "code",
   "execution_count": 2,
   "metadata": {},
   "outputs": [],
   "source": [
    "### IMPORT SPEKTRAL CLASSES ###\n",
    "\n",
    "from spektral_utilities import *\n",
    "from spektral_gcn import GraphConv"
   ]
  },
  {
   "cell_type": "code",
   "execution_count": 3,
   "metadata": {},
   "outputs": [
    {
     "data": {
      "text/html": [
       "<div>\n",
       "<style scoped>\n",
       "    .dataframe tbody tr th:only-of-type {\n",
       "        vertical-align: middle;\n",
       "    }\n",
       "\n",
       "    .dataframe tbody tr th {\n",
       "        vertical-align: top;\n",
       "    }\n",
       "\n",
       "    .dataframe thead th {\n",
       "        text-align: right;\n",
       "    }\n",
       "</style>\n",
       "<table border=\"1\" class=\"dataframe\">\n",
       "  <thead>\n",
       "    <tr style=\"text-align: right;\">\n",
       "      <th></th>\n",
       "      <th>Date</th>\n",
       "      <th>id</th>\n",
       "      <th>value</th>\n",
       "    </tr>\n",
       "  </thead>\n",
       "  <tbody>\n",
       "    <tr>\n",
       "      <th>0</th>\n",
       "      <td>2014-09-24</td>\n",
       "      <td>Close</td>\n",
       "      <td>423.204987</td>\n",
       "    </tr>\n",
       "    <tr>\n",
       "      <th>1</th>\n",
       "      <td>2014-09-24</td>\n",
       "      <td>Closed_1_ago</td>\n",
       "      <td>435.790985</td>\n",
       "    </tr>\n",
       "    <tr>\n",
       "      <th>2</th>\n",
       "      <td>2014-09-24</td>\n",
       "      <td>Closed_2_ago</td>\n",
       "      <td>402.152008</td>\n",
       "    </tr>\n",
       "    <tr>\n",
       "      <th>3</th>\n",
       "      <td>2014-09-24</td>\n",
       "      <td>Closed_3_ago</td>\n",
       "      <td>398.821014</td>\n",
       "    </tr>\n",
       "    <tr>\n",
       "      <th>4</th>\n",
       "      <td>2014-09-24</td>\n",
       "      <td>Closed_4_ago</td>\n",
       "      <td>408.903992</td>\n",
       "    </tr>\n",
       "  </tbody>\n",
       "</table>\n",
       "</div>"
      ],
      "text/plain": [
       "        Date            id       value\n",
       "0 2014-09-24         Close  423.204987\n",
       "1 2014-09-24  Closed_1_ago  435.790985\n",
       "2 2014-09-24  Closed_2_ago  402.152008\n",
       "3 2014-09-24  Closed_3_ago  398.821014\n",
       "4 2014-09-24  Closed_4_ago  408.903992"
      ]
     },
     "execution_count": 3,
     "metadata": {},
     "output_type": "execute_result"
    }
   ],
   "source": [
    "file_path = \"../data/parsed_dataset.csv\"\n",
    "date_column = \"Date\"\n",
    "target_column = \"value\"\n",
    "id_column = \"id\"\n",
    "df = pd.read_csv(file_path)\n",
    "melted_df = df.melt(id_vars=['Date'], \n",
    "                    value_vars=[\"Close\", \"Closed_1_ago\", \"Closed_2_ago\", \"Closed_3_ago\", \"Closed_4_ago\", \"Closed_5_ago\", \"Closed_6_ago\", \"Closed_7_ago\"], \n",
    "                    var_name='id', \n",
    "                    value_name='value')\n",
    "df=melted_df\n",
    "df[date_column] = pd.to_datetime(df[date_column])\n",
    "df = df.groupby([date_column, id_column])[target_column].sum().reset_index()\n",
    "unique_dates = df[date_column].unique()\n",
    "unique_ids = len(df[id_column].unique())\n",
    "df.head()"
   ]
  },
  {
   "cell_type": "code",
   "execution_count": null,
   "metadata": {},
   "outputs": [],
   "source": []
  },
  {
   "cell_type": "code",
   "execution_count": 4,
   "metadata": {},
   "outputs": [
    {
     "data": {
      "text/html": [
       "<div>\n",
       "<style scoped>\n",
       "    .dataframe tbody tr th:only-of-type {\n",
       "        vertical-align: middle;\n",
       "    }\n",
       "\n",
       "    .dataframe tbody tr th {\n",
       "        vertical-align: top;\n",
       "    }\n",
       "\n",
       "    .dataframe thead th {\n",
       "        text-align: right;\n",
       "    }\n",
       "</style>\n",
       "<table border=\"1\" class=\"dataframe\">\n",
       "  <thead>\n",
       "    <tr style=\"text-align: right;\">\n",
       "      <th></th>\n",
       "      <th>Date</th>\n",
       "      <th>id</th>\n",
       "      <th>value</th>\n",
       "    </tr>\n",
       "  </thead>\n",
       "  <tbody>\n",
       "    <tr>\n",
       "      <th>0</th>\n",
       "      <td>2014-09-24</td>\n",
       "      <td>Close</td>\n",
       "      <td>423.204987</td>\n",
       "    </tr>\n",
       "    <tr>\n",
       "      <th>1</th>\n",
       "      <td>2014-09-24</td>\n",
       "      <td>Closed_1_ago</td>\n",
       "      <td>435.790985</td>\n",
       "    </tr>\n",
       "    <tr>\n",
       "      <th>2</th>\n",
       "      <td>2014-09-24</td>\n",
       "      <td>Closed_2_ago</td>\n",
       "      <td>402.152008</td>\n",
       "    </tr>\n",
       "    <tr>\n",
       "      <th>3</th>\n",
       "      <td>2014-09-24</td>\n",
       "      <td>Closed_3_ago</td>\n",
       "      <td>398.821014</td>\n",
       "    </tr>\n",
       "    <tr>\n",
       "      <th>4</th>\n",
       "      <td>2014-09-24</td>\n",
       "      <td>Closed_4_ago</td>\n",
       "      <td>408.903992</td>\n",
       "    </tr>\n",
       "  </tbody>\n",
       "</table>\n",
       "</div>"
      ],
      "text/plain": [
       "        Date            id       value\n",
       "0 2014-09-24         Close  423.204987\n",
       "1 2014-09-24  Closed_1_ago  435.790985\n",
       "2 2014-09-24  Closed_2_ago  402.152008\n",
       "3 2014-09-24  Closed_3_ago  398.821014\n",
       "4 2014-09-24  Closed_4_ago  408.903992"
      ]
     },
     "execution_count": 4,
     "metadata": {},
     "output_type": "execute_result"
    }
   ],
   "source": [
    "pivot_df = df.pivot_table(index=date_column, columns=id_column, values=target_column)\n",
    "\n",
    "# Rename 'index' back to date_columneported\n",
    "df.rename(columns={\"index\": date_column}, inplace=True)\n",
    "# df[date_column] = pd.to_datetime(df[date_column])\n",
    "# unique_dates = df[date_column].unique()\n",
    "# df.set_index(date_column, inplace=True)\n",
    "df.head()\n"
   ]
  },
  {
   "cell_type": "code",
   "execution_count": 5,
   "metadata": {},
   "outputs": [],
   "source": [
    "scaler = MinMaxScaler()\n",
    "scaled_data = scaler.fit_transform(df[[target_column]])\n",
    "df[target_column] = scaled_data"
   ]
  },
  {
   "cell_type": "code",
   "execution_count": 6,
   "metadata": {},
   "outputs": [
    {
     "name": "stdout",
     "output_type": "stream",
     "text": [
      "(8, 3419)\n"
     ]
    },
    {
     "data": {
      "text/html": [
       "<div>\n",
       "<style scoped>\n",
       "    .dataframe tbody tr th:only-of-type {\n",
       "        vertical-align: middle;\n",
       "    }\n",
       "\n",
       "    .dataframe tbody tr th {\n",
       "        vertical-align: top;\n",
       "    }\n",
       "\n",
       "    .dataframe thead th {\n",
       "        text-align: right;\n",
       "    }\n",
       "</style>\n",
       "<table border=\"1\" class=\"dataframe\">\n",
       "  <thead>\n",
       "    <tr style=\"text-align: right;\">\n",
       "      <th>Date</th>\n",
       "      <th>2014-09-24</th>\n",
       "      <th>2014-09-25</th>\n",
       "      <th>2014-09-26</th>\n",
       "      <th>2014-09-27</th>\n",
       "      <th>2014-09-28</th>\n",
       "      <th>2014-09-29</th>\n",
       "      <th>2014-09-30</th>\n",
       "      <th>2014-10-01</th>\n",
       "      <th>2014-10-02</th>\n",
       "      <th>2014-10-03</th>\n",
       "      <th>2014-10-04</th>\n",
       "      <th>2014-10-05</th>\n",
       "      <th>2014-10-06</th>\n",
       "      <th>2014-10-07</th>\n",
       "      <th>2014-10-08</th>\n",
       "    </tr>\n",
       "    <tr>\n",
       "      <th>id</th>\n",
       "      <th></th>\n",
       "      <th></th>\n",
       "      <th></th>\n",
       "      <th></th>\n",
       "      <th></th>\n",
       "      <th></th>\n",
       "      <th></th>\n",
       "      <th></th>\n",
       "      <th></th>\n",
       "      <th></th>\n",
       "      <th></th>\n",
       "      <th></th>\n",
       "      <th></th>\n",
       "      <th></th>\n",
       "      <th></th>\n",
       "    </tr>\n",
       "  </thead>\n",
       "  <tbody>\n",
       "    <tr>\n",
       "      <th>Close</th>\n",
       "      <td>0.003637</td>\n",
       "      <td>0.003465</td>\n",
       "      <td>0.003358</td>\n",
       "      <td>0.003286</td>\n",
       "      <td>0.002954</td>\n",
       "      <td>0.002929</td>\n",
       "      <td>0.003099</td>\n",
       "      <td>0.003050</td>\n",
       "      <td>0.002923</td>\n",
       "      <td>0.002692</td>\n",
       "      <td>0.002237</td>\n",
       "      <td>0.002113</td>\n",
       "      <td>0.002255</td>\n",
       "      <td>0.002346</td>\n",
       "      <td>0.002594</td>\n",
       "    </tr>\n",
       "    <tr>\n",
       "      <th>Closed_1_ago</th>\n",
       "      <td>0.003824</td>\n",
       "      <td>0.003637</td>\n",
       "      <td>0.003465</td>\n",
       "      <td>0.003358</td>\n",
       "      <td>0.003286</td>\n",
       "      <td>0.002954</td>\n",
       "      <td>0.002929</td>\n",
       "      <td>0.003099</td>\n",
       "      <td>0.003050</td>\n",
       "      <td>0.002923</td>\n",
       "      <td>0.002692</td>\n",
       "      <td>0.002237</td>\n",
       "      <td>0.002113</td>\n",
       "      <td>0.002255</td>\n",
       "      <td>0.002346</td>\n",
       "    </tr>\n",
       "    <tr>\n",
       "      <th>Closed_2_ago</th>\n",
       "      <td>0.003325</td>\n",
       "      <td>0.003824</td>\n",
       "      <td>0.003637</td>\n",
       "      <td>0.003465</td>\n",
       "      <td>0.003358</td>\n",
       "      <td>0.003286</td>\n",
       "      <td>0.002954</td>\n",
       "      <td>0.002929</td>\n",
       "      <td>0.003099</td>\n",
       "      <td>0.003050</td>\n",
       "      <td>0.002923</td>\n",
       "      <td>0.002692</td>\n",
       "      <td>0.002237</td>\n",
       "      <td>0.002113</td>\n",
       "      <td>0.002255</td>\n",
       "    </tr>\n",
       "    <tr>\n",
       "      <th>Closed_3_ago</th>\n",
       "      <td>0.003275</td>\n",
       "      <td>0.003325</td>\n",
       "      <td>0.003824</td>\n",
       "      <td>0.003637</td>\n",
       "      <td>0.003465</td>\n",
       "      <td>0.003358</td>\n",
       "      <td>0.003286</td>\n",
       "      <td>0.002954</td>\n",
       "      <td>0.002929</td>\n",
       "      <td>0.003099</td>\n",
       "      <td>0.003050</td>\n",
       "      <td>0.002923</td>\n",
       "      <td>0.002692</td>\n",
       "      <td>0.002237</td>\n",
       "      <td>0.002113</td>\n",
       "    </tr>\n",
       "    <tr>\n",
       "      <th>Closed_4_ago</th>\n",
       "      <td>0.003425</td>\n",
       "      <td>0.003275</td>\n",
       "      <td>0.003325</td>\n",
       "      <td>0.003824</td>\n",
       "      <td>0.003637</td>\n",
       "      <td>0.003465</td>\n",
       "      <td>0.003358</td>\n",
       "      <td>0.003286</td>\n",
       "      <td>0.002954</td>\n",
       "      <td>0.002929</td>\n",
       "      <td>0.003099</td>\n",
       "      <td>0.003050</td>\n",
       "      <td>0.002923</td>\n",
       "      <td>0.002692</td>\n",
       "      <td>0.002237</td>\n",
       "    </tr>\n",
       "  </tbody>\n",
       "</table>\n",
       "</div>"
      ],
      "text/plain": [
       "Date          2014-09-24  2014-09-25  2014-09-26  2014-09-27  2014-09-28  \\\n",
       "id                                                                         \n",
       "Close           0.003637    0.003465    0.003358    0.003286    0.002954   \n",
       "Closed_1_ago    0.003824    0.003637    0.003465    0.003358    0.003286   \n",
       "Closed_2_ago    0.003325    0.003824    0.003637    0.003465    0.003358   \n",
       "Closed_3_ago    0.003275    0.003325    0.003824    0.003637    0.003465   \n",
       "Closed_4_ago    0.003425    0.003275    0.003325    0.003824    0.003637   \n",
       "\n",
       "Date          2014-09-29  2014-09-30  2014-10-01  2014-10-02  2014-10-03  \\\n",
       "id                                                                         \n",
       "Close           0.002929    0.003099    0.003050    0.002923    0.002692   \n",
       "Closed_1_ago    0.002954    0.002929    0.003099    0.003050    0.002923   \n",
       "Closed_2_ago    0.003286    0.002954    0.002929    0.003099    0.003050   \n",
       "Closed_3_ago    0.003358    0.003286    0.002954    0.002929    0.003099   \n",
       "Closed_4_ago    0.003465    0.003358    0.003286    0.002954    0.002929   \n",
       "\n",
       "Date          2014-10-04  2014-10-05  2014-10-06  2014-10-07  2014-10-08  \n",
       "id                                                                        \n",
       "Close           0.002237    0.002113    0.002255    0.002346    0.002594  \n",
       "Closed_1_ago    0.002692    0.002237    0.002113    0.002255    0.002346  \n",
       "Closed_2_ago    0.002923    0.002692    0.002237    0.002113    0.002255  \n",
       "Closed_3_ago    0.003050    0.002923    0.002692    0.002237    0.002113  \n",
       "Closed_4_ago    0.003099    0.003050    0.002923    0.002692    0.002237  "
      ]
     },
     "execution_count": 6,
     "metadata": {},
     "output_type": "execute_result"
    }
   ],
   "source": [
    "unstaked_df = df.copy()\n",
    "unstaked_df.set_index([id_column, date_column], inplace=True)\n",
    "\n",
    "\n",
    "# Converting data to float and unstacking\n",
    "unstaked_df = unstaked_df.astype(float).unstack()\n",
    "unstaked_df.columns = unstaked_df.columns.get_level_values(1)\n",
    "\n",
    "# Displaying the shape and head of the updated DataFrame\n",
    "print(unstaked_df.shape)\n",
    "unstaked_df.iloc[:, :15].head()"
   ]
  },
  {
   "cell_type": "code",
   "execution_count": 7,
   "metadata": {},
   "outputs": [],
   "source": [
    "### UTILITY FUNCTIONS FOR FEATURE ENGINEERING ###\n",
    "\n",
    "sequence_length = 14\n",
    "\n",
    "\n",
    "\n",
    "def get_timespan(df, today, days):    \n",
    "    df = df[pd.date_range(today - timedelta(days=days), \n",
    "            periods=days, freq='D')] # day - n_days <= dates < day    \n",
    "    return df\n",
    "\n",
    "def create_features(df, today, seq_len):\n",
    "    \n",
    "    all_sequence = get_timespan(df, today, seq_len).values\n",
    "    \n",
    "    group_store = all_sequence.reshape((-1, unique_ids, seq_len))\n",
    "    \n",
    "    store_corr = np.stack([np.corrcoef(i) for i in group_store], axis=0)\n",
    "    \n",
    "    store_features = np.stack([\n",
    "              group_store.mean(axis=2),\n",
    "              group_store[:,:,int(sequence_length/2):].mean(axis=2),\n",
    "              group_store.std(axis=2),\n",
    "              group_store[:,:,int(sequence_length/2):].std(axis=2),\n",
    "              skew(group_store, axis=2),\n",
    "              kurtosis(group_store, axis=2),\n",
    "              np.apply_along_axis(lambda x: np.polyfit(np.arange(0, sequence_length), x, 1)[0], 2, group_store)\n",
    "            ], axis=1)\n",
    "    \n",
    "    group_store = np.transpose(group_store, (0,2,1))\n",
    "    store_features = np.transpose(store_features, (0,2,1))\n",
    "    \n",
    "    return group_store, store_corr, store_features\n",
    "\n",
    "def create_label(df, today):\n",
    "    \n",
    "    y = df[today].values\n",
    "    \n",
    "    return y.reshape((-1, unique_ids))"
   ]
  },
  {
   "cell_type": "code",
   "execution_count": 8,
   "metadata": {},
   "outputs": [],
   "source": [
    "### DEFINE TRAIN, VALID, TEST DATES ###\n",
    "\n",
    "train_date = unique_dates[0]\n",
    "valid_date = unique_dates[int(len(unique_dates) *0.8)+1]\n",
    "test_date = unique_dates[int(len(unique_dates) *0.9)]"
   ]
  },
  {
   "cell_type": "code",
   "execution_count": 9,
   "metadata": {},
   "outputs": [
    {
     "name": "stdout",
     "output_type": "stream",
     "text": [
      "2735\n",
      "3077\n",
      "3419\n",
      "342\n",
      "342\n"
     ]
    }
   ],
   "source": [
    "print(int(len(unique_dates) *0.8))\n",
    "print(int(len(unique_dates) *0.9))\n",
    "print(int(len(unique_dates)))\n",
    "print(int(len(unique_dates))-int(len(unique_dates) *0.9))\n",
    "print(int(len(unique_dates) *0.9) - int(len(unique_dates) *0.8))"
   ]
  },
  {
   "cell_type": "code",
   "execution_count": 10,
   "metadata": {},
   "outputs": [
    {
     "name": "stderr",
     "output_type": "stream",
     "text": [
      "  0%|          | 0/2723 [00:00<?, ?it/s]"
     ]
    },
    {
     "name": "stderr",
     "output_type": "stream",
     "text": [
      "100%|██████████| 2723/2723 [00:04<00:00, 576.88it/s]"
     ]
    },
    {
     "name": "stdout",
     "output_type": "stream",
     "text": [
      "(2723, 14, 8) (2723, 8, 8) (2723, 8, 7) (2723, 8)\n"
     ]
    },
    {
     "name": "stderr",
     "output_type": "stream",
     "text": [
      "\n"
     ]
    }
   ],
   "source": [
    "X_seq, X_cor, X_feat, y = [], [], [], []\n",
    "\n",
    "for d in tqdm(pd.date_range(train_date + timedelta(days=sequence_length), valid_date)):\n",
    "    seq_, corr_, feat_ = create_features(unstaked_df, d, sequence_length)\n",
    "    y_ = create_label(unstaked_df, d)\n",
    "    X_seq.append(seq_), X_cor.append(corr_), X_feat.append(feat_), y.append(y_)\n",
    "\n",
    "X_train_seq = np.concatenate(X_seq, axis=0).astype(\"float16\")\n",
    "X_train_cor = np.concatenate(X_cor, axis=0).astype(\"float16\")\n",
    "X_train_feat = np.concatenate(X_feat, axis=0).astype(\"float16\")\n",
    "y_train = np.concatenate(y, axis=0).astype(\"float16\")\n",
    "\n",
    "print(X_train_seq.shape, X_train_cor.shape, X_train_feat.shape, y_train.shape)"
   ]
  },
  {
   "cell_type": "code",
   "execution_count": 11,
   "metadata": {},
   "outputs": [
    {
     "name": "stderr",
     "output_type": "stream",
     "text": [
      "100%|██████████| 328/328 [00:00<00:00, 585.43it/s]"
     ]
    },
    {
     "name": "stdout",
     "output_type": "stream",
     "text": [
      "(328, 14, 8) (328, 8, 8) (328, 8, 7) (328, 8)\n"
     ]
    },
    {
     "name": "stderr",
     "output_type": "stream",
     "text": [
      "\n"
     ]
    }
   ],
   "source": [
    "### CREATE VALID FEATURES ###\n",
    "\n",
    "X_seq, X_cor, X_feat, y = [], [], [], []\n",
    "\n",
    "for d in tqdm(pd.date_range(valid_date + timedelta(days=sequence_length), test_date)):\n",
    "    seq_, corr_, feat_ = create_features(unstaked_df, d, sequence_length)\n",
    "    y_ = create_label(unstaked_df, d)\n",
    "    X_seq.append(seq_), X_cor.append(corr_), X_feat.append(feat_), y.append(y_)\n",
    "\n",
    "X_valid_seq = np.concatenate(X_seq, axis=0).astype(\"float16\")\n",
    "X_valid_cor = np.concatenate(X_cor, axis=0).astype(\"float16\")\n",
    "X_valid_feat = np.concatenate(X_feat, axis=0).astype(\"float16\")\n",
    "y_valid = np.concatenate(y, axis=0).astype(\"float16\")\n",
    "\n",
    "print(X_valid_seq.shape, X_valid_cor.shape, X_valid_feat.shape, y_valid.shape)"
   ]
  },
  {
   "cell_type": "code",
   "execution_count": 12,
   "metadata": {},
   "outputs": [
    {
     "name": "stderr",
     "output_type": "stream",
     "text": [
      "100%|██████████| 328/328 [00:00<00:00, 584.70it/s]"
     ]
    },
    {
     "name": "stdout",
     "output_type": "stream",
     "text": [
      "(328, 14, 8) (328, 8, 8) (328, 8, 7) (328, 8)\n"
     ]
    },
    {
     "name": "stderr",
     "output_type": "stream",
     "text": [
      "\n"
     ]
    }
   ],
   "source": [
    "### CREATE TEST FEATURES ###\n",
    "\n",
    "X_seq, X_cor, X_feat, y = [], [], [], []\n",
    "\n",
    "for d in tqdm(\n",
    "    pd.date_range(test_date + timedelta(days=sequence_length), unique_dates[-1])\n",
    "):\n",
    "    seq_, corr_, feat_ = create_features(unstaked_df, d, sequence_length)\n",
    "    y_ = create_label(unstaked_df, d)\n",
    "    X_seq.append(seq_), X_cor.append(corr_), X_feat.append(feat_), y.append(y_)\n",
    "\n",
    "X_test_seq = np.concatenate(X_seq, axis=0).astype(\"float16\")\n",
    "X_test_cor = np.concatenate(X_cor, axis=0).astype(\"float16\")\n",
    "X_test_feat = np.concatenate(X_feat, axis=0).astype(\"float16\")\n",
    "y_test = np.concatenate(y, axis=0).astype(\"float16\")\n",
    "\n",
    "print(X_test_seq.shape, X_test_cor.shape, X_test_feat.shape, y_test.shape)"
   ]
  },
  {
   "cell_type": "code",
   "execution_count": 13,
   "metadata": {},
   "outputs": [],
   "source": [
    "### SCALE SEQUENCES ###\n",
    "\n",
    "scaler_seq = MinMaxScaler()\n",
    "scaler_feat = MinMaxScaler()\n",
    "\n",
    "X_train_seq = scaler_seq.fit_transform(\n",
    "    X_train_seq.reshape(-1, unique_ids)\n",
    ").reshape(X_train_seq.shape)\n",
    "X_valid_seq = scaler_seq.transform(\n",
    "    X_valid_seq.reshape(-1, unique_ids)\n",
    ").reshape(X_valid_seq.shape)\n",
    "X_test_seq = scaler_seq.transform(X_test_seq.reshape(-1, unique_ids)).reshape(\n",
    "    X_test_seq.shape\n",
    ")\n",
    "\n",
    "y_train = scaler_seq.transform(y_train)\n",
    "y_valid = scaler_seq.transform(y_valid)\n",
    "y_test = scaler_seq.transform(y_test)\n",
    "\n",
    "X_train_feat = scaler_feat.fit_transform(\n",
    "    X_train_feat.reshape(-1, unique_ids)\n",
    ").reshape(X_train_feat.shape)\n",
    "X_valid_feat = scaler_feat.transform(\n",
    "    X_valid_feat.reshape(-1, unique_ids)\n",
    ").reshape(X_valid_feat.shape)\n",
    "X_test_feat = scaler_feat.transform(\n",
    "    X_test_feat.reshape(-1, unique_ids)\n",
    ").reshape(X_test_feat.shape)"
   ]
  },
  {
   "cell_type": "code",
   "execution_count": 14,
   "metadata": {},
   "outputs": [],
   "source": [
    "X_train_lap = localpooling_filter(1 - np.abs(X_train_cor))\n",
    "X_valid_lap = localpooling_filter(1 - np.abs(X_valid_cor))\n",
    "X_test_lap = localpooling_filter(1 - np.abs(X_test_cor))"
   ]
  },
  {
   "cell_type": "code",
   "execution_count": 15,
   "metadata": {},
   "outputs": [],
   "source": [
    "def set_seed(seed):\n",
    "    tf.random.set_seed(seed)\n",
    "    os.environ[\"PYTHONHASHSEED\"] = str(seed)\n",
    "    np.random.seed(seed)\n",
    "    random.seed(seed)\n",
    "\n",
    "\n",
    "def get_model():\n",
    "    set_seed(33)\n",
    "\n",
    "    opt = Adam(lr=0.001)\n",
    "\n",
    "    inp_seq = Input((sequence_length, unique_ids))\n",
    "    inp_lap = Input((unique_ids, unique_ids))\n",
    "    inp_feat = Input((unique_ids, X_train_feat.shape[-1]))\n",
    "\n",
    "    x = GraphConv(256, activation=\"relu\")([inp_feat, inp_lap])\n",
    "    x = GraphConv(128, activation=\"relu\")([x, inp_lap])\n",
    "    x = Flatten()(x)\n",
    "\n",
    "    xx = LSTM(256, activation=\"relu\", return_sequences=True)(inp_seq)\n",
    "    xx = LSTM(128, activation=\"relu\")(xx)\n",
    "\n",
    "    x = Concatenate()([x, xx])\n",
    "    # x = BatchNormalization()(x)\n",
    "    x = Dropout(0.2)(x)\n",
    "    x = Dense(256, activation=\"relu\")(x)\n",
    "    x = Dense(128, activation=\"relu\")(x)\n",
    "    x = Dropout(0.1)(x)\n",
    "    out = Dense(1)(x)\n",
    "\n",
    "    model = Model([inp_seq, inp_lap, inp_feat], out)\n",
    "    model.compile(\n",
    "        optimizer=opt, loss=\"mse\", metrics=[tf.keras.metrics.RootMeanSquaredError()]\n",
    "    )\n",
    "\n",
    "    return model"
   ]
  },
  {
   "cell_type": "code",
   "execution_count": 16,
   "metadata": {},
   "outputs": [
    {
     "name": "stderr",
     "output_type": "stream",
     "text": [
      "WARNING:absl:`lr` is deprecated in Keras optimizer, please use `learning_rate` or use the legacy optimizer, e.g.,tf.keras.optimizers.legacy.Adam.\n"
     ]
    },
    {
     "name": "stdout",
     "output_type": "stream",
     "text": [
      "Model: \"model\"\n",
      "__________________________________________________________________________________________________\n",
      " Layer (type)                Output Shape                 Param #   Connected to                  \n",
      "==================================================================================================\n",
      " input_3 (InputLayer)        [(None, 8, 7)]               0         []                            \n",
      "                                                                                                  \n",
      " input_2 (InputLayer)        [(None, 8, 8)]               0         []                            \n",
      "                                                                                                  \n",
      " graph_conv (GraphConv)      (None, 8, 256)               2048      ['input_3[0][0]',             \n",
      "                                                                     'input_2[0][0]']             \n",
      "                                                                                                  \n",
      " input_1 (InputLayer)        [(None, 14, 8)]              0         []                            \n",
      "                                                                                                  \n",
      " graph_conv_1 (GraphConv)    (None, 8, 128)               32896     ['graph_conv[0][0]',          \n",
      "                                                                     'input_2[0][0]']             \n",
      "                                                                                                  \n",
      " lstm (LSTM)                 (None, 14, 256)              271360    ['input_1[0][0]']             \n",
      "                                                                                                  \n",
      " flatten (Flatten)           (None, 1024)                 0         ['graph_conv_1[0][0]']        \n",
      "                                                                                                  \n",
      " lstm_1 (LSTM)               (None, 128)                  197120    ['lstm[0][0]']                \n",
      "                                                                                                  \n",
      " concatenate (Concatenate)   (None, 1152)                 0         ['flatten[0][0]',             \n",
      "                                                                     'lstm_1[0][0]']              \n",
      "                                                                                                  \n",
      " dropout (Dropout)           (None, 1152)                 0         ['concatenate[0][0]']         \n",
      "                                                                                                  \n",
      " dense (Dense)               (None, 256)                  295168    ['dropout[0][0]']             \n",
      "                                                                                                  \n",
      " dense_1 (Dense)             (None, 128)                  32896     ['dense[0][0]']               \n",
      "                                                                                                  \n",
      " dropout_1 (Dropout)         (None, 128)                  0         ['dense_1[0][0]']             \n",
      "                                                                                                  \n",
      " dense_2 (Dense)             (None, 1)                    129       ['dropout_1[0][0]']           \n",
      "                                                                                                  \n",
      "==================================================================================================\n",
      "Total params: 831617 (3.17 MB)\n",
      "Trainable params: 831617 (3.17 MB)\n",
      "Non-trainable params: 0 (0.00 Byte)\n",
      "__________________________________________________________________________________________________\n"
     ]
    }
   ],
   "source": [
    "model = get_model()\n",
    "model.summary()"
   ]
  },
  {
   "cell_type": "code",
   "execution_count": 17,
   "metadata": {},
   "outputs": [
    {
     "data": {
      "text/plain": [
       "0.2317"
      ]
     },
     "execution_count": 17,
     "metadata": {},
     "output_type": "execute_result"
    }
   ],
   "source": [
    "np.min(X_valid_seq.flatten())"
   ]
  },
  {
   "cell_type": "code",
   "execution_count": 18,
   "metadata": {},
   "outputs": [
    {
     "name": "stderr",
     "output_type": "stream",
     "text": [
      "WARNING:absl:`lr` is deprecated in Keras optimizer, please use `learning_rate` or use the legacy optimizer, e.g.,tf.keras.optimizers.legacy.Adam.\n"
     ]
    },
    {
     "name": "stdout",
     "output_type": "stream",
     "text": [
      "------- store 0 -------\n",
      "Epoch 1/1000\n",
      "91/91 - 3s - loss: 0.0104 - root_mean_squared_error: 0.1019 - val_loss: 0.0363 - val_root_mean_squared_error: 0.1906 - 3s/epoch - 32ms/step\n",
      "Epoch 2/1000\n",
      "91/91 - 1s - loss: 0.0020 - root_mean_squared_error: 0.0446 - val_loss: 0.0367 - val_root_mean_squared_error: 0.1915 - 1s/epoch - 14ms/step\n",
      "Epoch 3/1000\n",
      "91/91 - 1s - loss: 0.0021 - root_mean_squared_error: 0.0453 - val_loss: 0.0377 - val_root_mean_squared_error: 0.1942 - 1s/epoch - 14ms/step\n",
      "Epoch 4/1000\n",
      "91/91 - 1s - loss: 0.0019 - root_mean_squared_error: 0.0439 - val_loss: 0.0377 - val_root_mean_squared_error: 0.1941 - 1s/epoch - 14ms/step\n",
      "Epoch 5/1000\n",
      "91/91 - 1s - loss: 0.0015 - root_mean_squared_error: 0.0385 - val_loss: 0.0392 - val_root_mean_squared_error: 0.1980 - 1s/epoch - 14ms/step\n",
      "Epoch 6/1000\n",
      "Restoring model weights from the end of the best epoch: 1.\n",
      "91/91 - 1s - loss: 0.0014 - root_mean_squared_error: 0.0369 - val_loss: 0.0364 - val_root_mean_squared_error: 0.1909 - 1s/epoch - 14ms/step\n",
      "Epoch 6: early stopping\n",
      "11/11 [==============================] - 0s 6ms/step\n",
      "11/11 [==============================] - 0s 6ms/step\n"
     ]
    },
    {
     "name": "stderr",
     "output_type": "stream",
     "text": [
      "WARNING:absl:`lr` is deprecated in Keras optimizer, please use `learning_rate` or use the legacy optimizer, e.g.,tf.keras.optimizers.legacy.Adam.\n"
     ]
    },
    {
     "name": "stdout",
     "output_type": "stream",
     "text": [
      "------- store 1 -------\n",
      "Epoch 1/1000\n",
      "91/91 - 3s - loss: 0.0103 - root_mean_squared_error: 0.1013 - val_loss: 0.0376 - val_root_mean_squared_error: 0.1939 - 3s/epoch - 30ms/step\n",
      "Epoch 2/1000\n",
      "91/91 - 1s - loss: 0.0018 - root_mean_squared_error: 0.0424 - val_loss: 0.0356 - val_root_mean_squared_error: 0.1886 - 1s/epoch - 14ms/step\n",
      "Epoch 3/1000\n",
      "91/91 - 1s - loss: 0.0017 - root_mean_squared_error: 0.0415 - val_loss: 0.0352 - val_root_mean_squared_error: 0.1876 - 1s/epoch - 14ms/step\n",
      "Epoch 4/1000\n",
      "91/91 - 1s - loss: 0.0020 - root_mean_squared_error: 0.0446 - val_loss: 0.0356 - val_root_mean_squared_error: 0.1888 - 1s/epoch - 14ms/step\n",
      "Epoch 5/1000\n",
      "91/91 - 1s - loss: 0.0013 - root_mean_squared_error: 0.0360 - val_loss: 0.0404 - val_root_mean_squared_error: 0.2010 - 1s/epoch - 14ms/step\n",
      "Epoch 6/1000\n",
      "91/91 - 1s - loss: 0.0012 - root_mean_squared_error: 0.0352 - val_loss: 0.0366 - val_root_mean_squared_error: 0.1913 - 1s/epoch - 14ms/step\n",
      "Epoch 7/1000\n",
      "Restoring model weights from the end of the best epoch: 2.\n",
      "91/91 - 1s - loss: 0.0013 - root_mean_squared_error: 0.0355 - val_loss: 0.0426 - val_root_mean_squared_error: 0.2064 - 1s/epoch - 14ms/step\n",
      "Epoch 7: early stopping\n",
      "11/11 [==============================] - 0s 6ms/step\n",
      "11/11 [==============================] - 0s 6ms/step\n"
     ]
    },
    {
     "name": "stderr",
     "output_type": "stream",
     "text": [
      "WARNING:absl:`lr` is deprecated in Keras optimizer, please use `learning_rate` or use the legacy optimizer, e.g.,tf.keras.optimizers.legacy.Adam.\n"
     ]
    },
    {
     "name": "stdout",
     "output_type": "stream",
     "text": [
      "------- store 2 -------\n",
      "Epoch 1/1000\n",
      "91/91 - 3s - loss: 0.0102 - root_mean_squared_error: 0.1010 - val_loss: 0.0372 - val_root_mean_squared_error: 0.1928 - 3s/epoch - 32ms/step\n",
      "Epoch 2/1000\n",
      "91/91 - 1s - loss: 0.0019 - root_mean_squared_error: 0.0441 - val_loss: 0.0380 - val_root_mean_squared_error: 0.1950 - 1s/epoch - 14ms/step\n",
      "Epoch 3/1000\n",
      "91/91 - 1s - loss: 0.0016 - root_mean_squared_error: 0.0402 - val_loss: 0.0380 - val_root_mean_squared_error: 0.1949 - 1s/epoch - 14ms/step\n",
      "Epoch 4/1000\n",
      "91/91 - 1s - loss: 0.0018 - root_mean_squared_error: 0.0429 - val_loss: 0.0385 - val_root_mean_squared_error: 0.1962 - 1s/epoch - 14ms/step\n",
      "Epoch 5/1000\n",
      "91/91 - 1s - loss: 0.0012 - root_mean_squared_error: 0.0347 - val_loss: 0.0415 - val_root_mean_squared_error: 0.2038 - 1s/epoch - 14ms/step\n",
      "Epoch 6/1000\n",
      "Restoring model weights from the end of the best epoch: 1.\n",
      "91/91 - 1s - loss: 0.0014 - root_mean_squared_error: 0.0370 - val_loss: 0.0408 - val_root_mean_squared_error: 0.2020 - 1s/epoch - 14ms/step\n",
      "Epoch 6: early stopping\n",
      "11/11 [==============================] - 0s 7ms/step\n",
      "11/11 [==============================] - 0s 6ms/step\n"
     ]
    },
    {
     "name": "stderr",
     "output_type": "stream",
     "text": [
      "WARNING:absl:`lr` is deprecated in Keras optimizer, please use `learning_rate` or use the legacy optimizer, e.g.,tf.keras.optimizers.legacy.Adam.\n"
     ]
    },
    {
     "name": "stdout",
     "output_type": "stream",
     "text": [
      "------- store 3 -------\n",
      "Epoch 1/1000\n",
      "91/91 - 3s - loss: 0.0099 - root_mean_squared_error: 0.0996 - val_loss: 0.0362 - val_root_mean_squared_error: 0.1903 - 3s/epoch - 31ms/step\n",
      "Epoch 2/1000\n",
      "91/91 - 1s - loss: 0.0017 - root_mean_squared_error: 0.0411 - val_loss: 0.0378 - val_root_mean_squared_error: 0.1943 - 1s/epoch - 14ms/step\n",
      "Epoch 3/1000\n",
      "91/91 - 1s - loss: 0.0014 - root_mean_squared_error: 0.0374 - val_loss: 0.0356 - val_root_mean_squared_error: 0.1887 - 1s/epoch - 14ms/step\n",
      "Epoch 4/1000\n",
      "91/91 - 1s - loss: 0.0015 - root_mean_squared_error: 0.0389 - val_loss: 0.0368 - val_root_mean_squared_error: 0.1918 - 1s/epoch - 14ms/step\n",
      "Epoch 5/1000\n",
      "91/91 - 1s - loss: 0.0012 - root_mean_squared_error: 0.0339 - val_loss: 0.0414 - val_root_mean_squared_error: 0.2034 - 1s/epoch - 14ms/step\n",
      "Epoch 6/1000\n",
      "Restoring model weights from the end of the best epoch: 1.\n",
      "91/91 - 1s - loss: 0.0011 - root_mean_squared_error: 0.0333 - val_loss: 0.0385 - val_root_mean_squared_error: 0.1962 - 1s/epoch - 14ms/step\n",
      "Epoch 6: early stopping\n",
      "11/11 [==============================] - 0s 6ms/step\n",
      "11/11 [==============================] - 0s 6ms/step\n"
     ]
    },
    {
     "name": "stderr",
     "output_type": "stream",
     "text": [
      "WARNING:absl:`lr` is deprecated in Keras optimizer, please use `learning_rate` or use the legacy optimizer, e.g.,tf.keras.optimizers.legacy.Adam.\n"
     ]
    },
    {
     "name": "stdout",
     "output_type": "stream",
     "text": [
      "------- store 4 -------\n",
      "Epoch 1/1000\n",
      "91/91 - 3s - loss: 0.0100 - root_mean_squared_error: 0.1001 - val_loss: 0.0356 - val_root_mean_squared_error: 0.1887 - 3s/epoch - 30ms/step\n",
      "Epoch 2/1000\n",
      "91/91 - 1s - loss: 0.0016 - root_mean_squared_error: 0.0399 - val_loss: 0.0387 - val_root_mean_squared_error: 0.1968 - 1s/epoch - 14ms/step\n",
      "Epoch 3/1000\n",
      "91/91 - 1s - loss: 0.0012 - root_mean_squared_error: 0.0344 - val_loss: 0.0339 - val_root_mean_squared_error: 0.1842 - 1s/epoch - 14ms/step\n",
      "Epoch 4/1000\n",
      "91/91 - 1s - loss: 0.0013 - root_mean_squared_error: 0.0362 - val_loss: 0.0411 - val_root_mean_squared_error: 0.2029 - 1s/epoch - 14ms/step\n",
      "Epoch 5/1000\n",
      "91/91 - 1s - loss: 0.0010 - root_mean_squared_error: 0.0321 - val_loss: 0.0414 - val_root_mean_squared_error: 0.2034 - 1s/epoch - 14ms/step\n",
      "Epoch 6/1000\n",
      "91/91 - 1s - loss: 9.3078e-04 - root_mean_squared_error: 0.0305 - val_loss: 0.0373 - val_root_mean_squared_error: 0.1932 - 1s/epoch - 14ms/step\n",
      "Epoch 7/1000\n",
      "91/91 - 1s - loss: 9.0128e-04 - root_mean_squared_error: 0.0300 - val_loss: 0.0365 - val_root_mean_squared_error: 0.1909 - 1s/epoch - 14ms/step\n",
      "Epoch 8/1000\n",
      "Restoring model weights from the end of the best epoch: 3.\n",
      "91/91 - 1s - loss: 8.4426e-04 - root_mean_squared_error: 0.0291 - val_loss: 0.0386 - val_root_mean_squared_error: 0.1964 - 1s/epoch - 14ms/step\n",
      "Epoch 8: early stopping\n",
      "11/11 [==============================] - 0s 7ms/step\n",
      "11/11 [==============================] - 0s 6ms/step\n"
     ]
    },
    {
     "name": "stderr",
     "output_type": "stream",
     "text": [
      "WARNING:absl:`lr` is deprecated in Keras optimizer, please use `learning_rate` or use the legacy optimizer, e.g.,tf.keras.optimizers.legacy.Adam.\n"
     ]
    },
    {
     "name": "stdout",
     "output_type": "stream",
     "text": [
      "------- store 5 -------\n",
      "Epoch 1/1000\n",
      "91/91 - 3s - loss: 0.0093 - root_mean_squared_error: 0.0966 - val_loss: 0.0381 - val_root_mean_squared_error: 0.1953 - 3s/epoch - 35ms/step\n",
      "Epoch 2/1000\n",
      "91/91 - 1s - loss: 0.0014 - root_mean_squared_error: 0.0376 - val_loss: 0.0383 - val_root_mean_squared_error: 0.1958 - 1s/epoch - 14ms/step\n",
      "Epoch 3/1000\n",
      "91/91 - 1s - loss: 0.0011 - root_mean_squared_error: 0.0326 - val_loss: 0.0365 - val_root_mean_squared_error: 0.1911 - 1s/epoch - 15ms/step\n",
      "Epoch 4/1000\n",
      "91/91 - 1s - loss: 0.0011 - root_mean_squared_error: 0.0333 - val_loss: 0.0391 - val_root_mean_squared_error: 0.1978 - 1s/epoch - 15ms/step\n",
      "Epoch 5/1000\n",
      "91/91 - 1s - loss: 0.0012 - root_mean_squared_error: 0.0348 - val_loss: 0.0414 - val_root_mean_squared_error: 0.2035 - 1s/epoch - 14ms/step\n",
      "Epoch 6/1000\n",
      "91/91 - 1s - loss: 0.0010 - root_mean_squared_error: 0.0321 - val_loss: 0.0381 - val_root_mean_squared_error: 0.1953 - 1s/epoch - 14ms/step\n",
      "Epoch 7/1000\n",
      "91/91 - 1s - loss: 0.0011 - root_mean_squared_error: 0.0335 - val_loss: 0.0396 - val_root_mean_squared_error: 0.1990 - 1s/epoch - 14ms/step\n",
      "Epoch 8/1000\n",
      "Restoring model weights from the end of the best epoch: 3.\n",
      "91/91 - 1s - loss: 9.5124e-04 - root_mean_squared_error: 0.0308 - val_loss: 0.0367 - val_root_mean_squared_error: 0.1917 - 1s/epoch - 14ms/step\n",
      "Epoch 8: early stopping\n",
      "11/11 [==============================] - 0s 6ms/step\n",
      "11/11 [==============================] - 0s 6ms/step\n",
      "------- store 6 -------\n"
     ]
    },
    {
     "name": "stderr",
     "output_type": "stream",
     "text": [
      "WARNING:absl:`lr` is deprecated in Keras optimizer, please use `learning_rate` or use the legacy optimizer, e.g.,tf.keras.optimizers.legacy.Adam.\n"
     ]
    },
    {
     "name": "stdout",
     "output_type": "stream",
     "text": [
      "Epoch 1/1000\n",
      "91/91 - 3s - loss: 0.0099 - root_mean_squared_error: 0.0996 - val_loss: 0.0399 - val_root_mean_squared_error: 0.1996 - 3s/epoch - 32ms/step\n",
      "Epoch 2/1000\n",
      "91/91 - 1s - loss: 0.0014 - root_mean_squared_error: 0.0377 - val_loss: 0.0399 - val_root_mean_squared_error: 0.1999 - 1s/epoch - 14ms/step\n",
      "Epoch 3/1000\n",
      "91/91 - 1s - loss: 0.0012 - root_mean_squared_error: 0.0351 - val_loss: 0.0394 - val_root_mean_squared_error: 0.1985 - 1s/epoch - 14ms/step\n",
      "Epoch 4/1000\n",
      "91/91 - 1s - loss: 0.0011 - root_mean_squared_error: 0.0339 - val_loss: 0.0368 - val_root_mean_squared_error: 0.1919 - 1s/epoch - 14ms/step\n",
      "Epoch 5/1000\n",
      "91/91 - 1s - loss: 0.0011 - root_mean_squared_error: 0.0338 - val_loss: 0.0416 - val_root_mean_squared_error: 0.2039 - 1s/epoch - 14ms/step\n",
      "Epoch 6/1000\n",
      "91/91 - 1s - loss: 9.4083e-04 - root_mean_squared_error: 0.0307 - val_loss: 0.0383 - val_root_mean_squared_error: 0.1956 - 1s/epoch - 15ms/step\n",
      "Epoch 7/1000\n",
      "91/91 - 1s - loss: 9.0656e-04 - root_mean_squared_error: 0.0301 - val_loss: 0.0374 - val_root_mean_squared_error: 0.1933 - 1s/epoch - 14ms/step\n",
      "Epoch 8/1000\n",
      "91/91 - 1s - loss: 8.7559e-04 - root_mean_squared_error: 0.0296 - val_loss: 0.0382 - val_root_mean_squared_error: 0.1956 - 1s/epoch - 14ms/step\n",
      "Epoch 9/1000\n",
      "Restoring model weights from the end of the best epoch: 4.\n",
      "91/91 - 1s - loss: 8.0002e-04 - root_mean_squared_error: 0.0283 - val_loss: 0.0364 - val_root_mean_squared_error: 0.1908 - 1s/epoch - 14ms/step\n",
      "Epoch 9: early stopping\n",
      "11/11 [==============================] - 0s 6ms/step\n",
      "11/11 [==============================] - 0s 6ms/step\n"
     ]
    },
    {
     "name": "stderr",
     "output_type": "stream",
     "text": [
      "WARNING:absl:`lr` is deprecated in Keras optimizer, please use `learning_rate` or use the legacy optimizer, e.g.,tf.keras.optimizers.legacy.Adam.\n"
     ]
    },
    {
     "name": "stdout",
     "output_type": "stream",
     "text": [
      "------- store 7 -------\n",
      "Epoch 1/1000\n",
      "91/91 - 3s - loss: 0.0094 - root_mean_squared_error: 0.0972 - val_loss: 0.0400 - val_root_mean_squared_error: 0.2001 - 3s/epoch - 30ms/step\n",
      "Epoch 2/1000\n",
      "91/91 - 1s - loss: 0.0012 - root_mean_squared_error: 0.0346 - val_loss: 0.0380 - val_root_mean_squared_error: 0.1951 - 1s/epoch - 14ms/step\n",
      "Epoch 3/1000\n",
      "91/91 - 1s - loss: 0.0011 - root_mean_squared_error: 0.0338 - val_loss: 0.0364 - val_root_mean_squared_error: 0.1907 - 1s/epoch - 14ms/step\n",
      "Epoch 4/1000\n",
      "91/91 - 1s - loss: 0.0013 - root_mean_squared_error: 0.0357 - val_loss: 0.0362 - val_root_mean_squared_error: 0.1903 - 1s/epoch - 14ms/step\n",
      "Epoch 5/1000\n",
      "91/91 - 1s - loss: 0.0010 - root_mean_squared_error: 0.0321 - val_loss: 0.0388 - val_root_mean_squared_error: 0.1969 - 1s/epoch - 14ms/step\n",
      "Epoch 6/1000\n",
      "91/91 - 1s - loss: 9.9196e-04 - root_mean_squared_error: 0.0315 - val_loss: 0.0375 - val_root_mean_squared_error: 0.1937 - 1s/epoch - 14ms/step\n",
      "Epoch 7/1000\n",
      "91/91 - 1s - loss: 8.4940e-04 - root_mean_squared_error: 0.0291 - val_loss: 0.0372 - val_root_mean_squared_error: 0.1928 - 1s/epoch - 14ms/step\n",
      "Epoch 8/1000\n",
      "Restoring model weights from the end of the best epoch: 3.\n",
      "91/91 - 1s - loss: 7.1651e-04 - root_mean_squared_error: 0.0268 - val_loss: 0.0391 - val_root_mean_squared_error: 0.1976 - 1s/epoch - 14ms/step\n",
      "Epoch 8: early stopping\n",
      "11/11 [==============================] - 0s 6ms/step\n",
      "11/11 [==============================] - 0s 6ms/step\n"
     ]
    }
   ],
   "source": [
    "### TRAIN A MODEL FOR EACH STORES USING ALL THE DATA AVAILALBE FROM OTHER STORES ###\n",
    "\n",
    "pred_valid_all = np.zeros(y_valid.shape)\n",
    "pred_test_all = np.zeros(y_test.shape)\n",
    "\n",
    "for store in range(unique_ids):\n",
    "    print(\"-------\", \"store\", store, \"-------\")\n",
    "\n",
    "    es = EarlyStopping(\n",
    "        patience=5,\n",
    "        verbose=1,\n",
    "        min_delta=0.001,\n",
    "        monitor=\"val_loss\",\n",
    "        mode=\"auto\",\n",
    "        restore_best_weights=True,\n",
    "    )\n",
    "\n",
    "    model = get_model()\n",
    "    model.fit(\n",
    "        [X_train_seq, X_train_lap, X_train_feat],\n",
    "        y_train[:, store],\n",
    "        epochs=1000,\n",
    "        batch_size=30,\n",
    "        validation_data=([X_valid_seq, X_valid_lap, X_valid_feat], y_test[:, store]),\n",
    "        callbacks=[es],\n",
    "        verbose=2,\n",
    "    )\n",
    "\n",
    "    pred_valid_all[:, store] = model.predict(\n",
    "        [X_valid_seq, X_valid_lap, X_valid_feat]\n",
    "    ).ravel()\n",
    "    pred_test_all[:, store] = model.predict(\n",
    "        [X_test_seq, X_test_lap, X_test_feat]\n",
    "    ).ravel()\n",
    "\n",
    "\n",
    "pred_valid_all = scaler_seq.inverse_transform(pred_valid_all)\n",
    "reverse_valid = scaler_seq.inverse_transform(y_valid)\n",
    "pred_test_all = scaler_seq.inverse_transform(pred_test_all)\n",
    "reverse_test = scaler_seq.inverse_transform(y_test)"
   ]
  },
  {
   "cell_type": "code",
   "execution_count": 19,
   "metadata": {},
   "outputs": [
    {
     "data": {
      "text/plain": [
       "array([[0.35891646, 0.37887704, 0.35098204, ..., 0.36005917, 0.3617    ,\n",
       "        0.36775672],\n",
       "       [0.35586855, 0.37489268, 0.34817132, ..., 0.35650727, 0.35828409,\n",
       "        0.36417672],\n",
       "       [0.35294801, 0.37145147, 0.3449927 , ..., 0.35306993, 0.35542616,\n",
       "        0.35990697],\n",
       "       ...,\n",
       "       [0.61396402, 0.66249102, 0.60854191, ..., 0.63056111, 0.63799864,\n",
       "        0.64009684],\n",
       "       [0.61267793, 0.66145837, 0.60685515, ..., 0.6303736 , 0.63763237,\n",
       "        0.63970363],\n",
       "       [0.61184466, 0.66134042, 0.60594666, ..., 0.63123888, 0.63852108,\n",
       "        0.63982385]])"
      ]
     },
     "execution_count": 19,
     "metadata": {},
     "output_type": "execute_result"
    }
   ],
   "source": [
    "pred_test_all"
   ]
  },
  {
   "cell_type": "code",
   "execution_count": 20,
   "metadata": {},
   "outputs": [
    {
     "data": {
      "text/plain": [
       "array([[0.35891646, 0.37887704, 0.35098204, ..., 0.36005917, 0.3617    ,\n",
       "        0.36775672],\n",
       "       [0.35586855, 0.37489268, 0.34817132, ..., 0.35650727, 0.35828409,\n",
       "        0.36417672],\n",
       "       [0.35294801, 0.37145147, 0.3449927 , ..., 0.35306993, 0.35542616,\n",
       "        0.35990697],\n",
       "       ...,\n",
       "       [0.61396402, 0.66249102, 0.60854191, ..., 0.63056111, 0.63799864,\n",
       "        0.64009684],\n",
       "       [0.61267793, 0.66145837, 0.60685515, ..., 0.6303736 , 0.63763237,\n",
       "        0.63970363],\n",
       "       [0.61184466, 0.66134042, 0.60594666, ..., 0.63123888, 0.63852108,\n",
       "        0.63982385]])"
      ]
     },
     "execution_count": 20,
     "metadata": {},
     "output_type": "execute_result"
    }
   ],
   "source": [
    "### RMSE ON TEST DATA ###\n",
    "\n",
    "\n",
    "\n",
    "error = np.sqrt(mean_squared_error(reverse_test, pred_test_all))\n",
    "pred_test_all"
   ]
  },
  {
   "cell_type": "code",
   "execution_count": 21,
   "metadata": {},
   "outputs": [
    {
     "data": {
      "image/png": "[encoded data removed]",
      "text/plain": [
       "<Figure size 1400x500 with 1 Axes>"
      ]
     },
     "metadata": {},
     "output_type": "display_data"
    }
   ],
   "source": [
    "### PLOT RMSE ###\n",
    "\n",
    "plt.figure(figsize=(14, 5))\n",
    "plt.bar(1 ,error)\n",
    "# plt.xticks(range(7), [str(s) for s in range(7)])\n",
    "plt.ylabel(\"error\")\n",
    "np.set_printoptions(False)"
   ]
  },
  {
   "cell_type": "code",
   "execution_count": 22,
   "metadata": {},
   "outputs": [],
   "source": [
    "def plot_predictions(y_true, y_pred, store, item):\n",
    "    y_true = y_true.reshape(1, -1, unique_ids)\n",
    "    y_pred = y_pred.reshape(1, -1, unique_ids)\n",
    "    t = y_true[item, :, store]\n",
    "    for i in range(unique_ids):\n",
    "\n",
    "        plt.plot(y_true[item, :, store], label=\"true\")\n",
    "        plt.plot(y_pred[item, :, store], label=\"prediction\")\n",
    "        plt.title(f\"store: {store} item: {item}\")\n",
    "        plt.legend()\n",
    "        plt.ylabel(\"sales\")\n",
    "        plt.xlabel(\"date\")"
   ]
  },
  {
   "cell_type": "code",
   "execution_count": 23,
   "metadata": {},
   "outputs": [
    {
     "data": {
      "image/png": "[encoded data removed]",
      "text/plain": [
       "<Figure size 1100x500 with 1 Axes>"
      ]
     },
     "metadata": {},
     "output_type": "display_data"
    }
   ],
   "source": [
    "plt.figure(figsize=(11, 5))\n",
    "plot_predictions(reverse_test, pred_test_all, unique_ids-1, 0)"
   ]
  },
  {
   "cell_type": "code",
   "execution_count": 24,
   "metadata": {},
   "outputs": [
    {
     "data": {
      "text/plain": [
       "array([3., 3., 3., 3., 3., 3., 3., 3., 3., 3., 3., 3., 3., 3., 3., 3., 3.,\n",
       "       3., 3., 3., 3., 3., 3., 3., 4., 4., 4., 4., 4., 4., 4., 4., 4., 4.,\n",
       "       4., 4., 4., 4., 4., 4., 4., 4., 4., 4., 4., 4., 4., 4., 4., 4., 4.,\n",
       "       4., 4., 4., 4., 4., 4., 4., 4., 4., 4., 4., 4., 4., 4., 4., 4., 4.,\n",
       "       4., 4., 3., 3., 3., 3., 3., 3., 3., 3., 3., 3., 3., 3., 3., 3., 3.,\n",
       "       3., 3., 3., 3., 3., 3., 3., 3., 3., 3., 3., 3., 3., 3., 3., 3., 3.,\n",
       "       3., 3., 3., 3., 3., 3., 4., 4., 4., 4., 4., 4., 4., 4., 4., 4., 4.,\n",
       "       4., 4., 4., 4., 4., 4., 4., 4., 4., 4., 4., 4., 4., 4., 4., 4., 4.,\n",
       "       4., 4., 4., 4., 4., 4., 4., 4., 4., 4., 4., 4., 4., 4., 4., 4., 4.,\n",
       "       4., 4., 4., 4., 4., 4., 4., 4., 4., 4., 4., 4., 4., 3., 3., 3., 3.,\n",
       "       3., 3., 3., 3., 3., 3., 3., 3., 3., 3., 3., 3., 3., 3., 3., 3., 3.,\n",
       "       3., 3., 3., 3., 3., 3., 3., 3., 3., 3., 3., 3., 3., 3., 3., 3., 3.,\n",
       "       3., 3., 3., 3., 3., 3., 3., 3., 3., 3., 3., 3., 3., 3., 3., 3., 3.,\n",
       "       3., 3., 3., 3., 4., 4., 4., 4., 4., 4., 4., 4., 4., 4., 4., 4., 4.,\n",
       "       4., 4., 4., 4., 4., 4., 4., 4., 4., 4., 4., 4., 4., 4., 4., 4., 5.,\n",
       "       5., 5., 5., 5., 5., 5., 5., 5., 5., 5., 5., 5., 5., 5., 5., 5., 5.,\n",
       "       5., 5., 5., 5., 5., 5., 5., 5., 5., 5., 5., 5., 5., 5., 5., 5., 5.,\n",
       "       5., 5., 5., 5., 5., 5., 5., 5., 5., 5., 5., 5., 5., 5., 5., 5., 5.,\n",
       "       5., 5., 5., 5., 5., 5., 5., 5., 5., 5., 5., 5., 5., 5., 5., 5., 5.,\n",
       "       5., 5., 5., 5., 5.])"
      ]
     },
     "execution_count": 24,
     "metadata": {},
     "output_type": "execute_result"
    }
   ],
   "source": [
    "y_true = np.sum(reverse_test, axis=1)\n",
    "pred = np.sum(pred_test_all, axis=1)\n",
    "unscaled_y_pred = scaler.inverse_transform([pred])[0]\n",
    "unscaled_y_test = scaler.inverse_transform([y_true])[0]\n",
    "pred"
   ]
  },
  {
   "cell_type": "code",
   "execution_count": 25,
   "metadata": {},
   "outputs": [
    {
     "data": {
      "image/png": "[encoded data removed]",
      "text/plain": [
       "<Figure size 1333.33x750 with 1 Axes>"
      ]
     },
     "metadata": {},
     "output_type": "display_data"
    }
   ],
   "source": [
    "fig, ax = plt.subplots(1, 1, figsize=(1280 / 96, 720 / 96))\n",
    "ax.plot(unique_dates[-len(unscaled_y_pred):], unscaled_y_test, label=\"actual\")\n",
    "ax.plot(unique_dates[-len(unscaled_y_pred):], unscaled_y_pred, label=\"prediction\")\n",
    "ax.set_title(\"Prediction GNN\")\n",
    "ax.set_ylabel(\"Close\")\n",
    "ax.set_xlabel(date_column)\n",
    "ax.legend()\n",
    "ax.xaxis.set_major_locator(mdates.AutoDateLocator())\n",
    "plt.show()"
   ]
  },
  {
   "cell_type": "code",
   "execution_count": 26,
   "metadata": {},
   "outputs": [
    {
     "name": "stdout",
     "output_type": "stream",
     "text": [
      "Evaluation Metrics:\n",
      "MSE: 235493041.61\n",
      "RMSE: 15345.78\n",
      "MAE: 13690.50\n",
      "MAPE: 5.84\n",
      "SMAPE: 5.63\n"
     ]
    }
   ],
   "source": [
    "from metrics import print_evaluation_metrics\n",
    "print_evaluation_metrics(unscaled_y_pred, unscaled_y_test)\n"
   ]
  }
 ],
 "metadata": {
  "kernelspec": {
   "display_name": "Python 3",
   "language": "python",
   "name": "python3"
  },
  "language_info": {
   "codemirror_mode": {
    "name": "ipython",
    "version": 3
   },
   "file_extension": ".py",
   "mimetype": "text/x-python",
   "name": "python",
   "nbconvert_exporter": "python",
   "pygments_lexer": "ipython3",
   "version": "3.10.12"
  }
 },
 "nbformat": 4,
 "nbformat_minor": 2
}
