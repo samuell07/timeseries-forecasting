{
 "cells": [
  {
   "cell_type": "code",
   "execution_count": 41,
   "metadata": {},
   "outputs": [],
   "source": [
    "import os\n",
    "import random\n",
    "import numpy as np\n",
    "import pandas as pd\n",
    "from tqdm import tqdm\n",
    "import matplotlib.pyplot as plt\n",
    "from datetime import date, timedelta\n",
    "from scipy.stats import skew, kurtosis\n",
    "import matplotlib.dates as mdates\n",
    "\n",
    "from sklearn.preprocessing import StandardScaler\n",
    "from sklearn.metrics import mean_squared_error\n",
    "\n",
    "import tensorflow as tf\n",
    "from keras.layers import *\n",
    "from keras.models import *\n",
    "from keras.optimizers import *\n",
    "from keras.callbacks import *\n",
    "from keras import backend as K"
   ]
  },
  {
   "cell_type": "code",
   "execution_count": 42,
   "metadata": {},
   "outputs": [],
   "source": [
    "### IMPORT SPEKTRAL CLASSES ###\n",
    "\n",
    "from spektral_utilities import *\n",
    "from spektral_gcn import GraphConv"
   ]
  },
  {
   "cell_type": "code",
   "execution_count": 43,
   "metadata": {},
   "outputs": [
    {
     "data": {
      "text/html": [
       "<div>\n",
       "<style scoped>\n",
       "    .dataframe tbody tr th:only-of-type {\n",
       "        vertical-align: middle;\n",
       "    }\n",
       "\n",
       "    .dataframe tbody tr th {\n",
       "        vertical-align: top;\n",
       "    }\n",
       "\n",
       "    .dataframe thead th {\n",
       "        text-align: right;\n",
       "    }\n",
       "</style>\n",
       "<table border=\"1\" class=\"dataframe\">\n",
       "  <thead>\n",
       "    <tr style=\"text-align: right;\">\n",
       "      <th></th>\n",
       "      <th>Date</th>\n",
       "      <th>id</th>\n",
       "      <th>value</th>\n",
       "    </tr>\n",
       "  </thead>\n",
       "  <tbody>\n",
       "    <tr>\n",
       "      <th>0</th>\n",
       "      <td>2014-09-24</td>\n",
       "      <td>Close</td>\n",
       "      <td>423.204987</td>\n",
       "    </tr>\n",
       "    <tr>\n",
       "      <th>1</th>\n",
       "      <td>2014-09-24</td>\n",
       "      <td>Closed_1_ago</td>\n",
       "      <td>435.790985</td>\n",
       "    </tr>\n",
       "    <tr>\n",
       "      <th>2</th>\n",
       "      <td>2014-09-24</td>\n",
       "      <td>Closed_2_ago</td>\n",
       "      <td>402.152008</td>\n",
       "    </tr>\n",
       "    <tr>\n",
       "      <th>3</th>\n",
       "      <td>2014-09-24</td>\n",
       "      <td>Closed_3_ago</td>\n",
       "      <td>398.821014</td>\n",
       "    </tr>\n",
       "    <tr>\n",
       "      <th>4</th>\n",
       "      <td>2014-09-24</td>\n",
       "      <td>Closed_4_ago</td>\n",
       "      <td>408.903992</td>\n",
       "    </tr>\n",
       "  </tbody>\n",
       "</table>\n",
       "</div>"
      ],
      "text/plain": [
       "        Date            id       value\n",
       "0 2014-09-24         Close  423.204987\n",
       "1 2014-09-24  Closed_1_ago  435.790985\n",
       "2 2014-09-24  Closed_2_ago  402.152008\n",
       "3 2014-09-24  Closed_3_ago  398.821014\n",
       "4 2014-09-24  Closed_4_ago  408.903992"
      ]
     },
     "execution_count": 43,
     "metadata": {},
     "output_type": "execute_result"
    }
   ],
   "source": [
    "file_path = \"../data/parsed_dataset.csv\"\n",
    "date_column = \"Date\"\n",
    "target_column = \"value\"\n",
    "id_column = \"id\"\n",
    "df = pd.read_csv(file_path)\n",
    "melted_df = df.melt(id_vars=['Date'], \n",
    "                    value_vars=[\"Close\", \"Closed_1_ago\", \"Closed_2_ago\", \"Closed_3_ago\", \"Closed_4_ago\", \"Closed_5_ago\", \"Closed_6_ago\", \"Closed_7_ago\"], \n",
    "                    var_name='id', \n",
    "                    value_name='value')\n",
    "df=melted_df\n",
    "df[date_column] = pd.to_datetime(df[date_column])\n",
    "df = df.groupby([date_column, id_column])[target_column].sum().reset_index()\n",
    "unique_dates = df[date_column].unique()\n",
    "unique_ids = len(df[id_column].unique())\n",
    "df.head()"
   ]
  },
  {
   "cell_type": "code",
   "execution_count": null,
   "metadata": {},
   "outputs": [],
   "source": []
  },
  {
   "cell_type": "code",
   "execution_count": 44,
   "metadata": {},
   "outputs": [
    {
     "data": {
      "text/html": [
       "<div>\n",
       "<style scoped>\n",
       "    .dataframe tbody tr th:only-of-type {\n",
       "        vertical-align: middle;\n",
       "    }\n",
       "\n",
       "    .dataframe tbody tr th {\n",
       "        vertical-align: top;\n",
       "    }\n",
       "\n",
       "    .dataframe thead th {\n",
       "        text-align: right;\n",
       "    }\n",
       "</style>\n",
       "<table border=\"1\" class=\"dataframe\">\n",
       "  <thead>\n",
       "    <tr style=\"text-align: right;\">\n",
       "      <th></th>\n",
       "      <th>Date</th>\n",
       "      <th>id</th>\n",
       "      <th>value</th>\n",
       "    </tr>\n",
       "  </thead>\n",
       "  <tbody>\n",
       "    <tr>\n",
       "      <th>0</th>\n",
       "      <td>2014-09-24</td>\n",
       "      <td>Close</td>\n",
       "      <td>423.204987</td>\n",
       "    </tr>\n",
       "    <tr>\n",
       "      <th>1</th>\n",
       "      <td>2014-09-24</td>\n",
       "      <td>Closed_1_ago</td>\n",
       "      <td>435.790985</td>\n",
       "    </tr>\n",
       "    <tr>\n",
       "      <th>2</th>\n",
       "      <td>2014-09-24</td>\n",
       "      <td>Closed_2_ago</td>\n",
       "      <td>402.152008</td>\n",
       "    </tr>\n",
       "    <tr>\n",
       "      <th>3</th>\n",
       "      <td>2014-09-24</td>\n",
       "      <td>Closed_3_ago</td>\n",
       "      <td>398.821014</td>\n",
       "    </tr>\n",
       "    <tr>\n",
       "      <th>4</th>\n",
       "      <td>2014-09-24</td>\n",
       "      <td>Closed_4_ago</td>\n",
       "      <td>408.903992</td>\n",
       "    </tr>\n",
       "  </tbody>\n",
       "</table>\n",
       "</div>"
      ],
      "text/plain": [
       "        Date            id       value\n",
       "0 2014-09-24         Close  423.204987\n",
       "1 2014-09-24  Closed_1_ago  435.790985\n",
       "2 2014-09-24  Closed_2_ago  402.152008\n",
       "3 2014-09-24  Closed_3_ago  398.821014\n",
       "4 2014-09-24  Closed_4_ago  408.903992"
      ]
     },
     "execution_count": 44,
     "metadata": {},
     "output_type": "execute_result"
    }
   ],
   "source": [
    "pivot_df = df.pivot_table(index=date_column, columns=id_column, values=target_column)\n",
    "\n",
    "# Rename 'index' back to date_columneported\n",
    "df.rename(columns={\"index\": date_column}, inplace=True)\n",
    "# df[date_column] = pd.to_datetime(df[date_column])\n",
    "# unique_dates = df[date_column].unique()\n",
    "# df.set_index(date_column, inplace=True)\n",
    "df.head()\n"
   ]
  },
  {
   "cell_type": "code",
   "execution_count": 45,
   "metadata": {},
   "outputs": [],
   "source": [
    "from sklearn.preprocessing import StandardScaler\n",
    "\n",
    "scaler = StandardScaler()\n",
    "scaled_data = scaler.fit_transform(df[[target_column]])\n",
    "df[target_column] = scaled_data"
   ]
  },
  {
   "cell_type": "code",
   "execution_count": 46,
   "metadata": {},
   "outputs": [
    {
     "name": "stdout",
     "output_type": "stream",
     "text": [
      "(8, 3419)\n"
     ]
    },
    {
     "data": {
      "text/html": [
       "<div>\n",
       "<style scoped>\n",
       "    .dataframe tbody tr th:only-of-type {\n",
       "        vertical-align: middle;\n",
       "    }\n",
       "\n",
       "    .dataframe tbody tr th {\n",
       "        vertical-align: top;\n",
       "    }\n",
       "\n",
       "    .dataframe thead th {\n",
       "        text-align: right;\n",
       "    }\n",
       "</style>\n",
       "<table border=\"1\" class=\"dataframe\">\n",
       "  <thead>\n",
       "    <tr style=\"text-align: right;\">\n",
       "      <th>Date</th>\n",
       "      <th>2014-09-24</th>\n",
       "      <th>2014-09-25</th>\n",
       "      <th>2014-09-26</th>\n",
       "      <th>2014-09-27</th>\n",
       "      <th>2014-09-28</th>\n",
       "      <th>2014-09-29</th>\n",
       "      <th>2014-09-30</th>\n",
       "      <th>2014-10-01</th>\n",
       "      <th>2014-10-02</th>\n",
       "      <th>2014-10-03</th>\n",
       "      <th>2014-10-04</th>\n",
       "      <th>2014-10-05</th>\n",
       "      <th>2014-10-06</th>\n",
       "      <th>2014-10-07</th>\n",
       "      <th>2014-10-08</th>\n",
       "    </tr>\n",
       "    <tr>\n",
       "      <th>id</th>\n",
       "      <th></th>\n",
       "      <th></th>\n",
       "      <th></th>\n",
       "      <th></th>\n",
       "      <th></th>\n",
       "      <th></th>\n",
       "      <th></th>\n",
       "      <th></th>\n",
       "      <th></th>\n",
       "      <th></th>\n",
       "      <th></th>\n",
       "      <th></th>\n",
       "      <th></th>\n",
       "      <th></th>\n",
       "      <th></th>\n",
       "    </tr>\n",
       "  </thead>\n",
       "  <tbody>\n",
       "    <tr>\n",
       "      <th>Close</th>\n",
       "      <td>-0.882901</td>\n",
       "      <td>-0.883613</td>\n",
       "      <td>-0.884051</td>\n",
       "      <td>-0.884352</td>\n",
       "      <td>-0.885719</td>\n",
       "      <td>-0.885824</td>\n",
       "      <td>-0.885122</td>\n",
       "      <td>-0.885325</td>\n",
       "      <td>-0.885849</td>\n",
       "      <td>-0.886801</td>\n",
       "      <td>-0.888678</td>\n",
       "      <td>-0.889189</td>\n",
       "      <td>-0.888604</td>\n",
       "      <td>-0.888230</td>\n",
       "      <td>-0.887204</td>\n",
       "    </tr>\n",
       "    <tr>\n",
       "      <th>Closed_1_ago</th>\n",
       "      <td>-0.882131</td>\n",
       "      <td>-0.882901</td>\n",
       "      <td>-0.883613</td>\n",
       "      <td>-0.884051</td>\n",
       "      <td>-0.884352</td>\n",
       "      <td>-0.885719</td>\n",
       "      <td>-0.885824</td>\n",
       "      <td>-0.885122</td>\n",
       "      <td>-0.885325</td>\n",
       "      <td>-0.885849</td>\n",
       "      <td>-0.886801</td>\n",
       "      <td>-0.888678</td>\n",
       "      <td>-0.889189</td>\n",
       "      <td>-0.888604</td>\n",
       "      <td>-0.888230</td>\n",
       "    </tr>\n",
       "    <tr>\n",
       "      <th>Closed_2_ago</th>\n",
       "      <td>-0.884190</td>\n",
       "      <td>-0.882131</td>\n",
       "      <td>-0.882901</td>\n",
       "      <td>-0.883613</td>\n",
       "      <td>-0.884051</td>\n",
       "      <td>-0.884352</td>\n",
       "      <td>-0.885719</td>\n",
       "      <td>-0.885824</td>\n",
       "      <td>-0.885122</td>\n",
       "      <td>-0.885325</td>\n",
       "      <td>-0.885849</td>\n",
       "      <td>-0.886801</td>\n",
       "      <td>-0.888678</td>\n",
       "      <td>-0.889189</td>\n",
       "      <td>-0.888604</td>\n",
       "    </tr>\n",
       "    <tr>\n",
       "      <th>Closed_3_ago</th>\n",
       "      <td>-0.884394</td>\n",
       "      <td>-0.884190</td>\n",
       "      <td>-0.882131</td>\n",
       "      <td>-0.882901</td>\n",
       "      <td>-0.883613</td>\n",
       "      <td>-0.884051</td>\n",
       "      <td>-0.884352</td>\n",
       "      <td>-0.885719</td>\n",
       "      <td>-0.885824</td>\n",
       "      <td>-0.885122</td>\n",
       "      <td>-0.885325</td>\n",
       "      <td>-0.885849</td>\n",
       "      <td>-0.886801</td>\n",
       "      <td>-0.888678</td>\n",
       "      <td>-0.889189</td>\n",
       "    </tr>\n",
       "    <tr>\n",
       "      <th>Closed_4_ago</th>\n",
       "      <td>-0.883777</td>\n",
       "      <td>-0.884394</td>\n",
       "      <td>-0.884190</td>\n",
       "      <td>-0.882131</td>\n",
       "      <td>-0.882901</td>\n",
       "      <td>-0.883613</td>\n",
       "      <td>-0.884051</td>\n",
       "      <td>-0.884352</td>\n",
       "      <td>-0.885719</td>\n",
       "      <td>-0.885824</td>\n",
       "      <td>-0.885122</td>\n",
       "      <td>-0.885325</td>\n",
       "      <td>-0.885849</td>\n",
       "      <td>-0.886801</td>\n",
       "      <td>-0.888678</td>\n",
       "    </tr>\n",
       "  </tbody>\n",
       "</table>\n",
       "</div>"
      ],
      "text/plain": [
       "Date          2014-09-24  2014-09-25  2014-09-26  2014-09-27  2014-09-28  \\\n",
       "id                                                                         \n",
       "Close          -0.882901   -0.883613   -0.884051   -0.884352   -0.885719   \n",
       "Closed_1_ago   -0.882131   -0.882901   -0.883613   -0.884051   -0.884352   \n",
       "Closed_2_ago   -0.884190   -0.882131   -0.882901   -0.883613   -0.884051   \n",
       "Closed_3_ago   -0.884394   -0.884190   -0.882131   -0.882901   -0.883613   \n",
       "Closed_4_ago   -0.883777   -0.884394   -0.884190   -0.882131   -0.882901   \n",
       "\n",
       "Date          2014-09-29  2014-09-30  2014-10-01  2014-10-02  2014-10-03  \\\n",
       "id                                                                         \n",
       "Close          -0.885824   -0.885122   -0.885325   -0.885849   -0.886801   \n",
       "Closed_1_ago   -0.885719   -0.885824   -0.885122   -0.885325   -0.885849   \n",
       "Closed_2_ago   -0.884352   -0.885719   -0.885824   -0.885122   -0.885325   \n",
       "Closed_3_ago   -0.884051   -0.884352   -0.885719   -0.885824   -0.885122   \n",
       "Closed_4_ago   -0.883613   -0.884051   -0.884352   -0.885719   -0.885824   \n",
       "\n",
       "Date          2014-10-04  2014-10-05  2014-10-06  2014-10-07  2014-10-08  \n",
       "id                                                                        \n",
       "Close          -0.888678   -0.889189   -0.888604   -0.888230   -0.887204  \n",
       "Closed_1_ago   -0.886801   -0.888678   -0.889189   -0.888604   -0.888230  \n",
       "Closed_2_ago   -0.885849   -0.886801   -0.888678   -0.889189   -0.888604  \n",
       "Closed_3_ago   -0.885325   -0.885849   -0.886801   -0.888678   -0.889189  \n",
       "Closed_4_ago   -0.885122   -0.885325   -0.885849   -0.886801   -0.888678  "
      ]
     },
     "execution_count": 46,
     "metadata": {},
     "output_type": "execute_result"
    }
   ],
   "source": [
    "unstaked_df = df.copy()\n",
    "unstaked_df.set_index([id_column, date_column], inplace=True)\n",
    "\n",
    "\n",
    "# Converting data to float and unstacking\n",
    "unstaked_df = unstaked_df.astype(float).unstack()\n",
    "unstaked_df.columns = unstaked_df.columns.get_level_values(1)\n",
    "\n",
    "# Displaying the shape and head of the updated DataFrame\n",
    "print(unstaked_df.shape)\n",
    "unstaked_df.iloc[:, :15].head()"
   ]
  },
  {
   "cell_type": "code",
   "execution_count": 47,
   "metadata": {},
   "outputs": [],
   "source": [
    "### UTILITY FUNCTIONS FOR FEATURE ENGINEERING ###\n",
    "\n",
    "sequence_length = 14\n",
    "\n",
    "\n",
    "\n",
    "def get_timespan(df, today, days):    \n",
    "    df = df[pd.date_range(today - timedelta(days=days), \n",
    "            periods=days, freq='D')] # day - n_days <= dates < day    \n",
    "    return df\n",
    "\n",
    "def create_features(df, today, seq_len):\n",
    "    \n",
    "    all_sequence = get_timespan(df, today, seq_len).values\n",
    "    \n",
    "    group_store = all_sequence.reshape((-1, unique_ids, seq_len))\n",
    "    \n",
    "    store_corr = np.stack([np.corrcoef(i) for i in group_store], axis=0)\n",
    "    \n",
    "    store_features = np.stack([\n",
    "              group_store.mean(axis=2),\n",
    "              group_store[:,:,int(sequence_length/2):].mean(axis=2),\n",
    "              group_store.std(axis=2),\n",
    "              group_store[:,:,int(sequence_length/2):].std(axis=2),\n",
    "              skew(group_store, axis=2),\n",
    "              kurtosis(group_store, axis=2),\n",
    "              np.apply_along_axis(lambda x: np.polyfit(np.arange(0, sequence_length), x, 1)[0], 2, group_store)\n",
    "            ], axis=1)\n",
    "    \n",
    "    group_store = np.transpose(group_store, (0,2,1))\n",
    "    store_features = np.transpose(store_features, (0,2,1))\n",
    "    \n",
    "    return group_store, store_corr, store_features\n",
    "\n",
    "def create_label(df, today):\n",
    "    \n",
    "    y = df[today].values\n",
    "    \n",
    "    return y.reshape((-1, unique_ids))"
   ]
  },
  {
   "cell_type": "code",
   "execution_count": 48,
   "metadata": {},
   "outputs": [],
   "source": [
    "### DEFINE TRAIN, VALID, TEST DATES ###\n",
    "\n",
    "train_date = unique_dates[0]\n",
    "valid_date = unique_dates[int(len(unique_dates) *0.8)+1]\n",
    "test_date = unique_dates[int(len(unique_dates) *0.9)]"
   ]
  },
  {
   "cell_type": "code",
   "execution_count": 49,
   "metadata": {},
   "outputs": [
    {
     "name": "stdout",
     "output_type": "stream",
     "text": [
      "2735\n",
      "3077\n",
      "3419\n",
      "342\n",
      "342\n"
     ]
    }
   ],
   "source": [
    "print(int(len(unique_dates) *0.8))\n",
    "print(int(len(unique_dates) *0.9))\n",
    "print(int(len(unique_dates)))\n",
    "print(int(len(unique_dates))-int(len(unique_dates) *0.9))\n",
    "print(int(len(unique_dates) *0.9) - int(len(unique_dates) *0.8))"
   ]
  },
  {
   "cell_type": "code",
   "execution_count": 50,
   "metadata": {},
   "outputs": [
    {
     "name": "stderr",
     "output_type": "stream",
     "text": [
      "  0%|          | 0/2723 [00:00<?, ?it/s]"
     ]
    },
    {
     "name": "stderr",
     "output_type": "stream",
     "text": [
      "100%|██████████| 2723/2723 [00:05<00:00, 503.12it/s]"
     ]
    },
    {
     "name": "stdout",
     "output_type": "stream",
     "text": [
      "(2723, 14, 8) (2723, 8, 8) (2723, 8, 7) (2723, 8)\n"
     ]
    },
    {
     "name": "stderr",
     "output_type": "stream",
     "text": [
      "\n"
     ]
    }
   ],
   "source": [
    "X_seq, X_cor, X_feat, y = [], [], [], []\n",
    "\n",
    "for d in tqdm(pd.date_range(train_date + timedelta(days=sequence_length), valid_date)):\n",
    "    seq_, corr_, feat_ = create_features(unstaked_df, d, sequence_length)\n",
    "    y_ = create_label(unstaked_df, d)\n",
    "    X_seq.append(seq_), X_cor.append(corr_), X_feat.append(feat_), y.append(y_)\n",
    "\n",
    "X_train_seq = np.concatenate(X_seq, axis=0).astype(\"float16\")\n",
    "X_train_cor = np.concatenate(X_cor, axis=0).astype(\"float16\")\n",
    "X_train_feat = np.concatenate(X_feat, axis=0).astype(\"float16\")\n",
    "y_train = np.concatenate(y, axis=0).astype(\"float16\")\n",
    "\n",
    "print(X_train_seq.shape, X_train_cor.shape, X_train_feat.shape, y_train.shape)"
   ]
  },
  {
   "cell_type": "code",
   "execution_count": 51,
   "metadata": {},
   "outputs": [
    {
     "name": "stderr",
     "output_type": "stream",
     "text": [
      "100%|██████████| 328/328 [00:00<00:00, 470.21it/s]"
     ]
    },
    {
     "name": "stdout",
     "output_type": "stream",
     "text": [
      "(328, 14, 8) (328, 8, 8) (328, 8, 7) (328, 8)\n"
     ]
    },
    {
     "name": "stderr",
     "output_type": "stream",
     "text": [
      "\n"
     ]
    }
   ],
   "source": [
    "### CREATE VALID FEATURES ###\n",
    "\n",
    "X_seq, X_cor, X_feat, y = [], [], [], []\n",
    "\n",
    "for d in tqdm(pd.date_range(valid_date + timedelta(days=sequence_length), test_date)):\n",
    "    seq_, corr_, feat_ = create_features(unstaked_df, d, sequence_length)\n",
    "    y_ = create_label(unstaked_df, d)\n",
    "    X_seq.append(seq_), X_cor.append(corr_), X_feat.append(feat_), y.append(y_)\n",
    "\n",
    "X_valid_seq = np.concatenate(X_seq, axis=0).astype(\"float16\")\n",
    "X_valid_cor = np.concatenate(X_cor, axis=0).astype(\"float16\")\n",
    "X_valid_feat = np.concatenate(X_feat, axis=0).astype(\"float16\")\n",
    "y_valid = np.concatenate(y, axis=0).astype(\"float16\")\n",
    "\n",
    "print(X_valid_seq.shape, X_valid_cor.shape, X_valid_feat.shape, y_valid.shape)"
   ]
  },
  {
   "cell_type": "code",
   "execution_count": 52,
   "metadata": {},
   "outputs": [
    {
     "name": "stderr",
     "output_type": "stream",
     "text": [
      "100%|██████████| 328/328 [00:00<00:00, 524.75it/s]"
     ]
    },
    {
     "name": "stdout",
     "output_type": "stream",
     "text": [
      "(328, 14, 8) (328, 8, 8) (328, 8, 7) (328, 8)\n"
     ]
    },
    {
     "name": "stderr",
     "output_type": "stream",
     "text": [
      "\n"
     ]
    }
   ],
   "source": [
    "### CREATE TEST FEATURES ###\n",
    "\n",
    "X_seq, X_cor, X_feat, y = [], [], [], []\n",
    "\n",
    "for d in tqdm(\n",
    "    pd.date_range(test_date + timedelta(days=sequence_length), unique_dates[-1])\n",
    "):\n",
    "    seq_, corr_, feat_ = create_features(unstaked_df, d, sequence_length)\n",
    "    y_ = create_label(unstaked_df, d)\n",
    "    X_seq.append(seq_), X_cor.append(corr_), X_feat.append(feat_), y.append(y_)\n",
    "\n",
    "X_test_seq = np.concatenate(X_seq, axis=0).astype(\"float16\")\n",
    "X_test_cor = np.concatenate(X_cor, axis=0).astype(\"float16\")\n",
    "X_test_feat = np.concatenate(X_feat, axis=0).astype(\"float16\")\n",
    "y_test = np.concatenate(y, axis=0).astype(\"float16\")\n",
    "\n",
    "print(X_test_seq.shape, X_test_cor.shape, X_test_feat.shape, y_test.shape)"
   ]
  },
  {
   "cell_type": "code",
   "execution_count": 53,
   "metadata": {},
   "outputs": [],
   "source": [
    "### SCALE SEQUENCES ###\n",
    "\n",
    "scaler_seq = StandardScaler()\n",
    "scaler_feat = StandardScaler()\n",
    "\n",
    "X_train_seq = scaler_seq.fit_transform(\n",
    "    X_train_seq.reshape(-1, unique_ids)\n",
    ").reshape(X_train_seq.shape)\n",
    "X_valid_seq = scaler_seq.transform(\n",
    "    X_valid_seq.reshape(-1, unique_ids)\n",
    ").reshape(X_valid_seq.shape)\n",
    "X_test_seq = scaler_seq.transform(X_test_seq.reshape(-1, unique_ids)).reshape(\n",
    "    X_test_seq.shape\n",
    ")\n",
    "\n",
    "y_train = scaler_seq.transform(y_train)\n",
    "y_valid = scaler_seq.transform(y_valid)\n",
    "y_test = scaler_seq.transform(y_test)\n",
    "\n",
    "X_train_feat = scaler_feat.fit_transform(\n",
    "    X_train_feat.reshape(-1, unique_ids)\n",
    ").reshape(X_train_feat.shape)\n",
    "X_valid_feat = scaler_feat.transform(\n",
    "    X_valid_feat.reshape(-1, unique_ids)\n",
    ").reshape(X_valid_feat.shape)\n",
    "X_test_feat = scaler_feat.transform(\n",
    "    X_test_feat.reshape(-1, unique_ids)\n",
    ").reshape(X_test_feat.shape)"
   ]
  },
  {
   "cell_type": "code",
   "execution_count": 54,
   "metadata": {},
   "outputs": [],
   "source": [
    "X_train_lap = localpooling_filter(1 - np.abs(X_train_cor))\n",
    "X_valid_lap = localpooling_filter(1 - np.abs(X_valid_cor))\n",
    "X_test_lap = localpooling_filter(1 - np.abs(X_test_cor))"
   ]
  },
  {
   "cell_type": "code",
   "execution_count": 55,
   "metadata": {},
   "outputs": [],
   "source": [
    "def set_seed(seed):\n",
    "    tf.random.set_seed(seed)\n",
    "    os.environ[\"PYTHONHASHSEED\"] = str(seed)\n",
    "    np.random.seed(seed)\n",
    "    random.seed(seed)\n",
    "\n",
    "\n",
    "def get_model():\n",
    "    set_seed(33)\n",
    "\n",
    "    opt = Adam(lr=0.001)\n",
    "\n",
    "    inp_seq = Input((sequence_length, unique_ids))\n",
    "    inp_lap = Input((unique_ids, unique_ids))\n",
    "    inp_feat = Input((unique_ids, X_train_feat.shape[-1]))\n",
    "\n",
    "    x = GraphConv(256, activation=\"relu\")([inp_feat, inp_lap])\n",
    "    x = GraphConv(128, activation=\"relu\")([x, inp_lap])\n",
    "    x = Flatten()(x)\n",
    "\n",
    "    xx = LSTM(256, activation=\"relu\", return_sequences=True)(inp_seq)\n",
    "    xx = LSTM(128, activation=\"relu\")(xx)\n",
    "\n",
    "    x = Concatenate()([x, xx])\n",
    "    # x = BatchNormalization()(x)\n",
    "    x = Dropout(0.2)(x)\n",
    "    x = Dense(256, activation=\"relu\")(x)\n",
    "    x = Dense(128, activation=\"relu\")(x)\n",
    "    x = Dropout(0.1)(x)\n",
    "    out = Dense(1)(x)\n",
    "\n",
    "    model = Model([inp_seq, inp_lap, inp_feat], out)\n",
    "    model.compile(\n",
    "        optimizer=opt, loss=\"mse\", metrics=[tf.keras.metrics.RootMeanSquaredError()]\n",
    "    )\n",
    "\n",
    "    return model"
   ]
  },
  {
   "cell_type": "code",
   "execution_count": 56,
   "metadata": {},
   "outputs": [
    {
     "name": "stderr",
     "output_type": "stream",
     "text": [
      "WARNING:absl:`lr` is deprecated in Keras optimizer, please use `learning_rate` or use the legacy optimizer, e.g.,tf.keras.optimizers.legacy.Adam.\n"
     ]
    },
    {
     "name": "stdout",
     "output_type": "stream",
     "text": [
      "Model: \"model_2\"\n",
      "__________________________________________________________________________________________________\n",
      " Layer (type)                Output Shape                 Param #   Connected to                  \n",
      "==================================================================================================\n",
      " input_9 (InputLayer)        [(None, 8, 7)]               0         []                            \n",
      "                                                                                                  \n",
      " input_8 (InputLayer)        [(None, 8, 8)]               0         []                            \n",
      "                                                                                                  \n",
      " graph_conv_4 (GraphConv)    (None, 8, 256)               2048      ['input_9[0][0]',             \n",
      "                                                                     'input_8[0][0]']             \n",
      "                                                                                                  \n",
      " input_7 (InputLayer)        [(None, 14, 8)]              0         []                            \n",
      "                                                                                                  \n",
      " graph_conv_5 (GraphConv)    (None, 8, 128)               32896     ['graph_conv_4[0][0]',        \n",
      "                                                                     'input_8[0][0]']             \n",
      "                                                                                                  \n",
      " lstm_4 (LSTM)               (None, 14, 256)              271360    ['input_7[0][0]']             \n",
      "                                                                                                  \n",
      " flatten_2 (Flatten)         (None, 1024)                 0         ['graph_conv_5[0][0]']        \n",
      "                                                                                                  \n",
      " lstm_5 (LSTM)               (None, 128)                  197120    ['lstm_4[0][0]']              \n",
      "                                                                                                  \n",
      " concatenate_2 (Concatenate  (None, 1152)                 0         ['flatten_2[0][0]',           \n",
      " )                                                                   'lstm_5[0][0]']              \n",
      "                                                                                                  \n",
      " dropout_4 (Dropout)         (None, 1152)                 0         ['concatenate_2[0][0]']       \n",
      "                                                                                                  \n",
      " dense_6 (Dense)             (None, 256)                  295168    ['dropout_4[0][0]']           \n",
      "                                                                                                  \n",
      " dense_7 (Dense)             (None, 128)                  32896     ['dense_6[0][0]']             \n",
      "                                                                                                  \n",
      " dropout_5 (Dropout)         (None, 128)                  0         ['dense_7[0][0]']             \n",
      "                                                                                                  \n",
      " dense_8 (Dense)             (None, 1)                    129       ['dropout_5[0][0]']           \n",
      "                                                                                                  \n",
      "==================================================================================================\n",
      "Total params: 831617 (3.17 MB)\n",
      "Trainable params: 831617 (3.17 MB)\n",
      "Non-trainable params: 0 (0.00 Byte)\n",
      "__________________________________________________________________________________________________\n"
     ]
    }
   ],
   "source": [
    "model = get_model()\n",
    "model.summary()"
   ]
  },
  {
   "cell_type": "code",
   "execution_count": 57,
   "metadata": {},
   "outputs": [
    {
     "name": "stderr",
     "output_type": "stream",
     "text": [
      "WARNING:absl:`lr` is deprecated in Keras optimizer, please use `learning_rate` or use the legacy optimizer, e.g.,tf.keras.optimizers.legacy.Adam.\n"
     ]
    },
    {
     "name": "stdout",
     "output_type": "stream",
     "text": [
      "------- store 0 -------\n",
      "Epoch 1/1000\n",
      "91/91 - 3s - loss: 0.0799 - root_mean_squared_error: 0.2827 - val_loss: 0.7404 - val_root_mean_squared_error: 0.8604 - 3s/epoch - 37ms/step\n",
      "Epoch 2/1000\n",
      "91/91 - 2s - loss: 0.0232 - root_mean_squared_error: 0.1524 - val_loss: 0.6567 - val_root_mean_squared_error: 0.8104 - 2s/epoch - 23ms/step\n",
      "Epoch 3/1000\n",
      "91/91 - 2s - loss: 0.0280 - root_mean_squared_error: 0.1674 - val_loss: 0.6275 - val_root_mean_squared_error: 0.7921 - 2s/epoch - 23ms/step\n",
      "Epoch 4/1000\n",
      "91/91 - 2s - loss: 0.0237 - root_mean_squared_error: 0.1540 - val_loss: 0.6421 - val_root_mean_squared_error: 0.8013 - 2s/epoch - 22ms/step\n",
      "Epoch 5/1000\n",
      "91/91 - 2s - loss: 0.0223 - root_mean_squared_error: 0.1492 - val_loss: 0.6461 - val_root_mean_squared_error: 0.8038 - 2s/epoch - 25ms/step\n",
      "Epoch 6/1000\n",
      "91/91 - 2s - loss: 0.0186 - root_mean_squared_error: 0.1365 - val_loss: 0.6285 - val_root_mean_squared_error: 0.7928 - 2s/epoch - 23ms/step\n",
      "Epoch 7/1000\n",
      "91/91 - 2s - loss: 0.0225 - root_mean_squared_error: 0.1500 - val_loss: 0.7699 - val_root_mean_squared_error: 0.8774 - 2s/epoch - 24ms/step\n",
      "Epoch 8/1000\n",
      "Restoring model weights from the end of the best epoch: 3.\n",
      "91/91 - 2s - loss: 0.0288 - root_mean_squared_error: 0.1696 - val_loss: 0.6542 - val_root_mean_squared_error: 0.8088 - 2s/epoch - 22ms/step\n",
      "Epoch 8: early stopping\n",
      "11/11 [==============================] - 0s 9ms/step\n",
      "11/11 [==============================] - 0s 10ms/step\n"
     ]
    },
    {
     "name": "stderr",
     "output_type": "stream",
     "text": [
      "WARNING:absl:`lr` is deprecated in Keras optimizer, please use `learning_rate` or use the legacy optimizer, e.g.,tf.keras.optimizers.legacy.Adam.\n"
     ]
    },
    {
     "name": "stdout",
     "output_type": "stream",
     "text": [
      "------- store 1 -------\n",
      "Epoch 1/1000\n",
      "91/91 - 4s - loss: 0.0738 - root_mean_squared_error: 0.2716 - val_loss: 0.7355 - val_root_mean_squared_error: 0.8576 - 4s/epoch - 48ms/step\n",
      "Epoch 2/1000\n",
      "91/91 - 2s - loss: 0.0207 - root_mean_squared_error: 0.1438 - val_loss: 0.6525 - val_root_mean_squared_error: 0.8077 - 2s/epoch - 22ms/step\n",
      "Epoch 3/1000\n",
      "91/91 - 2s - loss: 0.0216 - root_mean_squared_error: 0.1471 - val_loss: 0.6272 - val_root_mean_squared_error: 0.7920 - 2s/epoch - 23ms/step\n",
      "Epoch 4/1000\n",
      "91/91 - 2s - loss: 0.0221 - root_mean_squared_error: 0.1488 - val_loss: 0.6483 - val_root_mean_squared_error: 0.8052 - 2s/epoch - 23ms/step\n",
      "Epoch 5/1000\n",
      "91/91 - 2s - loss: 0.0189 - root_mean_squared_error: 0.1375 - val_loss: 0.6320 - val_root_mean_squared_error: 0.7950 - 2s/epoch - 22ms/step\n",
      "Epoch 6/1000\n",
      "91/91 - 2s - loss: 0.0166 - root_mean_squared_error: 0.1289 - val_loss: 0.6274 - val_root_mean_squared_error: 0.7921 - 2s/epoch - 22ms/step\n",
      "Epoch 7/1000\n",
      "91/91 - 2s - loss: 0.0158 - root_mean_squared_error: 0.1255 - val_loss: 0.7293 - val_root_mean_squared_error: 0.8540 - 2s/epoch - 23ms/step\n",
      "Epoch 8/1000\n",
      "Restoring model weights from the end of the best epoch: 3.\n",
      "91/91 - 2s - loss: 0.0176 - root_mean_squared_error: 0.1328 - val_loss: 0.6663 - val_root_mean_squared_error: 0.8163 - 2s/epoch - 22ms/step\n",
      "Epoch 8: early stopping\n",
      "11/11 [==============================] - 0s 8ms/step\n",
      "11/11 [==============================] - 0s 8ms/step\n"
     ]
    },
    {
     "name": "stderr",
     "output_type": "stream",
     "text": [
      "WARNING:absl:`lr` is deprecated in Keras optimizer, please use `learning_rate` or use the legacy optimizer, e.g.,tf.keras.optimizers.legacy.Adam.\n"
     ]
    },
    {
     "name": "stdout",
     "output_type": "stream",
     "text": [
      "------- store 2 -------\n",
      "Epoch 1/1000\n",
      "91/91 - 4s - loss: 0.0725 - root_mean_squared_error: 0.2692 - val_loss: 0.7341 - val_root_mean_squared_error: 0.8568 - 4s/epoch - 44ms/step\n",
      "Epoch 2/1000\n",
      "91/91 - 2s - loss: 0.0199 - root_mean_squared_error: 0.1412 - val_loss: 0.6452 - val_root_mean_squared_error: 0.8033 - 2s/epoch - 21ms/step\n",
      "Epoch 3/1000\n",
      "91/91 - 2s - loss: 0.0184 - root_mean_squared_error: 0.1357 - val_loss: 0.6613 - val_root_mean_squared_error: 0.8132 - 2s/epoch - 22ms/step\n",
      "Epoch 4/1000\n",
      "91/91 - 2s - loss: 0.0192 - root_mean_squared_error: 0.1387 - val_loss: 0.6725 - val_root_mean_squared_error: 0.8200 - 2s/epoch - 22ms/step\n",
      "Epoch 5/1000\n",
      "91/91 - 2s - loss: 0.0165 - root_mean_squared_error: 0.1284 - val_loss: 0.6594 - val_root_mean_squared_error: 0.8120 - 2s/epoch - 22ms/step\n",
      "Epoch 6/1000\n",
      "91/91 - 2s - loss: 0.0137 - root_mean_squared_error: 0.1172 - val_loss: 0.6370 - val_root_mean_squared_error: 0.7981 - 2s/epoch - 22ms/step\n",
      "Epoch 7/1000\n",
      "91/91 - 2s - loss: 0.0145 - root_mean_squared_error: 0.1205 - val_loss: 0.7248 - val_root_mean_squared_error: 0.8514 - 2s/epoch - 22ms/step\n",
      "Epoch 8/1000\n",
      "91/91 - 2s - loss: 0.0156 - root_mean_squared_error: 0.1249 - val_loss: 0.6896 - val_root_mean_squared_error: 0.8304 - 2s/epoch - 22ms/step\n",
      "Epoch 9/1000\n",
      "91/91 - 2s - loss: 0.0137 - root_mean_squared_error: 0.1169 - val_loss: 0.6362 - val_root_mean_squared_error: 0.7976 - 2s/epoch - 22ms/step\n",
      "Epoch 10/1000\n",
      "91/91 - 2s - loss: 0.0104 - root_mean_squared_error: 0.1021 - val_loss: 0.7123 - val_root_mean_squared_error: 0.8440 - 2s/epoch - 22ms/step\n",
      "Epoch 11/1000\n",
      "Restoring model weights from the end of the best epoch: 6.\n",
      "91/91 - 2s - loss: 0.0105 - root_mean_squared_error: 0.1024 - val_loss: 0.6940 - val_root_mean_squared_error: 0.8331 - 2s/epoch - 22ms/step\n",
      "Epoch 11: early stopping\n",
      "11/11 [==============================] - 1s 7ms/step\n",
      "11/11 [==============================] - 0s 8ms/step\n",
      "------- store 3 -------\n"
     ]
    },
    {
     "name": "stderr",
     "output_type": "stream",
     "text": [
      "WARNING:absl:`lr` is deprecated in Keras optimizer, please use `learning_rate` or use the legacy optimizer, e.g.,tf.keras.optimizers.legacy.Adam.\n"
     ]
    },
    {
     "name": "stdout",
     "output_type": "stream",
     "text": [
      "Epoch 1/1000\n",
      "91/91 - 4s - loss: 0.0691 - root_mean_squared_error: 0.2629 - val_loss: 0.7330 - val_root_mean_squared_error: 0.8562 - 4s/epoch - 44ms/step\n",
      "Epoch 2/1000\n",
      "91/91 - 2s - loss: 0.0182 - root_mean_squared_error: 0.1348 - val_loss: 0.6531 - val_root_mean_squared_error: 0.8082 - 2s/epoch - 21ms/step\n",
      "Epoch 3/1000\n",
      "91/91 - 2s - loss: 0.0174 - root_mean_squared_error: 0.1318 - val_loss: 0.6814 - val_root_mean_squared_error: 0.8255 - 2s/epoch - 22ms/step\n",
      "Epoch 4/1000\n",
      "91/91 - 2s - loss: 0.0176 - root_mean_squared_error: 0.1326 - val_loss: 0.6527 - val_root_mean_squared_error: 0.8079 - 2s/epoch - 22ms/step\n",
      "Epoch 5/1000\n",
      "91/91 - 2s - loss: 0.0196 - root_mean_squared_error: 0.1399 - val_loss: 0.6638 - val_root_mean_squared_error: 0.8147 - 2s/epoch - 23ms/step\n",
      "Epoch 6/1000\n",
      "91/91 - 2s - loss: 0.0121 - root_mean_squared_error: 0.1098 - val_loss: 0.6524 - val_root_mean_squared_error: 0.8077 - 2s/epoch - 22ms/step\n",
      "Epoch 7/1000\n",
      "Restoring model weights from the end of the best epoch: 2.\n",
      "91/91 - 2s - loss: 0.0124 - root_mean_squared_error: 0.1114 - val_loss: 0.6909 - val_root_mean_squared_error: 0.8312 - 2s/epoch - 22ms/step\n",
      "Epoch 7: early stopping\n",
      "11/11 [==============================] - 0s 8ms/step\n",
      "11/11 [==============================] - 0s 8ms/step\n",
      "------- store 4 -------\n"
     ]
    },
    {
     "name": "stderr",
     "output_type": "stream",
     "text": [
      "WARNING:absl:`lr` is deprecated in Keras optimizer, please use `learning_rate` or use the legacy optimizer, e.g.,tf.keras.optimizers.legacy.Adam.\n"
     ]
    },
    {
     "name": "stdout",
     "output_type": "stream",
     "text": [
      "Epoch 1/1000\n",
      "91/91 - 4s - loss: 0.0657 - root_mean_squared_error: 0.2563 - val_loss: 0.7219 - val_root_mean_squared_error: 0.8496 - 4s/epoch - 46ms/step\n",
      "Epoch 2/1000\n",
      "91/91 - 2s - loss: 0.0168 - root_mean_squared_error: 0.1295 - val_loss: 0.6831 - val_root_mean_squared_error: 0.8265 - 2s/epoch - 22ms/step\n",
      "Epoch 3/1000\n",
      "91/91 - 2s - loss: 0.0136 - root_mean_squared_error: 0.1168 - val_loss: 0.6556 - val_root_mean_squared_error: 0.8097 - 2s/epoch - 23ms/step\n",
      "Epoch 4/1000\n",
      "91/91 - 2s - loss: 0.0154 - root_mean_squared_error: 0.1241 - val_loss: 0.6889 - val_root_mean_squared_error: 0.8300 - 2s/epoch - 22ms/step\n",
      "Epoch 5/1000\n",
      "91/91 - 2s - loss: 0.0135 - root_mean_squared_error: 0.1162 - val_loss: 0.6577 - val_root_mean_squared_error: 0.8110 - 2s/epoch - 22ms/step\n",
      "Epoch 6/1000\n",
      "91/91 - 2s - loss: 0.0117 - root_mean_squared_error: 0.1082 - val_loss: 0.6598 - val_root_mean_squared_error: 0.8123 - 2s/epoch - 22ms/step\n",
      "Epoch 7/1000\n",
      "91/91 - 2s - loss: 0.0111 - root_mean_squared_error: 0.1055 - val_loss: 0.6924 - val_root_mean_squared_error: 0.8321 - 2s/epoch - 22ms/step\n",
      "Epoch 8/1000\n",
      "Restoring model weights from the end of the best epoch: 3.\n",
      "91/91 - 2s - loss: 0.0121 - root_mean_squared_error: 0.1101 - val_loss: 0.6765 - val_root_mean_squared_error: 0.8225 - 2s/epoch - 23ms/step\n",
      "Epoch 8: early stopping\n",
      "11/11 [==============================] - 0s 8ms/step\n",
      "11/11 [==============================] - 0s 9ms/step\n"
     ]
    },
    {
     "name": "stderr",
     "output_type": "stream",
     "text": [
      "WARNING:absl:`lr` is deprecated in Keras optimizer, please use `learning_rate` or use the legacy optimizer, e.g.,tf.keras.optimizers.legacy.Adam.\n"
     ]
    },
    {
     "name": "stdout",
     "output_type": "stream",
     "text": [
      "------- store 5 -------\n",
      "Epoch 1/1000\n",
      "91/91 - 4s - loss: 0.0631 - root_mean_squared_error: 0.2513 - val_loss: 0.7131 - val_root_mean_squared_error: 0.8445 - 4s/epoch - 45ms/step\n",
      "Epoch 2/1000\n",
      "91/91 - 2s - loss: 0.0137 - root_mean_squared_error: 0.1171 - val_loss: 0.6903 - val_root_mean_squared_error: 0.8308 - 2s/epoch - 22ms/step\n",
      "Epoch 3/1000\n",
      "91/91 - 2s - loss: 0.0119 - root_mean_squared_error: 0.1092 - val_loss: 0.6819 - val_root_mean_squared_error: 0.8258 - 2s/epoch - 22ms/step\n",
      "Epoch 4/1000\n",
      "91/91 - 2s - loss: 0.0138 - root_mean_squared_error: 0.1176 - val_loss: 0.7258 - val_root_mean_squared_error: 0.8520 - 2s/epoch - 22ms/step\n",
      "Epoch 5/1000\n",
      "91/91 - 2s - loss: 0.0129 - root_mean_squared_error: 0.1137 - val_loss: 0.6780 - val_root_mean_squared_error: 0.8234 - 2s/epoch - 22ms/step\n",
      "Epoch 6/1000\n",
      "91/91 - 2s - loss: 0.0116 - root_mean_squared_error: 0.1079 - val_loss: 0.6528 - val_root_mean_squared_error: 0.8079 - 2s/epoch - 23ms/step\n",
      "Epoch 7/1000\n",
      "91/91 - 2s - loss: 0.0125 - root_mean_squared_error: 0.1118 - val_loss: 0.7262 - val_root_mean_squared_error: 0.8521 - 2s/epoch - 22ms/step\n",
      "Epoch 8/1000\n",
      "91/91 - 2s - loss: 0.0101 - root_mean_squared_error: 0.1006 - val_loss: 0.6805 - val_root_mean_squared_error: 0.8249 - 2s/epoch - 22ms/step\n",
      "Epoch 9/1000\n",
      "91/91 - 2s - loss: 0.0097 - root_mean_squared_error: 0.0984 - val_loss: 0.6501 - val_root_mean_squared_error: 0.8063 - 2s/epoch - 22ms/step\n",
      "Epoch 10/1000\n",
      "91/91 - 2s - loss: 0.0087 - root_mean_squared_error: 0.0934 - val_loss: 0.6864 - val_root_mean_squared_error: 0.8285 - 2s/epoch - 22ms/step\n",
      "Epoch 11/1000\n",
      "91/91 - 2s - loss: 0.0109 - root_mean_squared_error: 0.1043 - val_loss: 0.7140 - val_root_mean_squared_error: 0.8450 - 2s/epoch - 22ms/step\n",
      "Epoch 12/1000\n",
      "91/91 - 2s - loss: 0.0091 - root_mean_squared_error: 0.0956 - val_loss: 0.7252 - val_root_mean_squared_error: 0.8516 - 2s/epoch - 21ms/step\n",
      "Epoch 13/1000\n",
      "91/91 - 2s - loss: 0.0089 - root_mean_squared_error: 0.0943 - val_loss: 0.7016 - val_root_mean_squared_error: 0.8376 - 2s/epoch - 22ms/step\n",
      "Epoch 14/1000\n",
      "Restoring model weights from the end of the best epoch: 9.\n",
      "91/91 - 2s - loss: 0.0087 - root_mean_squared_error: 0.0935 - val_loss: 0.7222 - val_root_mean_squared_error: 0.8498 - 2s/epoch - 22ms/step\n",
      "Epoch 14: early stopping\n",
      "11/11 [==============================] - 0s 9ms/step\n",
      "11/11 [==============================] - 0s 8ms/step\n"
     ]
    },
    {
     "name": "stderr",
     "output_type": "stream",
     "text": [
      "WARNING:absl:`lr` is deprecated in Keras optimizer, please use `learning_rate` or use the legacy optimizer, e.g.,tf.keras.optimizers.legacy.Adam.\n"
     ]
    },
    {
     "name": "stdout",
     "output_type": "stream",
     "text": [
      "------- store 6 -------\n",
      "Epoch 1/1000\n",
      "91/91 - 4s - loss: 0.0633 - root_mean_squared_error: 0.2516 - val_loss: 0.6988 - val_root_mean_squared_error: 0.8359 - 4s/epoch - 44ms/step\n",
      "Epoch 2/1000\n",
      "91/91 - 2s - loss: 0.0127 - root_mean_squared_error: 0.1126 - val_loss: 0.7081 - val_root_mean_squared_error: 0.8415 - 2s/epoch - 22ms/step\n",
      "Epoch 3/1000\n",
      "91/91 - 2s - loss: 0.0126 - root_mean_squared_error: 0.1124 - val_loss: 0.7082 - val_root_mean_squared_error: 0.8416 - 2s/epoch - 22ms/step\n",
      "Epoch 4/1000\n",
      "91/91 - 2s - loss: 0.0108 - root_mean_squared_error: 0.1040 - val_loss: 0.6751 - val_root_mean_squared_error: 0.8216 - 2s/epoch - 22ms/step\n",
      "Epoch 5/1000\n",
      "91/91 - 2s - loss: 0.0098 - root_mean_squared_error: 0.0992 - val_loss: 0.7099 - val_root_mean_squared_error: 0.8426 - 2s/epoch - 21ms/step\n",
      "Epoch 6/1000\n",
      "91/91 - 2s - loss: 0.0119 - root_mean_squared_error: 0.1091 - val_loss: 0.6683 - val_root_mean_squared_error: 0.8175 - 2s/epoch - 22ms/step\n",
      "Epoch 7/1000\n",
      "91/91 - 2s - loss: 0.0093 - root_mean_squared_error: 0.0962 - val_loss: 0.7138 - val_root_mean_squared_error: 0.8449 - 2s/epoch - 22ms/step\n",
      "Epoch 8/1000\n",
      "91/91 - 2s - loss: 0.0079 - root_mean_squared_error: 0.0887 - val_loss: 0.7351 - val_root_mean_squared_error: 0.8574 - 2s/epoch - 22ms/step\n",
      "Epoch 9/1000\n",
      "91/91 - 2s - loss: 0.0101 - root_mean_squared_error: 0.1006 - val_loss: 0.6679 - val_root_mean_squared_error: 0.8172 - 2s/epoch - 22ms/step\n",
      "Epoch 10/1000\n",
      "91/91 - 2s - loss: 0.0096 - root_mean_squared_error: 0.0981 - val_loss: 0.6901 - val_root_mean_squared_error: 0.8307 - 2s/epoch - 22ms/step\n",
      "Epoch 11/1000\n",
      "Restoring model weights from the end of the best epoch: 6.\n",
      "91/91 - 2s - loss: 0.0102 - root_mean_squared_error: 0.1010 - val_loss: 0.7086 - val_root_mean_squared_error: 0.8418 - 2s/epoch - 22ms/step\n",
      "Epoch 11: early stopping\n",
      "11/11 [==============================] - 0s 8ms/step\n",
      "11/11 [==============================] - 0s 9ms/step\n",
      "------- store 7 -------\n"
     ]
    },
    {
     "name": "stderr",
     "output_type": "stream",
     "text": [
      "WARNING:absl:`lr` is deprecated in Keras optimizer, please use `learning_rate` or use the legacy optimizer, e.g.,tf.keras.optimizers.legacy.Adam.\n"
     ]
    },
    {
     "name": "stdout",
     "output_type": "stream",
     "text": [
      "Epoch 1/1000\n",
      "91/91 - 4s - loss: 0.0647 - root_mean_squared_error: 0.2544 - val_loss: 0.7100 - val_root_mean_squared_error: 0.8426 - 4s/epoch - 49ms/step\n",
      "Epoch 2/1000\n",
      "91/91 - 2s - loss: 0.0105 - root_mean_squared_error: 0.1026 - val_loss: 0.7060 - val_root_mean_squared_error: 0.8402 - 2s/epoch - 22ms/step\n",
      "Epoch 3/1000\n",
      "91/91 - 2s - loss: 0.0117 - root_mean_squared_error: 0.1080 - val_loss: 0.7125 - val_root_mean_squared_error: 0.8441 - 2s/epoch - 22ms/step\n",
      "Epoch 4/1000\n",
      "91/91 - 2s - loss: 0.0120 - root_mean_squared_error: 0.1095 - val_loss: 0.6773 - val_root_mean_squared_error: 0.8230 - 2s/epoch - 22ms/step\n",
      "Epoch 5/1000\n",
      "91/91 - 2s - loss: 0.0094 - root_mean_squared_error: 0.0972 - val_loss: 0.7034 - val_root_mean_squared_error: 0.8387 - 2s/epoch - 23ms/step\n",
      "Epoch 6/1000\n",
      "91/91 - 2s - loss: 0.0136 - root_mean_squared_error: 0.1164 - val_loss: 0.6950 - val_root_mean_squared_error: 0.8337 - 2s/epoch - 23ms/step\n",
      "Epoch 7/1000\n",
      "91/91 - 2s - loss: 0.0095 - root_mean_squared_error: 0.0973 - val_loss: 0.7279 - val_root_mean_squared_error: 0.8532 - 2s/epoch - 24ms/step\n",
      "Epoch 8/1000\n",
      "91/91 - 2s - loss: 0.0078 - root_mean_squared_error: 0.0884 - val_loss: 0.7209 - val_root_mean_squared_error: 0.8491 - 2s/epoch - 22ms/step\n",
      "Epoch 9/1000\n",
      "Restoring model weights from the end of the best epoch: 4.\n",
      "91/91 - 2s - loss: 0.0090 - root_mean_squared_error: 0.0947 - val_loss: 0.7007 - val_root_mean_squared_error: 0.8371 - 2s/epoch - 22ms/step\n",
      "Epoch 9: early stopping\n",
      "11/11 [==============================] - 0s 8ms/step\n",
      "11/11 [==============================] - 0s 8ms/step\n"
     ]
    }
   ],
   "source": [
    "### TRAIN A MODEL FOR EACH STORES USING ALL THE DATA AVAILALBE FROM OTHER STORES ###\n",
    "\n",
    "pred_valid_all = np.zeros(y_valid.shape)\n",
    "pred_test_all = np.zeros(y_test.shape)\n",
    "\n",
    "for store in range(unique_ids):\n",
    "    print(\"-------\", \"store\", store, \"-------\")\n",
    "\n",
    "    es = EarlyStopping(\n",
    "        patience=5,\n",
    "        verbose=1,\n",
    "        min_delta=0.001,\n",
    "        monitor=\"val_loss\",\n",
    "        mode=\"auto\",\n",
    "        restore_best_weights=True,\n",
    "    )\n",
    "\n",
    "    model = get_model()\n",
    "    model.fit(\n",
    "        [X_train_seq, X_train_lap, X_train_feat],\n",
    "        y_train[:, store],\n",
    "        epochs=1000,\n",
    "        batch_size=30,\n",
    "        validation_data=([X_valid_seq, X_valid_lap, X_valid_feat], y_test[:, store]),\n",
    "        callbacks=[es],\n",
    "        verbose=2,\n",
    "    )\n",
    "\n",
    "    pred_valid_all[:, store] = model.predict(\n",
    "        [X_valid_seq, X_valid_lap, X_valid_feat]\n",
    "    ).ravel()\n",
    "    pred_test_all[:, store] = model.predict(\n",
    "        [X_test_seq, X_test_lap, X_test_feat]\n",
    "    ).ravel()\n",
    "\n",
    "\n",
    "pred_valid_all = scaler_seq.inverse_transform(pred_valid_all)\n",
    "reverse_valid = scaler_seq.inverse_transform(y_valid)\n",
    "pred_test_all = scaler_seq.inverse_transform(pred_test_all)\n",
    "reverse_test = scaler_seq.inverse_transform(y_test)"
   ]
  },
  {
   "cell_type": "code",
   "execution_count": 58,
   "metadata": {},
   "outputs": [
    {
     "data": {
      "text/plain": [
       "array([[0.4816472 , 0.46691566, 0.47570508, ..., 0.53851332, 0.55340295,\n",
       "        0.50277285],\n",
       "       [0.45161627, 0.44169529, 0.4478592 , ..., 0.51862731, 0.53656269,\n",
       "        0.47943111],\n",
       "       [0.43335159, 0.42545693, 0.42784236, ..., 0.50411872, 0.52453877,\n",
       "        0.45896548],\n",
       "       ...,\n",
       "       [1.60235105, 1.60387885, 1.57146571, ..., 1.81427036, 1.77027229,\n",
       "        1.78967724],\n",
       "       [1.57780889, 1.58328276, 1.56531806, ..., 1.79765556, 1.77669882,\n",
       "        1.77997911],\n",
       "       [1.53305816, 1.54314269, 1.53942851, ..., 1.78250877, 1.7791462 ,\n",
       "        1.7601428 ]])"
      ]
     },
     "execution_count": 58,
     "metadata": {},
     "output_type": "execute_result"
    }
   ],
   "source": [
    "### RMSE ON TEST DATA ###\n",
    "\n",
    "\n",
    "\n",
    "error = np.sqrt(mean_squared_error(reverse_test, pred_test_all))\n",
    "pred_test_all"
   ]
  },
  {
   "cell_type": "code",
   "execution_count": 59,
   "metadata": {},
   "outputs": [
    {
     "data": {
      "image/png": "[encoded data removed]",
      "text/plain": [
       "<Figure size 1400x500 with 1 Axes>"
      ]
     },
     "metadata": {},
     "output_type": "display_data"
    }
   ],
   "source": [
    "### PLOT RMSE ###\n",
    "\n",
    "plt.figure(figsize=(14, 5))\n",
    "plt.bar(1 ,error)\n",
    "# plt.xticks(range(7), [str(s) for s in range(7)])\n",
    "plt.ylabel(\"error\")\n",
    "np.set_printoptions(False)"
   ]
  },
  {
   "cell_type": "code",
   "execution_count": 62,
   "metadata": {},
   "outputs": [],
   "source": [
    "def plot_predictions(y_true, y_pred, store, item):\n",
    "    y_true = y_true.reshape(1, -1, unique_ids)\n",
    "    y_pred = y_pred.reshape(1, -1, unique_ids)\n",
    "    t = y_true[item, :, store]\n",
    "    for i in range(unique_ids):\n",
    "\n",
    "        plt.plot(y_true[item, :, store], label=\"true\")\n",
    "        plt.plot(y_pred[item, :, store], label=\"prediction\")\n",
    "        plt.title(f\"store: {store} item: {item}\")\n",
    "        plt.legend()\n",
    "        plt.ylabel(\"sales\")\n",
    "        plt.xlabel(\"date\")"
   ]
  },
  {
   "cell_type": "code",
   "execution_count": 63,
   "metadata": {},
   "outputs": [
    {
     "data": {
      "image/png": "[encoded data removed]",
      "text/plain": [
       "<Figure size 1100x500 with 1 Axes>"
      ]
     },
     "metadata": {},
     "output_type": "display_data"
    }
   ],
   "source": [
    "plt.figure(figsize=(11, 5))\n",
    "plot_predictions(reverse_test, pred_test_all, unique_ids-1, 0)"
   ]
  },
  {
   "cell_type": "code",
   "execution_count": 64,
   "metadata": {},
   "outputs": [
    {
     "data": {
      "text/plain": [
       "array([ 4.,  4.,  4.,  4.,  4.,  4.,  4.,  4.,  5.,  5.,  5.,  6.,  6.,\n",
       "        6.,  6.,  6.,  6.,  6.,  6.,  6.,  7.,  7.,  7.,  7.,  7.,  7.,\n",
       "        7.,  7.,  7.,  7.,  7.,  8.,  8.,  8.,  8.,  8.,  9.,  9.,  8.,\n",
       "        8.,  8.,  7.,  7.,  7.,  7.,  7.,  7.,  7.,  7.,  7.,  7.,  7.,\n",
       "        7.,  7.,  7.,  7.,  7.,  7.,  7.,  7.,  7.,  7.,  7.,  7.,  7.,\n",
       "        7.,  7.,  7.,  7.,  7.,  7.,  7.,  7.,  7.,  7.,  7.,  7.,  7.,\n",
       "        7.,  7.,  7.,  7.,  7.,  7.,  7.,  8.,  7.,  7.,  7.,  7.,  7.,\n",
       "        7.,  7.,  6.,  6.,  6.,  6.,  6.,  6.,  6.,  6.,  7.,  7.,  7.,\n",
       "        8.,  8.,  8.,  8.,  8.,  8.,  8.,  8.,  8.,  8.,  8.,  8.,  8.,\n",
       "        8.,  9.,  9.,  9.,  9.,  9.,  9.,  9.,  9.,  9., 10., 10., 10.,\n",
       "       10., 10.,  9.,  9.,  9.,  9.,  9.,  9., 10., 10.,  9.,  9.,  8.,\n",
       "        8.,  8.,  8.,  8.,  9.,  9.,  9.,  9.,  9.,  9.,  9.,  9.,  9.,\n",
       "        9.,  8.,  8.,  8.,  8.,  8.,  8.,  7.,  7.,  7.,  6.,  6.,  6.,\n",
       "        6.,  7.,  7.,  8.,  8.,  8.,  7.,  7.,  6.,  6.,  6.,  6.,  6.,\n",
       "        6.,  6.,  6.,  6.,  7.,  7.,  7.,  8.,  8.,  8.,  7.,  7.,  6.,\n",
       "        6.,  6.,  6.,  7.,  7.,  7.,  7.,  7.,  7.,  7.,  7.,  7.,  7.,\n",
       "        7.,  7.,  7.,  7.,  7.,  7.,  7.,  7.,  6.,  6.,  6.,  6.,  6.,\n",
       "        6.,  6.,  7.,  7.,  7.,  8.,  8.,  8.,  9.,  9.,  9., 10., 10.,\n",
       "       10., 10., 10., 10., 10., 10., 10., 10., 10., 11., 11., 11., 11.,\n",
       "       11., 12., 12., 12., 12., 11., 11., 11., 11., 11., 11., 11., 11.,\n",
       "       11., 11., 11., 11., 11., 12., 12., 12., 12., 13., 13., 14., 14.,\n",
       "       14., 15., 15., 15., 14., 14., 14., 14., 14., 14., 14., 14., 14.,\n",
       "       14., 14., 14., 14., 14., 14., 14., 14., 14., 14., 14., 14., 14.,\n",
       "       14., 14., 14., 14., 15., 15., 15., 15., 16., 16., 16., 16., 15.,\n",
       "       15., 15., 15., 15., 15., 15., 14., 15., 14., 14., 14., 14., 14.,\n",
       "       14., 13., 13.])"
      ]
     },
     "execution_count": 64,
     "metadata": {},
     "output_type": "execute_result"
    }
   ],
   "source": [
    "y_true = np.sum(reverse_test, axis=1)\n",
    "pred = np.sum(pred_test_all, axis=1)\n",
    "unscaled_y_pred = scaler.inverse_transform([pred])[0]\n",
    "unscaled_y_test = scaler.inverse_transform([y_true])[0]\n",
    "pred"
   ]
  },
  {
   "cell_type": "code",
   "execution_count": 67,
   "metadata": {},
   "outputs": [
    {
     "data": {
      "image/png": "[encoded data removed]",
      "text/plain": [
       "<Figure size 1333.33x750 with 1 Axes>"
      ]
     },
     "metadata": {},
     "output_type": "display_data"
    }
   ],
   "source": [
    "fig, ax = plt.subplots(1, 1, figsize=(1280 / 96, 720 / 96))\n",
    "ax.plot(unique_dates[-len(unscaled_y_pred):], unscaled_y_test, label=\"actual\")\n",
    "ax.plot(unique_dates[-len(unscaled_y_pred):], unscaled_y_pred, label=\"prediction\")\n",
    "ax.set_title(\"Prediction GNN\")\n",
    "ax.set_ylabel(\"Close\")\n",
    "ax.set_xlabel(date_column)\n",
    "ax.legend()\n",
    "ax.xaxis.set_major_locator(mdates.AutoDateLocator())\n",
    "plt.show()"
   ]
  },
  {
   "cell_type": "code",
   "execution_count": 66,
   "metadata": {},
   "outputs": [
    {
     "name": "stdout",
     "output_type": "stream",
     "text": [
      "Evaluation Metrics:\n",
      "MSE: 272953230.61\n",
      "RMSE: 16521.30\n",
      "MAE: 13113.13\n",
      "MAPE: 10.03\n",
      "SMAPE: 9.28\n"
     ]
    }
   ],
   "source": [
    "from metrics import print_evaluation_metrics\n",
    "print_evaluation_metrics(unscaled_y_pred, unscaled_y_test)\n"
   ]
  }
 ],
 "metadata": {
  "kernelspec": {
   "display_name": "Python 3",
   "language": "python",
   "name": "python3"
  },
  "language_info": {
   "codemirror_mode": {
    "name": "ipython",
    "version": 3
   },
   "file_extension": ".py",
   "mimetype": "text/x-python",
   "name": "python",
   "nbconvert_exporter": "python",
   "pygments_lexer": "ipython3",
   "version": "3.10.12"
  }
 },
 "nbformat": 4,
 "nbformat_minor": 2
}
